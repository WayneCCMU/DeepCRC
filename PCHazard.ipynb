{
 "cells": [
  {
   "cell_type": "code",
   "execution_count": 1,
   "id": "b130d6d0",
   "metadata": {},
   "outputs": [],
   "source": [
    "import pandas as pd\n",
    "import numpy as np\n",
    "\n",
    "from sklearn.preprocessing import StandardScaler, LabelEncoder\n",
    "from sklearn_pandas import DataFrameMapper\n",
    "from sklearn.model_selection import train_test_split\n",
    "\n",
    "import matplotlib.pyplot as plt\n",
    "from pycox.models import PCHazard\n",
    "\n",
    "from pycox.evaluation import EvalSurv\n",
    "from pycox.simulations import SimStudyLinearPH\n",
    "\n",
    "import torch\n",
    "import torchtuples as tt"
   ]
  },
  {
   "cell_type": "markdown",
   "id": "80d2f927",
   "metadata": {},
   "source": [
    "# Read data"
   ]
  },
  {
   "cell_type": "code",
   "execution_count": 2,
   "id": "580f22d7",
   "metadata": {},
   "outputs": [],
   "source": [
    "df_train = pd.read_csv('train.csv')\n",
    "df_train = pd.DataFrame(df_train)\n",
    "\n",
    "df_test = pd.read_csv('test.csv')\n",
    "df_test = pd.DataFrame(df_test)"
   ]
  },
  {
   "cell_type": "code",
   "execution_count": 3,
   "id": "c765d269",
   "metadata": {},
   "outputs": [
    {
     "data": {
      "text/html": [
       "<div>\n",
       "<style scoped>\n",
       "    .dataframe tbody tr th:only-of-type {\n",
       "        vertical-align: middle;\n",
       "    }\n",
       "\n",
       "    .dataframe tbody tr th {\n",
       "        vertical-align: top;\n",
       "    }\n",
       "\n",
       "    .dataframe thead th {\n",
       "        text-align: right;\n",
       "    }\n",
       "</style>\n",
       "<table border=\"1\" class=\"dataframe\">\n",
       "  <thead>\n",
       "    <tr style=\"text-align: right;\">\n",
       "      <th></th>\n",
       "      <th>Sex</th>\n",
       "      <th>Age</th>\n",
       "      <th>Size</th>\n",
       "      <th>Site</th>\n",
       "      <th>Grade</th>\n",
       "      <th>Lymph.nodes.examined</th>\n",
       "      <th>Lymph.nodes.positive</th>\n",
       "      <th>T</th>\n",
       "      <th>N</th>\n",
       "      <th>M</th>\n",
       "      <th>Stage</th>\n",
       "      <th>duration</th>\n",
       "      <th>event</th>\n",
       "    </tr>\n",
       "  </thead>\n",
       "  <tbody>\n",
       "    <tr>\n",
       "      <th>0</th>\n",
       "      <td>Male</td>\n",
       "      <td>41</td>\n",
       "      <td>65</td>\n",
       "      <td>Ileocecal Junction</td>\n",
       "      <td>II</td>\n",
       "      <td>29</td>\n",
       "      <td>1</td>\n",
       "      <td>T3</td>\n",
       "      <td>N1a</td>\n",
       "      <td>M0</td>\n",
       "      <td>IIIB</td>\n",
       "      <td>110</td>\n",
       "      <td>0</td>\n",
       "    </tr>\n",
       "    <tr>\n",
       "      <th>1</th>\n",
       "      <td>Male</td>\n",
       "      <td>54</td>\n",
       "      <td>95</td>\n",
       "      <td>Ascending Colon</td>\n",
       "      <td>II</td>\n",
       "      <td>37</td>\n",
       "      <td>0</td>\n",
       "      <td>T4a</td>\n",
       "      <td>N0</td>\n",
       "      <td>M0</td>\n",
       "      <td>IIB</td>\n",
       "      <td>107</td>\n",
       "      <td>0</td>\n",
       "    </tr>\n",
       "    <tr>\n",
       "      <th>2</th>\n",
       "      <td>Female</td>\n",
       "      <td>78</td>\n",
       "      <td>65</td>\n",
       "      <td>Sigmoid Colon</td>\n",
       "      <td>II</td>\n",
       "      <td>20</td>\n",
       "      <td>2</td>\n",
       "      <td>T4b</td>\n",
       "      <td>N1b</td>\n",
       "      <td>M0</td>\n",
       "      <td>IIIC</td>\n",
       "      <td>106</td>\n",
       "      <td>0</td>\n",
       "    </tr>\n",
       "    <tr>\n",
       "      <th>3</th>\n",
       "      <td>Female</td>\n",
       "      <td>33</td>\n",
       "      <td>150</td>\n",
       "      <td>Large Intestine, NOS</td>\n",
       "      <td>II</td>\n",
       "      <td>9</td>\n",
       "      <td>0</td>\n",
       "      <td>T4a</td>\n",
       "      <td>N0</td>\n",
       "      <td>M0</td>\n",
       "      <td>IIB</td>\n",
       "      <td>105</td>\n",
       "      <td>0</td>\n",
       "    </tr>\n",
       "    <tr>\n",
       "      <th>4</th>\n",
       "      <td>Male</td>\n",
       "      <td>58</td>\n",
       "      <td>100</td>\n",
       "      <td>Descending Colon</td>\n",
       "      <td>III</td>\n",
       "      <td>6</td>\n",
       "      <td>1</td>\n",
       "      <td>T4a</td>\n",
       "      <td>N1a</td>\n",
       "      <td>M0</td>\n",
       "      <td>IIIB</td>\n",
       "      <td>102</td>\n",
       "      <td>0</td>\n",
       "    </tr>\n",
       "  </tbody>\n",
       "</table>\n",
       "</div>"
      ],
      "text/plain": [
       "      Sex  Age  Size                  Site Grade  Lymph.nodes.examined  \\\n",
       "0    Male   41    65    Ileocecal Junction    II                    29   \n",
       "1    Male   54    95       Ascending Colon    II                    37   \n",
       "2  Female   78    65         Sigmoid Colon    II                    20   \n",
       "3  Female   33   150  Large Intestine, NOS    II                     9   \n",
       "4    Male   58   100      Descending Colon   III                     6   \n",
       "\n",
       "   Lymph.nodes.positive    T    N   M Stage  duration  event  \n",
       "0                     1   T3  N1a  M0  IIIB       110      0  \n",
       "1                     0  T4a   N0  M0   IIB       107      0  \n",
       "2                     2  T4b  N1b  M0  IIIC       106      0  \n",
       "3                     0  T4a   N0  M0   IIB       105      0  \n",
       "4                     1  T4a  N1a  M0  IIIB       102      0  "
      ]
     },
     "execution_count": 3,
     "metadata": {},
     "output_type": "execute_result"
    }
   ],
   "source": [
    "df_train.head()"
   ]
  },
  {
   "cell_type": "code",
   "execution_count": 4,
   "id": "02ade6b9",
   "metadata": {},
   "outputs": [
    {
     "data": {
      "text/html": [
       "<div>\n",
       "<style scoped>\n",
       "    .dataframe tbody tr th:only-of-type {\n",
       "        vertical-align: middle;\n",
       "    }\n",
       "\n",
       "    .dataframe tbody tr th {\n",
       "        vertical-align: top;\n",
       "    }\n",
       "\n",
       "    .dataframe thead th {\n",
       "        text-align: right;\n",
       "    }\n",
       "</style>\n",
       "<table border=\"1\" class=\"dataframe\">\n",
       "  <thead>\n",
       "    <tr style=\"text-align: right;\">\n",
       "      <th></th>\n",
       "      <th>Sex</th>\n",
       "      <th>Age</th>\n",
       "      <th>Size</th>\n",
       "      <th>Site</th>\n",
       "      <th>Grade</th>\n",
       "      <th>Lymph.nodes.examined</th>\n",
       "      <th>Lymph.nodes.positive</th>\n",
       "      <th>T</th>\n",
       "      <th>N</th>\n",
       "      <th>M</th>\n",
       "      <th>Stage</th>\n",
       "      <th>duration</th>\n",
       "      <th>event</th>\n",
       "    </tr>\n",
       "  </thead>\n",
       "  <tbody>\n",
       "    <tr>\n",
       "      <th>0</th>\n",
       "      <td>1</td>\n",
       "      <td>41</td>\n",
       "      <td>65</td>\n",
       "      <td>3</td>\n",
       "      <td>1</td>\n",
       "      <td>29</td>\n",
       "      <td>1</td>\n",
       "      <td>2</td>\n",
       "      <td>2</td>\n",
       "      <td>0</td>\n",
       "      <td>7</td>\n",
       "      <td>110</td>\n",
       "      <td>0</td>\n",
       "    </tr>\n",
       "    <tr>\n",
       "      <th>1</th>\n",
       "      <td>1</td>\n",
       "      <td>54</td>\n",
       "      <td>95</td>\n",
       "      <td>0</td>\n",
       "      <td>1</td>\n",
       "      <td>37</td>\n",
       "      <td>0</td>\n",
       "      <td>4</td>\n",
       "      <td>0</td>\n",
       "      <td>0</td>\n",
       "      <td>3</td>\n",
       "      <td>107</td>\n",
       "      <td>0</td>\n",
       "    </tr>\n",
       "    <tr>\n",
       "      <th>2</th>\n",
       "      <td>0</td>\n",
       "      <td>78</td>\n",
       "      <td>65</td>\n",
       "      <td>7</td>\n",
       "      <td>1</td>\n",
       "      <td>20</td>\n",
       "      <td>2</td>\n",
       "      <td>5</td>\n",
       "      <td>3</td>\n",
       "      <td>0</td>\n",
       "      <td>8</td>\n",
       "      <td>106</td>\n",
       "      <td>0</td>\n",
       "    </tr>\n",
       "    <tr>\n",
       "      <th>3</th>\n",
       "      <td>0</td>\n",
       "      <td>33</td>\n",
       "      <td>150</td>\n",
       "      <td>4</td>\n",
       "      <td>1</td>\n",
       "      <td>9</td>\n",
       "      <td>0</td>\n",
       "      <td>4</td>\n",
       "      <td>0</td>\n",
       "      <td>0</td>\n",
       "      <td>3</td>\n",
       "      <td>105</td>\n",
       "      <td>0</td>\n",
       "    </tr>\n",
       "    <tr>\n",
       "      <th>4</th>\n",
       "      <td>1</td>\n",
       "      <td>58</td>\n",
       "      <td>100</td>\n",
       "      <td>1</td>\n",
       "      <td>2</td>\n",
       "      <td>6</td>\n",
       "      <td>1</td>\n",
       "      <td>4</td>\n",
       "      <td>2</td>\n",
       "      <td>0</td>\n",
       "      <td>7</td>\n",
       "      <td>102</td>\n",
       "      <td>0</td>\n",
       "    </tr>\n",
       "  </tbody>\n",
       "</table>\n",
       "</div>"
      ],
      "text/plain": [
       "   Sex  Age  Size  Site  Grade  Lymph.nodes.examined  Lymph.nodes.positive  T  \\\n",
       "0    1   41    65     3      1                    29                     1  2   \n",
       "1    1   54    95     0      1                    37                     0  4   \n",
       "2    0   78    65     7      1                    20                     2  5   \n",
       "3    0   33   150     4      1                     9                     0  4   \n",
       "4    1   58   100     1      2                     6                     1  4   \n",
       "\n",
       "   N  M  Stage  duration  event  \n",
       "0  2  0      7       110      0  \n",
       "1  0  0      3       107      0  \n",
       "2  3  0      8       106      0  \n",
       "3  0  0      3       105      0  \n",
       "4  2  0      7       102      0  "
      ]
     },
     "execution_count": 4,
     "metadata": {},
     "output_type": "execute_result"
    }
   ],
   "source": [
    "# to label encoding categorical variables\n",
    "le = LabelEncoder() #label encoder\n",
    "cat_list = ['Sex','Site', 'Grade', 'T', 'N', 'M', 'Stage'] #list of categorical variables\n",
    "for cat in cat_list:\n",
    "    df_train[cat] = le.fit_transform(df_train[cat])\n",
    "    df_test[cat] = le.fit_transform(df_test[cat])\n",
    "\n",
    "df_train.head()"
   ]
  },
  {
   "cell_type": "code",
   "execution_count": 5,
   "id": "b0a5e001",
   "metadata": {},
   "outputs": [],
   "source": [
    "# function to get targets variable\n",
    "get_target = lambda df: (df['duration'].values, df['event'].values)\n",
    "\n",
    "# to standardize and get dependent variables \n",
    "cols_standardize = ['Age', 'Size', 'Lymph.nodes.examined', 'Lymph.nodes.positive'] # list of variables for standardization\n",
    "cols_leave = ['Sex','Site', 'Grade', 'T', 'N', 'M', 'Stage'] #categorical variables \n",
    "standardize = [([col], StandardScaler()) for col in cols_standardize]\n",
    "leave = [(col, None) for col in cols_leave]\n",
    "\n",
    "x_mapper = DataFrameMapper(standardize + leave)\n"
   ]
  },
  {
   "cell_type": "code",
   "execution_count": 6,
   "id": "0151ef19",
   "metadata": {},
   "outputs": [],
   "source": [
    "x_train = x_mapper.fit_transform(df_train).astype('float32')\n",
    "x_test = x_mapper.transform(df_test).astype('float32')\n",
    "\n",
    "\n",
    "num_durations = 10\n",
    "labtrans = PCHazard.label_transform(num_durations)\n",
    "get_target = lambda df: (df['duration'].values, df['event'].values)\n",
    "y_train = labtrans.fit_transform(*get_target(df_train))\n",
    "y_test = labtrans.transform(*get_target(df_test))\n",
    "\n",
    "\n",
    "train = (x_train, y_train)\n",
    "val = (x_test, y_test)\n",
    "\n",
    "# We don't need to transform the test labels\n",
    "time_test, status_test = get_target(df_test)"
   ]
  },
  {
   "cell_type": "markdown",
   "id": "38440b7c",
   "metadata": {},
   "source": [
    "# Neural Network"
   ]
  },
  {
   "cell_type": "code",
   "execution_count": 14,
   "id": "659f4b1f",
   "metadata": {
    "scrolled": true
   },
   "outputs": [
    {
     "name": "stdout",
     "output_type": "stream",
     "text": [
      "0:\t[0s / 0s],\t\ttrain_loss: 4.2284,\tval_loss: 4.3642\n",
      "1:\t[0s / 0s],\t\ttrain_loss: 3.9860,\tval_loss: 4.0221\n",
      "2:\t[0s / 0s],\t\ttrain_loss: 3.8566,\tval_loss: 3.7535\n",
      "3:\t[0s / 0s],\t\ttrain_loss: 3.5315,\tval_loss: 3.5239\n",
      "4:\t[0s / 0s],\t\ttrain_loss: 3.4248,\tval_loss: 3.2844\n",
      "5:\t[0s / 0s],\t\ttrain_loss: 3.1741,\tval_loss: 2.9849\n",
      "6:\t[0s / 0s],\t\ttrain_loss: 2.9392,\tval_loss: 2.6453\n",
      "7:\t[0s / 0s],\t\ttrain_loss: 2.6271,\tval_loss: 2.3369\n",
      "8:\t[0s / 0s],\t\ttrain_loss: 2.3865,\tval_loss: 2.0664\n",
      "9:\t[0s / 0s],\t\ttrain_loss: 2.2083,\tval_loss: 1.8352\n",
      "10:\t[0s / 0s],\t\ttrain_loss: 2.0226,\tval_loss: 1.6448\n",
      "11:\t[0s / 0s],\t\ttrain_loss: 1.8222,\tval_loss: 1.5061\n",
      "12:\t[0s / 0s],\t\ttrain_loss: 1.6414,\tval_loss: 1.4116\n",
      "13:\t[0s / 0s],\t\ttrain_loss: 1.7406,\tval_loss: 1.3574\n",
      "14:\t[0s / 0s],\t\ttrain_loss: 1.6257,\tval_loss: 1.3185\n",
      "15:\t[0s / 0s],\t\ttrain_loss: 1.5876,\tval_loss: 1.2999\n",
      "16:\t[0s / 0s],\t\ttrain_loss: 1.5618,\tval_loss: 1.2869\n",
      "17:\t[0s / 0s],\t\ttrain_loss: 1.6319,\tval_loss: 1.2815\n",
      "18:\t[0s / 0s],\t\ttrain_loss: 1.5208,\tval_loss: 1.2781\n",
      "19:\t[0s / 0s],\t\ttrain_loss: 1.5683,\tval_loss: 1.2757\n",
      "20:\t[0s / 0s],\t\ttrain_loss: 1.5932,\tval_loss: 1.2757\n",
      "21:\t[0s / 0s],\t\ttrain_loss: 1.5049,\tval_loss: 1.2801\n",
      "22:\t[0s / 0s],\t\ttrain_loss: 1.5072,\tval_loss: 1.2851\n",
      "23:\t[0s / 0s],\t\ttrain_loss: 1.6207,\tval_loss: 1.2931\n",
      "24:\t[0s / 0s],\t\ttrain_loss: 1.5048,\tval_loss: 1.2936\n",
      "25:\t[0s / 0s],\t\ttrain_loss: 1.4306,\tval_loss: 1.2927\n",
      "26:\t[0s / 0s],\t\ttrain_loss: 1.4708,\tval_loss: 1.2924\n",
      "27:\t[0s / 0s],\t\ttrain_loss: 1.4917,\tval_loss: 1.2948\n",
      "28:\t[0s / 0s],\t\ttrain_loss: 1.5301,\tval_loss: 1.3007\n",
      "29:\t[0s / 0s],\t\ttrain_loss: 1.4826,\tval_loss: 1.3058\n",
      "30:\t[0s / 0s],\t\ttrain_loss: 1.5043,\tval_loss: 1.3124\n",
      "31:\t[0s / 0s],\t\ttrain_loss: 1.4594,\tval_loss: 1.3192\n",
      "32:\t[0s / 0s],\t\ttrain_loss: 1.5566,\tval_loss: 1.3208\n",
      "33:\t[0s / 0s],\t\ttrain_loss: 1.4761,\tval_loss: 1.3236\n",
      "34:\t[0s / 0s],\t\ttrain_loss: 1.4452,\tval_loss: 1.3249\n",
      "35:\t[0s / 0s],\t\ttrain_loss: 1.4631,\tval_loss: 1.3273\n",
      "36:\t[0s / 0s],\t\ttrain_loss: 1.5465,\tval_loss: 1.3319\n",
      "37:\t[0s / 0s],\t\ttrain_loss: 1.5244,\tval_loss: 1.3428\n",
      "38:\t[0s / 0s],\t\ttrain_loss: 1.4636,\tval_loss: 1.3406\n",
      "39:\t[0s / 0s],\t\ttrain_loss: 1.4619,\tval_loss: 1.3422\n",
      "40:\t[0s / 0s],\t\ttrain_loss: 1.5326,\tval_loss: 1.3426\n",
      "41:\t[0s / 0s],\t\ttrain_loss: 1.4094,\tval_loss: 1.3355\n",
      "42:\t[0s / 0s],\t\ttrain_loss: 1.4240,\tval_loss: 1.3349\n",
      "43:\t[0s / 0s],\t\ttrain_loss: 1.4599,\tval_loss: 1.3332\n",
      "44:\t[0s / 0s],\t\ttrain_loss: 1.5139,\tval_loss: 1.3389\n",
      "45:\t[0s / 0s],\t\ttrain_loss: 1.4369,\tval_loss: 1.3337\n",
      "46:\t[0s / 0s],\t\ttrain_loss: 1.4444,\tval_loss: 1.3325\n",
      "47:\t[0s / 0s],\t\ttrain_loss: 1.4957,\tval_loss: 1.3334\n",
      "48:\t[0s / 0s],\t\ttrain_loss: 1.4165,\tval_loss: 1.3335\n",
      "49:\t[0s / 0s],\t\ttrain_loss: 1.4596,\tval_loss: 1.3324\n"
     ]
    }
   ],
   "source": [
    "in_features = x_train.shape[1]\n",
    "num_nodes = [16,4]\n",
    "out_features = labtrans.out_features\n",
    "batch_norm = True\n",
    "dropout = 0.3\n",
    "output_bias = False\n",
    "epochs = 100\n",
    "callbacks = [tt.callbacks.EarlyStopping(patience=30)]\n",
    "#callbacks = None\n",
    "verbose = True\n",
    "batch_size = 64\n",
    "\n",
    "net = tt.practical.MLPVanilla(in_features, num_nodes, out_features, batch_norm,\n",
    "                              dropout)\n",
    "\n",
    "model_cox = PCHazard(net, tt.optim.Adam(lr=0.01,amsgrad=True), duration_index=labtrans.cuts) #cox model on the neural network with Adam optimizer\n",
    "\n",
    "log_cox = model_cox.fit(x_train, y_train, batch_size, epochs, callbacks, val_data =val)\n"
   ]
  },
  {
   "cell_type": "code",
   "execution_count": 15,
   "id": "4d668cdd",
   "metadata": {},
   "outputs": [
    {
     "data": {
      "text/plain": [
       "0.6528989225243714"
      ]
     },
     "execution_count": 15,
     "metadata": {},
     "output_type": "execute_result"
    },
    {
     "data": {
      "text/plain": [
       "<Figure size 864x864 with 0 Axes>"
      ]
     },
     "metadata": {},
     "output_type": "display_data"
    },
    {
     "data": {
      "image/png": "[encoded data removed]",
      "text/plain": [
       "<Figure size 432x288 with 1 Axes>"
      ]
     },
     "metadata": {
      "needs_background": "light"
     },
     "output_type": "display_data"
    }
   ],
   "source": [
    "#plotting the loss vs epoch \n",
    "plt.figure(figsize=[12,12])\n",
    "log_cox.plot()\n",
    "plt.xlabel('Epoch', fontsize = 16)\n",
    "plt.ylabel('Loss', fontsize = 16)\n",
    "\n",
    "# predict for the cox model(external validation)\n",
    "surv_cox = model_cox.predict_surv_df(x_test) # survival of the test data\n",
    "# evaluate the c-index of the cox model \n",
    "eval_cox = EvalSurv(surv_cox, time_test, status_test, censor_surv= 'km')\n",
    "cox_index = eval_cox.concordance_td() \n",
    "cox_index  # cox_index  at all"
   ]
  },
  {
   "cell_type": "code",
   "execution_count": 16,
   "id": "87868c79",
   "metadata": {},
   "outputs": [
    {
     "data": {
      "text/plain": [
       "0.1615096721115481"
      ]
     },
     "execution_count": 16,
     "metadata": {},
     "output_type": "execute_result"
    },
    {
     "data": {
      "image/png": "[encoded data removed]",
      "text/plain": [
       "<Figure size 432x288 with 1 Axes>"
      ]
     },
     "metadata": {
      "needs_background": "light"
     },
     "output_type": "display_data"
    }
   ],
   "source": [
    "# integrated_brier_score at all\n",
    "time_grid = np.linspace(time_test.min(), time_test.max(), 100)\n",
    "_ = eval_cox.brier_score(time_grid).plot()\n",
    "eval_cox.integrated_brier_score(time_grid)"
   ]
  },
  {
   "cell_type": "markdown",
   "id": "45139087",
   "metadata": {},
   "source": [
    "# Internal validation"
   ]
  },
  {
   "cell_type": "code",
   "execution_count": 17,
   "id": "ba754c3c",
   "metadata": {},
   "outputs": [
    {
     "data": {
      "text/plain": [
       "0.6662093899843585"
      ]
     },
     "execution_count": 17,
     "metadata": {},
     "output_type": "execute_result"
    }
   ],
   "source": [
    "# c-index at  all\n",
    "time_test0, status_test0 = get_target(df_train)\n",
    "surv_cox0 = model_cox.predict_surv_df(x_train) # survival of the test data\n",
    "eval_cox0 = EvalSurv(surv_cox0, time_test0, status_test0, censor_surv= 'km')\n",
    "cox_index0 = eval_cox0.concordance_td() \n",
    "cox_index0 "
   ]
  },
  {
   "cell_type": "code",
   "execution_count": 18,
   "id": "720134a7",
   "metadata": {},
   "outputs": [
    {
     "data": {
      "text/plain": [
       "0.16854642351581206"
      ]
     },
     "execution_count": 18,
     "metadata": {},
     "output_type": "execute_result"
    },
    {
     "data": {
      "image/png": "[encoded data removed]",
      "text/plain": [
       "<Figure size 432x288 with 1 Axes>"
      ]
     },
     "metadata": {
      "needs_background": "light"
     },
     "output_type": "display_data"
    }
   ],
   "source": [
    "# brier score at all\n",
    "time_grid0 = np.linspace(time_test0.min(), time_test0.max(), 100)\n",
    "_ = eval_cox0.brier_score(time_grid0).plot()\n",
    "eval_cox0.integrated_brier_score(time_grid0)"
   ]
  },
  {
   "cell_type": "markdown",
   "id": "0b9876b5",
   "metadata": {},
   "source": [
    "# Save"
   ]
  },
  {
   "cell_type": "code",
   "execution_count": 19,
   "id": "1231eeac",
   "metadata": {},
   "outputs": [],
   "source": [
    "model_cox.save_model_weights('myweights_PCHazard.pt')"
   ]
  },
  {
   "cell_type": "markdown",
   "id": "cfd1b48d",
   "metadata": {},
   "source": [
    "# Bootstrap"
   ]
  },
  {
   "cell_type": "code",
   "execution_count": 21,
   "id": "e6eaf3c7",
   "metadata": {},
   "outputs": [
    {
     "name": "stdout",
     "output_type": "stream",
     "text": [
      "Bootstrap Internal validation:\n",
      "The C-index:0.5498854015899651\n",
      "The C-index Low 95% CI:0.5493290722286539\n",
      "The C-index High 95% CI:0.5504417309512764\n"
     ]
    }
   ],
   "source": [
    "# Internal\n",
    "# ATTENTION :x_train, y_train is numpy.ndarray\n",
    "in_tem = []\n",
    "for i in range(1000):\n",
    "    idx = np.random.choice(len(x_train),size = 100,replace = True)\n",
    "    x_tem = x_train[idx,]\n",
    "    surv_cox_tem = model_cox.predict_surv_df(x_tem) # survival of the test data\n",
    "    eval_cox_tem = EvalSurv(surv_cox_tem, y_train[0][idx], y_train[1][idx], censor_surv= 'km')\n",
    "    c_tem = eval_cox_tem.concordance_td() \n",
    "    in_tem.append(c_tem)\n",
    "\n",
    "in_mean = np.mean(in_tem)\n",
    "in_se = np.std(in_tem) / np.power(1000,0.5)\n",
    "print(\"Bootstrap Internal validation:\")\n",
    "print(\"The C-index:{}\".format(in_mean))\n",
    "print(\"The C-index Low 95% CI:{}\".format(in_mean - 1.96 * in_se))\n",
    "print(\"The C-index High 95% CI:{}\".format(in_mean + 1.96 * in_se))"
   ]
  },
  {
   "cell_type": "code",
   "execution_count": 22,
   "id": "17152a58",
   "metadata": {},
   "outputs": [
    {
     "name": "stdout",
     "output_type": "stream",
     "text": [
      "Bootstrap External validation:\n",
      "The C-index:0.5357292846584398\n",
      "The C-index Low 95% CI:0.5352612546529655\n",
      "The C-index High 95% CI:0.5361973146639142\n"
     ]
    }
   ],
   "source": [
    "# External\n",
    "ex_tem = []\n",
    "for i in range(1000):\n",
    "    idx = np.random.choice(len(x_test),size = 100,replace = True)\n",
    "    x_tem = x_test[idx,]\n",
    "    surv_cox_tem = model_cox.predict_surv_df(x_tem) # survival of the test data\n",
    "    eval_cox_tem = EvalSurv(surv_cox_tem, y_test[0][idx], y_test[1][idx], censor_surv= 'km')\n",
    "    c_tem = eval_cox_tem.concordance_td() \n",
    "    ex_tem.append(c_tem)\n",
    "\n",
    "ex_mean = np.mean(ex_tem)\n",
    "ex_se = np.std(ex_tem) / np.power(1000,0.5)\n",
    "print(\"Bootstrap External validation:\")\n",
    "print(\"The C-index:{}\".format(ex_mean))\n",
    "print(\"The C-index Low 95% CI:{}\".format(ex_mean - 1.96 * ex_se))\n",
    "print(\"The C-index High 95% CI:{}\".format(ex_mean + 1.96 * ex_se))"
   ]
  },
  {
   "cell_type": "markdown",
   "id": "5c82c9f3",
   "metadata": {},
   "source": [
    "# LASSO var"
   ]
  },
  {
   "cell_type": "code",
   "execution_count": 23,
   "id": "d71674fd",
   "metadata": {},
   "outputs": [
    {
     "data": {
      "text/html": [
       "<div>\n",
       "<style scoped>\n",
       "    .dataframe tbody tr th:only-of-type {\n",
       "        vertical-align: middle;\n",
       "    }\n",
       "\n",
       "    .dataframe tbody tr th {\n",
       "        vertical-align: top;\n",
       "    }\n",
       "\n",
       "    .dataframe thead th {\n",
       "        text-align: right;\n",
       "    }\n",
       "</style>\n",
       "<table border=\"1\" class=\"dataframe\">\n",
       "  <thead>\n",
       "    <tr style=\"text-align: right;\">\n",
       "      <th></th>\n",
       "      <th>Age</th>\n",
       "      <th>Size</th>\n",
       "      <th>Site</th>\n",
       "      <th>Grade</th>\n",
       "      <th>Lymph.nodes.examined</th>\n",
       "      <th>Lymph.nodes.positive</th>\n",
       "      <th>T</th>\n",
       "      <th>N</th>\n",
       "      <th>M</th>\n",
       "      <th>Stage</th>\n",
       "    </tr>\n",
       "  </thead>\n",
       "  <tbody>\n",
       "    <tr>\n",
       "      <th>0</th>\n",
       "      <td>41</td>\n",
       "      <td>65</td>\n",
       "      <td>3</td>\n",
       "      <td>1</td>\n",
       "      <td>29</td>\n",
       "      <td>1</td>\n",
       "      <td>2</td>\n",
       "      <td>2</td>\n",
       "      <td>0</td>\n",
       "      <td>7</td>\n",
       "    </tr>\n",
       "    <tr>\n",
       "      <th>1</th>\n",
       "      <td>54</td>\n",
       "      <td>95</td>\n",
       "      <td>0</td>\n",
       "      <td>1</td>\n",
       "      <td>37</td>\n",
       "      <td>0</td>\n",
       "      <td>4</td>\n",
       "      <td>0</td>\n",
       "      <td>0</td>\n",
       "      <td>3</td>\n",
       "    </tr>\n",
       "    <tr>\n",
       "      <th>2</th>\n",
       "      <td>78</td>\n",
       "      <td>65</td>\n",
       "      <td>7</td>\n",
       "      <td>1</td>\n",
       "      <td>20</td>\n",
       "      <td>2</td>\n",
       "      <td>5</td>\n",
       "      <td>3</td>\n",
       "      <td>0</td>\n",
       "      <td>8</td>\n",
       "    </tr>\n",
       "    <tr>\n",
       "      <th>3</th>\n",
       "      <td>33</td>\n",
       "      <td>150</td>\n",
       "      <td>4</td>\n",
       "      <td>1</td>\n",
       "      <td>9</td>\n",
       "      <td>0</td>\n",
       "      <td>4</td>\n",
       "      <td>0</td>\n",
       "      <td>0</td>\n",
       "      <td>3</td>\n",
       "    </tr>\n",
       "    <tr>\n",
       "      <th>4</th>\n",
       "      <td>58</td>\n",
       "      <td>100</td>\n",
       "      <td>1</td>\n",
       "      <td>2</td>\n",
       "      <td>6</td>\n",
       "      <td>1</td>\n",
       "      <td>4</td>\n",
       "      <td>2</td>\n",
       "      <td>0</td>\n",
       "      <td>7</td>\n",
       "    </tr>\n",
       "  </tbody>\n",
       "</table>\n",
       "</div>"
      ],
      "text/plain": [
       "   Age  Size  Site  Grade  Lymph.nodes.examined  Lymph.nodes.positive  T  N  \\\n",
       "0   41    65     3      1                    29                     1  2  2   \n",
       "1   54    95     0      1                    37                     0  4  0   \n",
       "2   78    65     7      1                    20                     2  5  3   \n",
       "3   33   150     4      1                     9                     0  4  0   \n",
       "4   58   100     1      2                     6                     1  4  2   \n",
       "\n",
       "   M  Stage  \n",
       "0  0      7  \n",
       "1  0      3  \n",
       "2  0      8  \n",
       "3  0      3  \n",
       "4  0      7  "
      ]
     },
     "execution_count": 23,
     "metadata": {},
     "output_type": "execute_result"
    }
   ],
   "source": [
    "df_train_lasso = df_train[[\"Age\",\"Size\",\"Site\",\"Grade\",\"Lymph.nodes.examined\",\"Lymph.nodes.positive\",\"T\",\"N\",\"M\",\"Stage\"]]\n",
    "df_test_lasso = df_test[[\"Age\",\"Size\",\"Site\",\"Grade\",\"Lymph.nodes.examined\",\"Lymph.nodes.positive\",\"T\",\"N\",\"M\",\"Stage\"]]\n",
    "df_train_lasso.head()"
   ]
  },
  {
   "cell_type": "code",
   "execution_count": 24,
   "id": "22be226a",
   "metadata": {},
   "outputs": [],
   "source": [
    "# to standardize and get dependent variables \n",
    "cols_standardize = ['Age', 'Size', 'Lymph.nodes.examined', 'Lymph.nodes.positive'] # list of variables for standardization\n",
    "cols_leave = ['Site', 'Grade', 'T', 'N', 'M', 'Stage'] #categorical variables \n",
    "standardize = [([col], StandardScaler()) for col in cols_standardize]\n",
    "leave = [(col, None) for col in cols_leave]\n",
    "\n",
    "x_mapper = DataFrameMapper(standardize + leave)\n",
    "\n",
    "\n",
    "x_train = x_mapper.fit_transform(df_train_lasso).astype('float32')\n",
    "x_test = x_mapper.transform(df_test_lasso).astype('float32')\n",
    "\n",
    "\n",
    "train = (x_train, y_train)\n",
    "val = (x_test, y_test)\n"
   ]
  },
  {
   "cell_type": "code",
   "execution_count": 25,
   "id": "e2d24495",
   "metadata": {},
   "outputs": [
    {
     "name": "stdout",
     "output_type": "stream",
     "text": [
      "0:\t[0s / 0s],\t\ttrain_loss: 4.2389,\tval_loss: 4.3757\n",
      "1:\t[0s / 0s],\t\ttrain_loss: 3.9721,\tval_loss: 3.9753\n",
      "2:\t[0s / 0s],\t\ttrain_loss: 3.7301,\tval_loss: 3.6641\n",
      "3:\t[0s / 0s],\t\ttrain_loss: 3.4875,\tval_loss: 3.3315\n",
      "4:\t[0s / 0s],\t\ttrain_loss: 3.2484,\tval_loss: 3.0830\n",
      "5:\t[0s / 0s],\t\ttrain_loss: 2.9443,\tval_loss: 2.7896\n",
      "6:\t[0s / 0s],\t\ttrain_loss: 2.7875,\tval_loss: 2.5419\n",
      "7:\t[0s / 0s],\t\ttrain_loss: 2.5514,\tval_loss: 2.3425\n",
      "8:\t[0s / 0s],\t\ttrain_loss: 2.1897,\tval_loss: 2.1307\n",
      "9:\t[0s / 0s],\t\ttrain_loss: 2.1264,\tval_loss: 1.8345\n",
      "10:\t[0s / 0s],\t\ttrain_loss: 1.9488,\tval_loss: 1.6534\n",
      "11:\t[0s / 0s],\t\ttrain_loss: 1.8038,\tval_loss: 1.5741\n",
      "12:\t[0s / 0s],\t\ttrain_loss: 1.7308,\tval_loss: 1.5256\n",
      "13:\t[0s / 0s],\t\ttrain_loss: 1.6390,\tval_loss: 1.4888\n",
      "14:\t[0s / 0s],\t\ttrain_loss: 1.5636,\tval_loss: 1.4553\n",
      "15:\t[0s / 0s],\t\ttrain_loss: 1.5226,\tval_loss: 1.4201\n",
      "16:\t[0s / 0s],\t\ttrain_loss: 1.6638,\tval_loss: 1.4071\n",
      "17:\t[0s / 0s],\t\ttrain_loss: 1.5258,\tval_loss: 1.4014\n",
      "18:\t[0s / 0s],\t\ttrain_loss: 1.5854,\tval_loss: 1.3921\n",
      "19:\t[0s / 0s],\t\ttrain_loss: 1.5440,\tval_loss: 1.3816\n",
      "20:\t[0s / 0s],\t\ttrain_loss: 1.5877,\tval_loss: 1.3861\n",
      "21:\t[0s / 0s],\t\ttrain_loss: 1.5283,\tval_loss: 1.3847\n",
      "22:\t[0s / 0s],\t\ttrain_loss: 1.4832,\tval_loss: 1.3833\n",
      "23:\t[0s / 0s],\t\ttrain_loss: 1.5476,\tval_loss: 1.3837\n",
      "24:\t[0s / 0s],\t\ttrain_loss: 1.4461,\tval_loss: 1.3778\n",
      "25:\t[0s / 0s],\t\ttrain_loss: 1.5335,\tval_loss: 1.3778\n",
      "26:\t[0s / 0s],\t\ttrain_loss: 1.4691,\tval_loss: 1.3727\n",
      "27:\t[0s / 0s],\t\ttrain_loss: 1.4252,\tval_loss: 1.3749\n",
      "28:\t[0s / 0s],\t\ttrain_loss: 1.3837,\tval_loss: 1.3770\n",
      "29:\t[0s / 0s],\t\ttrain_loss: 1.5067,\tval_loss: 1.3785\n",
      "30:\t[0s / 0s],\t\ttrain_loss: 1.4672,\tval_loss: 1.3861\n",
      "31:\t[0s / 0s],\t\ttrain_loss: 1.5528,\tval_loss: 1.3878\n",
      "32:\t[0s / 0s],\t\ttrain_loss: 1.4190,\tval_loss: 1.3857\n",
      "33:\t[0s / 0s],\t\ttrain_loss: 1.5648,\tval_loss: 1.3878\n",
      "34:\t[0s / 0s],\t\ttrain_loss: 1.5680,\tval_loss: 1.3835\n",
      "35:\t[0s / 0s],\t\ttrain_loss: 1.5393,\tval_loss: 1.3736\n",
      "36:\t[0s / 0s],\t\ttrain_loss: 1.4974,\tval_loss: 1.3703\n",
      "37:\t[0s / 0s],\t\ttrain_loss: 1.5161,\tval_loss: 1.3736\n",
      "38:\t[0s / 0s],\t\ttrain_loss: 1.6580,\tval_loss: 1.3723\n",
      "39:\t[0s / 0s],\t\ttrain_loss: 1.3809,\tval_loss: 1.3661\n",
      "40:\t[0s / 0s],\t\ttrain_loss: 1.4648,\tval_loss: 1.3604\n",
      "41:\t[0s / 0s],\t\ttrain_loss: 1.5166,\tval_loss: 1.3553\n",
      "42:\t[0s / 0s],\t\ttrain_loss: 1.3883,\tval_loss: 1.3585\n",
      "43:\t[0s / 0s],\t\ttrain_loss: 1.5679,\tval_loss: 1.3598\n",
      "44:\t[0s / 0s],\t\ttrain_loss: 1.4709,\tval_loss: 1.3612\n",
      "45:\t[0s / 0s],\t\ttrain_loss: 1.5282,\tval_loss: 1.3642\n",
      "46:\t[0s / 0s],\t\ttrain_loss: 1.5028,\tval_loss: 1.3638\n",
      "47:\t[0s / 0s],\t\ttrain_loss: 1.4364,\tval_loss: 1.3614\n",
      "48:\t[0s / 0s],\t\ttrain_loss: 1.4194,\tval_loss: 1.3684\n",
      "49:\t[0s / 0s],\t\ttrain_loss: 1.4808,\tval_loss: 1.3726\n",
      "50:\t[0s / 0s],\t\ttrain_loss: 1.4044,\tval_loss: 1.3719\n",
      "51:\t[0s / 0s],\t\ttrain_loss: 1.5360,\tval_loss: 1.3686\n",
      "52:\t[0s / 0s],\t\ttrain_loss: 1.5063,\tval_loss: 1.3570\n",
      "53:\t[0s / 0s],\t\ttrain_loss: 1.4920,\tval_loss: 1.3611\n",
      "54:\t[0s / 0s],\t\ttrain_loss: 1.4316,\tval_loss: 1.3697\n",
      "55:\t[0s / 0s],\t\ttrain_loss: 1.3998,\tval_loss: 1.3710\n",
      "56:\t[0s / 0s],\t\ttrain_loss: 1.5097,\tval_loss: 1.3823\n",
      "57:\t[0s / 0s],\t\ttrain_loss: 1.4106,\tval_loss: 1.3929\n",
      "58:\t[0s / 1s],\t\ttrain_loss: 1.3995,\tval_loss: 1.3876\n",
      "59:\t[0s / 1s],\t\ttrain_loss: 1.4786,\tval_loss: 1.3870\n",
      "60:\t[0s / 1s],\t\ttrain_loss: 1.4963,\tval_loss: 1.3891\n",
      "61:\t[0s / 1s],\t\ttrain_loss: 1.4021,\tval_loss: 1.3908\n",
      "62:\t[0s / 1s],\t\ttrain_loss: 1.5085,\tval_loss: 1.3950\n",
      "63:\t[0s / 1s],\t\ttrain_loss: 1.4268,\tval_loss: 1.3879\n",
      "64:\t[0s / 1s],\t\ttrain_loss: 1.4203,\tval_loss: 1.3814\n",
      "65:\t[0s / 1s],\t\ttrain_loss: 1.4278,\tval_loss: 1.3836\n",
      "66:\t[0s / 1s],\t\ttrain_loss: 1.4532,\tval_loss: 1.3879\n",
      "67:\t[0s / 1s],\t\ttrain_loss: 1.4233,\tval_loss: 1.3844\n",
      "68:\t[0s / 1s],\t\ttrain_loss: 1.4492,\tval_loss: 1.3866\n",
      "69:\t[0s / 1s],\t\ttrain_loss: 1.4909,\tval_loss: 1.3978\n",
      "70:\t[0s / 1s],\t\ttrain_loss: 1.4105,\tval_loss: 1.3966\n",
      "71:\t[0s / 1s],\t\ttrain_loss: 1.3656,\tval_loss: 1.3956\n"
     ]
    }
   ],
   "source": [
    "in_features = x_train.shape[1]\n",
    "num_nodes = [16,4]\n",
    "out_features = labtrans.out_features\n",
    "batch_norm = True\n",
    "dropout = 0.3\n",
    "output_bias = False\n",
    "epochs = 100\n",
    "callbacks = [tt.callbacks.EarlyStopping(patience=30)]\n",
    "#callbacks = None\n",
    "verbose = True\n",
    "batch_size = 64\n",
    "\n",
    "net = tt.practical.MLPVanilla(in_features, num_nodes, out_features, batch_norm,\n",
    "                              dropout)\n",
    "\n",
    "model_cox = PCHazard(net, tt.optim.Adam(lr=0.01,amsgrad=True), duration_index=labtrans.cuts) #cox model on the neural network with Adam optimizer\n",
    "\n",
    "log_cox = model_cox.fit(x_train, y_train, batch_size, epochs, callbacks, val_data =val)\n"
   ]
  },
  {
   "cell_type": "code",
   "execution_count": 26,
   "id": "8d7e825d",
   "metadata": {},
   "outputs": [
    {
     "data": {
      "text/plain": [
       "0.5913288866085172"
      ]
     },
     "execution_count": 26,
     "metadata": {},
     "output_type": "execute_result"
    },
    {
     "data": {
      "text/plain": [
       "<Figure size 864x864 with 0 Axes>"
      ]
     },
     "metadata": {},
     "output_type": "display_data"
    },
    {
     "data": {
      "image/png": "[encoded data removed]",
      "text/plain": [
       "<Figure size 432x288 with 1 Axes>"
      ]
     },
     "metadata": {
      "needs_background": "light"
     },
     "output_type": "display_data"
    }
   ],
   "source": [
    "#plotting the loss vs epoch \n",
    "plt.figure(figsize=[12,12])\n",
    "log_cox.plot()\n",
    "plt.xlabel('Epoch', fontsize = 16)\n",
    "plt.ylabel('Loss', fontsize = 16)\n",
    "\n",
    "# predict for the cox model(external validation)\n",
    "surv_cox = model_cox.predict_surv_df(x_test) # survival of the test data\n",
    "# evaluate the c-index of the cox model \n",
    "eval_cox = EvalSurv(surv_cox, time_test, status_test, censor_surv= 'km')\n",
    "cox_index = eval_cox.concordance_td() \n",
    "cox_index  # cox_index  at all"
   ]
  },
  {
   "cell_type": "code",
   "execution_count": 27,
   "id": "d1837e38",
   "metadata": {},
   "outputs": [
    {
     "data": {
      "text/plain": [
       "0.16797572343629316"
      ]
     },
     "execution_count": 27,
     "metadata": {},
     "output_type": "execute_result"
    },
    {
     "data": {
      "image/png": "[encoded data removed]",
      "text/plain": [
       "<Figure size 432x288 with 1 Axes>"
      ]
     },
     "metadata": {
      "needs_background": "light"
     },
     "output_type": "display_data"
    }
   ],
   "source": [
    "# integrated_brier_score at all\n",
    "time_grid = np.linspace(time_test.min(), time_test.max(), 100)\n",
    "_ = eval_cox.brier_score(time_grid).plot()\n",
    "eval_cox.integrated_brier_score(time_grid)"
   ]
  },
  {
   "cell_type": "code",
   "execution_count": 28,
   "id": "e0a2b23f",
   "metadata": {},
   "outputs": [
    {
     "data": {
      "text/plain": [
       "0.6660427190440781"
      ]
     },
     "execution_count": 28,
     "metadata": {},
     "output_type": "execute_result"
    }
   ],
   "source": [
    "# c-index at  all\n",
    "time_test0, status_test0 = get_target(df_train)\n",
    "surv_cox0 = model_cox.predict_surv_df(x_train) # survival of the test data\n",
    "eval_cox0 = EvalSurv(surv_cox0, time_test0, status_test0, censor_surv= 'km')\n",
    "cox_index0 = eval_cox0.concordance_td() \n",
    "cox_index0 "
   ]
  },
  {
   "cell_type": "code",
   "execution_count": 29,
   "id": "21582def",
   "metadata": {},
   "outputs": [
    {
     "data": {
      "text/plain": [
       "0.16106713080433835"
      ]
     },
     "execution_count": 29,
     "metadata": {},
     "output_type": "execute_result"
    },
    {
     "data": {
      "image/png": "[encoded data removed]",
      "text/plain": [
       "<Figure size 432x288 with 1 Axes>"
      ]
     },
     "metadata": {
      "needs_background": "light"
     },
     "output_type": "display_data"
    }
   ],
   "source": [
    "# brier score at all\n",
    "time_grid0 = np.linspace(time_test0.min(), time_test0.max(), 100)\n",
    "_ = eval_cox0.brier_score(time_grid0).plot()\n",
    "eval_cox0.integrated_brier_score(time_grid0)"
   ]
  },
  {
   "cell_type": "code",
   "execution_count": 30,
   "id": "051c25a3",
   "metadata": {},
   "outputs": [
    {
     "name": "stdout",
     "output_type": "stream",
     "text": [
      "Bootstrap Internal validation:\n",
      "The C-index:0.5494919742823205\n",
      "The C-index Low 95% CI:0.5489185167923665\n",
      "The C-index High 95% CI:0.5500654317722746\n"
     ]
    }
   ],
   "source": [
    "# Internal\n",
    "# ATTENTION :x_train, y_train is numpy.ndarray\n",
    "in_tem = []\n",
    "for i in range(1000):\n",
    "    idx = np.random.choice(len(x_train),size = 100,replace = True)\n",
    "    x_tem = x_train[idx,]\n",
    "    surv_cox_tem = model_cox.predict_surv_df(x_tem) # survival of the test data\n",
    "    eval_cox_tem = EvalSurv(surv_cox_tem, y_train[0][idx], y_train[1][idx], censor_surv= 'km')\n",
    "    c_tem = eval_cox_tem.concordance_td() \n",
    "    in_tem.append(c_tem)\n",
    "\n",
    "in_mean = np.mean(in_tem)\n",
    "in_se = np.std(in_tem) / np.power(1000,0.5)\n",
    "print(\"Bootstrap Internal validation:\")\n",
    "print(\"The C-index:{}\".format(in_mean))\n",
    "print(\"The C-index Low 95% CI:{}\".format(in_mean - 1.96 * in_se))\n",
    "print(\"The C-index High 95% CI:{}\".format(in_mean + 1.96 * in_se))"
   ]
  },
  {
   "cell_type": "code",
   "execution_count": 31,
   "id": "547314c7",
   "metadata": {},
   "outputs": [
    {
     "name": "stdout",
     "output_type": "stream",
     "text": [
      "Bootstrap External validation:\n",
      "The C-index:0.5353263800822459\n",
      "The C-index Low 95% CI:0.5348662703891756\n",
      "The C-index High 95% CI:0.5357864897753162\n"
     ]
    }
   ],
   "source": [
    "# External\n",
    "ex_tem = []\n",
    "for i in range(1000):\n",
    "    idx = np.random.choice(len(x_test),size = 100,replace = True)\n",
    "    x_tem = x_test[idx,]\n",
    "    surv_cox_tem = model_cox.predict_surv_df(x_tem) # survival of the test data\n",
    "    eval_cox_tem = EvalSurv(surv_cox_tem, y_test[0][idx], y_test[1][idx], censor_surv= 'km')\n",
    "    c_tem = eval_cox_tem.concordance_td() \n",
    "    ex_tem.append(c_tem)\n",
    "\n",
    "ex_mean = np.mean(ex_tem)\n",
    "ex_se = np.std(ex_tem) / np.power(1000,0.5)\n",
    "print(\"Bootstrap External validation:\")\n",
    "print(\"The C-index:{}\".format(ex_mean))\n",
    "print(\"The C-index Low 95% CI:{}\".format(ex_mean - 1.96 * ex_se))\n",
    "print(\"The C-index High 95% CI:{}\".format(ex_mean + 1.96 * ex_se))"
   ]
  },
  {
   "cell_type": "markdown",
   "id": "9fb84c45",
   "metadata": {},
   "source": [
    "# TNM"
   ]
  },
  {
   "cell_type": "code",
   "execution_count": 32,
   "id": "547768dd",
   "metadata": {},
   "outputs": [
    {
     "data": {
      "text/html": [
       "<div>\n",
       "<style scoped>\n",
       "    .dataframe tbody tr th:only-of-type {\n",
       "        vertical-align: middle;\n",
       "    }\n",
       "\n",
       "    .dataframe tbody tr th {\n",
       "        vertical-align: top;\n",
       "    }\n",
       "\n",
       "    .dataframe thead th {\n",
       "        text-align: right;\n",
       "    }\n",
       "</style>\n",
       "<table border=\"1\" class=\"dataframe\">\n",
       "  <thead>\n",
       "    <tr style=\"text-align: right;\">\n",
       "      <th></th>\n",
       "      <th>T</th>\n",
       "      <th>N</th>\n",
       "      <th>M</th>\n",
       "      <th>Stage</th>\n",
       "    </tr>\n",
       "  </thead>\n",
       "  <tbody>\n",
       "    <tr>\n",
       "      <th>0</th>\n",
       "      <td>2</td>\n",
       "      <td>2</td>\n",
       "      <td>0</td>\n",
       "      <td>7</td>\n",
       "    </tr>\n",
       "    <tr>\n",
       "      <th>1</th>\n",
       "      <td>4</td>\n",
       "      <td>0</td>\n",
       "      <td>0</td>\n",
       "      <td>3</td>\n",
       "    </tr>\n",
       "    <tr>\n",
       "      <th>2</th>\n",
       "      <td>5</td>\n",
       "      <td>3</td>\n",
       "      <td>0</td>\n",
       "      <td>8</td>\n",
       "    </tr>\n",
       "    <tr>\n",
       "      <th>3</th>\n",
       "      <td>4</td>\n",
       "      <td>0</td>\n",
       "      <td>0</td>\n",
       "      <td>3</td>\n",
       "    </tr>\n",
       "    <tr>\n",
       "      <th>4</th>\n",
       "      <td>4</td>\n",
       "      <td>2</td>\n",
       "      <td>0</td>\n",
       "      <td>7</td>\n",
       "    </tr>\n",
       "  </tbody>\n",
       "</table>\n",
       "</div>"
      ],
      "text/plain": [
       "   T  N  M  Stage\n",
       "0  2  2  0      7\n",
       "1  4  0  0      3\n",
       "2  5  3  0      8\n",
       "3  4  0  0      3\n",
       "4  4  2  0      7"
      ]
     },
     "execution_count": 32,
     "metadata": {},
     "output_type": "execute_result"
    }
   ],
   "source": [
    "df_train_tnm = df_train[[\"T\",\"N\",\"M\",\"Stage\"]]\n",
    "df_test_tnm = df_test[[\"T\",\"N\",\"M\",\"Stage\"]]\n",
    "df_train_tnm.head()"
   ]
  },
  {
   "cell_type": "code",
   "execution_count": 33,
   "id": "d1a58ab2",
   "metadata": {},
   "outputs": [],
   "source": [
    "# to standardize and get dependent variables \n",
    "cols_leave = ['T', 'N', 'M', 'Stage'] #categorical variables \n",
    "leave = [(col, None) for col in cols_leave]\n",
    "x_mapper = DataFrameMapper(leave)\n",
    "\n",
    "\n",
    "x_train = x_mapper.fit_transform(df_train_tnm).astype('float32')\n",
    "x_test = x_mapper.transform(df_test_tnm).astype('float32')\n",
    "\n",
    "\n",
    "train = (x_train, y_train)\n",
    "val = (x_test, y_test)"
   ]
  },
  {
   "cell_type": "code",
   "execution_count": 34,
   "id": "f2b4a68c",
   "metadata": {},
   "outputs": [
    {
     "name": "stdout",
     "output_type": "stream",
     "text": [
      "0:\t[0s / 0s],\t\ttrain_loss: 3.9729,\tval_loss: 3.9053\n",
      "1:\t[0s / 0s],\t\ttrain_loss: 3.6984,\tval_loss: 3.6640\n",
      "2:\t[0s / 0s],\t\ttrain_loss: 3.4103,\tval_loss: 3.3765\n",
      "3:\t[0s / 0s],\t\ttrain_loss: 3.2327,\tval_loss: 3.0771\n",
      "4:\t[0s / 0s],\t\ttrain_loss: 2.9236,\tval_loss: 2.8392\n",
      "5:\t[0s / 0s],\t\ttrain_loss: 2.7738,\tval_loss: 2.5134\n",
      "6:\t[0s / 0s],\t\ttrain_loss: 2.6237,\tval_loss: 2.2892\n",
      "7:\t[0s / 0s],\t\ttrain_loss: 2.3213,\tval_loss: 2.1044\n",
      "8:\t[0s / 0s],\t\ttrain_loss: 2.2319,\tval_loss: 1.8976\n",
      "9:\t[0s / 0s],\t\ttrain_loss: 2.0613,\tval_loss: 1.7307\n",
      "10:\t[0s / 0s],\t\ttrain_loss: 1.9353,\tval_loss: 1.5943\n",
      "11:\t[0s / 0s],\t\ttrain_loss: 1.8379,\tval_loss: 1.5080\n",
      "12:\t[0s / 0s],\t\ttrain_loss: 1.7094,\tval_loss: 1.4502\n",
      "13:\t[0s / 0s],\t\ttrain_loss: 1.7489,\tval_loss: 1.4060\n",
      "14:\t[0s / 0s],\t\ttrain_loss: 1.5830,\tval_loss: 1.3776\n",
      "15:\t[0s / 0s],\t\ttrain_loss: 1.6457,\tval_loss: 1.3596\n",
      "16:\t[0s / 0s],\t\ttrain_loss: 1.4989,\tval_loss: 1.3505\n",
      "17:\t[0s / 0s],\t\ttrain_loss: 1.5464,\tval_loss: 1.3415\n",
      "18:\t[0s / 0s],\t\ttrain_loss: 1.5228,\tval_loss: 1.3386\n",
      "19:\t[0s / 0s],\t\ttrain_loss: 1.5626,\tval_loss: 1.3352\n",
      "20:\t[0s / 0s],\t\ttrain_loss: 1.6973,\tval_loss: 1.3339\n",
      "21:\t[0s / 0s],\t\ttrain_loss: 1.5954,\tval_loss: 1.3345\n",
      "22:\t[0s / 0s],\t\ttrain_loss: 1.5694,\tval_loss: 1.3340\n",
      "23:\t[0s / 0s],\t\ttrain_loss: 1.5651,\tval_loss: 1.3338\n",
      "24:\t[0s / 0s],\t\ttrain_loss: 1.5460,\tval_loss: 1.3346\n",
      "25:\t[0s / 0s],\t\ttrain_loss: 1.5901,\tval_loss: 1.3354\n",
      "26:\t[0s / 0s],\t\ttrain_loss: 1.5481,\tval_loss: 1.3416\n",
      "27:\t[0s / 0s],\t\ttrain_loss: 1.5640,\tval_loss: 1.3451\n",
      "28:\t[0s / 0s],\t\ttrain_loss: 1.5711,\tval_loss: 1.3449\n",
      "29:\t[0s / 0s],\t\ttrain_loss: 1.4813,\tval_loss: 1.3453\n",
      "30:\t[0s / 0s],\t\ttrain_loss: 1.4562,\tval_loss: 1.3460\n",
      "31:\t[0s / 0s],\t\ttrain_loss: 1.4941,\tval_loss: 1.3473\n",
      "32:\t[0s / 0s],\t\ttrain_loss: 1.5565,\tval_loss: 1.3464\n",
      "33:\t[0s / 0s],\t\ttrain_loss: 1.5154,\tval_loss: 1.3477\n",
      "34:\t[0s / 0s],\t\ttrain_loss: 1.5356,\tval_loss: 1.3509\n",
      "35:\t[0s / 0s],\t\ttrain_loss: 1.5964,\tval_loss: 1.3546\n",
      "36:\t[0s / 0s],\t\ttrain_loss: 1.5416,\tval_loss: 1.3615\n",
      "37:\t[0s / 0s],\t\ttrain_loss: 1.4957,\tval_loss: 1.3654\n",
      "38:\t[0s / 0s],\t\ttrain_loss: 1.5311,\tval_loss: 1.3635\n",
      "39:\t[0s / 0s],\t\ttrain_loss: 1.5562,\tval_loss: 1.3598\n",
      "40:\t[0s / 0s],\t\ttrain_loss: 1.5060,\tval_loss: 1.3579\n",
      "41:\t[0s / 0s],\t\ttrain_loss: 1.5572,\tval_loss: 1.3595\n",
      "42:\t[0s / 0s],\t\ttrain_loss: 1.4849,\tval_loss: 1.3631\n",
      "43:\t[0s / 0s],\t\ttrain_loss: 1.4586,\tval_loss: 1.3635\n",
      "44:\t[0s / 0s],\t\ttrain_loss: 1.5924,\tval_loss: 1.3640\n",
      "45:\t[0s / 0s],\t\ttrain_loss: 1.5102,\tval_loss: 1.3605\n",
      "46:\t[0s / 0s],\t\ttrain_loss: 1.5286,\tval_loss: 1.3595\n",
      "47:\t[0s / 0s],\t\ttrain_loss: 1.5547,\tval_loss: 1.3593\n",
      "48:\t[0s / 0s],\t\ttrain_loss: 1.5697,\tval_loss: 1.3624\n",
      "49:\t[0s / 0s],\t\ttrain_loss: 1.5646,\tval_loss: 1.3641\n",
      "50:\t[0s / 0s],\t\ttrain_loss: 1.5360,\tval_loss: 1.3596\n",
      "51:\t[0s / 0s],\t\ttrain_loss: 1.5969,\tval_loss: 1.3567\n",
      "52:\t[0s / 0s],\t\ttrain_loss: 1.5675,\tval_loss: 1.3560\n",
      "53:\t[0s / 0s],\t\ttrain_loss: 1.5028,\tval_loss: 1.3584\n"
     ]
    }
   ],
   "source": [
    "in_features = x_train.shape[1]\n",
    "num_nodes = [16,4]\n",
    "out_features = labtrans.out_features\n",
    "batch_norm = True\n",
    "dropout = 0.3\n",
    "output_bias = False\n",
    "epochs = 100\n",
    "callbacks = [tt.callbacks.EarlyStopping(patience=30)]\n",
    "#callbacks = None\n",
    "verbose = True\n",
    "batch_size = 64\n",
    "\n",
    "net = tt.practical.MLPVanilla(in_features, num_nodes, out_features, batch_norm,\n",
    "                              dropout)\n",
    "\n",
    "model_cox = PCHazard(net, tt.optim.Adam(lr=0.01,amsgrad=True), duration_index=labtrans.cuts) #cox model on the neural network with Adam optimizer\n",
    "\n",
    "log_cox = model_cox.fit(x_train, y_train, batch_size, epochs, callbacks, val_data =val)\n"
   ]
  },
  {
   "cell_type": "code",
   "execution_count": 35,
   "id": "def535a2",
   "metadata": {},
   "outputs": [
    {
     "data": {
      "text/plain": [
       "0.6015905592611596"
      ]
     },
     "execution_count": 35,
     "metadata": {},
     "output_type": "execute_result"
    },
    {
     "data": {
      "text/plain": [
       "<Figure size 864x864 with 0 Axes>"
      ]
     },
     "metadata": {},
     "output_type": "display_data"
    },
    {
     "data": {
      "image/png": "[encoded data removed]",
      "text/plain": [
       "<Figure size 432x288 with 1 Axes>"
      ]
     },
     "metadata": {
      "needs_background": "light"
     },
     "output_type": "display_data"
    }
   ],
   "source": [
    "#plotting the loss vs epoch \n",
    "plt.figure(figsize=[12,12])\n",
    "log_cox.plot()\n",
    "plt.xlabel('Epoch', fontsize = 16)\n",
    "plt.ylabel('Loss', fontsize = 16)\n",
    "\n",
    "# predict for the cox model(external validation)\n",
    "surv_cox = model_cox.predict_surv_df(x_test) # survival of the test data\n",
    "# evaluate the c-index of the cox model \n",
    "eval_cox = EvalSurv(surv_cox, time_test, status_test, censor_surv= 'km')\n",
    "cox_index = eval_cox.concordance_td() \n",
    "cox_index  # cox_index  at all"
   ]
  },
  {
   "cell_type": "code",
   "execution_count": 36,
   "id": "7d657641",
   "metadata": {},
   "outputs": [
    {
     "data": {
      "text/plain": [
       "0.17540631950856447"
      ]
     },
     "execution_count": 36,
     "metadata": {},
     "output_type": "execute_result"
    },
    {
     "data": {
      "image/png": "[encoded data removed]",
      "text/plain": [
       "<Figure size 432x288 with 1 Axes>"
      ]
     },
     "metadata": {
      "needs_background": "light"
     },
     "output_type": "display_data"
    }
   ],
   "source": [
    "# integrated_brier_score at all\n",
    "time_grid = np.linspace(time_test.min(), time_test.max(), 100)\n",
    "_ = eval_cox.brier_score(time_grid).plot()\n",
    "eval_cox.integrated_brier_score(time_grid)"
   ]
  },
  {
   "cell_type": "code",
   "execution_count": 37,
   "id": "2e4a8881",
   "metadata": {},
   "outputs": [
    {
     "data": {
      "text/plain": [
       "0.6286956075796816"
      ]
     },
     "execution_count": 37,
     "metadata": {},
     "output_type": "execute_result"
    }
   ],
   "source": [
    "# c-index at  all\n",
    "time_test0, status_test0 = get_target(df_train)\n",
    "surv_cox0 = model_cox.predict_surv_df(x_train) # survival of the test data\n",
    "eval_cox0 = EvalSurv(surv_cox0, time_test0, status_test0, censor_surv= 'km')\n",
    "cox_index0 = eval_cox0.concordance_td() \n",
    "cox_index0 "
   ]
  },
  {
   "cell_type": "code",
   "execution_count": 38,
   "id": "b6b4ac21",
   "metadata": {},
   "outputs": [
    {
     "data": {
      "text/plain": [
       "0.18735802038779115"
      ]
     },
     "execution_count": 38,
     "metadata": {},
     "output_type": "execute_result"
    },
    {
     "data": {
      "image/png": "[encoded data removed]",
      "text/plain": [
       "<Figure size 432x288 with 1 Axes>"
      ]
     },
     "metadata": {
      "needs_background": "light"
     },
     "output_type": "display_data"
    }
   ],
   "source": [
    "# brier score at all\n",
    "time_grid0 = np.linspace(time_test0.min(), time_test0.max(), 100)\n",
    "_ = eval_cox0.brier_score(time_grid0).plot()\n",
    "eval_cox0.integrated_brier_score(time_grid0)"
   ]
  },
  {
   "cell_type": "code",
   "execution_count": 39,
   "id": "5b161f1f",
   "metadata": {},
   "outputs": [
    {
     "name": "stdout",
     "output_type": "stream",
     "text": [
      "Bootstrap Internal validation:\n",
      "The C-index:0.549424437762352\n",
      "The C-index Low 95% CI:0.5488594951165648\n",
      "The C-index High 95% CI:0.549989380408139\n"
     ]
    }
   ],
   "source": [
    "# Internal\n",
    "# ATTENTION :x_train, y_train is numpy.ndarray\n",
    "in_tem = []\n",
    "for i in range(1000):\n",
    "    idx = np.random.choice(len(x_train),size = 100,replace = True)\n",
    "    x_tem = x_train[idx,]\n",
    "    surv_cox_tem = model_cox.predict_surv_df(x_tem) # survival of the test data\n",
    "    eval_cox_tem = EvalSurv(surv_cox_tem, y_train[0][idx], y_train[1][idx], censor_surv= 'km')\n",
    "    c_tem = eval_cox_tem.concordance_td() \n",
    "    in_tem.append(c_tem)\n",
    "\n",
    "in_mean = np.mean(in_tem)\n",
    "in_se = np.std(in_tem) / np.power(1000,0.5)\n",
    "print(\"Bootstrap Internal validation:\")\n",
    "print(\"The C-index:{}\".format(in_mean))\n",
    "print(\"The C-index Low 95% CI:{}\".format(in_mean - 1.96 * in_se))\n",
    "print(\"The C-index High 95% CI:{}\".format(in_mean + 1.96 * in_se))"
   ]
  },
  {
   "cell_type": "code",
   "execution_count": 40,
   "id": "ad2883c9",
   "metadata": {},
   "outputs": [
    {
     "name": "stdout",
     "output_type": "stream",
     "text": [
      "Bootstrap External validation:\n",
      "The C-index:0.5358368737389284\n",
      "The C-index Low 95% CI:0.5353664907138002\n",
      "The C-index High 95% CI:0.5363072567640567\n"
     ]
    }
   ],
   "source": [
    "# External\n",
    "ex_tem = []\n",
    "for i in range(1000):\n",
    "    idx = np.random.choice(len(x_test),size = 100,replace = True)\n",
    "    x_tem = x_test[idx,]\n",
    "    surv_cox_tem = model_cox.predict_surv_df(x_tem) # survival of the test data\n",
    "    eval_cox_tem = EvalSurv(surv_cox_tem, y_test[0][idx], y_test[1][idx], censor_surv= 'km')\n",
    "    c_tem = eval_cox_tem.concordance_td() \n",
    "    ex_tem.append(c_tem)\n",
    "\n",
    "ex_mean = np.mean(ex_tem)\n",
    "ex_se = np.std(ex_tem) / np.power(1000,0.5)\n",
    "print(\"Bootstrap External validation:\")\n",
    "print(\"The C-index:{}\".format(ex_mean))\n",
    "print(\"The C-index Low 95% CI:{}\".format(ex_mean - 1.96 * ex_se))\n",
    "print(\"The C-index High 95% CI:{}\".format(ex_mean + 1.96 * ex_se))"
   ]
  },
  {
   "cell_type": "code",
   "execution_count": null,
   "id": "a4d4f30d",
   "metadata": {},
   "outputs": [],
   "source": []
  }
 ],
 "metadata": {
  "kernelspec": {
   "display_name": "Python 3 (ipykernel)",
   "language": "python",
   "name": "python3"
  },
  "language_info": {
   "codemirror_mode": {
    "name": "ipython",
    "version": 3
   },
   "file_extension": ".py",
   "mimetype": "text/x-python",
   "name": "python",
   "nbconvert_exporter": "python",
   "pygments_lexer": "ipython3",
   "version": "3.9.7"
  }
 },
 "nbformat": 4,
 "nbformat_minor": 5
}
