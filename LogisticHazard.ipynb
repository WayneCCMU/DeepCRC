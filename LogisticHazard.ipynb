{
 "cells": [
  {
   "cell_type": "code",
   "execution_count": 1,
   "id": "b130d6d0",
   "metadata": {},
   "outputs": [],
   "source": [
    "import pandas as pd\n",
    "import numpy as np\n",
    "\n",
    "from sklearn.preprocessing import StandardScaler, LabelEncoder\n",
    "from sklearn_pandas import DataFrameMapper\n",
    "from sklearn.model_selection import train_test_split\n",
    "\n",
    "import matplotlib.pyplot as plt\n",
    "from pycox.models import LogisticHazard\n",
    "\n",
    "from pycox.evaluation import EvalSurv\n",
    "from pycox.simulations import SimStudyLinearPH\n",
    "\n",
    "import torch\n",
    "import torchtuples as tt"
   ]
  },
  {
   "cell_type": "markdown",
   "id": "80d2f927",
   "metadata": {},
   "source": [
    "# Read data"
   ]
  },
  {
   "cell_type": "code",
   "execution_count": 2,
   "id": "580f22d7",
   "metadata": {},
   "outputs": [],
   "source": [
    "df_train = pd.read_csv('train.csv')\n",
    "df_train = pd.DataFrame(df_train)\n",
    "\n",
    "df_test = pd.read_csv('test.csv')\n",
    "df_test = pd.DataFrame(df_test)"
   ]
  },
  {
   "cell_type": "code",
   "execution_count": 3,
   "id": "c765d269",
   "metadata": {},
   "outputs": [
    {
     "data": {
      "text/html": [
       "<div>\n",
       "<style scoped>\n",
       "    .dataframe tbody tr th:only-of-type {\n",
       "        vertical-align: middle;\n",
       "    }\n",
       "\n",
       "    .dataframe tbody tr th {\n",
       "        vertical-align: top;\n",
       "    }\n",
       "\n",
       "    .dataframe thead th {\n",
       "        text-align: right;\n",
       "    }\n",
       "</style>\n",
       "<table border=\"1\" class=\"dataframe\">\n",
       "  <thead>\n",
       "    <tr style=\"text-align: right;\">\n",
       "      <th></th>\n",
       "      <th>Sex</th>\n",
       "      <th>Age</th>\n",
       "      <th>Size</th>\n",
       "      <th>Site</th>\n",
       "      <th>Grade</th>\n",
       "      <th>Lymph.nodes.examined</th>\n",
       "      <th>Lymph.nodes.positive</th>\n",
       "      <th>T</th>\n",
       "      <th>N</th>\n",
       "      <th>M</th>\n",
       "      <th>Stage</th>\n",
       "      <th>duration</th>\n",
       "      <th>event</th>\n",
       "    </tr>\n",
       "  </thead>\n",
       "  <tbody>\n",
       "    <tr>\n",
       "      <th>0</th>\n",
       "      <td>Male</td>\n",
       "      <td>41</td>\n",
       "      <td>65</td>\n",
       "      <td>Ileocecal Junction</td>\n",
       "      <td>II</td>\n",
       "      <td>29</td>\n",
       "      <td>1</td>\n",
       "      <td>T3</td>\n",
       "      <td>N1a</td>\n",
       "      <td>M0</td>\n",
       "      <td>IIIB</td>\n",
       "      <td>110</td>\n",
       "      <td>0</td>\n",
       "    </tr>\n",
       "    <tr>\n",
       "      <th>1</th>\n",
       "      <td>Male</td>\n",
       "      <td>54</td>\n",
       "      <td>95</td>\n",
       "      <td>Ascending Colon</td>\n",
       "      <td>II</td>\n",
       "      <td>37</td>\n",
       "      <td>0</td>\n",
       "      <td>T4a</td>\n",
       "      <td>N0</td>\n",
       "      <td>M0</td>\n",
       "      <td>IIB</td>\n",
       "      <td>107</td>\n",
       "      <td>0</td>\n",
       "    </tr>\n",
       "    <tr>\n",
       "      <th>2</th>\n",
       "      <td>Female</td>\n",
       "      <td>78</td>\n",
       "      <td>65</td>\n",
       "      <td>Sigmoid Colon</td>\n",
       "      <td>II</td>\n",
       "      <td>20</td>\n",
       "      <td>2</td>\n",
       "      <td>T4b</td>\n",
       "      <td>N1b</td>\n",
       "      <td>M0</td>\n",
       "      <td>IIIC</td>\n",
       "      <td>106</td>\n",
       "      <td>0</td>\n",
       "    </tr>\n",
       "    <tr>\n",
       "      <th>3</th>\n",
       "      <td>Female</td>\n",
       "      <td>33</td>\n",
       "      <td>150</td>\n",
       "      <td>Large Intestine, NOS</td>\n",
       "      <td>II</td>\n",
       "      <td>9</td>\n",
       "      <td>0</td>\n",
       "      <td>T4a</td>\n",
       "      <td>N0</td>\n",
       "      <td>M0</td>\n",
       "      <td>IIB</td>\n",
       "      <td>105</td>\n",
       "      <td>0</td>\n",
       "    </tr>\n",
       "    <tr>\n",
       "      <th>4</th>\n",
       "      <td>Male</td>\n",
       "      <td>58</td>\n",
       "      <td>100</td>\n",
       "      <td>Descending Colon</td>\n",
       "      <td>III</td>\n",
       "      <td>6</td>\n",
       "      <td>1</td>\n",
       "      <td>T4a</td>\n",
       "      <td>N1a</td>\n",
       "      <td>M0</td>\n",
       "      <td>IIIB</td>\n",
       "      <td>102</td>\n",
       "      <td>0</td>\n",
       "    </tr>\n",
       "  </tbody>\n",
       "</table>\n",
       "</div>"
      ],
      "text/plain": [
       "      Sex  Age  Size                  Site Grade  Lymph.nodes.examined  \\\n",
       "0    Male   41    65    Ileocecal Junction    II                    29   \n",
       "1    Male   54    95       Ascending Colon    II                    37   \n",
       "2  Female   78    65         Sigmoid Colon    II                    20   \n",
       "3  Female   33   150  Large Intestine, NOS    II                     9   \n",
       "4    Male   58   100      Descending Colon   III                     6   \n",
       "\n",
       "   Lymph.nodes.positive    T    N   M Stage  duration  event  \n",
       "0                     1   T3  N1a  M0  IIIB       110      0  \n",
       "1                     0  T4a   N0  M0   IIB       107      0  \n",
       "2                     2  T4b  N1b  M0  IIIC       106      0  \n",
       "3                     0  T4a   N0  M0   IIB       105      0  \n",
       "4                     1  T4a  N1a  M0  IIIB       102      0  "
      ]
     },
     "execution_count": 3,
     "metadata": {},
     "output_type": "execute_result"
    }
   ],
   "source": [
    "df_train.head()"
   ]
  },
  {
   "cell_type": "code",
   "execution_count": 4,
   "id": "02ade6b9",
   "metadata": {},
   "outputs": [
    {
     "data": {
      "text/html": [
       "<div>\n",
       "<style scoped>\n",
       "    .dataframe tbody tr th:only-of-type {\n",
       "        vertical-align: middle;\n",
       "    }\n",
       "\n",
       "    .dataframe tbody tr th {\n",
       "        vertical-align: top;\n",
       "    }\n",
       "\n",
       "    .dataframe thead th {\n",
       "        text-align: right;\n",
       "    }\n",
       "</style>\n",
       "<table border=\"1\" class=\"dataframe\">\n",
       "  <thead>\n",
       "    <tr style=\"text-align: right;\">\n",
       "      <th></th>\n",
       "      <th>Sex</th>\n",
       "      <th>Age</th>\n",
       "      <th>Size</th>\n",
       "      <th>Site</th>\n",
       "      <th>Grade</th>\n",
       "      <th>Lymph.nodes.examined</th>\n",
       "      <th>Lymph.nodes.positive</th>\n",
       "      <th>T</th>\n",
       "      <th>N</th>\n",
       "      <th>M</th>\n",
       "      <th>Stage</th>\n",
       "      <th>duration</th>\n",
       "      <th>event</th>\n",
       "    </tr>\n",
       "  </thead>\n",
       "  <tbody>\n",
       "    <tr>\n",
       "      <th>0</th>\n",
       "      <td>1</td>\n",
       "      <td>41</td>\n",
       "      <td>65</td>\n",
       "      <td>3</td>\n",
       "      <td>1</td>\n",
       "      <td>29</td>\n",
       "      <td>1</td>\n",
       "      <td>2</td>\n",
       "      <td>2</td>\n",
       "      <td>0</td>\n",
       "      <td>7</td>\n",
       "      <td>110</td>\n",
       "      <td>0</td>\n",
       "    </tr>\n",
       "    <tr>\n",
       "      <th>1</th>\n",
       "      <td>1</td>\n",
       "      <td>54</td>\n",
       "      <td>95</td>\n",
       "      <td>0</td>\n",
       "      <td>1</td>\n",
       "      <td>37</td>\n",
       "      <td>0</td>\n",
       "      <td>4</td>\n",
       "      <td>0</td>\n",
       "      <td>0</td>\n",
       "      <td>3</td>\n",
       "      <td>107</td>\n",
       "      <td>0</td>\n",
       "    </tr>\n",
       "    <tr>\n",
       "      <th>2</th>\n",
       "      <td>0</td>\n",
       "      <td>78</td>\n",
       "      <td>65</td>\n",
       "      <td>7</td>\n",
       "      <td>1</td>\n",
       "      <td>20</td>\n",
       "      <td>2</td>\n",
       "      <td>5</td>\n",
       "      <td>3</td>\n",
       "      <td>0</td>\n",
       "      <td>8</td>\n",
       "      <td>106</td>\n",
       "      <td>0</td>\n",
       "    </tr>\n",
       "    <tr>\n",
       "      <th>3</th>\n",
       "      <td>0</td>\n",
       "      <td>33</td>\n",
       "      <td>150</td>\n",
       "      <td>4</td>\n",
       "      <td>1</td>\n",
       "      <td>9</td>\n",
       "      <td>0</td>\n",
       "      <td>4</td>\n",
       "      <td>0</td>\n",
       "      <td>0</td>\n",
       "      <td>3</td>\n",
       "      <td>105</td>\n",
       "      <td>0</td>\n",
       "    </tr>\n",
       "    <tr>\n",
       "      <th>4</th>\n",
       "      <td>1</td>\n",
       "      <td>58</td>\n",
       "      <td>100</td>\n",
       "      <td>1</td>\n",
       "      <td>2</td>\n",
       "      <td>6</td>\n",
       "      <td>1</td>\n",
       "      <td>4</td>\n",
       "      <td>2</td>\n",
       "      <td>0</td>\n",
       "      <td>7</td>\n",
       "      <td>102</td>\n",
       "      <td>0</td>\n",
       "    </tr>\n",
       "  </tbody>\n",
       "</table>\n",
       "</div>"
      ],
      "text/plain": [
       "   Sex  Age  Size  Site  Grade  Lymph.nodes.examined  Lymph.nodes.positive  T  \\\n",
       "0    1   41    65     3      1                    29                     1  2   \n",
       "1    1   54    95     0      1                    37                     0  4   \n",
       "2    0   78    65     7      1                    20                     2  5   \n",
       "3    0   33   150     4      1                     9                     0  4   \n",
       "4    1   58   100     1      2                     6                     1  4   \n",
       "\n",
       "   N  M  Stage  duration  event  \n",
       "0  2  0      7       110      0  \n",
       "1  0  0      3       107      0  \n",
       "2  3  0      8       106      0  \n",
       "3  0  0      3       105      0  \n",
       "4  2  0      7       102      0  "
      ]
     },
     "execution_count": 4,
     "metadata": {},
     "output_type": "execute_result"
    }
   ],
   "source": [
    "# to label encoding categorical variables\n",
    "le = LabelEncoder() #label encoder\n",
    "cat_list = ['Sex','Site', 'Grade', 'T', 'N', 'M', 'Stage'] #list of categorical variables\n",
    "for cat in cat_list:\n",
    "    df_train[cat] = le.fit_transform(df_train[cat])\n",
    "    df_test[cat] = le.fit_transform(df_test[cat])\n",
    "\n",
    "df_train.head()"
   ]
  },
  {
   "cell_type": "code",
   "execution_count": 5,
   "id": "b0a5e001",
   "metadata": {},
   "outputs": [],
   "source": [
    "# function to get targets variable\n",
    "get_target = lambda df: (df['duration'].values, df['event'].values)\n",
    "\n",
    "# to standardize and get dependent variables \n",
    "cols_standardize = ['Age', 'Size', 'Lymph.nodes.examined', 'Lymph.nodes.positive'] # list of variables for standardization\n",
    "cols_leave = ['Sex','Site', 'Grade', 'T', 'N', 'M', 'Stage'] #categorical variables \n",
    "\n",
    "standardize = [([col], StandardScaler()) for col in cols_standardize]\n",
    "leave = [(col, None) for col in cols_leave]\n",
    "\n",
    "x_mapper = DataFrameMapper(standardize + leave)"
   ]
  },
  {
   "cell_type": "code",
   "execution_count": 6,
   "id": "0151ef19",
   "metadata": {},
   "outputs": [],
   "source": [
    "x_train = x_mapper.fit_transform(df_train).astype('float32')\n",
    "x_test = x_mapper.transform(df_test).astype('float32')\n",
    "\n",
    "num_durations = 10\n",
    "\n",
    "labtrans = LogisticHazard.label_transform(num_durations)\n",
    "\n",
    "y_train = labtrans.fit_transform(*get_target(df_train))\n",
    "y_test = labtrans.transform(*get_target(df_test))\n",
    "\n",
    "train = (x_train, y_train)\n",
    "val = (x_test, y_test)\n",
    "\n",
    "# We don't need to transform the test labels\n",
    "durations_test, events_test = get_target(df_test)"
   ]
  },
  {
   "cell_type": "markdown",
   "id": "38440b7c",
   "metadata": {},
   "source": [
    "# Neural Network"
   ]
  },
  {
   "cell_type": "code",
   "execution_count": 7,
   "id": "659f4b1f",
   "metadata": {
    "scrolled": true
   },
   "outputs": [
    {
     "name": "stdout",
     "output_type": "stream",
     "text": [
      "0:\t[0s / 0s],\t\ttrain_loss: 4.4077,\tval_loss: 3.9356\n",
      "1:\t[0s / 0s],\t\ttrain_loss: 3.9672,\tval_loss: 3.7713\n",
      "2:\t[0s / 0s],\t\ttrain_loss: 3.7077,\tval_loss: 3.3992\n",
      "3:\t[0s / 0s],\t\ttrain_loss: 3.3502,\tval_loss: 3.0286\n",
      "4:\t[0s / 0s],\t\ttrain_loss: 3.1223,\tval_loss: 2.6010\n",
      "5:\t[0s / 0s],\t\ttrain_loss: 2.8804,\tval_loss: 2.2497\n",
      "6:\t[0s / 0s],\t\ttrain_loss: 2.5986,\tval_loss: 1.9415\n",
      "7:\t[0s / 0s],\t\ttrain_loss: 2.1887,\tval_loss: 1.6506\n",
      "8:\t[0s / 0s],\t\ttrain_loss: 1.8438,\tval_loss: 1.4767\n",
      "9:\t[0s / 0s],\t\ttrain_loss: 1.8241,\tval_loss: 1.3597\n",
      "10:\t[0s / 0s],\t\ttrain_loss: 1.5679,\tval_loss: 1.2938\n",
      "11:\t[0s / 0s],\t\ttrain_loss: 1.5947,\tval_loss: 1.2644\n",
      "12:\t[0s / 0s],\t\ttrain_loss: 1.4760,\tval_loss: 1.2490\n",
      "13:\t[0s / 0s],\t\ttrain_loss: 1.5235,\tval_loss: 1.2370\n",
      "14:\t[0s / 0s],\t\ttrain_loss: 1.5520,\tval_loss: 1.2299\n",
      "15:\t[0s / 0s],\t\ttrain_loss: 1.5322,\tval_loss: 1.2214\n",
      "16:\t[0s / 0s],\t\ttrain_loss: 1.5616,\tval_loss: 1.2138\n",
      "17:\t[0s / 0s],\t\ttrain_loss: 1.5417,\tval_loss: 1.2126\n",
      "18:\t[0s / 0s],\t\ttrain_loss: 1.4965,\tval_loss: 1.2137\n",
      "19:\t[0s / 0s],\t\ttrain_loss: 1.5212,\tval_loss: 1.2152\n",
      "20:\t[0s / 0s],\t\ttrain_loss: 1.4219,\tval_loss: 1.2148\n",
      "21:\t[0s / 0s],\t\ttrain_loss: 1.4634,\tval_loss: 1.2135\n",
      "22:\t[0s / 0s],\t\ttrain_loss: 1.4672,\tval_loss: 1.2109\n",
      "23:\t[0s / 0s],\t\ttrain_loss: 1.4535,\tval_loss: 1.2105\n",
      "24:\t[0s / 0s],\t\ttrain_loss: 1.5017,\tval_loss: 1.2135\n",
      "25:\t[0s / 0s],\t\ttrain_loss: 1.4985,\tval_loss: 1.2137\n",
      "26:\t[0s / 0s],\t\ttrain_loss: 1.4282,\tval_loss: 1.2152\n",
      "27:\t[0s / 0s],\t\ttrain_loss: 1.4401,\tval_loss: 1.2175\n",
      "28:\t[0s / 0s],\t\ttrain_loss: 1.4328,\tval_loss: 1.2192\n",
      "29:\t[0s / 0s],\t\ttrain_loss: 1.4520,\tval_loss: 1.2242\n",
      "30:\t[0s / 0s],\t\ttrain_loss: 1.4020,\tval_loss: 1.2224\n",
      "31:\t[0s / 0s],\t\ttrain_loss: 1.4264,\tval_loss: 1.2257\n",
      "32:\t[0s / 0s],\t\ttrain_loss: 1.4265,\tval_loss: 1.2323\n",
      "33:\t[0s / 0s],\t\ttrain_loss: 1.5578,\tval_loss: 1.2285\n",
      "34:\t[0s / 0s],\t\ttrain_loss: 1.3990,\tval_loss: 1.2259\n",
      "35:\t[0s / 0s],\t\ttrain_loss: 1.4810,\tval_loss: 1.2283\n",
      "36:\t[0s / 0s],\t\ttrain_loss: 1.5258,\tval_loss: 1.2267\n",
      "37:\t[0s / 0s],\t\ttrain_loss: 1.3687,\tval_loss: 1.2238\n",
      "38:\t[0s / 0s],\t\ttrain_loss: 1.4088,\tval_loss: 1.2252\n",
      "39:\t[0s / 0s],\t\ttrain_loss: 1.4120,\tval_loss: 1.2223\n",
      "40:\t[0s / 0s],\t\ttrain_loss: 1.4348,\tval_loss: 1.2293\n",
      "41:\t[0s / 0s],\t\ttrain_loss: 1.4343,\tval_loss: 1.2224\n",
      "42:\t[0s / 0s],\t\ttrain_loss: 1.3837,\tval_loss: 1.2254\n",
      "43:\t[0s / 0s],\t\ttrain_loss: 1.3249,\tval_loss: 1.2282\n",
      "44:\t[0s / 0s],\t\ttrain_loss: 1.3601,\tval_loss: 1.2242\n",
      "45:\t[0s / 0s],\t\ttrain_loss: 1.4157,\tval_loss: 1.2257\n",
      "46:\t[0s / 0s],\t\ttrain_loss: 1.5582,\tval_loss: 1.2333\n",
      "47:\t[0s / 0s],\t\ttrain_loss: 1.4517,\tval_loss: 1.2316\n",
      "48:\t[0s / 0s],\t\ttrain_loss: 1.4465,\tval_loss: 1.2318\n",
      "49:\t[0s / 0s],\t\ttrain_loss: 1.3584,\tval_loss: 1.2393\n",
      "50:\t[0s / 0s],\t\ttrain_loss: 1.3915,\tval_loss: 1.2486\n",
      "51:\t[0s / 0s],\t\ttrain_loss: 1.3679,\tval_loss: 1.2562\n",
      "52:\t[0s / 0s],\t\ttrain_loss: 1.4117,\tval_loss: 1.2563\n",
      "53:\t[0s / 0s],\t\ttrain_loss: 1.3982,\tval_loss: 1.2511\n"
     ]
    }
   ],
   "source": [
    "in_features = x_train.shape[1]\n",
    "num_nodes = [16,8]\n",
    "# out_features = 1\n",
    "out_features = labtrans.out_features\n",
    "batch_norm = True\n",
    "dropout = 0.4\n",
    "output_bias = False\n",
    "epochs = 100\n",
    "callbacks = [tt.callbacks.EarlyStopping(patience=30)]\n",
    "#callbacks = None\n",
    "verbose = True\n",
    "batch_size = 64\n",
    "\n",
    "net = tt.practical.MLPVanilla(in_features, num_nodes, out_features, batch_norm, dropout)\n",
    "\n",
    "model_cox = LogisticHazard(net, tt.optim.Adam(lr=0.01,amsgrad=True), duration_index=labtrans.cuts) #cox model on the neural network with Adam optimizer\n",
    "\n",
    "log_cox = model_cox.fit(x_train, y_train, batch_size, epochs, callbacks,val_data =val)\n"
   ]
  },
  {
   "cell_type": "code",
   "execution_count": 8,
   "id": "4d668cdd",
   "metadata": {},
   "outputs": [
    {
     "data": {
      "text/plain": [
       "0.6993329912775782"
      ]
     },
     "execution_count": 8,
     "metadata": {},
     "output_type": "execute_result"
    },
    {
     "data": {
      "text/plain": [
       "<Figure size 864x864 with 0 Axes>"
      ]
     },
     "metadata": {},
     "output_type": "display_data"
    },
    {
     "data": {
      "image/png": "[encoded data removed]",
      "text/plain": [
       "<Figure size 432x288 with 1 Axes>"
      ]
     },
     "metadata": {
      "needs_background": "light"
     },
     "output_type": "display_data"
    }
   ],
   "source": [
    "#plotting the loss vs epoch \n",
    "plt.figure(figsize=[12,12])\n",
    "log_cox.plot()\n",
    "plt.xlabel('Epoch', fontsize = 16)\n",
    "plt.ylabel('Loss', fontsize = 16)\n",
    "\n",
    "# predict for the cox model(external validation)\n",
    "#model_cox.compute_baseline_hazards() #baseline hazard\n",
    "surv_cox = model_cox.interpolate(10).predict_surv_df(x_test) # survival of the test data\n",
    "# evaluate the c-index of the cox model \n",
    "eval_cox = EvalSurv(surv_cox, durations_test, events_test, censor_surv= 'km')\n",
    "cox_index = eval_cox.concordance_td() \n",
    "cox_index  # cox_index  at all"
   ]
  },
  {
   "cell_type": "code",
   "execution_count": 11,
   "id": "87868c79",
   "metadata": {},
   "outputs": [
    {
     "data": {
      "text/plain": [
       "0.16563044844458497"
      ]
     },
     "execution_count": 11,
     "metadata": {},
     "output_type": "execute_result"
    },
    {
     "data": {
      "image/png": "[encoded data removed]",
      "text/plain": [
       "<Figure size 432x288 with 1 Axes>"
      ]
     },
     "metadata": {
      "needs_background": "light"
     },
     "output_type": "display_data"
    }
   ],
   "source": [
    "# integrated_brier_score at all\n",
    "time_grid = np.linspace(durations_test.min(), durations_test.max(), 100)\n",
    "_ = eval_cox.brier_score(time_grid).plot()\n",
    "eval_cox.integrated_brier_score(time_grid)"
   ]
  },
  {
   "cell_type": "markdown",
   "id": "45139087",
   "metadata": {},
   "source": [
    "# Internal validation"
   ]
  },
  {
   "cell_type": "code",
   "execution_count": 10,
   "id": "ba754c3c",
   "metadata": {},
   "outputs": [
    {
     "data": {
      "text/plain": [
       "0.7301367243522325"
      ]
     },
     "execution_count": 10,
     "metadata": {},
     "output_type": "execute_result"
    }
   ],
   "source": [
    "# c-index at  all\n",
    "durations_test0, events_test0 = y_train \n",
    "surv_cox0 = model_cox.predict_surv_df(x_train) # survival of the test data\n",
    "eval_cox0 = EvalSurv(surv_cox0,durations_test0, events_test0, censor_surv= 'km')\n",
    "cox_index0 = eval_cox0.concordance_td() \n",
    "cox_index0 "
   ]
  },
  {
   "cell_type": "code",
   "execution_count": 12,
   "id": "720134a7",
   "metadata": {},
   "outputs": [
    {
     "data": {
      "text/plain": [
       "0.36753669417234747"
      ]
     },
     "execution_count": 12,
     "metadata": {},
     "output_type": "execute_result"
    },
    {
     "data": {
      "image/png": "[encoded data removed]",
      "text/plain": [
       "<Figure size 432x288 with 1 Axes>"
      ]
     },
     "metadata": {
      "needs_background": "light"
     },
     "output_type": "display_data"
    }
   ],
   "source": [
    "# brier score at all\n",
    "time_grid0 = np.linspace(durations_test0.min(), durations_test0.max(), 100)\n",
    "_ = eval_cox0.brier_score(time_grid0).plot()\n",
    "eval_cox0.integrated_brier_score(time_grid0)"
   ]
  },
  {
   "cell_type": "markdown",
   "id": "79c7965d",
   "metadata": {},
   "source": [
    "# Save"
   ]
  },
  {
   "cell_type": "code",
   "execution_count": 35,
   "id": "c186041f",
   "metadata": {},
   "outputs": [],
   "source": [
    "model_cox.save_model_weights('myweights_LogisticHazard.pt')"
   ]
  },
  {
   "cell_type": "markdown",
   "id": "da97ec8c",
   "metadata": {},
   "source": [
    "# Bootstrap"
   ]
  },
  {
   "cell_type": "code",
   "execution_count": 14,
   "id": "7034ce3b",
   "metadata": {},
   "outputs": [
    {
     "name": "stdout",
     "output_type": "stream",
     "text": [
      "Bootstrap Internal validation:\n",
      "The C-index:0.7320334155720881\n",
      "The C-index Low 95% CI:0.7300882787409693\n",
      "The C-index High 95% CI:0.733978552403207\n"
     ]
    }
   ],
   "source": [
    "# Internal\n",
    "# ATTENTION :x_train, y_train is numpy.ndarray\n",
    "in_tem = []\n",
    "for i in range(1000):\n",
    "    idx = np.random.choice(len(x_train),size = 100,replace = True)\n",
    "    x_tem = x_train[idx,]\n",
    "    surv_cox_tem = model_cox.predict_surv_df(x_tem) # survival of the test data\n",
    "    eval_cox_tem = EvalSurv(surv_cox_tem, y_train[0][idx], y_train[1][idx], censor_surv= 'km')\n",
    "    c_tem = eval_cox_tem.concordance_td() \n",
    "    in_tem.append(c_tem)\n",
    "\n",
    "in_mean = np.mean(in_tem)\n",
    "in_se = np.std(in_tem) / np.power(1000,0.5)\n",
    "print(\"Bootstrap Internal validation:\")\n",
    "print(\"The C-index:{}\".format(in_mean))\n",
    "print(\"The C-index Low 95% CI:{}\".format(in_mean - 1.96 * in_se))\n",
    "print(\"The C-index High 95% CI:{}\".format(in_mean + 1.96 * in_se))"
   ]
  },
  {
   "cell_type": "code",
   "execution_count": 15,
   "id": "44f1c64d",
   "metadata": {},
   "outputs": [
    {
     "name": "stdout",
     "output_type": "stream",
     "text": [
      "Bootstrap External validation:\n",
      "The C-index:0.705538749470446\n",
      "The C-index Low 95% CI:0.7030387975367766\n",
      "The C-index High 95% CI:0.7080387014041155\n"
     ]
    }
   ],
   "source": [
    "# External\n",
    "ex_tem = []\n",
    "for i in range(1000):\n",
    "    idx = np.random.choice(len(x_test),size = 100,replace = True)\n",
    "    x_tem = x_test[idx,]\n",
    "    surv_cox_tem = model_cox.predict_surv_df(x_tem) # survival of the test data\n",
    "    eval_cox_tem = EvalSurv(surv_cox_tem, y_test[0][idx], y_test[1][idx], censor_surv= 'km')\n",
    "    c_tem = eval_cox_tem.concordance_td() \n",
    "    ex_tem.append(c_tem)\n",
    "\n",
    "ex_mean = np.mean(ex_tem)\n",
    "ex_se = np.std(ex_tem) / np.power(1000,0.5)\n",
    "print(\"Bootstrap External validation:\")\n",
    "print(\"The C-index:{}\".format(ex_mean))\n",
    "print(\"The C-index Low 95% CI:{}\".format(ex_mean - 1.96 * ex_se))\n",
    "print(\"The C-index High 95% CI:{}\".format(ex_mean + 1.96 * ex_se))"
   ]
  },
  {
   "cell_type": "markdown",
   "id": "0e0889cf",
   "metadata": {},
   "source": [
    "# LASSO var"
   ]
  },
  {
   "cell_type": "code",
   "execution_count": 16,
   "id": "93f2792f",
   "metadata": {},
   "outputs": [
    {
     "data": {
      "text/html": [
       "<div>\n",
       "<style scoped>\n",
       "    .dataframe tbody tr th:only-of-type {\n",
       "        vertical-align: middle;\n",
       "    }\n",
       "\n",
       "    .dataframe tbody tr th {\n",
       "        vertical-align: top;\n",
       "    }\n",
       "\n",
       "    .dataframe thead th {\n",
       "        text-align: right;\n",
       "    }\n",
       "</style>\n",
       "<table border=\"1\" class=\"dataframe\">\n",
       "  <thead>\n",
       "    <tr style=\"text-align: right;\">\n",
       "      <th></th>\n",
       "      <th>Age</th>\n",
       "      <th>Size</th>\n",
       "      <th>Site</th>\n",
       "      <th>Grade</th>\n",
       "      <th>Lymph.nodes.examined</th>\n",
       "      <th>Lymph.nodes.positive</th>\n",
       "      <th>T</th>\n",
       "      <th>N</th>\n",
       "      <th>M</th>\n",
       "      <th>Stage</th>\n",
       "    </tr>\n",
       "  </thead>\n",
       "  <tbody>\n",
       "    <tr>\n",
       "      <th>0</th>\n",
       "      <td>41</td>\n",
       "      <td>65</td>\n",
       "      <td>3</td>\n",
       "      <td>1</td>\n",
       "      <td>29</td>\n",
       "      <td>1</td>\n",
       "      <td>2</td>\n",
       "      <td>2</td>\n",
       "      <td>0</td>\n",
       "      <td>7</td>\n",
       "    </tr>\n",
       "    <tr>\n",
       "      <th>1</th>\n",
       "      <td>54</td>\n",
       "      <td>95</td>\n",
       "      <td>0</td>\n",
       "      <td>1</td>\n",
       "      <td>37</td>\n",
       "      <td>0</td>\n",
       "      <td>4</td>\n",
       "      <td>0</td>\n",
       "      <td>0</td>\n",
       "      <td>3</td>\n",
       "    </tr>\n",
       "    <tr>\n",
       "      <th>2</th>\n",
       "      <td>78</td>\n",
       "      <td>65</td>\n",
       "      <td>7</td>\n",
       "      <td>1</td>\n",
       "      <td>20</td>\n",
       "      <td>2</td>\n",
       "      <td>5</td>\n",
       "      <td>3</td>\n",
       "      <td>0</td>\n",
       "      <td>8</td>\n",
       "    </tr>\n",
       "    <tr>\n",
       "      <th>3</th>\n",
       "      <td>33</td>\n",
       "      <td>150</td>\n",
       "      <td>4</td>\n",
       "      <td>1</td>\n",
       "      <td>9</td>\n",
       "      <td>0</td>\n",
       "      <td>4</td>\n",
       "      <td>0</td>\n",
       "      <td>0</td>\n",
       "      <td>3</td>\n",
       "    </tr>\n",
       "    <tr>\n",
       "      <th>4</th>\n",
       "      <td>58</td>\n",
       "      <td>100</td>\n",
       "      <td>1</td>\n",
       "      <td>2</td>\n",
       "      <td>6</td>\n",
       "      <td>1</td>\n",
       "      <td>4</td>\n",
       "      <td>2</td>\n",
       "      <td>0</td>\n",
       "      <td>7</td>\n",
       "    </tr>\n",
       "  </tbody>\n",
       "</table>\n",
       "</div>"
      ],
      "text/plain": [
       "   Age  Size  Site  Grade  Lymph.nodes.examined  Lymph.nodes.positive  T  N  \\\n",
       "0   41    65     3      1                    29                     1  2  2   \n",
       "1   54    95     0      1                    37                     0  4  0   \n",
       "2   78    65     7      1                    20                     2  5  3   \n",
       "3   33   150     4      1                     9                     0  4  0   \n",
       "4   58   100     1      2                     6                     1  4  2   \n",
       "\n",
       "   M  Stage  \n",
       "0  0      7  \n",
       "1  0      3  \n",
       "2  0      8  \n",
       "3  0      3  \n",
       "4  0      7  "
      ]
     },
     "execution_count": 16,
     "metadata": {},
     "output_type": "execute_result"
    }
   ],
   "source": [
    "df_train_lasso = df_train[[\"Age\",\"Size\",\"Site\",\"Grade\",\"Lymph.nodes.examined\",\"Lymph.nodes.positive\",\"T\",\"N\",\"M\",\"Stage\"]]\n",
    "df_test_lasso = df_test[[\"Age\",\"Size\",\"Site\",\"Grade\",\"Lymph.nodes.examined\",\"Lymph.nodes.positive\",\"T\",\"N\",\"M\",\"Stage\"]]\n",
    "df_train_lasso.head()"
   ]
  },
  {
   "cell_type": "code",
   "execution_count": 18,
   "id": "15fc28ee",
   "metadata": {},
   "outputs": [],
   "source": [
    "\n",
    "# to standardize and get dependent variables \n",
    "cols_standardize = ['Age', 'Size', 'Lymph.nodes.examined', 'Lymph.nodes.positive'] # list of variables for standardization\n",
    "cols_leave = ['Site', 'Grade', 'T', 'N', 'M', 'Stage'] #categorical variables \n",
    "\n",
    "standardize = [([col], StandardScaler()) for col in cols_standardize]\n",
    "leave = [(col, None) for col in cols_leave]\n",
    "\n",
    "x_mapper = DataFrameMapper(standardize + leave)\n",
    "\n",
    "\n",
    "x_train = x_mapper.fit_transform(df_train_lasso).astype('float32')\n",
    "x_test = x_mapper.transform(df_test_lasso).astype('float32')\n",
    "\n",
    "num_durations = 10\n",
    "\n",
    "train = (x_train, y_train)\n",
    "val = (x_test, y_test)\n"
   ]
  },
  {
   "cell_type": "code",
   "execution_count": 19,
   "id": "2c4d72b2",
   "metadata": {},
   "outputs": [
    {
     "name": "stdout",
     "output_type": "stream",
     "text": [
      "0:\t[0s / 0s],\t\ttrain_loss: 4.4095,\tval_loss: 4.0727\n",
      "1:\t[0s / 0s],\t\ttrain_loss: 4.0961,\tval_loss: 3.8781\n",
      "2:\t[0s / 0s],\t\ttrain_loss: 3.9432,\tval_loss: 3.7136\n",
      "3:\t[0s / 0s],\t\ttrain_loss: 3.6491,\tval_loss: 3.5239\n",
      "4:\t[0s / 0s],\t\ttrain_loss: 3.4416,\tval_loss: 3.3178\n",
      "5:\t[0s / 0s],\t\ttrain_loss: 3.3312,\tval_loss: 3.0539\n",
      "6:\t[0s / 0s],\t\ttrain_loss: 2.9507,\tval_loss: 2.7509\n",
      "7:\t[0s / 0s],\t\ttrain_loss: 2.7082,\tval_loss: 2.4163\n",
      "8:\t[0s / 0s],\t\ttrain_loss: 2.5443,\tval_loss: 2.1235\n",
      "9:\t[0s / 0s],\t\ttrain_loss: 2.2881,\tval_loss: 1.8733\n",
      "10:\t[0s / 0s],\t\ttrain_loss: 2.0680,\tval_loss: 1.6757\n",
      "11:\t[0s / 0s],\t\ttrain_loss: 2.0271,\tval_loss: 1.5277\n",
      "12:\t[0s / 0s],\t\ttrain_loss: 1.8265,\tval_loss: 1.4362\n",
      "13:\t[0s / 0s],\t\ttrain_loss: 1.6902,\tval_loss: 1.3722\n",
      "14:\t[0s / 0s],\t\ttrain_loss: 1.6540,\tval_loss: 1.3239\n",
      "15:\t[0s / 0s],\t\ttrain_loss: 1.6080,\tval_loss: 1.2929\n",
      "16:\t[0s / 0s],\t\ttrain_loss: 1.7503,\tval_loss: 1.2700\n",
      "17:\t[0s / 0s],\t\ttrain_loss: 1.6805,\tval_loss: 1.2639\n",
      "18:\t[0s / 0s],\t\ttrain_loss: 1.5938,\tval_loss: 1.2622\n",
      "19:\t[0s / 0s],\t\ttrain_loss: 1.6204,\tval_loss: 1.2560\n",
      "20:\t[0s / 0s],\t\ttrain_loss: 1.6612,\tval_loss: 1.2483\n",
      "21:\t[0s / 0s],\t\ttrain_loss: 1.6036,\tval_loss: 1.2454\n",
      "22:\t[0s / 0s],\t\ttrain_loss: 1.6175,\tval_loss: 1.2416\n",
      "23:\t[0s / 0s],\t\ttrain_loss: 1.5574,\tval_loss: 1.2425\n",
      "24:\t[0s / 0s],\t\ttrain_loss: 1.4708,\tval_loss: 1.2364\n",
      "25:\t[0s / 0s],\t\ttrain_loss: 1.5641,\tval_loss: 1.2318\n",
      "26:\t[0s / 0s],\t\ttrain_loss: 1.5934,\tval_loss: 1.2302\n",
      "27:\t[0s / 0s],\t\ttrain_loss: 1.6226,\tval_loss: 1.2290\n",
      "28:\t[0s / 0s],\t\ttrain_loss: 1.5713,\tval_loss: 1.2246\n",
      "29:\t[0s / 0s],\t\ttrain_loss: 1.5433,\tval_loss: 1.2248\n",
      "30:\t[0s / 0s],\t\ttrain_loss: 1.5596,\tval_loss: 1.2264\n",
      "31:\t[0s / 0s],\t\ttrain_loss: 1.5827,\tval_loss: 1.2262\n",
      "32:\t[0s / 0s],\t\ttrain_loss: 1.4617,\tval_loss: 1.2241\n",
      "33:\t[0s / 0s],\t\ttrain_loss: 1.4451,\tval_loss: 1.2208\n",
      "34:\t[0s / 0s],\t\ttrain_loss: 1.5571,\tval_loss: 1.2210\n",
      "35:\t[0s / 0s],\t\ttrain_loss: 1.5020,\tval_loss: 1.2226\n",
      "36:\t[0s / 0s],\t\ttrain_loss: 1.4808,\tval_loss: 1.2215\n",
      "37:\t[0s / 0s],\t\ttrain_loss: 1.4764,\tval_loss: 1.2212\n",
      "38:\t[0s / 0s],\t\ttrain_loss: 1.4841,\tval_loss: 1.2206\n",
      "39:\t[0s / 0s],\t\ttrain_loss: 1.4830,\tval_loss: 1.2206\n",
      "40:\t[0s / 0s],\t\ttrain_loss: 1.4657,\tval_loss: 1.2256\n",
      "41:\t[0s / 0s],\t\ttrain_loss: 1.4874,\tval_loss: 1.2273\n",
      "42:\t[0s / 0s],\t\ttrain_loss: 1.5744,\tval_loss: 1.2303\n",
      "43:\t[0s / 0s],\t\ttrain_loss: 1.4480,\tval_loss: 1.2250\n",
      "44:\t[0s / 0s],\t\ttrain_loss: 1.5121,\tval_loss: 1.2274\n",
      "45:\t[0s / 0s],\t\ttrain_loss: 1.4331,\tval_loss: 1.2322\n",
      "46:\t[0s / 0s],\t\ttrain_loss: 1.4629,\tval_loss: 1.2347\n",
      "47:\t[0s / 0s],\t\ttrain_loss: 1.4897,\tval_loss: 1.2352\n",
      "48:\t[0s / 0s],\t\ttrain_loss: 1.5793,\tval_loss: 1.2357\n",
      "49:\t[0s / 0s],\t\ttrain_loss: 1.4876,\tval_loss: 1.2336\n",
      "50:\t[0s / 0s],\t\ttrain_loss: 1.5043,\tval_loss: 1.2315\n",
      "51:\t[0s / 0s],\t\ttrain_loss: 1.5187,\tval_loss: 1.2310\n",
      "52:\t[0s / 0s],\t\ttrain_loss: 1.4717,\tval_loss: 1.2282\n",
      "53:\t[0s / 0s],\t\ttrain_loss: 1.4223,\tval_loss: 1.2339\n",
      "54:\t[0s / 0s],\t\ttrain_loss: 1.4317,\tval_loss: 1.2309\n",
      "55:\t[0s / 0s],\t\ttrain_loss: 1.5277,\tval_loss: 1.2295\n",
      "56:\t[0s / 0s],\t\ttrain_loss: 1.5228,\tval_loss: 1.2296\n",
      "57:\t[0s / 0s],\t\ttrain_loss: 1.3835,\tval_loss: 1.2286\n",
      "58:\t[0s / 0s],\t\ttrain_loss: 1.5055,\tval_loss: 1.2374\n",
      "59:\t[0s / 0s],\t\ttrain_loss: 1.5309,\tval_loss: 1.2354\n",
      "60:\t[0s / 0s],\t\ttrain_loss: 1.4253,\tval_loss: 1.2308\n",
      "61:\t[0s / 0s],\t\ttrain_loss: 1.4609,\tval_loss: 1.2288\n",
      "62:\t[0s / 0s],\t\ttrain_loss: 1.5259,\tval_loss: 1.2316\n",
      "63:\t[0s / 0s],\t\ttrain_loss: 1.4643,\tval_loss: 1.2373\n",
      "64:\t[0s / 0s],\t\ttrain_loss: 1.4929,\tval_loss: 1.2409\n",
      "65:\t[0s / 0s],\t\ttrain_loss: 1.4120,\tval_loss: 1.2405\n",
      "66:\t[0s / 0s],\t\ttrain_loss: 1.4942,\tval_loss: 1.2422\n",
      "67:\t[0s / 0s],\t\ttrain_loss: 1.4793,\tval_loss: 1.2428\n",
      "68:\t[0s / 0s],\t\ttrain_loss: 1.5064,\tval_loss: 1.2468\n",
      "69:\t[0s / 1s],\t\ttrain_loss: 1.4169,\tval_loss: 1.2396\n"
     ]
    }
   ],
   "source": [
    "in_features = x_train.shape[1]\n",
    "num_nodes = [16,4]\n",
    "# out_features = 1\n",
    "out_features = labtrans.out_features\n",
    "batch_norm = True\n",
    "dropout = 0.4\n",
    "output_bias = False\n",
    "epochs = 100\n",
    "callbacks = [tt.callbacks.EarlyStopping(patience=30)]\n",
    "#callbacks = None\n",
    "verbose = True\n",
    "batch_size = 64\n",
    "\n",
    "net = tt.practical.MLPVanilla(in_features, num_nodes, out_features, batch_norm, dropout)\n",
    "\n",
    "model_cox = LogisticHazard(net, tt.optim.Adam(lr=0.01,amsgrad=True), duration_index=labtrans.cuts) #cox model on the neural network with Adam optimizer\n",
    "\n",
    "log_cox = model_cox.fit(x_train, y_train, batch_size, epochs, callbacks,val_data =val)\n"
   ]
  },
  {
   "cell_type": "code",
   "execution_count": 20,
   "id": "f760b896",
   "metadata": {},
   "outputs": [
    {
     "data": {
      "text/plain": [
       "0.6803488968701898"
      ]
     },
     "execution_count": 20,
     "metadata": {},
     "output_type": "execute_result"
    },
    {
     "data": {
      "text/plain": [
       "<Figure size 864x864 with 0 Axes>"
      ]
     },
     "metadata": {},
     "output_type": "display_data"
    },
    {
     "data": {
      "image/png": "[encoded data removed]",
      "text/plain": [
       "<Figure size 432x288 with 1 Axes>"
      ]
     },
     "metadata": {
      "needs_background": "light"
     },
     "output_type": "display_data"
    }
   ],
   "source": [
    "#plotting the loss vs epoch \n",
    "plt.figure(figsize=[12,12])\n",
    "log_cox.plot()\n",
    "plt.xlabel('Epoch', fontsize = 16)\n",
    "plt.ylabel('Loss', fontsize = 16)\n",
    "\n",
    "# predict for the cox model(external validation)\n",
    "#model_cox.compute_baseline_hazards() #baseline hazard\n",
    "surv_cox = model_cox.interpolate(10).predict_surv_df(x_test) # survival of the test data\n",
    "# evaluate the c-index of the cox model \n",
    "eval_cox = EvalSurv(surv_cox, durations_test, events_test, censor_surv= 'km')\n",
    "cox_index = eval_cox.concordance_td() \n",
    "cox_index  # cox_index  at all"
   ]
  },
  {
   "cell_type": "code",
   "execution_count": 21,
   "id": "9e2659e5",
   "metadata": {},
   "outputs": [
    {
     "data": {
      "text/plain": [
       "0.16750501235604776"
      ]
     },
     "execution_count": 21,
     "metadata": {},
     "output_type": "execute_result"
    },
    {
     "data": {
      "image/png": "[encoded data removed]",
      "text/plain": [
       "<Figure size 432x288 with 1 Axes>"
      ]
     },
     "metadata": {
      "needs_background": "light"
     },
     "output_type": "display_data"
    }
   ],
   "source": [
    "# integrated_brier_score at all\n",
    "time_grid = np.linspace(durations_test.min(), durations_test.max(), 100)\n",
    "_ = eval_cox.brier_score(time_grid).plot()\n",
    "eval_cox.integrated_brier_score(time_grid)"
   ]
  },
  {
   "cell_type": "code",
   "execution_count": 22,
   "id": "5b5517b2",
   "metadata": {},
   "outputs": [
    {
     "data": {
      "text/plain": [
       "0.7208624151448513"
      ]
     },
     "execution_count": 22,
     "metadata": {},
     "output_type": "execute_result"
    }
   ],
   "source": [
    "# c-index at  all\n",
    "durations_test0, events_test0 = y_train \n",
    "surv_cox0 = model_cox.predict_surv_df(x_train) # survival of the test data\n",
    "eval_cox0 = EvalSurv(surv_cox0,durations_test0, events_test0, censor_surv= 'km')\n",
    "cox_index0 = eval_cox0.concordance_td() \n",
    "cox_index0 "
   ]
  },
  {
   "cell_type": "code",
   "execution_count": 23,
   "id": "5b034adb",
   "metadata": {},
   "outputs": [
    {
     "data": {
      "text/plain": [
       "0.36945514541353347"
      ]
     },
     "execution_count": 23,
     "metadata": {},
     "output_type": "execute_result"
    },
    {
     "data": {
      "image/png": "[encoded data removed]",
      "text/plain": [
       "<Figure size 432x288 with 1 Axes>"
      ]
     },
     "metadata": {
      "needs_background": "light"
     },
     "output_type": "display_data"
    }
   ],
   "source": [
    "# brier score at all\n",
    "time_grid0 = np.linspace(durations_test0.min(), durations_test0.max(), 100)\n",
    "_ = eval_cox0.brier_score(time_grid0).plot()\n",
    "eval_cox0.integrated_brier_score(time_grid0)"
   ]
  },
  {
   "cell_type": "code",
   "execution_count": 24,
   "id": "1ed10d02",
   "metadata": {},
   "outputs": [
    {
     "name": "stdout",
     "output_type": "stream",
     "text": [
      "Bootstrap Internal validation:\n",
      "The C-index:0.7216713427392066\n",
      "The C-index Low 95% CI:0.7196394020270135\n",
      "The C-index High 95% CI:0.7237032834513998\n"
     ]
    }
   ],
   "source": [
    "# Internal\n",
    "# ATTENTION :x_train, y_train is numpy.ndarray\n",
    "in_tem = []\n",
    "for i in range(1000):\n",
    "    idx = np.random.choice(len(x_train),size = 100,replace = True)\n",
    "    x_tem = x_train[idx,]\n",
    "    surv_cox_tem = model_cox.predict_surv_df(x_tem) # survival of the test data\n",
    "    eval_cox_tem = EvalSurv(surv_cox_tem, y_train[0][idx], y_train[1][idx], censor_surv= 'km')\n",
    "    c_tem = eval_cox_tem.concordance_td() \n",
    "    in_tem.append(c_tem)\n",
    "\n",
    "in_mean = np.mean(in_tem)\n",
    "in_se = np.std(in_tem) / np.power(1000,0.5)\n",
    "print(\"Bootstrap Internal validation:\")\n",
    "print(\"The C-index:{}\".format(in_mean))\n",
    "print(\"The C-index Low 95% CI:{}\".format(in_mean - 1.96 * in_se))\n",
    "print(\"The C-index High 95% CI:{}\".format(in_mean + 1.96 * in_se))"
   ]
  },
  {
   "cell_type": "code",
   "execution_count": 25,
   "id": "5eb853a8",
   "metadata": {},
   "outputs": [
    {
     "name": "stdout",
     "output_type": "stream",
     "text": [
      "Bootstrap External validation:\n",
      "The C-index:0.6866011334585018\n",
      "The C-index Low 95% CI:0.6839971768347917\n",
      "The C-index High 95% CI:0.689205090082212\n"
     ]
    }
   ],
   "source": [
    "# External\n",
    "ex_tem = []\n",
    "for i in range(1000):\n",
    "    idx = np.random.choice(len(x_test),size = 100,replace = True)\n",
    "    x_tem = x_test[idx,]\n",
    "    surv_cox_tem = model_cox.predict_surv_df(x_tem) # survival of the test data\n",
    "    eval_cox_tem = EvalSurv(surv_cox_tem, y_test[0][idx], y_test[1][idx], censor_surv= 'km')\n",
    "    c_tem = eval_cox_tem.concordance_td() \n",
    "    ex_tem.append(c_tem)\n",
    "\n",
    "ex_mean = np.mean(ex_tem)\n",
    "ex_se = np.std(ex_tem) / np.power(1000,0.5)\n",
    "print(\"Bootstrap External validation:\")\n",
    "print(\"The C-index:{}\".format(ex_mean))\n",
    "print(\"The C-index Low 95% CI:{}\".format(ex_mean - 1.96 * ex_se))\n",
    "print(\"The C-index High 95% CI:{}\".format(ex_mean + 1.96 * ex_se))"
   ]
  },
  {
   "cell_type": "markdown",
   "id": "3133125f",
   "metadata": {},
   "source": [
    "# TNM"
   ]
  },
  {
   "cell_type": "code",
   "execution_count": 26,
   "id": "10311a1d",
   "metadata": {},
   "outputs": [
    {
     "data": {
      "text/html": [
       "<div>\n",
       "<style scoped>\n",
       "    .dataframe tbody tr th:only-of-type {\n",
       "        vertical-align: middle;\n",
       "    }\n",
       "\n",
       "    .dataframe tbody tr th {\n",
       "        vertical-align: top;\n",
       "    }\n",
       "\n",
       "    .dataframe thead th {\n",
       "        text-align: right;\n",
       "    }\n",
       "</style>\n",
       "<table border=\"1\" class=\"dataframe\">\n",
       "  <thead>\n",
       "    <tr style=\"text-align: right;\">\n",
       "      <th></th>\n",
       "      <th>T</th>\n",
       "      <th>N</th>\n",
       "      <th>M</th>\n",
       "      <th>Stage</th>\n",
       "    </tr>\n",
       "  </thead>\n",
       "  <tbody>\n",
       "    <tr>\n",
       "      <th>0</th>\n",
       "      <td>2</td>\n",
       "      <td>2</td>\n",
       "      <td>0</td>\n",
       "      <td>7</td>\n",
       "    </tr>\n",
       "    <tr>\n",
       "      <th>1</th>\n",
       "      <td>4</td>\n",
       "      <td>0</td>\n",
       "      <td>0</td>\n",
       "      <td>3</td>\n",
       "    </tr>\n",
       "    <tr>\n",
       "      <th>2</th>\n",
       "      <td>5</td>\n",
       "      <td>3</td>\n",
       "      <td>0</td>\n",
       "      <td>8</td>\n",
       "    </tr>\n",
       "    <tr>\n",
       "      <th>3</th>\n",
       "      <td>4</td>\n",
       "      <td>0</td>\n",
       "      <td>0</td>\n",
       "      <td>3</td>\n",
       "    </tr>\n",
       "    <tr>\n",
       "      <th>4</th>\n",
       "      <td>4</td>\n",
       "      <td>2</td>\n",
       "      <td>0</td>\n",
       "      <td>7</td>\n",
       "    </tr>\n",
       "  </tbody>\n",
       "</table>\n",
       "</div>"
      ],
      "text/plain": [
       "   T  N  M  Stage\n",
       "0  2  2  0      7\n",
       "1  4  0  0      3\n",
       "2  5  3  0      8\n",
       "3  4  0  0      3\n",
       "4  4  2  0      7"
      ]
     },
     "execution_count": 26,
     "metadata": {},
     "output_type": "execute_result"
    }
   ],
   "source": [
    "df_train_tnm = df_train[[\"T\",\"N\",\"M\",\"Stage\"]]\n",
    "df_test_tnm = df_test[[\"T\",\"N\",\"M\",\"Stage\"]]\n",
    "df_train_tnm.head()"
   ]
  },
  {
   "cell_type": "code",
   "execution_count": 27,
   "id": "cf2aed49",
   "metadata": {},
   "outputs": [],
   "source": [
    "# to standardize and get dependent variables \n",
    "cols_leave = ['T', 'N', 'M', 'Stage'] #categorical variables \n",
    "leave = [(col, None) for col in cols_leave]\n",
    "\n",
    "x_mapper = DataFrameMapper(leave)\n",
    "\n",
    "\n",
    "x_train = x_mapper.fit_transform(df_train_tnm).astype('float32')\n",
    "x_test = x_mapper.transform(df_test_tnm).astype('float32')\n",
    "\n",
    "num_durations = 10\n",
    "\n",
    "train = (x_train, y_train)\n",
    "val = (x_test, y_test)\n"
   ]
  },
  {
   "cell_type": "code",
   "execution_count": 28,
   "id": "a8370ab6",
   "metadata": {},
   "outputs": [
    {
     "name": "stdout",
     "output_type": "stream",
     "text": [
      "0:\t[0s / 0s],\t\ttrain_loss: 4.6355,\tval_loss: 4.4012\n",
      "1:\t[0s / 0s],\t\ttrain_loss: 4.5891,\tval_loss: 4.2846\n",
      "2:\t[0s / 0s],\t\ttrain_loss: 4.1223,\tval_loss: 4.0570\n",
      "3:\t[0s / 0s],\t\ttrain_loss: 3.9785,\tval_loss: 3.8121\n",
      "4:\t[0s / 0s],\t\ttrain_loss: 3.5258,\tval_loss: 3.4918\n",
      "5:\t[0s / 0s],\t\ttrain_loss: 3.3800,\tval_loss: 3.1488\n",
      "6:\t[0s / 0s],\t\ttrain_loss: 3.0750,\tval_loss: 2.7666\n",
      "7:\t[0s / 0s],\t\ttrain_loss: 2.7290,\tval_loss: 2.4081\n",
      "8:\t[0s / 0s],\t\ttrain_loss: 2.6543,\tval_loss: 2.1709\n",
      "9:\t[0s / 0s],\t\ttrain_loss: 2.2983,\tval_loss: 1.9187\n",
      "10:\t[0s / 0s],\t\ttrain_loss: 2.1237,\tval_loss: 1.7198\n",
      "11:\t[0s / 0s],\t\ttrain_loss: 1.9397,\tval_loss: 1.5681\n",
      "12:\t[0s / 0s],\t\ttrain_loss: 1.8715,\tval_loss: 1.4591\n",
      "13:\t[0s / 0s],\t\ttrain_loss: 1.7179,\tval_loss: 1.3887\n",
      "14:\t[0s / 0s],\t\ttrain_loss: 1.7847,\tval_loss: 1.3436\n",
      "15:\t[0s / 0s],\t\ttrain_loss: 1.6645,\tval_loss: 1.3188\n",
      "16:\t[0s / 0s],\t\ttrain_loss: 1.6388,\tval_loss: 1.3091\n",
      "17:\t[0s / 0s],\t\ttrain_loss: 1.5887,\tval_loss: 1.3062\n",
      "18:\t[0s / 0s],\t\ttrain_loss: 1.6600,\tval_loss: 1.2981\n",
      "19:\t[0s / 0s],\t\ttrain_loss: 1.6395,\tval_loss: 1.2948\n",
      "20:\t[0s / 0s],\t\ttrain_loss: 1.6061,\tval_loss: 1.2915\n",
      "21:\t[0s / 0s],\t\ttrain_loss: 1.6481,\tval_loss: 1.2793\n",
      "22:\t[0s / 0s],\t\ttrain_loss: 1.6540,\tval_loss: 1.2750\n",
      "23:\t[0s / 0s],\t\ttrain_loss: 1.6140,\tval_loss: 1.2691\n",
      "24:\t[0s / 0s],\t\ttrain_loss: 1.6156,\tval_loss: 1.2710\n",
      "25:\t[0s / 0s],\t\ttrain_loss: 1.6459,\tval_loss: 1.2672\n",
      "26:\t[0s / 0s],\t\ttrain_loss: 1.5366,\tval_loss: 1.2619\n",
      "27:\t[0s / 0s],\t\ttrain_loss: 1.6042,\tval_loss: 1.2547\n",
      "28:\t[0s / 0s],\t\ttrain_loss: 1.5861,\tval_loss: 1.2542\n",
      "29:\t[0s / 0s],\t\ttrain_loss: 1.5931,\tval_loss: 1.2640\n",
      "30:\t[0s / 0s],\t\ttrain_loss: 1.5914,\tval_loss: 1.2646\n",
      "31:\t[0s / 0s],\t\ttrain_loss: 1.5683,\tval_loss: 1.2652\n",
      "32:\t[0s / 0s],\t\ttrain_loss: 1.5945,\tval_loss: 1.2635\n",
      "33:\t[0s / 0s],\t\ttrain_loss: 1.6278,\tval_loss: 1.2652\n",
      "34:\t[0s / 0s],\t\ttrain_loss: 1.5939,\tval_loss: 1.2637\n",
      "35:\t[0s / 0s],\t\ttrain_loss: 1.5697,\tval_loss: 1.2674\n",
      "36:\t[0s / 0s],\t\ttrain_loss: 1.6321,\tval_loss: 1.2702\n",
      "37:\t[0s / 0s],\t\ttrain_loss: 1.5453,\tval_loss: 1.2697\n",
      "38:\t[0s / 0s],\t\ttrain_loss: 1.6720,\tval_loss: 1.2674\n",
      "39:\t[0s / 0s],\t\ttrain_loss: 1.5530,\tval_loss: 1.2668\n",
      "40:\t[0s / 0s],\t\ttrain_loss: 1.6005,\tval_loss: 1.2644\n",
      "41:\t[0s / 0s],\t\ttrain_loss: 1.5581,\tval_loss: 1.2616\n",
      "42:\t[0s / 0s],\t\ttrain_loss: 1.5995,\tval_loss: 1.2597\n",
      "43:\t[0s / 0s],\t\ttrain_loss: 1.5339,\tval_loss: 1.2605\n",
      "44:\t[0s / 0s],\t\ttrain_loss: 1.5915,\tval_loss: 1.2626\n",
      "45:\t[0s / 0s],\t\ttrain_loss: 1.6109,\tval_loss: 1.2627\n",
      "46:\t[0s / 0s],\t\ttrain_loss: 1.4795,\tval_loss: 1.2619\n",
      "47:\t[0s / 0s],\t\ttrain_loss: 1.6503,\tval_loss: 1.2574\n",
      "48:\t[0s / 0s],\t\ttrain_loss: 1.6135,\tval_loss: 1.2535\n",
      "49:\t[0s / 0s],\t\ttrain_loss: 1.5510,\tval_loss: 1.2572\n",
      "50:\t[0s / 0s],\t\ttrain_loss: 1.5378,\tval_loss: 1.2577\n",
      "51:\t[0s / 0s],\t\ttrain_loss: 1.5480,\tval_loss: 1.2605\n",
      "52:\t[0s / 0s],\t\ttrain_loss: 1.6468,\tval_loss: 1.2604\n",
      "53:\t[0s / 0s],\t\ttrain_loss: 1.4994,\tval_loss: 1.2618\n",
      "54:\t[0s / 0s],\t\ttrain_loss: 1.6106,\tval_loss: 1.2599\n",
      "55:\t[0s / 0s],\t\ttrain_loss: 1.5284,\tval_loss: 1.2619\n",
      "56:\t[0s / 0s],\t\ttrain_loss: 1.4907,\tval_loss: 1.2627\n",
      "57:\t[0s / 0s],\t\ttrain_loss: 1.4937,\tval_loss: 1.2582\n",
      "58:\t[0s / 0s],\t\ttrain_loss: 1.4941,\tval_loss: 1.2547\n",
      "59:\t[0s / 0s],\t\ttrain_loss: 1.4909,\tval_loss: 1.2509\n",
      "60:\t[0s / 0s],\t\ttrain_loss: 1.6020,\tval_loss: 1.2530\n",
      "61:\t[0s / 0s],\t\ttrain_loss: 1.6097,\tval_loss: 1.2462\n",
      "62:\t[0s / 0s],\t\ttrain_loss: 1.4925,\tval_loss: 1.2419\n",
      "63:\t[0s / 0s],\t\ttrain_loss: 1.5619,\tval_loss: 1.2428\n",
      "64:\t[0s / 0s],\t\ttrain_loss: 1.5707,\tval_loss: 1.2475\n",
      "65:\t[0s / 0s],\t\ttrain_loss: 1.5256,\tval_loss: 1.2541\n",
      "66:\t[0s / 0s],\t\ttrain_loss: 1.5495,\tval_loss: 1.2560\n",
      "67:\t[0s / 0s],\t\ttrain_loss: 1.4749,\tval_loss: 1.2564\n",
      "68:\t[0s / 0s],\t\ttrain_loss: 1.6185,\tval_loss: 1.2539\n",
      "69:\t[0s / 0s],\t\ttrain_loss: 1.6368,\tval_loss: 1.2556\n",
      "70:\t[0s / 0s],\t\ttrain_loss: 1.5478,\tval_loss: 1.2548\n",
      "71:\t[0s / 1s],\t\ttrain_loss: 1.4821,\tval_loss: 1.2528\n",
      "72:\t[0s / 1s],\t\ttrain_loss: 1.5291,\tval_loss: 1.2513\n",
      "73:\t[0s / 1s],\t\ttrain_loss: 1.5234,\tval_loss: 1.2511\n",
      "74:\t[0s / 1s],\t\ttrain_loss: 1.5907,\tval_loss: 1.2539\n",
      "75:\t[0s / 1s],\t\ttrain_loss: 1.5767,\tval_loss: 1.2568\n",
      "76:\t[0s / 1s],\t\ttrain_loss: 1.5238,\tval_loss: 1.2562\n",
      "77:\t[0s / 1s],\t\ttrain_loss: 1.5457,\tval_loss: 1.2583\n",
      "78:\t[0s / 1s],\t\ttrain_loss: 1.5231,\tval_loss: 1.2589\n",
      "79:\t[0s / 1s],\t\ttrain_loss: 1.4959,\tval_loss: 1.2606\n",
      "80:\t[0s / 1s],\t\ttrain_loss: 1.5561,\tval_loss: 1.2563\n",
      "81:\t[0s / 1s],\t\ttrain_loss: 1.5505,\tval_loss: 1.2500\n",
      "82:\t[0s / 1s],\t\ttrain_loss: 1.4971,\tval_loss: 1.2511\n",
      "83:\t[0s / 1s],\t\ttrain_loss: 1.5332,\tval_loss: 1.2519\n",
      "84:\t[0s / 1s],\t\ttrain_loss: 1.4616,\tval_loss: 1.2553\n",
      "85:\t[0s / 1s],\t\ttrain_loss: 1.5624,\tval_loss: 1.2638\n",
      "86:\t[0s / 1s],\t\ttrain_loss: 1.5774,\tval_loss: 1.2689\n",
      "87:\t[0s / 1s],\t\ttrain_loss: 1.4960,\tval_loss: 1.2670\n",
      "88:\t[0s / 1s],\t\ttrain_loss: 1.5380,\tval_loss: 1.2655\n",
      "89:\t[0s / 1s],\t\ttrain_loss: 1.5928,\tval_loss: 1.2578\n",
      "90:\t[0s / 1s],\t\ttrain_loss: 1.4148,\tval_loss: 1.2595\n",
      "91:\t[0s / 1s],\t\ttrain_loss: 1.5482,\tval_loss: 1.2610\n",
      "92:\t[0s / 1s],\t\ttrain_loss: 1.5833,\tval_loss: 1.2571\n"
     ]
    }
   ],
   "source": [
    "in_features = x_train.shape[1]\n",
    "num_nodes = [16,4]\n",
    "# out_features = 1\n",
    "out_features = labtrans.out_features\n",
    "batch_norm = True\n",
    "dropout = 0.4\n",
    "output_bias = False\n",
    "epochs = 100\n",
    "callbacks = [tt.callbacks.EarlyStopping(patience=30)]\n",
    "#callbacks = None\n",
    "verbose = True\n",
    "batch_size = 64\n",
    "\n",
    "net = tt.practical.MLPVanilla(in_features, num_nodes, out_features, batch_norm, dropout)\n",
    "\n",
    "model_cox = LogisticHazard(net, tt.optim.Adam(lr=0.01,amsgrad=True), duration_index=labtrans.cuts) #cox model on the neural network with Adam optimizer\n",
    "\n",
    "log_cox = model_cox.fit(x_train, y_train, batch_size, epochs, callbacks,val_data =val)\n"
   ]
  },
  {
   "cell_type": "code",
   "execution_count": 29,
   "id": "4089914b",
   "metadata": {},
   "outputs": [
    {
     "data": {
      "text/plain": [
       "0.6739353514622883"
      ]
     },
     "execution_count": 29,
     "metadata": {},
     "output_type": "execute_result"
    },
    {
     "data": {
      "text/plain": [
       "<Figure size 864x864 with 0 Axes>"
      ]
     },
     "metadata": {},
     "output_type": "display_data"
    },
    {
     "data": {
      "image/png": "[encoded data removed]",
      "text/plain": [
       "<Figure size 432x288 with 1 Axes>"
      ]
     },
     "metadata": {
      "needs_background": "light"
     },
     "output_type": "display_data"
    }
   ],
   "source": [
    "#plotting the loss vs epoch \n",
    "plt.figure(figsize=[12,12])\n",
    "log_cox.plot()\n",
    "plt.xlabel('Epoch', fontsize = 16)\n",
    "plt.ylabel('Loss', fontsize = 16)\n",
    "\n",
    "# predict for the cox model(external validation)\n",
    "#model_cox.compute_baseline_hazards() #baseline hazard\n",
    "surv_cox = model_cox.interpolate(10).predict_surv_df(x_test) # survival of the test data\n",
    "# evaluate the c-index of the cox model \n",
    "eval_cox = EvalSurv(surv_cox, durations_test, events_test, censor_surv= 'km')\n",
    "cox_index = eval_cox.concordance_td() \n",
    "cox_index  # cox_index  at all"
   ]
  },
  {
   "cell_type": "code",
   "execution_count": 30,
   "id": "ef61b175",
   "metadata": {},
   "outputs": [
    {
     "data": {
      "text/plain": [
       "0.1780123229827252"
      ]
     },
     "execution_count": 30,
     "metadata": {},
     "output_type": "execute_result"
    },
    {
     "data": {
      "image/png": "[encoded data removed]",
      "text/plain": [
       "<Figure size 432x288 with 1 Axes>"
      ]
     },
     "metadata": {
      "needs_background": "light"
     },
     "output_type": "display_data"
    }
   ],
   "source": [
    "# integrated_brier_score at all\n",
    "time_grid = np.linspace(durations_test.min(), durations_test.max(), 100)\n",
    "_ = eval_cox.brier_score(time_grid).plot()\n",
    "eval_cox.integrated_brier_score(time_grid)"
   ]
  },
  {
   "cell_type": "code",
   "execution_count": 31,
   "id": "423e3c5d",
   "metadata": {},
   "outputs": [
    {
     "data": {
      "text/plain": [
       "0.6729252318577302"
      ]
     },
     "execution_count": 31,
     "metadata": {},
     "output_type": "execute_result"
    }
   ],
   "source": [
    "# c-index at  all\n",
    "durations_test0, events_test0 = y_train \n",
    "surv_cox0 = model_cox.predict_surv_df(x_train) # survival of the test data\n",
    "eval_cox0 = EvalSurv(surv_cox0,durations_test0, events_test0, censor_surv= 'km')\n",
    "cox_index0 = eval_cox0.concordance_td() \n",
    "cox_index0 "
   ]
  },
  {
   "cell_type": "code",
   "execution_count": 32,
   "id": "44e90366",
   "metadata": {},
   "outputs": [
    {
     "data": {
      "text/plain": [
       "0.3764444776699974"
      ]
     },
     "execution_count": 32,
     "metadata": {},
     "output_type": "execute_result"
    },
    {
     "data": {
      "image/png": "[encoded data removed]",
      "text/plain": [
       "<Figure size 432x288 with 1 Axes>"
      ]
     },
     "metadata": {
      "needs_background": "light"
     },
     "output_type": "display_data"
    }
   ],
   "source": [
    "# brier score at all\n",
    "time_grid0 = np.linspace(durations_test0.min(), durations_test0.max(), 100)\n",
    "_ = eval_cox0.brier_score(time_grid0).plot()\n",
    "eval_cox0.integrated_brier_score(time_grid0)"
   ]
  },
  {
   "cell_type": "code",
   "execution_count": 33,
   "id": "d076960d",
   "metadata": {},
   "outputs": [
    {
     "name": "stdout",
     "output_type": "stream",
     "text": [
      "Bootstrap Internal validation:\n",
      "The C-index:0.6766425339053048\n",
      "The C-index Low 95% CI:0.6743384905380801\n",
      "The C-index High 95% CI:0.6789465772725295\n"
     ]
    }
   ],
   "source": [
    "# Internal\n",
    "# ATTENTION :x_train, y_train is numpy.ndarray\n",
    "in_tem = []\n",
    "for i in range(1000):\n",
    "    idx = np.random.choice(len(x_train),size = 100,replace = True)\n",
    "    x_tem = x_train[idx,]\n",
    "    surv_cox_tem = model_cox.predict_surv_df(x_tem) # survival of the test data\n",
    "    eval_cox_tem = EvalSurv(surv_cox_tem, y_train[0][idx], y_train[1][idx], censor_surv= 'km')\n",
    "    c_tem = eval_cox_tem.concordance_td() \n",
    "    in_tem.append(c_tem)\n",
    "\n",
    "in_mean = np.mean(in_tem)\n",
    "in_se = np.std(in_tem) / np.power(1000,0.5)\n",
    "print(\"Bootstrap Internal validation:\")\n",
    "print(\"The C-index:{}\".format(in_mean))\n",
    "print(\"The C-index Low 95% CI:{}\".format(in_mean - 1.96 * in_se))\n",
    "print(\"The C-index High 95% CI:{}\".format(in_mean + 1.96 * in_se))"
   ]
  },
  {
   "cell_type": "code",
   "execution_count": 34,
   "id": "c842545c",
   "metadata": {},
   "outputs": [
    {
     "name": "stdout",
     "output_type": "stream",
     "text": [
      "Bootstrap External validation:\n",
      "The C-index:0.6664819359223264\n",
      "The C-index Low 95% CI:0.6638801126751828\n",
      "The C-index High 95% CI:0.66908375916947\n"
     ]
    }
   ],
   "source": [
    "# External\n",
    "ex_tem = []\n",
    "for i in range(1000):\n",
    "    idx = np.random.choice(len(x_test),size = 100,replace = True)\n",
    "    x_tem = x_test[idx,]\n",
    "    surv_cox_tem = model_cox.predict_surv_df(x_tem) # survival of the test data\n",
    "    eval_cox_tem = EvalSurv(surv_cox_tem, y_test[0][idx], y_test[1][idx], censor_surv= 'km')\n",
    "    c_tem = eval_cox_tem.concordance_td() \n",
    "    ex_tem.append(c_tem)\n",
    "\n",
    "ex_mean = np.mean(ex_tem)\n",
    "ex_se = np.std(ex_tem) / np.power(1000,0.5)\n",
    "print(\"Bootstrap External validation:\")\n",
    "print(\"The C-index:{}\".format(ex_mean))\n",
    "print(\"The C-index Low 95% CI:{}\".format(ex_mean - 1.96 * ex_se))\n",
    "print(\"The C-index High 95% CI:{}\".format(ex_mean + 1.96 * ex_se))"
   ]
  },
  {
   "cell_type": "code",
   "execution_count": null,
   "id": "e4dad8b2",
   "metadata": {},
   "outputs": [],
   "source": []
  }
 ],
 "metadata": {
  "kernelspec": {
   "display_name": "Python 3 (ipykernel)",
   "language": "python",
   "name": "python3"
  },
  "language_info": {
   "codemirror_mode": {
    "name": "ipython",
    "version": 3
   },
   "file_extension": ".py",
   "mimetype": "text/x-python",
   "name": "python",
   "nbconvert_exporter": "python",
   "pygments_lexer": "ipython3",
   "version": "3.9.7"
  }
 },
 "nbformat": 4,
 "nbformat_minor": 5
}
