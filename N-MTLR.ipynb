{
 "cells": [
  {
   "cell_type": "code",
   "execution_count": 1,
   "id": "b130d6d0",
   "metadata": {},
   "outputs": [],
   "source": [
    "import pandas as pd\n",
    "import numpy as np\n",
    "\n",
    "from sklearn.preprocessing import StandardScaler, LabelEncoder\n",
    "from sklearn_pandas import DataFrameMapper\n",
    "from sklearn.model_selection import train_test_split\n",
    "\n",
    "import matplotlib.pyplot as plt\n",
    "from pycox.models import MTLR\n",
    "\n",
    "from pycox.evaluation import EvalSurv\n",
    "from pycox.simulations import SimStudyLinearPH\n",
    "\n",
    "import torch\n",
    "import torchtuples as tt"
   ]
  },
  {
   "cell_type": "markdown",
   "id": "80d2f927",
   "metadata": {},
   "source": [
    "# Read data"
   ]
  },
  {
   "cell_type": "code",
   "execution_count": 2,
   "id": "580f22d7",
   "metadata": {},
   "outputs": [],
   "source": [
    "df_train = pd.read_csv('train.csv')\n",
    "df_train = pd.DataFrame(df_train)\n",
    "\n",
    "df_test = pd.read_csv('test.csv')\n",
    "df_test = pd.DataFrame(df_test)"
   ]
  },
  {
   "cell_type": "code",
   "execution_count": 3,
   "id": "c765d269",
   "metadata": {},
   "outputs": [
    {
     "data": {
      "text/html": [
       "<div>\n",
       "<style scoped>\n",
       "    .dataframe tbody tr th:only-of-type {\n",
       "        vertical-align: middle;\n",
       "    }\n",
       "\n",
       "    .dataframe tbody tr th {\n",
       "        vertical-align: top;\n",
       "    }\n",
       "\n",
       "    .dataframe thead th {\n",
       "        text-align: right;\n",
       "    }\n",
       "</style>\n",
       "<table border=\"1\" class=\"dataframe\">\n",
       "  <thead>\n",
       "    <tr style=\"text-align: right;\">\n",
       "      <th></th>\n",
       "      <th>Sex</th>\n",
       "      <th>Age</th>\n",
       "      <th>Size</th>\n",
       "      <th>Site</th>\n",
       "      <th>Grade</th>\n",
       "      <th>Lymph.nodes.examined</th>\n",
       "      <th>Lymph.nodes.positive</th>\n",
       "      <th>T</th>\n",
       "      <th>N</th>\n",
       "      <th>M</th>\n",
       "      <th>Stage</th>\n",
       "      <th>duration</th>\n",
       "      <th>event</th>\n",
       "    </tr>\n",
       "  </thead>\n",
       "  <tbody>\n",
       "    <tr>\n",
       "      <th>0</th>\n",
       "      <td>Male</td>\n",
       "      <td>41</td>\n",
       "      <td>65</td>\n",
       "      <td>Ileocecal Junction</td>\n",
       "      <td>II</td>\n",
       "      <td>29</td>\n",
       "      <td>1</td>\n",
       "      <td>T3</td>\n",
       "      <td>N1a</td>\n",
       "      <td>M0</td>\n",
       "      <td>IIIB</td>\n",
       "      <td>110</td>\n",
       "      <td>0</td>\n",
       "    </tr>\n",
       "    <tr>\n",
       "      <th>1</th>\n",
       "      <td>Male</td>\n",
       "      <td>54</td>\n",
       "      <td>95</td>\n",
       "      <td>Ascending Colon</td>\n",
       "      <td>II</td>\n",
       "      <td>37</td>\n",
       "      <td>0</td>\n",
       "      <td>T4a</td>\n",
       "      <td>N0</td>\n",
       "      <td>M0</td>\n",
       "      <td>IIB</td>\n",
       "      <td>107</td>\n",
       "      <td>0</td>\n",
       "    </tr>\n",
       "    <tr>\n",
       "      <th>2</th>\n",
       "      <td>Female</td>\n",
       "      <td>78</td>\n",
       "      <td>65</td>\n",
       "      <td>Sigmoid Colon</td>\n",
       "      <td>II</td>\n",
       "      <td>20</td>\n",
       "      <td>2</td>\n",
       "      <td>T4b</td>\n",
       "      <td>N1b</td>\n",
       "      <td>M0</td>\n",
       "      <td>IIIC</td>\n",
       "      <td>106</td>\n",
       "      <td>0</td>\n",
       "    </tr>\n",
       "    <tr>\n",
       "      <th>3</th>\n",
       "      <td>Female</td>\n",
       "      <td>33</td>\n",
       "      <td>150</td>\n",
       "      <td>Large Intestine, NOS</td>\n",
       "      <td>II</td>\n",
       "      <td>9</td>\n",
       "      <td>0</td>\n",
       "      <td>T4a</td>\n",
       "      <td>N0</td>\n",
       "      <td>M0</td>\n",
       "      <td>IIB</td>\n",
       "      <td>105</td>\n",
       "      <td>0</td>\n",
       "    </tr>\n",
       "    <tr>\n",
       "      <th>4</th>\n",
       "      <td>Male</td>\n",
       "      <td>58</td>\n",
       "      <td>100</td>\n",
       "      <td>Descending Colon</td>\n",
       "      <td>III</td>\n",
       "      <td>6</td>\n",
       "      <td>1</td>\n",
       "      <td>T4a</td>\n",
       "      <td>N1a</td>\n",
       "      <td>M0</td>\n",
       "      <td>IIIB</td>\n",
       "      <td>102</td>\n",
       "      <td>0</td>\n",
       "    </tr>\n",
       "  </tbody>\n",
       "</table>\n",
       "</div>"
      ],
      "text/plain": [
       "      Sex  Age  Size                  Site Grade  Lymph.nodes.examined  \\\n",
       "0    Male   41    65    Ileocecal Junction    II                    29   \n",
       "1    Male   54    95       Ascending Colon    II                    37   \n",
       "2  Female   78    65         Sigmoid Colon    II                    20   \n",
       "3  Female   33   150  Large Intestine, NOS    II                     9   \n",
       "4    Male   58   100      Descending Colon   III                     6   \n",
       "\n",
       "   Lymph.nodes.positive    T    N   M Stage  duration  event  \n",
       "0                     1   T3  N1a  M0  IIIB       110      0  \n",
       "1                     0  T4a   N0  M0   IIB       107      0  \n",
       "2                     2  T4b  N1b  M0  IIIC       106      0  \n",
       "3                     0  T4a   N0  M0   IIB       105      0  \n",
       "4                     1  T4a  N1a  M0  IIIB       102      0  "
      ]
     },
     "execution_count": 3,
     "metadata": {},
     "output_type": "execute_result"
    }
   ],
   "source": [
    "df_train.head()"
   ]
  },
  {
   "cell_type": "code",
   "execution_count": 4,
   "id": "02ade6b9",
   "metadata": {},
   "outputs": [
    {
     "data": {
      "text/html": [
       "<div>\n",
       "<style scoped>\n",
       "    .dataframe tbody tr th:only-of-type {\n",
       "        vertical-align: middle;\n",
       "    }\n",
       "\n",
       "    .dataframe tbody tr th {\n",
       "        vertical-align: top;\n",
       "    }\n",
       "\n",
       "    .dataframe thead th {\n",
       "        text-align: right;\n",
       "    }\n",
       "</style>\n",
       "<table border=\"1\" class=\"dataframe\">\n",
       "  <thead>\n",
       "    <tr style=\"text-align: right;\">\n",
       "      <th></th>\n",
       "      <th>Sex</th>\n",
       "      <th>Age</th>\n",
       "      <th>Size</th>\n",
       "      <th>Site</th>\n",
       "      <th>Grade</th>\n",
       "      <th>Lymph.nodes.examined</th>\n",
       "      <th>Lymph.nodes.positive</th>\n",
       "      <th>T</th>\n",
       "      <th>N</th>\n",
       "      <th>M</th>\n",
       "      <th>Stage</th>\n",
       "      <th>duration</th>\n",
       "      <th>event</th>\n",
       "    </tr>\n",
       "  </thead>\n",
       "  <tbody>\n",
       "    <tr>\n",
       "      <th>0</th>\n",
       "      <td>1</td>\n",
       "      <td>41</td>\n",
       "      <td>65</td>\n",
       "      <td>3</td>\n",
       "      <td>1</td>\n",
       "      <td>29</td>\n",
       "      <td>1</td>\n",
       "      <td>2</td>\n",
       "      <td>2</td>\n",
       "      <td>0</td>\n",
       "      <td>7</td>\n",
       "      <td>110</td>\n",
       "      <td>0</td>\n",
       "    </tr>\n",
       "    <tr>\n",
       "      <th>1</th>\n",
       "      <td>1</td>\n",
       "      <td>54</td>\n",
       "      <td>95</td>\n",
       "      <td>0</td>\n",
       "      <td>1</td>\n",
       "      <td>37</td>\n",
       "      <td>0</td>\n",
       "      <td>4</td>\n",
       "      <td>0</td>\n",
       "      <td>0</td>\n",
       "      <td>3</td>\n",
       "      <td>107</td>\n",
       "      <td>0</td>\n",
       "    </tr>\n",
       "    <tr>\n",
       "      <th>2</th>\n",
       "      <td>0</td>\n",
       "      <td>78</td>\n",
       "      <td>65</td>\n",
       "      <td>7</td>\n",
       "      <td>1</td>\n",
       "      <td>20</td>\n",
       "      <td>2</td>\n",
       "      <td>5</td>\n",
       "      <td>3</td>\n",
       "      <td>0</td>\n",
       "      <td>8</td>\n",
       "      <td>106</td>\n",
       "      <td>0</td>\n",
       "    </tr>\n",
       "    <tr>\n",
       "      <th>3</th>\n",
       "      <td>0</td>\n",
       "      <td>33</td>\n",
       "      <td>150</td>\n",
       "      <td>4</td>\n",
       "      <td>1</td>\n",
       "      <td>9</td>\n",
       "      <td>0</td>\n",
       "      <td>4</td>\n",
       "      <td>0</td>\n",
       "      <td>0</td>\n",
       "      <td>3</td>\n",
       "      <td>105</td>\n",
       "      <td>0</td>\n",
       "    </tr>\n",
       "    <tr>\n",
       "      <th>4</th>\n",
       "      <td>1</td>\n",
       "      <td>58</td>\n",
       "      <td>100</td>\n",
       "      <td>1</td>\n",
       "      <td>2</td>\n",
       "      <td>6</td>\n",
       "      <td>1</td>\n",
       "      <td>4</td>\n",
       "      <td>2</td>\n",
       "      <td>0</td>\n",
       "      <td>7</td>\n",
       "      <td>102</td>\n",
       "      <td>0</td>\n",
       "    </tr>\n",
       "  </tbody>\n",
       "</table>\n",
       "</div>"
      ],
      "text/plain": [
       "   Sex  Age  Size  Site  Grade  Lymph.nodes.examined  Lymph.nodes.positive  T  \\\n",
       "0    1   41    65     3      1                    29                     1  2   \n",
       "1    1   54    95     0      1                    37                     0  4   \n",
       "2    0   78    65     7      1                    20                     2  5   \n",
       "3    0   33   150     4      1                     9                     0  4   \n",
       "4    1   58   100     1      2                     6                     1  4   \n",
       "\n",
       "   N  M  Stage  duration  event  \n",
       "0  2  0      7       110      0  \n",
       "1  0  0      3       107      0  \n",
       "2  3  0      8       106      0  \n",
       "3  0  0      3       105      0  \n",
       "4  2  0      7       102      0  "
      ]
     },
     "execution_count": 4,
     "metadata": {},
     "output_type": "execute_result"
    }
   ],
   "source": [
    "# to label encoding categorical variables\n",
    "le = LabelEncoder() #label encoder\n",
    "cat_list = ['Sex','Site', 'Grade', 'T', 'N', 'M', 'Stage'] #list of categorical variables\n",
    "for cat in cat_list:\n",
    "    df_train[cat] = le.fit_transform(df_train[cat])\n",
    "    df_test[cat] = le.fit_transform(df_test[cat])\n",
    "\n",
    "df_train.head()"
   ]
  },
  {
   "cell_type": "code",
   "execution_count": 5,
   "id": "b0a5e001",
   "metadata": {},
   "outputs": [],
   "source": [
    "# function to get targets variable\n",
    "get_target = lambda df: (df['duration'].values, df['event'].values)\n",
    "\n",
    "# to standardize and get dependent variables \n",
    "cols_standardize = ['Age', 'Size', 'Lymph.nodes.examined', 'Lymph.nodes.positive'] # list of variables for standardization\n",
    "cols_leave = ['Sex','Site', 'Grade', 'T', 'N', 'M', 'Stage'] #categorical variables \n",
    "\n",
    "standardize = [([col], StandardScaler()) for col in cols_standardize]\n",
    "leave = [(col, None) for col in cols_leave]\n",
    "\n",
    "x_mapper = DataFrameMapper(standardize + leave)"
   ]
  },
  {
   "cell_type": "code",
   "execution_count": 6,
   "id": "0151ef19",
   "metadata": {},
   "outputs": [],
   "source": [
    "x_train = x_mapper.fit_transform(df_train).astype('float32')\n",
    "x_test = x_mapper.transform(df_test).astype('float32')\n",
    "\n",
    "num_durations = 10\n",
    "\n",
    "labtrans = MTLR.label_transform(num_durations)\n",
    "\n",
    "y_train = labtrans.fit_transform(*get_target(df_train))\n",
    "y_test = labtrans.transform(*get_target(df_test))\n",
    "\n",
    "train = (x_train, y_train)\n",
    "val = (x_test, y_test)\n",
    "\n",
    "# We don't need to transform the test labels\n",
    "durations_test, events_test = get_target(df_test)"
   ]
  },
  {
   "cell_type": "markdown",
   "id": "38440b7c",
   "metadata": {},
   "source": [
    "# Neural Network"
   ]
  },
  {
   "cell_type": "code",
   "execution_count": 54,
   "id": "659f4b1f",
   "metadata": {
    "scrolled": true
   },
   "outputs": [
    {
     "name": "stdout",
     "output_type": "stream",
     "text": [
      "0:\t[0s / 0s],\t\ttrain_loss: 1.9718,\tval_loss: 1.5023\n",
      "1:\t[0s / 0s],\t\ttrain_loss: 1.7053,\tval_loss: 1.4044\n",
      "2:\t[0s / 0s],\t\ttrain_loss: 1.5670,\tval_loss: 1.3791\n",
      "3:\t[0s / 0s],\t\ttrain_loss: 1.5434,\tval_loss: 1.3521\n",
      "4:\t[0s / 0s],\t\ttrain_loss: 1.5636,\tval_loss: 1.3239\n",
      "5:\t[0s / 0s],\t\ttrain_loss: 1.5199,\tval_loss: 1.3111\n",
      "6:\t[0s / 0s],\t\ttrain_loss: 1.4615,\tval_loss: 1.3017\n",
      "7:\t[0s / 0s],\t\ttrain_loss: 1.4255,\tval_loss: 1.2883\n",
      "8:\t[0s / 0s],\t\ttrain_loss: 1.4225,\tval_loss: 1.2860\n",
      "9:\t[0s / 0s],\t\ttrain_loss: 1.4262,\tval_loss: 1.2911\n",
      "10:\t[0s / 0s],\t\ttrain_loss: 1.3894,\tval_loss: 1.2851\n",
      "11:\t[0s / 0s],\t\ttrain_loss: 1.4288,\tval_loss: 1.2923\n",
      "12:\t[0s / 0s],\t\ttrain_loss: 1.4198,\tval_loss: 1.3092\n",
      "13:\t[0s / 0s],\t\ttrain_loss: 1.4331,\tval_loss: 1.3301\n",
      "14:\t[0s / 0s],\t\ttrain_loss: 1.4279,\tval_loss: 1.3549\n",
      "15:\t[0s / 0s],\t\ttrain_loss: 1.4186,\tval_loss: 1.3521\n",
      "16:\t[0s / 0s],\t\ttrain_loss: 1.4328,\tval_loss: 1.3603\n",
      "17:\t[0s / 0s],\t\ttrain_loss: 1.3696,\tval_loss: 1.3315\n",
      "18:\t[0s / 0s],\t\ttrain_loss: 1.3969,\tval_loss: 1.3112\n",
      "19:\t[0s / 0s],\t\ttrain_loss: 1.4504,\tval_loss: 1.2932\n",
      "20:\t[0s / 0s],\t\ttrain_loss: 1.3295,\tval_loss: 1.3228\n",
      "21:\t[0s / 0s],\t\ttrain_loss: 1.3577,\tval_loss: 1.3910\n",
      "22:\t[0s / 0s],\t\ttrain_loss: 1.3671,\tval_loss: 1.4077\n",
      "23:\t[0s / 0s],\t\ttrain_loss: 1.3729,\tval_loss: 1.4290\n",
      "24:\t[0s / 0s],\t\ttrain_loss: 1.4160,\tval_loss: 1.4303\n",
      "25:\t[0s / 0s],\t\ttrain_loss: 1.3360,\tval_loss: 1.4183\n",
      "26:\t[0s / 0s],\t\ttrain_loss: 1.3440,\tval_loss: 1.4085\n",
      "27:\t[0s / 0s],\t\ttrain_loss: 1.2845,\tval_loss: 1.3956\n",
      "28:\t[0s / 0s],\t\ttrain_loss: 1.3348,\tval_loss: 1.3922\n",
      "29:\t[0s / 0s],\t\ttrain_loss: 1.3292,\tval_loss: 1.4057\n",
      "30:\t[0s / 0s],\t\ttrain_loss: 1.3262,\tval_loss: 1.4229\n",
      "31:\t[0s / 0s],\t\ttrain_loss: 1.3286,\tval_loss: 1.4156\n",
      "32:\t[0s / 0s],\t\ttrain_loss: 1.3530,\tval_loss: 1.4259\n",
      "33:\t[0s / 0s],\t\ttrain_loss: 1.4021,\tval_loss: 1.4291\n",
      "34:\t[0s / 0s],\t\ttrain_loss: 1.3556,\tval_loss: 1.3918\n",
      "35:\t[0s / 0s],\t\ttrain_loss: 1.3165,\tval_loss: 1.4001\n",
      "36:\t[0s / 0s],\t\ttrain_loss: 1.3163,\tval_loss: 1.4076\n",
      "37:\t[0s / 0s],\t\ttrain_loss: 1.4230,\tval_loss: 1.4202\n",
      "38:\t[0s / 0s],\t\ttrain_loss: 1.3156,\tval_loss: 1.4264\n",
      "39:\t[0s / 0s],\t\ttrain_loss: 1.3129,\tval_loss: 1.4235\n",
      "40:\t[0s / 0s],\t\ttrain_loss: 1.2388,\tval_loss: 1.4156\n"
     ]
    }
   ],
   "source": [
    "in_features = x_train.shape[1]\n",
    "num_nodes = [64,8]\n",
    "# out_features = 1\n",
    "out_features = labtrans.out_features\n",
    "batch_norm = True\n",
    "dropout = 0.4\n",
    "output_bias = False\n",
    "epochs = 100\n",
    "callbacks = [tt.callbacks.EarlyStopping(patience=30)]\n",
    "#callbacks = None\n",
    "verbose = True\n",
    "batch_size = 64\n",
    "\n",
    "net = tt.practical.MLPVanilla(in_features, num_nodes, out_features, batch_norm, dropout)\n",
    "\n",
    "model_cox = MTLR(net, tt.optim.Adam(lr=0.01,amsgrad=True), duration_index=labtrans.cuts) #cox model on the neural network with Adam optimizer\n",
    "\n",
    "log_cox = model_cox.fit(x_train, y_train, batch_size, epochs, callbacks,val_data =val)\n"
   ]
  },
  {
   "cell_type": "code",
   "execution_count": 55,
   "id": "4d668cdd",
   "metadata": {},
   "outputs": [
    {
     "data": {
      "text/plain": [
       "0.7298553719008265"
      ]
     },
     "execution_count": 55,
     "metadata": {},
     "output_type": "execute_result"
    },
    {
     "data": {
      "text/plain": [
       "<Figure size 864x864 with 0 Axes>"
      ]
     },
     "metadata": {},
     "output_type": "display_data"
    },
    {
     "data": {
      "image/png": "[encoded data removed]",
      "text/plain": [
       "<Figure size 432x288 with 1 Axes>"
      ]
     },
     "metadata": {
      "needs_background": "light"
     },
     "output_type": "display_data"
    }
   ],
   "source": [
    "#plotting the loss vs epoch \n",
    "plt.figure(figsize=[12,12])\n",
    "log_cox.plot()\n",
    "plt.xlabel('Epoch', fontsize = 16)\n",
    "plt.ylabel('Loss', fontsize = 16)\n",
    "\n",
    "# predict for the cox model(external validation)\n",
    "#model_cox.compute_baseline_hazards() #baseline hazard\n",
    "surv_cox = model_cox.interpolate(10).predict_surv_df(x_test) # survival of the test data\n",
    "# evaluate the c-index of the cox model \n",
    "eval_cox = EvalSurv(surv_cox, durations_test, events_test, censor_surv= 'km')\n",
    "cox_index = eval_cox.concordance_td('antolini') \n",
    "cox_index  # cox_index  at all"
   ]
  },
  {
   "cell_type": "code",
   "execution_count": 56,
   "id": "87868c79",
   "metadata": {},
   "outputs": [
    {
     "data": {
      "text/plain": [
       "0.17115440380258484"
      ]
     },
     "execution_count": 56,
     "metadata": {},
     "output_type": "execute_result"
    },
    {
     "data": {
      "image/png": "[encoded data removed]",
      "text/plain": [
       "<Figure size 432x288 with 1 Axes>"
      ]
     },
     "metadata": {
      "needs_background": "light"
     },
     "output_type": "display_data"
    }
   ],
   "source": [
    "# integrated_brier_score at all\n",
    "time_grid = np.linspace(durations_test.min(), durations_test.max(), 100)\n",
    "_ = eval_cox.brier_score(time_grid).plot()\n",
    "eval_cox.integrated_brier_score(time_grid)"
   ]
  },
  {
   "cell_type": "markdown",
   "id": "45139087",
   "metadata": {},
   "source": [
    "# Internal validation"
   ]
  },
  {
   "cell_type": "code",
   "execution_count": 57,
   "id": "ba754c3c",
   "metadata": {},
   "outputs": [
    {
     "data": {
      "text/plain": [
       "0.5178904574945006"
      ]
     },
     "execution_count": 57,
     "metadata": {},
     "output_type": "execute_result"
    }
   ],
   "source": [
    "# c-index at  all\n",
    "durations_test0, events_test0 = y_train \n",
    "surv_cox0 = model_cox.predict_surv_df(x_train) # survival of the test data\n",
    "eval_cox0 = EvalSurv(surv_cox0,durations_test0, events_test0, censor_surv= 'km')\n",
    "cox_index0 = eval_cox0.concordance_td('antolini') \n",
    "cox_index0 "
   ]
  },
  {
   "cell_type": "code",
   "execution_count": 58,
   "id": "720134a7",
   "metadata": {},
   "outputs": [
    {
     "data": {
      "text/plain": [
       "0.3694534115921843"
      ]
     },
     "execution_count": 58,
     "metadata": {},
     "output_type": "execute_result"
    },
    {
     "data": {
      "image/png": "[encoded data removed]",
      "text/plain": [
       "<Figure size 432x288 with 1 Axes>"
      ]
     },
     "metadata": {
      "needs_background": "light"
     },
     "output_type": "display_data"
    }
   ],
   "source": [
    "# brier score at all\n",
    "time_grid0 = np.linspace(durations_test0.min(), durations_test0.max(), 100)\n",
    "_ = eval_cox0.brier_score(time_grid0).plot()\n",
    "eval_cox0.integrated_brier_score(time_grid0)"
   ]
  },
  {
   "cell_type": "code",
   "execution_count": 61,
   "id": "3206044b",
   "metadata": {},
   "outputs": [
    {
     "name": "stdout",
     "output_type": "stream",
     "text": [
      "Bootstrap Internal validation:\n",
      "The C-index:0.5270613986285133\n",
      "The C-index Low 95% CI:0.5243342017956544\n",
      "The C-index High 95% CI:0.5297885954613722\n"
     ]
    }
   ],
   "source": [
    "# Internal\n",
    "# ATTENTION :x_train, y_train is numpy.ndarray\n",
    "in_tem = []\n",
    "for i in range(1000):\n",
    "    idx = np.random.choice(len(x_train),size = 100,replace = True)\n",
    "    x_tem = x_train[idx,]\n",
    "    surv_cox_tem = model_cox.predict_surv_df(x_tem) # survival of the test data\n",
    "    eval_cox_tem = EvalSurv(surv_cox_tem, y_train[0][idx], y_train[1][idx], censor_surv= 'km')\n",
    "    c_tem = eval_cox_tem.concordance_td() \n",
    "    in_tem.append(c_tem)\n",
    "\n",
    "in_mean = np.mean(in_tem)\n",
    "in_se = np.std(in_tem) / np.power(1000,0.5)\n",
    "print(\"Bootstrap Internal validation:\")\n",
    "print(\"The C-index:{}\".format(in_mean))\n",
    "print(\"The C-index Low 95% CI:{}\".format(in_mean - 1.96 * in_se))\n",
    "print(\"The C-index High 95% CI:{}\".format(in_mean + 1.96 * in_se))"
   ]
  },
  {
   "cell_type": "code",
   "execution_count": 62,
   "id": "9edf7c5d",
   "metadata": {},
   "outputs": [
    {
     "name": "stdout",
     "output_type": "stream",
     "text": [
      "Bootstrap External validation:\n",
      "The C-index:0.6429554797985696\n",
      "The C-index Low 95% CI:0.6400155618109932\n",
      "The C-index High 95% CI:0.645895397786146\n"
     ]
    }
   ],
   "source": [
    "# External\n",
    "ex_tem = []\n",
    "for i in range(1000):\n",
    "    idx = np.random.choice(len(x_test),size = 100,replace = True)\n",
    "    x_tem = x_test[idx,]\n",
    "    surv_cox_tem = model_cox.predict_surv_df(x_tem) # survival of the test data\n",
    "    eval_cox_tem = EvalSurv(surv_cox_tem, y_test[0][idx], y_test[1][idx], censor_surv= 'km')\n",
    "    c_tem = eval_cox_tem.concordance_td() \n",
    "    ex_tem.append(c_tem)\n",
    "\n",
    "ex_mean = np.mean(ex_tem)\n",
    "ex_se = np.std(ex_tem) / np.power(1000,0.5)\n",
    "print(\"Bootstrap External validation:\")\n",
    "print(\"The C-index:{}\".format(ex_mean))\n",
    "print(\"The C-index Low 95% CI:{}\".format(ex_mean - 1.96 * ex_se))\n",
    "print(\"The C-index High 95% CI:{}\".format(ex_mean + 1.96 * ex_se))"
   ]
  },
  {
   "cell_type": "markdown",
   "id": "d76733e0",
   "metadata": {},
   "source": [
    "# Save"
   ]
  },
  {
   "cell_type": "code",
   "execution_count": 59,
   "id": "c186041f",
   "metadata": {},
   "outputs": [],
   "source": [
    "model_cox.save_model_weights('myweights_NMTLR.pt')"
   ]
  },
  {
   "cell_type": "markdown",
   "id": "c6827657",
   "metadata": {},
   "source": [
    "# LASSO var"
   ]
  },
  {
   "cell_type": "code",
   "execution_count": 63,
   "id": "8df48456",
   "metadata": {},
   "outputs": [
    {
     "data": {
      "text/html": [
       "<div>\n",
       "<style scoped>\n",
       "    .dataframe tbody tr th:only-of-type {\n",
       "        vertical-align: middle;\n",
       "    }\n",
       "\n",
       "    .dataframe tbody tr th {\n",
       "        vertical-align: top;\n",
       "    }\n",
       "\n",
       "    .dataframe thead th {\n",
       "        text-align: right;\n",
       "    }\n",
       "</style>\n",
       "<table border=\"1\" class=\"dataframe\">\n",
       "  <thead>\n",
       "    <tr style=\"text-align: right;\">\n",
       "      <th></th>\n",
       "      <th>Age</th>\n",
       "      <th>Size</th>\n",
       "      <th>Site</th>\n",
       "      <th>Grade</th>\n",
       "      <th>Lymph.nodes.examined</th>\n",
       "      <th>Lymph.nodes.positive</th>\n",
       "      <th>T</th>\n",
       "      <th>N</th>\n",
       "      <th>M</th>\n",
       "      <th>Stage</th>\n",
       "    </tr>\n",
       "  </thead>\n",
       "  <tbody>\n",
       "    <tr>\n",
       "      <th>0</th>\n",
       "      <td>41</td>\n",
       "      <td>65</td>\n",
       "      <td>3</td>\n",
       "      <td>1</td>\n",
       "      <td>29</td>\n",
       "      <td>1</td>\n",
       "      <td>2</td>\n",
       "      <td>2</td>\n",
       "      <td>0</td>\n",
       "      <td>7</td>\n",
       "    </tr>\n",
       "    <tr>\n",
       "      <th>1</th>\n",
       "      <td>54</td>\n",
       "      <td>95</td>\n",
       "      <td>0</td>\n",
       "      <td>1</td>\n",
       "      <td>37</td>\n",
       "      <td>0</td>\n",
       "      <td>4</td>\n",
       "      <td>0</td>\n",
       "      <td>0</td>\n",
       "      <td>3</td>\n",
       "    </tr>\n",
       "    <tr>\n",
       "      <th>2</th>\n",
       "      <td>78</td>\n",
       "      <td>65</td>\n",
       "      <td>7</td>\n",
       "      <td>1</td>\n",
       "      <td>20</td>\n",
       "      <td>2</td>\n",
       "      <td>5</td>\n",
       "      <td>3</td>\n",
       "      <td>0</td>\n",
       "      <td>8</td>\n",
       "    </tr>\n",
       "    <tr>\n",
       "      <th>3</th>\n",
       "      <td>33</td>\n",
       "      <td>150</td>\n",
       "      <td>4</td>\n",
       "      <td>1</td>\n",
       "      <td>9</td>\n",
       "      <td>0</td>\n",
       "      <td>4</td>\n",
       "      <td>0</td>\n",
       "      <td>0</td>\n",
       "      <td>3</td>\n",
       "    </tr>\n",
       "    <tr>\n",
       "      <th>4</th>\n",
       "      <td>58</td>\n",
       "      <td>100</td>\n",
       "      <td>1</td>\n",
       "      <td>2</td>\n",
       "      <td>6</td>\n",
       "      <td>1</td>\n",
       "      <td>4</td>\n",
       "      <td>2</td>\n",
       "      <td>0</td>\n",
       "      <td>7</td>\n",
       "    </tr>\n",
       "  </tbody>\n",
       "</table>\n",
       "</div>"
      ],
      "text/plain": [
       "   Age  Size  Site  Grade  Lymph.nodes.examined  Lymph.nodes.positive  T  N  \\\n",
       "0   41    65     3      1                    29                     1  2  2   \n",
       "1   54    95     0      1                    37                     0  4  0   \n",
       "2   78    65     7      1                    20                     2  5  3   \n",
       "3   33   150     4      1                     9                     0  4  0   \n",
       "4   58   100     1      2                     6                     1  4  2   \n",
       "\n",
       "   M  Stage  \n",
       "0  0      7  \n",
       "1  0      3  \n",
       "2  0      8  \n",
       "3  0      3  \n",
       "4  0      7  "
      ]
     },
     "execution_count": 63,
     "metadata": {},
     "output_type": "execute_result"
    }
   ],
   "source": [
    "df_train_lasso = df_train[[\"Age\",\"Size\",\"Site\",\"Grade\",\"Lymph.nodes.examined\",\"Lymph.nodes.positive\",\"T\",\"N\",\"M\",\"Stage\"]]\n",
    "df_test_lasso = df_test[[\"Age\",\"Size\",\"Site\",\"Grade\",\"Lymph.nodes.examined\",\"Lymph.nodes.positive\",\"T\",\"N\",\"M\",\"Stage\"]]\n",
    "df_train_lasso.head()"
   ]
  },
  {
   "cell_type": "code",
   "execution_count": 64,
   "id": "23de84bd",
   "metadata": {},
   "outputs": [],
   "source": [
    "# to standardize and get dependent variables \n",
    "cols_standardize = ['Age', 'Size', 'Lymph.nodes.examined', 'Lymph.nodes.positive'] # list of variables for standardization\n",
    "cols_leave = ['Site', 'Grade', 'T', 'N', 'M', 'Stage'] #categorical variables \n",
    "\n",
    "standardize = [([col], StandardScaler()) for col in cols_standardize]\n",
    "leave = [(col, None) for col in cols_leave]\n",
    "\n",
    "x_mapper = DataFrameMapper(standardize + leave)\n",
    "\n",
    "x_train = x_mapper.fit_transform(df_train_lasso).astype('float32')\n",
    "x_test = x_mapper.transform(df_test_lasso).astype('float32')\n",
    "\n",
    "train = (x_train, y_train)\n",
    "val = (x_test, y_test)"
   ]
  },
  {
   "cell_type": "code",
   "execution_count": 95,
   "id": "d88fde4b",
   "metadata": {},
   "outputs": [
    {
     "name": "stdout",
     "output_type": "stream",
     "text": [
      "0:\t[0s / 0s],\t\ttrain_loss: 1.8796,\tval_loss: 1.4309\n",
      "1:\t[0s / 0s],\t\ttrain_loss: 1.5989,\tval_loss: 1.3784\n",
      "2:\t[0s / 0s],\t\ttrain_loss: 1.5701,\tval_loss: 1.3349\n",
      "3:\t[0s / 0s],\t\ttrain_loss: 1.5166,\tval_loss: 1.3308\n",
      "4:\t[0s / 0s],\t\ttrain_loss: 1.4018,\tval_loss: 1.3485\n",
      "5:\t[0s / 0s],\t\ttrain_loss: 1.4565,\tval_loss: 1.3482\n",
      "6:\t[0s / 0s],\t\ttrain_loss: 1.5043,\tval_loss: 1.3129\n",
      "7:\t[0s / 0s],\t\ttrain_loss: 1.3950,\tval_loss: 1.3026\n",
      "8:\t[0s / 0s],\t\ttrain_loss: 1.3718,\tval_loss: 1.2922\n",
      "9:\t[0s / 0s],\t\ttrain_loss: 1.3735,\tval_loss: 1.2971\n",
      "10:\t[0s / 0s],\t\ttrain_loss: 1.4272,\tval_loss: 1.2812\n",
      "11:\t[0s / 0s],\t\ttrain_loss: 1.4033,\tval_loss: 1.2727\n",
      "12:\t[0s / 0s],\t\ttrain_loss: 1.4113,\tval_loss: 1.2649\n",
      "13:\t[0s / 0s],\t\ttrain_loss: 1.3549,\tval_loss: 1.2883\n",
      "14:\t[0s / 0s],\t\ttrain_loss: 1.3180,\tval_loss: 1.2892\n",
      "15:\t[0s / 0s],\t\ttrain_loss: 1.3461,\tval_loss: 1.2675\n",
      "16:\t[0s / 0s],\t\ttrain_loss: 1.3794,\tval_loss: 1.2577\n",
      "17:\t[0s / 0s],\t\ttrain_loss: 1.3298,\tval_loss: 1.2576\n",
      "18:\t[0s / 0s],\t\ttrain_loss: 1.4319,\tval_loss: 1.2699\n",
      "19:\t[0s / 0s],\t\ttrain_loss: 1.3571,\tval_loss: 1.2726\n",
      "20:\t[0s / 0s],\t\ttrain_loss: 1.2841,\tval_loss: 1.2663\n",
      "21:\t[0s / 0s],\t\ttrain_loss: 1.3498,\tval_loss: 1.2458\n",
      "22:\t[0s / 0s],\t\ttrain_loss: 1.2457,\tval_loss: 1.2407\n",
      "23:\t[0s / 0s],\t\ttrain_loss: 1.2541,\tval_loss: 1.2563\n",
      "24:\t[0s / 0s],\t\ttrain_loss: 1.3571,\tval_loss: 1.2623\n",
      "25:\t[0s / 0s],\t\ttrain_loss: 1.2858,\tval_loss: 1.2524\n",
      "26:\t[0s / 0s],\t\ttrain_loss: 1.2536,\tval_loss: 1.2622\n",
      "27:\t[0s / 0s],\t\ttrain_loss: 1.3167,\tval_loss: 1.2607\n",
      "28:\t[0s / 0s],\t\ttrain_loss: 1.3859,\tval_loss: 1.2522\n",
      "29:\t[0s / 0s],\t\ttrain_loss: 1.3839,\tval_loss: 1.2327\n",
      "30:\t[0s / 0s],\t\ttrain_loss: 1.2850,\tval_loss: 1.2717\n",
      "31:\t[0s / 0s],\t\ttrain_loss: 1.3486,\tval_loss: 1.2352\n",
      "32:\t[0s / 0s],\t\ttrain_loss: 1.2713,\tval_loss: 1.2457\n",
      "33:\t[0s / 0s],\t\ttrain_loss: 1.4128,\tval_loss: 1.2359\n",
      "34:\t[0s / 0s],\t\ttrain_loss: 1.2332,\tval_loss: 1.2287\n",
      "35:\t[0s / 0s],\t\ttrain_loss: 1.2551,\tval_loss: 1.2433\n",
      "36:\t[0s / 0s],\t\ttrain_loss: 1.3043,\tval_loss: 1.2623\n",
      "37:\t[0s / 0s],\t\ttrain_loss: 1.3507,\tval_loss: 1.2440\n",
      "38:\t[0s / 0s],\t\ttrain_loss: 1.2828,\tval_loss: 1.2583\n",
      "39:\t[0s / 0s],\t\ttrain_loss: 1.2410,\tval_loss: 1.2601\n",
      "40:\t[0s / 0s],\t\ttrain_loss: 1.2462,\tval_loss: 1.2545\n",
      "41:\t[0s / 0s],\t\ttrain_loss: 1.3878,\tval_loss: 1.2469\n",
      "42:\t[0s / 0s],\t\ttrain_loss: 1.3138,\tval_loss: 1.2741\n",
      "43:\t[0s / 0s],\t\ttrain_loss: 1.3007,\tval_loss: 1.2538\n",
      "44:\t[0s / 0s],\t\ttrain_loss: 1.2948,\tval_loss: 1.2308\n",
      "45:\t[0s / 0s],\t\ttrain_loss: 1.2614,\tval_loss: 1.2259\n",
      "46:\t[0s / 0s],\t\ttrain_loss: 1.2510,\tval_loss: 1.2331\n",
      "47:\t[0s / 0s],\t\ttrain_loss: 1.2653,\tval_loss: 1.2121\n",
      "48:\t[0s / 0s],\t\ttrain_loss: 1.2317,\tval_loss: 1.2158\n",
      "49:\t[0s / 0s],\t\ttrain_loss: 1.1885,\tval_loss: 1.2209\n",
      "50:\t[0s / 0s],\t\ttrain_loss: 1.2514,\tval_loss: 1.2424\n",
      "51:\t[0s / 0s],\t\ttrain_loss: 1.3758,\tval_loss: 1.2409\n",
      "52:\t[0s / 0s],\t\ttrain_loss: 1.2435,\tval_loss: 1.2327\n",
      "53:\t[0s / 0s],\t\ttrain_loss: 1.2065,\tval_loss: 1.2121\n",
      "54:\t[0s / 0s],\t\ttrain_loss: 1.2063,\tval_loss: 1.2290\n",
      "55:\t[0s / 0s],\t\ttrain_loss: 1.2223,\tval_loss: 1.2329\n",
      "56:\t[0s / 0s],\t\ttrain_loss: 1.2625,\tval_loss: 1.2471\n",
      "57:\t[0s / 0s],\t\ttrain_loss: 1.3110,\tval_loss: 1.2549\n",
      "58:\t[0s / 0s],\t\ttrain_loss: 1.2073,\tval_loss: 1.2632\n",
      "59:\t[0s / 0s],\t\ttrain_loss: 1.2478,\tval_loss: 1.2736\n",
      "60:\t[0s / 1s],\t\ttrain_loss: 1.2066,\tval_loss: 1.2902\n",
      "61:\t[0s / 1s],\t\ttrain_loss: 1.2239,\tval_loss: 1.2724\n",
      "62:\t[0s / 1s],\t\ttrain_loss: 1.1964,\tval_loss: 1.2488\n",
      "63:\t[0s / 1s],\t\ttrain_loss: 1.2713,\tval_loss: 1.2487\n",
      "64:\t[0s / 1s],\t\ttrain_loss: 1.1643,\tval_loss: 1.2581\n",
      "65:\t[0s / 1s],\t\ttrain_loss: 1.1280,\tval_loss: 1.2507\n",
      "66:\t[0s / 1s],\t\ttrain_loss: 1.3332,\tval_loss: 1.2965\n",
      "67:\t[0s / 1s],\t\ttrain_loss: 1.2074,\tval_loss: 1.2886\n",
      "68:\t[0s / 1s],\t\ttrain_loss: 1.2361,\tval_loss: 1.2465\n",
      "69:\t[0s / 1s],\t\ttrain_loss: 1.2904,\tval_loss: 1.2006\n",
      "70:\t[0s / 1s],\t\ttrain_loss: 1.1930,\tval_loss: 1.2303\n",
      "71:\t[0s / 1s],\t\ttrain_loss: 1.2016,\tval_loss: 1.2308\n",
      "72:\t[0s / 1s],\t\ttrain_loss: 1.3301,\tval_loss: 1.2489\n",
      "73:\t[0s / 1s],\t\ttrain_loss: 1.1983,\tval_loss: 1.2792\n",
      "74:\t[0s / 1s],\t\ttrain_loss: 1.2223,\tval_loss: 1.3237\n",
      "75:\t[0s / 1s],\t\ttrain_loss: 1.3417,\tval_loss: 1.3241\n",
      "76:\t[0s / 1s],\t\ttrain_loss: 1.2532,\tval_loss: 1.2937\n",
      "77:\t[0s / 1s],\t\ttrain_loss: 1.1957,\tval_loss: 1.3118\n",
      "78:\t[0s / 1s],\t\ttrain_loss: 1.2714,\tval_loss: 1.2908\n",
      "79:\t[0s / 1s],\t\ttrain_loss: 1.3023,\tval_loss: 1.2812\n",
      "80:\t[0s / 1s],\t\ttrain_loss: 1.2316,\tval_loss: 1.2733\n",
      "81:\t[0s / 1s],\t\ttrain_loss: 1.2029,\tval_loss: 1.2824\n",
      "82:\t[0s / 1s],\t\ttrain_loss: 1.2683,\tval_loss: 1.2540\n",
      "83:\t[0s / 1s],\t\ttrain_loss: 1.1921,\tval_loss: 1.2323\n",
      "84:\t[0s / 1s],\t\ttrain_loss: 1.2429,\tval_loss: 1.2228\n",
      "85:\t[0s / 1s],\t\ttrain_loss: 1.1546,\tval_loss: 1.2734\n",
      "86:\t[0s / 1s],\t\ttrain_loss: 1.1388,\tval_loss: 1.2795\n",
      "87:\t[0s / 1s],\t\ttrain_loss: 1.1843,\tval_loss: 1.3134\n",
      "88:\t[0s / 1s],\t\ttrain_loss: 1.1760,\tval_loss: 1.3697\n",
      "89:\t[0s / 1s],\t\ttrain_loss: 1.1660,\tval_loss: 1.3269\n",
      "90:\t[0s / 1s],\t\ttrain_loss: 1.1262,\tval_loss: 1.3048\n",
      "91:\t[0s / 1s],\t\ttrain_loss: 1.1984,\tval_loss: 1.2875\n",
      "92:\t[0s / 1s],\t\ttrain_loss: 1.1234,\tval_loss: 1.2792\n",
      "93:\t[0s / 1s],\t\ttrain_loss: 1.2041,\tval_loss: 1.3208\n",
      "94:\t[0s / 1s],\t\ttrain_loss: 1.2124,\tval_loss: 1.2727\n",
      "95:\t[0s / 1s],\t\ttrain_loss: 1.1390,\tval_loss: 1.2475\n",
      "96:\t[0s / 1s],\t\ttrain_loss: 1.1358,\tval_loss: 1.2589\n",
      "97:\t[0s / 1s],\t\ttrain_loss: 1.1927,\tval_loss: 1.2896\n",
      "98:\t[0s / 1s],\t\ttrain_loss: 1.1584,\tval_loss: 1.3131\n",
      "99:\t[0s / 1s],\t\ttrain_loss: 1.0828,\tval_loss: 1.3179\n"
     ]
    }
   ],
   "source": [
    "in_features = x_train.shape[1]\n",
    "num_nodes = [64,16]\n",
    "# out_features = 1\n",
    "out_features = labtrans.out_features\n",
    "batch_norm = True\n",
    "dropout = 0.4\n",
    "output_bias = False\n",
    "epochs = 100\n",
    "callbacks = [tt.callbacks.EarlyStopping(patience=30)]\n",
    "#callbacks = None\n",
    "verbose = True\n",
    "batch_size = 64\n",
    "\n",
    "net = tt.practical.MLPVanilla(in_features, num_nodes, out_features, batch_norm, dropout)\n",
    "\n",
    "model_cox = MTLR(net, tt.optim.Adam(lr=0.01,amsgrad=True), duration_index=labtrans.cuts) #cox model on the neural network with Adam optimizer\n",
    "\n",
    "log_cox = model_cox.fit(x_train, y_train, batch_size, epochs, callbacks,val_data =val)\n"
   ]
  },
  {
   "cell_type": "code",
   "execution_count": 97,
   "id": "4d163288",
   "metadata": {},
   "outputs": [
    {
     "data": {
      "text/plain": [
       "0.6947314049586777"
      ]
     },
     "execution_count": 97,
     "metadata": {},
     "output_type": "execute_result"
    },
    {
     "data": {
      "text/plain": [
       "<Figure size 864x864 with 0 Axes>"
      ]
     },
     "metadata": {},
     "output_type": "display_data"
    },
    {
     "data": {
      "image/png": "[encoded data removed]",
      "text/plain": [
       "<Figure size 432x288 with 1 Axes>"
      ]
     },
     "metadata": {
      "needs_background": "light"
     },
     "output_type": "display_data"
    }
   ],
   "source": [
    "#plotting the loss vs epoch \n",
    "plt.figure(figsize=[12,12])\n",
    "log_cox.plot()\n",
    "plt.xlabel('Epoch', fontsize = 16)\n",
    "plt.ylabel('Loss', fontsize = 16)\n",
    "\n",
    "# predict for the cox model(external validation)\n",
    "#model_cox.compute_baseline_hazards() #baseline hazard\n",
    "surv_cox = model_cox.interpolate(10).predict_surv_df(x_test) # survival of the test data\n",
    "# evaluate the c-index of the cox model \n",
    "eval_cox = EvalSurv(surv_cox, durations_test, events_test, censor_surv= 'km')\n",
    "cox_index = eval_cox.concordance_td('antolini') \n",
    "cox_index  # cox_index  at all"
   ]
  },
  {
   "cell_type": "code",
   "execution_count": 98,
   "id": "3dd28a46",
   "metadata": {},
   "outputs": [
    {
     "data": {
      "text/plain": [
       "0.15986563006039786"
      ]
     },
     "execution_count": 98,
     "metadata": {},
     "output_type": "execute_result"
    },
    {
     "data": {
      "image/png": "[encoded data removed]",
      "text/plain": [
       "<Figure size 432x288 with 1 Axes>"
      ]
     },
     "metadata": {
      "needs_background": "light"
     },
     "output_type": "display_data"
    }
   ],
   "source": [
    "# integrated_brier_score at all\n",
    "time_grid = np.linspace(durations_test.min(), durations_test.max(), 100)\n",
    "_ = eval_cox.brier_score(time_grid).plot()\n",
    "eval_cox.integrated_brier_score(time_grid)"
   ]
  },
  {
   "cell_type": "code",
   "execution_count": 99,
   "id": "ca511de0",
   "metadata": {},
   "outputs": [
    {
     "data": {
      "text/plain": [
       "0.516414668782892"
      ]
     },
     "execution_count": 99,
     "metadata": {},
     "output_type": "execute_result"
    }
   ],
   "source": [
    "# c-index at  all\n",
    "durations_test0, events_test0 = y_train \n",
    "surv_cox0 = model_cox.predict_surv_df(x_train) # survival of the test data\n",
    "eval_cox0 = EvalSurv(surv_cox0,durations_test0, events_test0, censor_surv= 'km')\n",
    "cox_index0 = eval_cox0.concordance_td('antolini') \n",
    "cox_index0 "
   ]
  },
  {
   "cell_type": "code",
   "execution_count": 100,
   "id": "c3ffd6a3",
   "metadata": {},
   "outputs": [
    {
     "data": {
      "text/plain": [
       "0.3818974371266225"
      ]
     },
     "execution_count": 100,
     "metadata": {},
     "output_type": "execute_result"
    },
    {
     "data": {
      "image/png": "[encoded data removed]",
      "text/plain": [
       "<Figure size 432x288 with 1 Axes>"
      ]
     },
     "metadata": {
      "needs_background": "light"
     },
     "output_type": "display_data"
    }
   ],
   "source": [
    "# brier score at all\n",
    "time_grid0 = np.linspace(durations_test0.min(), durations_test0.max(), 100)\n",
    "_ = eval_cox0.brier_score(time_grid0).plot()\n",
    "eval_cox0.integrated_brier_score(time_grid0)"
   ]
  },
  {
   "cell_type": "code",
   "execution_count": 101,
   "id": "c9f02083",
   "metadata": {},
   "outputs": [
    {
     "name": "stdout",
     "output_type": "stream",
     "text": [
      "Bootstrap Internal validation:\n",
      "The C-index:0.5229286780906425\n",
      "The C-index Low 95% CI:0.5204150867378446\n",
      "The C-index High 95% CI:0.5254422694434403\n"
     ]
    }
   ],
   "source": [
    "# Internal\n",
    "# ATTENTION :x_train, y_train is numpy.ndarray\n",
    "in_tem = []\n",
    "for i in range(1000):\n",
    "    idx = np.random.choice(len(x_train),size = 100,replace = True)\n",
    "    x_tem = x_train[idx,]\n",
    "    surv_cox_tem = model_cox.predict_surv_df(x_tem) # survival of the test data\n",
    "    eval_cox_tem = EvalSurv(surv_cox_tem, y_train[0][idx], y_train[1][idx], censor_surv= 'km')\n",
    "    c_tem = eval_cox_tem.concordance_td() \n",
    "    in_tem.append(c_tem)\n",
    "\n",
    "in_mean = np.mean(in_tem)\n",
    "in_se = np.std(in_tem) / np.power(1000,0.5)\n",
    "print(\"Bootstrap Internal validation:\")\n",
    "print(\"The C-index:{}\".format(in_mean))\n",
    "print(\"The C-index Low 95% CI:{}\".format(in_mean - 1.96 * in_se))\n",
    "print(\"The C-index High 95% CI:{}\".format(in_mean + 1.96 * in_se))"
   ]
  },
  {
   "cell_type": "code",
   "execution_count": 102,
   "id": "ad031471",
   "metadata": {},
   "outputs": [
    {
     "name": "stdout",
     "output_type": "stream",
     "text": [
      "Bootstrap External validation:\n",
      "The C-index:0.6069733730906853\n",
      "The C-index Low 95% CI:0.6041472884052311\n",
      "The C-index High 95% CI:0.6097994577761395\n"
     ]
    }
   ],
   "source": [
    "# External\n",
    "ex_tem = []\n",
    "for i in range(1000):\n",
    "    idx = np.random.choice(len(x_test),size = 100,replace = True)\n",
    "    x_tem = x_test[idx,]\n",
    "    surv_cox_tem = model_cox.predict_surv_df(x_tem) # survival of the test data\n",
    "    eval_cox_tem = EvalSurv(surv_cox_tem, y_test[0][idx], y_test[1][idx], censor_surv= 'km')\n",
    "    c_tem = eval_cox_tem.concordance_td() \n",
    "    ex_tem.append(c_tem)\n",
    "\n",
    "ex_mean = np.mean(ex_tem)\n",
    "ex_se = np.std(ex_tem) / np.power(1000,0.5)\n",
    "print(\"Bootstrap External validation:\")\n",
    "print(\"The C-index:{}\".format(ex_mean))\n",
    "print(\"The C-index Low 95% CI:{}\".format(ex_mean - 1.96 * ex_se))\n",
    "print(\"The C-index High 95% CI:{}\".format(ex_mean + 1.96 * ex_se))"
   ]
  },
  {
   "cell_type": "markdown",
   "id": "1bc2392a",
   "metadata": {},
   "source": [
    "# TNM"
   ]
  },
  {
   "cell_type": "code",
   "execution_count": 103,
   "id": "c8a9ed8f",
   "metadata": {},
   "outputs": [
    {
     "data": {
      "text/html": [
       "<div>\n",
       "<style scoped>\n",
       "    .dataframe tbody tr th:only-of-type {\n",
       "        vertical-align: middle;\n",
       "    }\n",
       "\n",
       "    .dataframe tbody tr th {\n",
       "        vertical-align: top;\n",
       "    }\n",
       "\n",
       "    .dataframe thead th {\n",
       "        text-align: right;\n",
       "    }\n",
       "</style>\n",
       "<table border=\"1\" class=\"dataframe\">\n",
       "  <thead>\n",
       "    <tr style=\"text-align: right;\">\n",
       "      <th></th>\n",
       "      <th>T</th>\n",
       "      <th>N</th>\n",
       "      <th>M</th>\n",
       "      <th>Stage</th>\n",
       "    </tr>\n",
       "  </thead>\n",
       "  <tbody>\n",
       "    <tr>\n",
       "      <th>0</th>\n",
       "      <td>2</td>\n",
       "      <td>2</td>\n",
       "      <td>0</td>\n",
       "      <td>7</td>\n",
       "    </tr>\n",
       "    <tr>\n",
       "      <th>1</th>\n",
       "      <td>4</td>\n",
       "      <td>0</td>\n",
       "      <td>0</td>\n",
       "      <td>3</td>\n",
       "    </tr>\n",
       "    <tr>\n",
       "      <th>2</th>\n",
       "      <td>5</td>\n",
       "      <td>3</td>\n",
       "      <td>0</td>\n",
       "      <td>8</td>\n",
       "    </tr>\n",
       "    <tr>\n",
       "      <th>3</th>\n",
       "      <td>4</td>\n",
       "      <td>0</td>\n",
       "      <td>0</td>\n",
       "      <td>3</td>\n",
       "    </tr>\n",
       "    <tr>\n",
       "      <th>4</th>\n",
       "      <td>4</td>\n",
       "      <td>2</td>\n",
       "      <td>0</td>\n",
       "      <td>7</td>\n",
       "    </tr>\n",
       "  </tbody>\n",
       "</table>\n",
       "</div>"
      ],
      "text/plain": [
       "   T  N  M  Stage\n",
       "0  2  2  0      7\n",
       "1  4  0  0      3\n",
       "2  5  3  0      8\n",
       "3  4  0  0      3\n",
       "4  4  2  0      7"
      ]
     },
     "execution_count": 103,
     "metadata": {},
     "output_type": "execute_result"
    }
   ],
   "source": [
    "df_train_tnm = df_train[[\"T\",\"N\",\"M\",\"Stage\"]]\n",
    "df_test_tnm = df_test[[\"T\",\"N\",\"M\",\"Stage\"]]\n",
    "df_train_tnm.head()"
   ]
  },
  {
   "cell_type": "code",
   "execution_count": 104,
   "id": "7f7a1f7b",
   "metadata": {},
   "outputs": [],
   "source": [
    "# to standardize and get dependent variables \n",
    "cols_leave = ['T', 'N', 'M', 'Stage'] #categorical variables \n",
    "leave = [(col, None) for col in cols_leave]\n",
    "x_mapper = DataFrameMapper(leave)\n",
    "\n",
    "x_train = x_mapper.fit_transform(df_train_tnm).astype('float32')\n",
    "x_test = x_mapper.transform(df_test_tnm).astype('float32')\n",
    "\n",
    "train = (x_train, y_train)\n",
    "val = (x_test, y_test)"
   ]
  },
  {
   "cell_type": "code",
   "execution_count": 153,
   "id": "ee15fbc1",
   "metadata": {},
   "outputs": [
    {
     "name": "stdout",
     "output_type": "stream",
     "text": [
      "0:\t[0s / 0s],\t\ttrain_loss: 1.7085,\tval_loss: 1.6233\n",
      "1:\t[0s / 0s],\t\ttrain_loss: 1.5306,\tval_loss: 1.3622\n",
      "2:\t[0s / 0s],\t\ttrain_loss: 1.6870,\tval_loss: 1.4017\n",
      "3:\t[0s / 0s],\t\ttrain_loss: 1.6610,\tval_loss: 1.3791\n",
      "4:\t[0s / 0s],\t\ttrain_loss: 1.5498,\tval_loss: 1.2808\n",
      "5:\t[0s / 0s],\t\ttrain_loss: 1.3879,\tval_loss: 1.2652\n",
      "6:\t[0s / 0s],\t\ttrain_loss: 1.4268,\tval_loss: 1.2588\n",
      "7:\t[0s / 0s],\t\ttrain_loss: 1.4387,\tval_loss: 1.2640\n",
      "8:\t[0s / 0s],\t\ttrain_loss: 1.3672,\tval_loss: 1.2684\n",
      "9:\t[0s / 0s],\t\ttrain_loss: 1.3902,\tval_loss: 1.3328\n",
      "10:\t[0s / 0s],\t\ttrain_loss: 1.5891,\tval_loss: 1.3113\n",
      "11:\t[0s / 0s],\t\ttrain_loss: 1.3718,\tval_loss: 1.2905\n",
      "12:\t[0s / 0s],\t\ttrain_loss: 1.4044,\tval_loss: 1.3360\n",
      "13:\t[0s / 0s],\t\ttrain_loss: 1.3733,\tval_loss: 1.2748\n",
      "14:\t[0s / 0s],\t\ttrain_loss: 1.3088,\tval_loss: 1.2548\n",
      "15:\t[0s / 0s],\t\ttrain_loss: 1.2849,\tval_loss: 1.2680\n",
      "16:\t[0s / 0s],\t\ttrain_loss: 1.3173,\tval_loss: 1.2695\n",
      "17:\t[0s / 0s],\t\ttrain_loss: 1.3199,\tval_loss: 1.2487\n",
      "18:\t[0s / 0s],\t\ttrain_loss: 1.3173,\tval_loss: 1.2864\n",
      "19:\t[0s / 0s],\t\ttrain_loss: 1.3423,\tval_loss: 1.3060\n",
      "20:\t[0s / 0s],\t\ttrain_loss: 1.3462,\tval_loss: 1.2785\n",
      "21:\t[0s / 0s],\t\ttrain_loss: 1.3371,\tval_loss: 1.3206\n",
      "22:\t[0s / 0s],\t\ttrain_loss: 1.3745,\tval_loss: 1.2931\n",
      "23:\t[0s / 0s],\t\ttrain_loss: 1.4001,\tval_loss: 1.2732\n",
      "24:\t[0s / 0s],\t\ttrain_loss: 1.2888,\tval_loss: 1.3065\n",
      "25:\t[0s / 0s],\t\ttrain_loss: 1.3168,\tval_loss: 1.2466\n",
      "26:\t[0s / 0s],\t\ttrain_loss: 1.3275,\tval_loss: 1.2196\n",
      "27:\t[0s / 0s],\t\ttrain_loss: 1.3070,\tval_loss: 1.2947\n",
      "28:\t[0s / 0s],\t\ttrain_loss: 1.2806,\tval_loss: 1.2733\n",
      "29:\t[0s / 0s],\t\ttrain_loss: 1.3628,\tval_loss: 1.2553\n",
      "30:\t[0s / 0s],\t\ttrain_loss: 1.3260,\tval_loss: 1.3278\n",
      "31:\t[0s / 0s],\t\ttrain_loss: 1.3602,\tval_loss: 1.3078\n",
      "32:\t[0s / 0s],\t\ttrain_loss: 1.3497,\tval_loss: 1.2703\n",
      "33:\t[0s / 0s],\t\ttrain_loss: 1.3364,\tval_loss: 1.2391\n",
      "34:\t[0s / 0s],\t\ttrain_loss: 1.3017,\tval_loss: 1.2653\n",
      "35:\t[0s / 0s],\t\ttrain_loss: 1.2864,\tval_loss: 1.3130\n",
      "36:\t[0s / 0s],\t\ttrain_loss: 1.2808,\tval_loss: 1.2793\n",
      "37:\t[0s / 0s],\t\ttrain_loss: 1.3233,\tval_loss: 1.2978\n",
      "38:\t[0s / 0s],\t\ttrain_loss: 1.3282,\tval_loss: 1.3240\n",
      "39:\t[0s / 0s],\t\ttrain_loss: 1.2803,\tval_loss: 1.2735\n",
      "40:\t[0s / 0s],\t\ttrain_loss: 1.3674,\tval_loss: 1.2408\n",
      "41:\t[0s / 0s],\t\ttrain_loss: 1.3021,\tval_loss: 1.2307\n",
      "42:\t[0s / 0s],\t\ttrain_loss: 1.2904,\tval_loss: 1.2280\n",
      "43:\t[0s / 0s],\t\ttrain_loss: 1.2730,\tval_loss: 1.2088\n",
      "44:\t[0s / 0s],\t\ttrain_loss: 1.3262,\tval_loss: 1.2252\n",
      "45:\t[0s / 0s],\t\ttrain_loss: 1.2430,\tval_loss: 1.2816\n",
      "46:\t[0s / 1s],\t\ttrain_loss: 1.3218,\tval_loss: 1.2212\n",
      "47:\t[0s / 1s],\t\ttrain_loss: 1.3077,\tval_loss: 1.2683\n",
      "48:\t[0s / 1s],\t\ttrain_loss: 1.3456,\tval_loss: 1.2088\n",
      "49:\t[0s / 1s],\t\ttrain_loss: 1.2202,\tval_loss: 1.2672\n",
      "50:\t[0s / 1s],\t\ttrain_loss: 1.2955,\tval_loss: 1.2405\n",
      "51:\t[0s / 1s],\t\ttrain_loss: 1.3099,\tval_loss: 1.2250\n",
      "52:\t[0s / 1s],\t\ttrain_loss: 1.2989,\tval_loss: 1.2420\n",
      "53:\t[0s / 1s],\t\ttrain_loss: 1.3014,\tval_loss: 1.2238\n",
      "54:\t[0s / 1s],\t\ttrain_loss: 1.2053,\tval_loss: 1.2581\n",
      "55:\t[0s / 1s],\t\ttrain_loss: 1.4224,\tval_loss: 1.3216\n",
      "56:\t[0s / 1s],\t\ttrain_loss: 1.3143,\tval_loss: 1.3043\n",
      "57:\t[0s / 1s],\t\ttrain_loss: 1.2371,\tval_loss: 1.2393\n",
      "58:\t[0s / 1s],\t\ttrain_loss: 1.2836,\tval_loss: 1.3256\n",
      "59:\t[0s / 1s],\t\ttrain_loss: 1.2567,\tval_loss: 1.3179\n",
      "60:\t[0s / 1s],\t\ttrain_loss: 1.1923,\tval_loss: 1.2502\n",
      "61:\t[0s / 1s],\t\ttrain_loss: 1.2165,\tval_loss: 1.2628\n",
      "62:\t[0s / 1s],\t\ttrain_loss: 1.2994,\tval_loss: 1.2236\n",
      "63:\t[0s / 1s],\t\ttrain_loss: 1.2216,\tval_loss: 1.2858\n",
      "64:\t[0s / 1s],\t\ttrain_loss: 1.3119,\tval_loss: 1.2536\n",
      "65:\t[0s / 1s],\t\ttrain_loss: 1.2401,\tval_loss: 1.2737\n",
      "66:\t[0s / 1s],\t\ttrain_loss: 1.2135,\tval_loss: 1.2909\n",
      "67:\t[0s / 1s],\t\ttrain_loss: 1.2376,\tval_loss: 1.2682\n",
      "68:\t[0s / 1s],\t\ttrain_loss: 1.3352,\tval_loss: 1.2884\n",
      "69:\t[0s / 1s],\t\ttrain_loss: 1.2594,\tval_loss: 1.2334\n",
      "70:\t[0s / 1s],\t\ttrain_loss: 1.2598,\tval_loss: 1.2208\n",
      "71:\t[0s / 1s],\t\ttrain_loss: 1.3166,\tval_loss: 1.2475\n",
      "72:\t[0s / 1s],\t\ttrain_loss: 1.2631,\tval_loss: 1.2455\n",
      "73:\t[0s / 1s],\t\ttrain_loss: 1.2993,\tval_loss: 1.2101\n"
     ]
    }
   ],
   "source": [
    "in_features = x_train.shape[1]\n",
    "num_nodes = [128,64,64]\n",
    "# out_features = 1\n",
    "out_features = labtrans.out_features\n",
    "batch_norm = True\n",
    "dropout = 0.1\n",
    "output_bias = False\n",
    "epochs = 100\n",
    "callbacks = [tt.callbacks.EarlyStopping(patience=30)]\n",
    "#callbacks = None\n",
    "verbose = True\n",
    "batch_size = 64\n",
    "\n",
    "net = tt.practical.MLPVanilla(in_features, num_nodes, out_features, batch_norm, dropout)\n",
    "\n",
    "model_cox = MTLR(net, tt.optim.Adam(lr=0.01,amsgrad=True), duration_index=labtrans.cuts) #cox model on the neural network with Adam optimizer\n",
    "\n",
    "log_cox = model_cox.fit(x_train, y_train, batch_size, epochs, callbacks,val_data =val)\n"
   ]
  },
  {
   "cell_type": "code",
   "execution_count": 154,
   "id": "91741245",
   "metadata": {},
   "outputs": [
    {
     "data": {
      "text/plain": [
       "0.6012396694214877"
      ]
     },
     "execution_count": 154,
     "metadata": {},
     "output_type": "execute_result"
    },
    {
     "data": {
      "text/plain": [
       "<Figure size 864x864 with 0 Axes>"
      ]
     },
     "metadata": {},
     "output_type": "display_data"
    },
    {
     "data": {
      "image/png": "[encoded data removed]",
      "text/plain": [
       "<Figure size 432x288 with 1 Axes>"
      ]
     },
     "metadata": {
      "needs_background": "light"
     },
     "output_type": "display_data"
    }
   ],
   "source": [
    "#plotting the loss vs epoch \n",
    "plt.figure(figsize=[12,12])\n",
    "log_cox.plot()\n",
    "plt.xlabel('Epoch', fontsize = 16)\n",
    "plt.ylabel('Loss', fontsize = 16)\n",
    "\n",
    "# predict for the cox model(external validation)\n",
    "#model_cox.compute_baseline_hazards() #baseline hazard\n",
    "surv_cox = model_cox.interpolate(10).predict_surv_df(x_test) # survival of the test data\n",
    "# evaluate the c-index of the cox model \n",
    "eval_cox = EvalSurv(surv_cox, durations_test, events_test, censor_surv= 'km')\n",
    "cox_index = eval_cox.concordance_td('antolini') \n",
    "cox_index  # cox_index  at all"
   ]
  },
  {
   "cell_type": "code",
   "execution_count": 155,
   "id": "28fb89c4",
   "metadata": {},
   "outputs": [
    {
     "data": {
      "text/plain": [
       "0.1831740562879016"
      ]
     },
     "execution_count": 155,
     "metadata": {},
     "output_type": "execute_result"
    },
    {
     "data": {
      "image/png": "[encoded data removed]",
      "text/plain": [
       "<Figure size 432x288 with 1 Axes>"
      ]
     },
     "metadata": {
      "needs_background": "light"
     },
     "output_type": "display_data"
    }
   ],
   "source": [
    "# integrated_brier_score at all\n",
    "time_grid = np.linspace(durations_test.min(), durations_test.max(), 100)\n",
    "_ = eval_cox.brier_score(time_grid).plot()\n",
    "eval_cox.integrated_brier_score(time_grid)"
   ]
  },
  {
   "cell_type": "code",
   "execution_count": 156,
   "id": "a006f685",
   "metadata": {},
   "outputs": [
    {
     "data": {
      "text/plain": [
       "0.49750786623228355"
      ]
     },
     "execution_count": 156,
     "metadata": {},
     "output_type": "execute_result"
    }
   ],
   "source": [
    "# c-index at  all\n",
    "durations_test0, events_test0 = y_train \n",
    "surv_cox0 = model_cox.predict_surv_df(x_train) # survival of the test data\n",
    "eval_cox0 = EvalSurv(surv_cox0,durations_test0, events_test0, censor_surv= 'km')\n",
    "cox_index0 = eval_cox0.concordance_td('antolini') \n",
    "cox_index0 "
   ]
  },
  {
   "cell_type": "code",
   "execution_count": 157,
   "id": "5203ba34",
   "metadata": {},
   "outputs": [
    {
     "data": {
      "text/plain": [
       "0.38350888378536285"
      ]
     },
     "execution_count": 157,
     "metadata": {},
     "output_type": "execute_result"
    },
    {
     "data": {
      "image/png": "[encoded data removed]",
      "text/plain": [
       "<Figure size 432x288 with 1 Axes>"
      ]
     },
     "metadata": {
      "needs_background": "light"
     },
     "output_type": "display_data"
    }
   ],
   "source": [
    "# brier score at all\n",
    "time_grid0 = np.linspace(durations_test0.min(), durations_test0.max(), 100)\n",
    "_ = eval_cox0.brier_score(time_grid0).plot()\n",
    "eval_cox0.integrated_brier_score(time_grid0)"
   ]
  },
  {
   "cell_type": "code",
   "execution_count": 158,
   "id": "95cda241",
   "metadata": {},
   "outputs": [
    {
     "name": "stdout",
     "output_type": "stream",
     "text": [
      "Bootstrap Internal validation:\n",
      "The C-index:0.5430369012938394\n",
      "The C-index Low 95% CI:0.540300198842291\n",
      "The C-index High 95% CI:0.5457736037453879\n"
     ]
    }
   ],
   "source": [
    "# Internal\n",
    "# ATTENTION :x_train, y_train is numpy.ndarray\n",
    "in_tem = []\n",
    "for i in range(1000):\n",
    "    idx = np.random.choice(len(x_train),size = 100,replace = True)\n",
    "    x_tem = x_train[idx,]\n",
    "    surv_cox_tem = model_cox.predict_surv_df(x_tem) # survival of the test data\n",
    "    eval_cox_tem = EvalSurv(surv_cox_tem, y_train[0][idx], y_train[1][idx], censor_surv= 'km')\n",
    "    c_tem = eval_cox_tem.concordance_td() \n",
    "    in_tem.append(c_tem)\n",
    "\n",
    "in_mean = np.mean(in_tem)\n",
    "in_se = np.std(in_tem) / np.power(1000,0.5)\n",
    "print(\"Bootstrap Internal validation:\")\n",
    "print(\"The C-index:{}\".format(in_mean))\n",
    "print(\"The C-index Low 95% CI:{}\".format(in_mean - 1.96 * in_se))\n",
    "print(\"The C-index High 95% CI:{}\".format(in_mean + 1.96 * in_se))"
   ]
  },
  {
   "cell_type": "code",
   "execution_count": 159,
   "id": "1b9fa574",
   "metadata": {},
   "outputs": [
    {
     "name": "stdout",
     "output_type": "stream",
     "text": [
      "Bootstrap External validation:\n",
      "The C-index:0.5550713979898789\n",
      "The C-index Low 95% CI:0.5521492051256768\n",
      "The C-index High 95% CI:0.5579935908540811\n"
     ]
    }
   ],
   "source": [
    "# External\n",
    "ex_tem = []\n",
    "for i in range(1000):\n",
    "    idx = np.random.choice(len(x_test),size = 100,replace = True)\n",
    "    x_tem = x_test[idx,]\n",
    "    surv_cox_tem = model_cox.predict_surv_df(x_tem) # survival of the test data\n",
    "    eval_cox_tem = EvalSurv(surv_cox_tem, y_test[0][idx], y_test[1][idx], censor_surv= 'km')\n",
    "    c_tem = eval_cox_tem.concordance_td() \n",
    "    ex_tem.append(c_tem)\n",
    "\n",
    "ex_mean = np.mean(ex_tem)\n",
    "ex_se = np.std(ex_tem) / np.power(1000,0.5)\n",
    "print(\"Bootstrap External validation:\")\n",
    "print(\"The C-index:{}\".format(ex_mean))\n",
    "print(\"The C-index Low 95% CI:{}\".format(ex_mean - 1.96 * ex_se))\n",
    "print(\"The C-index High 95% CI:{}\".format(ex_mean + 1.96 * ex_se))"
   ]
  },
  {
   "cell_type": "code",
   "execution_count": null,
   "id": "e9d2aa19",
   "metadata": {},
   "outputs": [],
   "source": []
  }
 ],
 "metadata": {
  "kernelspec": {
   "display_name": "Python 3 (ipykernel)",
   "language": "python",
   "name": "python3"
  },
  "language_info": {
   "codemirror_mode": {
    "name": "ipython",
    "version": 3
   },
   "file_extension": ".py",
   "mimetype": "text/x-python",
   "name": "python",
   "nbconvert_exporter": "python",
   "pygments_lexer": "ipython3",
   "version": "3.9.7"
  }
 },
 "nbformat": 4,
 "nbformat_minor": 5
}
