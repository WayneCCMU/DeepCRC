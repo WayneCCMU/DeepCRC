{
 "cells": [
  {
   "cell_type": "code",
   "execution_count": 1,
   "id": "b130d6d0",
   "metadata": {},
   "outputs": [],
   "source": [
    "import pandas as pd\n",
    "import numpy as np\n",
    "\n",
    "from sklearn.preprocessing import StandardScaler, LabelEncoder\n",
    "from sklearn_pandas import DataFrameMapper\n",
    "from sklearn.model_selection import train_test_split\n",
    "\n",
    "import matplotlib.pyplot as plt\n",
    "from pycox.models import CoxCC\n",
    "\n",
    "from pycox.evaluation import EvalSurv\n",
    "\n",
    "import torch\n",
    "import torchtuples as tt"
   ]
  },
  {
   "cell_type": "markdown",
   "id": "80d2f927",
   "metadata": {},
   "source": [
    "# Read data"
   ]
  },
  {
   "cell_type": "code",
   "execution_count": 2,
   "id": "580f22d7",
   "metadata": {},
   "outputs": [],
   "source": [
    "df_train = pd.read_csv('train.csv')\n",
    "df_train = pd.DataFrame(df_train)\n",
    "\n",
    "df_test = pd.read_csv('test.csv')\n",
    "df_test = pd.DataFrame(df_test)"
   ]
  },
  {
   "cell_type": "code",
   "execution_count": 3,
   "id": "c765d269",
   "metadata": {},
   "outputs": [
    {
     "data": {
      "text/html": [
       "<div>\n",
       "<style scoped>\n",
       "    .dataframe tbody tr th:only-of-type {\n",
       "        vertical-align: middle;\n",
       "    }\n",
       "\n",
       "    .dataframe tbody tr th {\n",
       "        vertical-align: top;\n",
       "    }\n",
       "\n",
       "    .dataframe thead th {\n",
       "        text-align: right;\n",
       "    }\n",
       "</style>\n",
       "<table border=\"1\" class=\"dataframe\">\n",
       "  <thead>\n",
       "    <tr style=\"text-align: right;\">\n",
       "      <th></th>\n",
       "      <th>Sex</th>\n",
       "      <th>Age</th>\n",
       "      <th>Size</th>\n",
       "      <th>Site</th>\n",
       "      <th>Grade</th>\n",
       "      <th>Lymph.nodes.examined</th>\n",
       "      <th>Lymph.nodes.positive</th>\n",
       "      <th>T</th>\n",
       "      <th>N</th>\n",
       "      <th>M</th>\n",
       "      <th>Stage</th>\n",
       "      <th>duration</th>\n",
       "      <th>event</th>\n",
       "    </tr>\n",
       "  </thead>\n",
       "  <tbody>\n",
       "    <tr>\n",
       "      <th>0</th>\n",
       "      <td>Male</td>\n",
       "      <td>41</td>\n",
       "      <td>65</td>\n",
       "      <td>Ileocecal Junction</td>\n",
       "      <td>II</td>\n",
       "      <td>29</td>\n",
       "      <td>1</td>\n",
       "      <td>T3</td>\n",
       "      <td>N1a</td>\n",
       "      <td>M0</td>\n",
       "      <td>IIIB</td>\n",
       "      <td>110</td>\n",
       "      <td>0</td>\n",
       "    </tr>\n",
       "    <tr>\n",
       "      <th>1</th>\n",
       "      <td>Male</td>\n",
       "      <td>54</td>\n",
       "      <td>95</td>\n",
       "      <td>Ascending Colon</td>\n",
       "      <td>II</td>\n",
       "      <td>37</td>\n",
       "      <td>0</td>\n",
       "      <td>T4a</td>\n",
       "      <td>N0</td>\n",
       "      <td>M0</td>\n",
       "      <td>IIB</td>\n",
       "      <td>107</td>\n",
       "      <td>0</td>\n",
       "    </tr>\n",
       "    <tr>\n",
       "      <th>2</th>\n",
       "      <td>Female</td>\n",
       "      <td>78</td>\n",
       "      <td>65</td>\n",
       "      <td>Sigmoid Colon</td>\n",
       "      <td>II</td>\n",
       "      <td>20</td>\n",
       "      <td>2</td>\n",
       "      <td>T4b</td>\n",
       "      <td>N1b</td>\n",
       "      <td>M0</td>\n",
       "      <td>IIIC</td>\n",
       "      <td>106</td>\n",
       "      <td>0</td>\n",
       "    </tr>\n",
       "    <tr>\n",
       "      <th>3</th>\n",
       "      <td>Female</td>\n",
       "      <td>33</td>\n",
       "      <td>150</td>\n",
       "      <td>Large Intestine, NOS</td>\n",
       "      <td>II</td>\n",
       "      <td>9</td>\n",
       "      <td>0</td>\n",
       "      <td>T4a</td>\n",
       "      <td>N0</td>\n",
       "      <td>M0</td>\n",
       "      <td>IIB</td>\n",
       "      <td>105</td>\n",
       "      <td>0</td>\n",
       "    </tr>\n",
       "    <tr>\n",
       "      <th>4</th>\n",
       "      <td>Male</td>\n",
       "      <td>58</td>\n",
       "      <td>100</td>\n",
       "      <td>Descending Colon</td>\n",
       "      <td>III</td>\n",
       "      <td>6</td>\n",
       "      <td>1</td>\n",
       "      <td>T4a</td>\n",
       "      <td>N1a</td>\n",
       "      <td>M0</td>\n",
       "      <td>IIIB</td>\n",
       "      <td>102</td>\n",
       "      <td>0</td>\n",
       "    </tr>\n",
       "  </tbody>\n",
       "</table>\n",
       "</div>"
      ],
      "text/plain": [
       "      Sex  Age  Size                  Site Grade  Lymph.nodes.examined  \\\n",
       "0    Male   41    65    Ileocecal Junction    II                    29   \n",
       "1    Male   54    95       Ascending Colon    II                    37   \n",
       "2  Female   78    65         Sigmoid Colon    II                    20   \n",
       "3  Female   33   150  Large Intestine, NOS    II                     9   \n",
       "4    Male   58   100      Descending Colon   III                     6   \n",
       "\n",
       "   Lymph.nodes.positive    T    N   M Stage  duration  event  \n",
       "0                     1   T3  N1a  M0  IIIB       110      0  \n",
       "1                     0  T4a   N0  M0   IIB       107      0  \n",
       "2                     2  T4b  N1b  M0  IIIC       106      0  \n",
       "3                     0  T4a   N0  M0   IIB       105      0  \n",
       "4                     1  T4a  N1a  M0  IIIB       102      0  "
      ]
     },
     "execution_count": 3,
     "metadata": {},
     "output_type": "execute_result"
    }
   ],
   "source": [
    "df_train.head()"
   ]
  },
  {
   "cell_type": "code",
   "execution_count": 4,
   "id": "02ade6b9",
   "metadata": {},
   "outputs": [
    {
     "data": {
      "text/html": [
       "<div>\n",
       "<style scoped>\n",
       "    .dataframe tbody tr th:only-of-type {\n",
       "        vertical-align: middle;\n",
       "    }\n",
       "\n",
       "    .dataframe tbody tr th {\n",
       "        vertical-align: top;\n",
       "    }\n",
       "\n",
       "    .dataframe thead th {\n",
       "        text-align: right;\n",
       "    }\n",
       "</style>\n",
       "<table border=\"1\" class=\"dataframe\">\n",
       "  <thead>\n",
       "    <tr style=\"text-align: right;\">\n",
       "      <th></th>\n",
       "      <th>Sex</th>\n",
       "      <th>Age</th>\n",
       "      <th>Size</th>\n",
       "      <th>Site</th>\n",
       "      <th>Grade</th>\n",
       "      <th>Lymph.nodes.examined</th>\n",
       "      <th>Lymph.nodes.positive</th>\n",
       "      <th>T</th>\n",
       "      <th>N</th>\n",
       "      <th>M</th>\n",
       "      <th>Stage</th>\n",
       "      <th>duration</th>\n",
       "      <th>event</th>\n",
       "    </tr>\n",
       "  </thead>\n",
       "  <tbody>\n",
       "    <tr>\n",
       "      <th>0</th>\n",
       "      <td>1</td>\n",
       "      <td>41</td>\n",
       "      <td>65</td>\n",
       "      <td>3</td>\n",
       "      <td>1</td>\n",
       "      <td>29</td>\n",
       "      <td>1</td>\n",
       "      <td>2</td>\n",
       "      <td>2</td>\n",
       "      <td>0</td>\n",
       "      <td>7</td>\n",
       "      <td>110</td>\n",
       "      <td>0</td>\n",
       "    </tr>\n",
       "    <tr>\n",
       "      <th>1</th>\n",
       "      <td>1</td>\n",
       "      <td>54</td>\n",
       "      <td>95</td>\n",
       "      <td>0</td>\n",
       "      <td>1</td>\n",
       "      <td>37</td>\n",
       "      <td>0</td>\n",
       "      <td>4</td>\n",
       "      <td>0</td>\n",
       "      <td>0</td>\n",
       "      <td>3</td>\n",
       "      <td>107</td>\n",
       "      <td>0</td>\n",
       "    </tr>\n",
       "    <tr>\n",
       "      <th>2</th>\n",
       "      <td>0</td>\n",
       "      <td>78</td>\n",
       "      <td>65</td>\n",
       "      <td>7</td>\n",
       "      <td>1</td>\n",
       "      <td>20</td>\n",
       "      <td>2</td>\n",
       "      <td>5</td>\n",
       "      <td>3</td>\n",
       "      <td>0</td>\n",
       "      <td>8</td>\n",
       "      <td>106</td>\n",
       "      <td>0</td>\n",
       "    </tr>\n",
       "    <tr>\n",
       "      <th>3</th>\n",
       "      <td>0</td>\n",
       "      <td>33</td>\n",
       "      <td>150</td>\n",
       "      <td>4</td>\n",
       "      <td>1</td>\n",
       "      <td>9</td>\n",
       "      <td>0</td>\n",
       "      <td>4</td>\n",
       "      <td>0</td>\n",
       "      <td>0</td>\n",
       "      <td>3</td>\n",
       "      <td>105</td>\n",
       "      <td>0</td>\n",
       "    </tr>\n",
       "    <tr>\n",
       "      <th>4</th>\n",
       "      <td>1</td>\n",
       "      <td>58</td>\n",
       "      <td>100</td>\n",
       "      <td>1</td>\n",
       "      <td>2</td>\n",
       "      <td>6</td>\n",
       "      <td>1</td>\n",
       "      <td>4</td>\n",
       "      <td>2</td>\n",
       "      <td>0</td>\n",
       "      <td>7</td>\n",
       "      <td>102</td>\n",
       "      <td>0</td>\n",
       "    </tr>\n",
       "  </tbody>\n",
       "</table>\n",
       "</div>"
      ],
      "text/plain": [
       "   Sex  Age  Size  Site  Grade  Lymph.nodes.examined  Lymph.nodes.positive  T  \\\n",
       "0    1   41    65     3      1                    29                     1  2   \n",
       "1    1   54    95     0      1                    37                     0  4   \n",
       "2    0   78    65     7      1                    20                     2  5   \n",
       "3    0   33   150     4      1                     9                     0  4   \n",
       "4    1   58   100     1      2                     6                     1  4   \n",
       "\n",
       "   N  M  Stage  duration  event  \n",
       "0  2  0      7       110      0  \n",
       "1  0  0      3       107      0  \n",
       "2  3  0      8       106      0  \n",
       "3  0  0      3       105      0  \n",
       "4  2  0      7       102      0  "
      ]
     },
     "execution_count": 4,
     "metadata": {},
     "output_type": "execute_result"
    }
   ],
   "source": [
    "# to label encoding categorical variables\n",
    "le = LabelEncoder() #label encoder\n",
    "cat_list = ['Sex','Site', 'Grade', 'T', 'N', 'M', 'Stage'] #list of categorical variables\n",
    "for cat in cat_list:\n",
    "    df_train[cat] = le.fit_transform(df_train[cat])\n",
    "    df_test[cat] = le.fit_transform(df_test[cat])\n",
    "\n",
    "df_train.head()"
   ]
  },
  {
   "cell_type": "code",
   "execution_count": 5,
   "id": "b0a5e001",
   "metadata": {},
   "outputs": [],
   "source": [
    "# function to get targets variable\n",
    "Y = lambda df_new: (df_new['duration'].values, df_new['event'].values)\n",
    "\n",
    "# to standardize and get dependent variables \n",
    "x_num = ['Age', 'Size', 'Lymph.nodes.examined', 'Lymph.nodes.positive'] # list of variables for standardization\n",
    "x_cat = ['Sex','Site', 'Grade', 'T', 'N', 'M', 'Stage'] #categorical variables \n",
    "standardize = [([num], StandardScaler()) for num in x_num]\n",
    "label = [([cat], None) for cat in x_cat]\n",
    "\n",
    "X_map = DataFrameMapper(standardize + label)"
   ]
  },
  {
   "cell_type": "code",
   "execution_count": 6,
   "id": "0151ef19",
   "metadata": {},
   "outputs": [],
   "source": [
    "x_train = X_map.fit_transform(df_train).astype('float32') # x train\n",
    "x_test= X_map.fit_transform(df_test).astype('float32') # x test\n",
    "y_test = Y(df_test)\n",
    "y_train = Y(df_train) # y train\n",
    "time_test , status_test = Y(df_test) # test dependent variables Time & Status"
   ]
  },
  {
   "cell_type": "markdown",
   "id": "38440b7c",
   "metadata": {},
   "source": [
    "# Neural Network"
   ]
  },
  {
   "cell_type": "code",
   "execution_count": 33,
   "id": "659f4b1f",
   "metadata": {
    "scrolled": true
   },
   "outputs": [
    {
     "name": "stdout",
     "output_type": "stream",
     "text": [
      "0:\t[0s / 0s],\t\ttrain_loss: 0.8595,\tval_loss: 0.6855\n",
      "1:\t[0s / 0s],\t\ttrain_loss: 0.7413,\tval_loss: 0.7161\n",
      "2:\t[0s / 0s],\t\ttrain_loss: 0.6892,\tval_loss: 0.6311\n",
      "3:\t[0s / 0s],\t\ttrain_loss: 0.6787,\tval_loss: 0.6561\n",
      "4:\t[0s / 0s],\t\ttrain_loss: 0.6915,\tval_loss: 0.6547\n",
      "5:\t[0s / 0s],\t\ttrain_loss: 0.6402,\tval_loss: 0.6649\n",
      "6:\t[0s / 0s],\t\ttrain_loss: 0.6654,\tval_loss: 0.6593\n",
      "7:\t[0s / 0s],\t\ttrain_loss: 0.6810,\tval_loss: 0.6583\n",
      "8:\t[0s / 0s],\t\ttrain_loss: 0.6823,\tval_loss: 0.6529\n",
      "9:\t[0s / 0s],\t\ttrain_loss: 0.6895,\tval_loss: 0.6486\n",
      "10:\t[0s / 0s],\t\ttrain_loss: 0.6524,\tval_loss: 0.6478\n",
      "11:\t[0s / 0s],\t\ttrain_loss: 0.6534,\tval_loss: 0.6755\n",
      "12:\t[0s / 0s],\t\ttrain_loss: 0.6197,\tval_loss: 0.6648\n",
      "13:\t[0s / 0s],\t\ttrain_loss: 0.6325,\tval_loss: 0.6453\n",
      "14:\t[0s / 0s],\t\ttrain_loss: 0.6528,\tval_loss: 0.6578\n",
      "15:\t[0s / 0s],\t\ttrain_loss: 0.6361,\tval_loss: 0.6527\n",
      "16:\t[0s / 0s],\t\ttrain_loss: 0.6468,\tval_loss: 0.6548\n",
      "17:\t[0s / 0s],\t\ttrain_loss: 0.6418,\tval_loss: 0.6746\n",
      "18:\t[0s / 0s],\t\ttrain_loss: 0.6066,\tval_loss: 0.6479\n",
      "19:\t[0s / 0s],\t\ttrain_loss: 0.6457,\tval_loss: 0.6569\n",
      "20:\t[0s / 0s],\t\ttrain_loss: 0.6302,\tval_loss: 0.6214\n",
      "21:\t[0s / 0s],\t\ttrain_loss: 0.6591,\tval_loss: 0.6532\n",
      "22:\t[0s / 0s],\t\ttrain_loss: 0.6181,\tval_loss: 0.6629\n",
      "23:\t[0s / 0s],\t\ttrain_loss: 0.6621,\tval_loss: 0.6463\n",
      "24:\t[0s / 0s],\t\ttrain_loss: 0.6442,\tval_loss: 0.6557\n",
      "25:\t[0s / 0s],\t\ttrain_loss: 0.6162,\tval_loss: 0.6449\n",
      "26:\t[0s / 0s],\t\ttrain_loss: 0.6742,\tval_loss: 0.6847\n",
      "27:\t[0s / 0s],\t\ttrain_loss: 0.6188,\tval_loss: 0.6442\n",
      "28:\t[0s / 0s],\t\ttrain_loss: 0.6554,\tval_loss: 0.6610\n",
      "29:\t[0s / 0s],\t\ttrain_loss: 0.6026,\tval_loss: 0.6416\n",
      "30:\t[0s / 0s],\t\ttrain_loss: 0.6398,\tval_loss: 0.6357\n",
      "31:\t[0s / 0s],\t\ttrain_loss: 0.6556,\tval_loss: 0.6718\n",
      "32:\t[0s / 0s],\t\ttrain_loss: 0.6094,\tval_loss: 0.6671\n",
      "33:\t[0s / 0s],\t\ttrain_loss: 0.6086,\tval_loss: 0.6241\n",
      "34:\t[0s / 0s],\t\ttrain_loss: 0.6161,\tval_loss: 0.6480\n",
      "35:\t[0s / 0s],\t\ttrain_loss: 0.6346,\tval_loss: 0.6464\n",
      "36:\t[0s / 0s],\t\ttrain_loss: 0.6213,\tval_loss: 0.6352\n",
      "37:\t[0s / 0s],\t\ttrain_loss: 0.6459,\tval_loss: 0.6323\n",
      "38:\t[0s / 0s],\t\ttrain_loss: 0.6031,\tval_loss: 0.6317\n",
      "39:\t[0s / 0s],\t\ttrain_loss: 0.6017,\tval_loss: 0.6774\n",
      "40:\t[0s / 0s],\t\ttrain_loss: 0.6481,\tval_loss: 0.6899\n",
      "41:\t[0s / 0s],\t\ttrain_loss: 0.6001,\tval_loss: 0.6402\n",
      "42:\t[0s / 0s],\t\ttrain_loss: 0.6215,\tval_loss: 0.6656\n",
      "43:\t[0s / 0s],\t\ttrain_loss: 0.6191,\tval_loss: 0.6386\n",
      "44:\t[0s / 0s],\t\ttrain_loss: 0.5917,\tval_loss: 0.6651\n",
      "45:\t[0s / 0s],\t\ttrain_loss: 0.6206,\tval_loss: 0.6499\n",
      "46:\t[0s / 0s],\t\ttrain_loss: 0.6477,\tval_loss: 0.6571\n",
      "47:\t[0s / 0s],\t\ttrain_loss: 0.6200,\tval_loss: 0.6139\n",
      "48:\t[0s / 0s],\t\ttrain_loss: 0.5935,\tval_loss: 0.6379\n",
      "49:\t[0s / 0s],\t\ttrain_loss: 0.6170,\tval_loss: 0.6379\n",
      "50:\t[0s / 0s],\t\ttrain_loss: 0.6478,\tval_loss: 0.6366\n",
      "51:\t[0s / 0s],\t\ttrain_loss: 0.5834,\tval_loss: 0.6254\n",
      "52:\t[0s / 0s],\t\ttrain_loss: 0.6011,\tval_loss: 0.6389\n",
      "53:\t[0s / 0s],\t\ttrain_loss: 0.6208,\tval_loss: 0.5956\n",
      "54:\t[0s / 0s],\t\ttrain_loss: 0.6093,\tval_loss: 0.6883\n",
      "55:\t[0s / 0s],\t\ttrain_loss: 0.5989,\tval_loss: 0.7082\n",
      "56:\t[0s / 0s],\t\ttrain_loss: 0.5925,\tval_loss: 0.6279\n",
      "57:\t[0s / 0s],\t\ttrain_loss: 0.5825,\tval_loss: 0.6268\n",
      "58:\t[0s / 0s],\t\ttrain_loss: 0.6452,\tval_loss: 0.5856\n",
      "59:\t[0s / 0s],\t\ttrain_loss: 0.6019,\tval_loss: 0.6624\n",
      "60:\t[0s / 0s],\t\ttrain_loss: 0.5934,\tval_loss: 0.6516\n",
      "61:\t[0s / 0s],\t\ttrain_loss: 0.6190,\tval_loss: 0.6150\n",
      "62:\t[0s / 0s],\t\ttrain_loss: 0.6306,\tval_loss: 0.6218\n",
      "63:\t[0s / 0s],\t\ttrain_loss: 0.5670,\tval_loss: 0.6344\n",
      "64:\t[0s / 0s],\t\ttrain_loss: 0.6026,\tval_loss: 0.6129\n",
      "65:\t[0s / 0s],\t\ttrain_loss: 0.5813,\tval_loss: 0.6090\n",
      "66:\t[0s / 0s],\t\ttrain_loss: 0.6317,\tval_loss: 0.6343\n",
      "67:\t[0s / 0s],\t\ttrain_loss: 0.5798,\tval_loss: 0.6069\n",
      "68:\t[0s / 0s],\t\ttrain_loss: 0.6133,\tval_loss: 0.6043\n",
      "69:\t[0s / 0s],\t\ttrain_loss: 0.5965,\tval_loss: 0.6341\n",
      "70:\t[0s / 0s],\t\ttrain_loss: 0.5857,\tval_loss: 0.6330\n",
      "71:\t[0s / 0s],\t\ttrain_loss: 0.5930,\tval_loss: 0.6210\n",
      "72:\t[0s / 0s],\t\ttrain_loss: 0.5645,\tval_loss: 0.6474\n",
      "73:\t[0s / 0s],\t\ttrain_loss: 0.6074,\tval_loss: 0.6164\n",
      "74:\t[0s / 0s],\t\ttrain_loss: 0.5955,\tval_loss: 0.5916\n",
      "75:\t[0s / 0s],\t\ttrain_loss: 0.5868,\tval_loss: 0.5755\n",
      "76:\t[0s / 0s],\t\ttrain_loss: 0.6064,\tval_loss: 0.5886\n",
      "77:\t[0s / 0s],\t\ttrain_loss: 0.5997,\tval_loss: 0.5683\n",
      "78:\t[0s / 0s],\t\ttrain_loss: 0.6288,\tval_loss: 0.5832\n",
      "79:\t[0s / 0s],\t\ttrain_loss: 0.5763,\tval_loss: 0.6208\n",
      "80:\t[0s / 0s],\t\ttrain_loss: 0.5240,\tval_loss: 0.5973\n",
      "81:\t[0s / 0s],\t\ttrain_loss: 0.5713,\tval_loss: 0.5754\n",
      "82:\t[0s / 0s],\t\ttrain_loss: 0.5627,\tval_loss: 0.6124\n",
      "83:\t[0s / 0s],\t\ttrain_loss: 0.5855,\tval_loss: 0.5633\n",
      "84:\t[0s / 0s],\t\ttrain_loss: 0.6048,\tval_loss: 0.5560\n",
      "85:\t[0s / 0s],\t\ttrain_loss: 0.5603,\tval_loss: 0.6265\n",
      "86:\t[0s / 0s],\t\ttrain_loss: 0.6197,\tval_loss: 0.5598\n",
      "87:\t[0s / 0s],\t\ttrain_loss: 0.5347,\tval_loss: 0.6019\n",
      "88:\t[0s / 0s],\t\ttrain_loss: 0.5567,\tval_loss: 0.6351\n",
      "89:\t[0s / 0s],\t\ttrain_loss: 0.5327,\tval_loss: 0.6199\n",
      "90:\t[0s / 0s],\t\ttrain_loss: 0.5423,\tval_loss: 0.6181\n",
      "91:\t[0s / 0s],\t\ttrain_loss: 0.5412,\tval_loss: 0.5677\n",
      "92:\t[0s / 0s],\t\ttrain_loss: 0.5815,\tval_loss: 0.5643\n",
      "93:\t[0s / 0s],\t\ttrain_loss: 0.5659,\tval_loss: 0.5414\n",
      "94:\t[0s / 0s],\t\ttrain_loss: 0.6001,\tval_loss: 0.6907\n",
      "95:\t[0s / 0s],\t\ttrain_loss: 0.5866,\tval_loss: 0.6539\n",
      "96:\t[0s / 0s],\t\ttrain_loss: 0.5876,\tval_loss: 0.6635\n",
      "97:\t[0s / 0s],\t\ttrain_loss: 0.6518,\tval_loss: 0.6404\n",
      "98:\t[0s / 0s],\t\ttrain_loss: 0.6302,\tval_loss: 0.6042\n",
      "99:\t[0s / 0s],\t\ttrain_loss: 0.5679,\tval_loss: 0.6127\n"
     ]
    }
   ],
   "source": [
    "in_features = x_train.shape[1]\n",
    "num_nodes = [16,2]\n",
    "out_features = 1\n",
    "batch_norm = True\n",
    "dropout = 0.4\n",
    "output_bias = False\n",
    "epochs = 100\n",
    "callbacks = [tt.callbacks.EarlyStopping(patience=30)]\n",
    "#callbacks = None\n",
    "verbose = True\n",
    "batch_size =64\n",
    "\n",
    "net = tt.practical.MLPVanilla(in_features, num_nodes, out_features, batch_norm,\n",
    "                              dropout, output_bias=output_bias)\n",
    "\n",
    "model_cox = CoxCC(net, tt.optim.Adam(lr=0.01,amsgrad=True)) #cox model on the neural network with Adam optimizer\n",
    "\n",
    "log_cox = model_cox.fit(x_train, y_train, batch_size, epochs, callbacks, verbose,\n",
    "                        val_data =(x_test,y_test),  val_batch_size=batch_size)\n"
   ]
  },
  {
   "cell_type": "code",
   "execution_count": 34,
   "id": "4d668cdd",
   "metadata": {},
   "outputs": [
    {
     "data": {
      "text/plain": [
       "0.6947152385838892"
      ]
     },
     "execution_count": 34,
     "metadata": {},
     "output_type": "execute_result"
    },
    {
     "data": {
      "text/plain": [
       "<Figure size 864x864 with 0 Axes>"
      ]
     },
     "metadata": {},
     "output_type": "display_data"
    },
    {
     "data": {
      "image/png": "[encoded data removed]",
      "text/plain": [
       "<Figure size 432x288 with 1 Axes>"
      ]
     },
     "metadata": {
      "needs_background": "light"
     },
     "output_type": "display_data"
    }
   ],
   "source": [
    "#plotting the loss vs epoch \n",
    "plt.figure(figsize=[12,12])\n",
    "log_cox.plot()\n",
    "plt.xlabel('Epoch', fontsize = 16)\n",
    "plt.ylabel('Loss', fontsize = 16)\n",
    "\n",
    "# predict for the cox model(external validation)\n",
    "model_cox.compute_baseline_hazards() #baseline hazard\n",
    "surv_cox = model_cox.predict_surv_df(x_test) # survival of the test data\n",
    "# evaluate the c-index of the cox model \n",
    "eval_cox = EvalSurv(surv_cox, time_test, status_test, censor_surv= 'km')\n",
    "cox_index = eval_cox.concordance_td() \n",
    "cox_index  # cox_index  at all"
   ]
  },
  {
   "cell_type": "code",
   "execution_count": 35,
   "id": "87868c79",
   "metadata": {},
   "outputs": [
    {
     "data": {
      "text/plain": [
       "0.162876740612933"
      ]
     },
     "execution_count": 35,
     "metadata": {},
     "output_type": "execute_result"
    },
    {
     "data": {
      "image/png": "[encoded data removed]",
      "text/plain": [
       "<Figure size 432x288 with 1 Axes>"
      ]
     },
     "metadata": {
      "needs_background": "light"
     },
     "output_type": "display_data"
    }
   ],
   "source": [
    "# extegrated_brier_score at all\n",
    "time_grid = np.linspace(time_test.min(), time_test.max(), 100)\n",
    "_ = eval_cox.brier_score(time_grid).plot()\n",
    "eval_cox.integrated_brier_score(time_grid)"
   ]
  },
  {
   "cell_type": "markdown",
   "id": "45139087",
   "metadata": {},
   "source": [
    "# Internal validation"
   ]
  },
  {
   "cell_type": "code",
   "execution_count": 36,
   "id": "ba754c3c",
   "metadata": {},
   "outputs": [
    {
     "data": {
      "text/plain": [
       "0.7536603502653915"
      ]
     },
     "execution_count": 36,
     "metadata": {},
     "output_type": "execute_result"
    }
   ],
   "source": [
    "# c-index at  all\n",
    "time_test0, status_test0 = y_train \n",
    "surv_cox0 = model_cox.predict_surv_df(x_train) # survival of the test data\n",
    "eval_cox0 = EvalSurv(surv_cox0, time_test0, status_test0, censor_surv= 'km')\n",
    "cox_index0 = eval_cox0.concordance_td() \n",
    "cox_index0 "
   ]
  },
  {
   "cell_type": "code",
   "execution_count": 37,
   "id": "720134a7",
   "metadata": {
    "scrolled": true
   },
   "outputs": [
    {
     "data": {
      "text/plain": [
       "0.15664223570997518"
      ]
     },
     "execution_count": 37,
     "metadata": {},
     "output_type": "execute_result"
    },
    {
     "data": {
      "image/png": "[encoded data removed]",
      "text/plain": [
       "<Figure size 432x288 with 1 Axes>"
      ]
     },
     "metadata": {
      "needs_background": "light"
     },
     "output_type": "display_data"
    }
   ],
   "source": [
    "# brier score at all\n",
    "time_grid0 = np.linspace(time_test0.min(), time_test0.max(), 100)\n",
    "_ = eval_cox0.brier_score(time_grid0).plot()\n",
    "eval_cox0.integrated_brier_score(time_grid0)"
   ]
  },
  {
   "cell_type": "markdown",
   "id": "44b48597",
   "metadata": {},
   "source": [
    "# Save"
   ]
  },
  {
   "cell_type": "code",
   "execution_count": 74,
   "id": "b8471ade",
   "metadata": {},
   "outputs": [],
   "source": [
    "model_cox.save_model_weights('myweights_coxcc.pt')"
   ]
  },
  {
   "cell_type": "markdown",
   "id": "3c15e82c",
   "metadata": {},
   "source": [
    "# Bootstrap"
   ]
  },
  {
   "cell_type": "code",
   "execution_count": 39,
   "id": "9273cbb4",
   "metadata": {},
   "outputs": [
    {
     "name": "stdout",
     "output_type": "stream",
     "text": [
      "Bootstrap Internal validation:\n",
      "The C-index:0.7554399685016681\n",
      "The C-index Low 95% CI:0.7533468859962223\n",
      "The C-index High 95% CI:0.7575330510071138\n"
     ]
    }
   ],
   "source": [
    "# Internal\n",
    "# ATTENTION :x_train, y_train is numpy.ndarray\n",
    "in_tem = []\n",
    "model_cox.compute_baseline_hazards()\n",
    "for i in range(1000):\n",
    "    idx = np.random.choice(len(x_train),size = 100,replace = True)\n",
    "    x_tem = x_train[idx,]\n",
    "    surv_cox_tem = model_cox.predict_surv_df(x_tem) # survival of the test data\n",
    "    eval_cox_tem = EvalSurv(surv_cox_tem, y_train[0][idx], y_train[1][idx], censor_surv= 'km')\n",
    "    c_tem = eval_cox_tem.concordance_td() \n",
    "    in_tem.append(c_tem)\n",
    "\n",
    "in_mean = np.mean(in_tem)\n",
    "in_se = np.std(in_tem) / np.power(1000,0.5)\n",
    "print(\"Bootstrap Internal validation:\")\n",
    "print(\"The C-index:{}\".format(in_mean))\n",
    "print(\"The C-index Low 95% CI:{}\".format(in_mean - 1.96 * in_se))\n",
    "print(\"The C-index High 95% CI:{}\".format(in_mean + 1.96 * in_se))"
   ]
  },
  {
   "cell_type": "code",
   "execution_count": 40,
   "id": "1b475b7c",
   "metadata": {},
   "outputs": [
    {
     "name": "stdout",
     "output_type": "stream",
     "text": [
      "Bootstrap External validation:\n",
      "The C-index:0.6984611740711923\n",
      "The C-index Low 95% CI:0.6957345411421648\n",
      "The C-index High 95% CI:0.7011878070002199\n"
     ]
    }
   ],
   "source": [
    "# External\n",
    "ex_tem = []\n",
    "model_cox.compute_baseline_hazards()\n",
    "for i in range(1000):\n",
    "    idx = np.random.choice(len(x_test),size = 100,replace = True)\n",
    "    x_tem = x_test[idx,]\n",
    "    surv_cox_tem = model_cox.predict_surv_df(x_tem) # survival of the test data\n",
    "    eval_cox_tem = EvalSurv(surv_cox_tem, y_test[0][idx], y_test[1][idx], censor_surv= 'km')\n",
    "    c_tem = eval_cox_tem.concordance_td() \n",
    "    ex_tem.append(c_tem)\n",
    "\n",
    "ex_mean = np.mean(ex_tem)\n",
    "ex_se = np.std(ex_tem) / np.power(1000,0.5)\n",
    "print(\"Bootstrap External validation:\")\n",
    "print(\"The C-index:{}\".format(ex_mean))\n",
    "print(\"The C-index Low 95% CI:{}\".format(ex_mean - 1.96 * ex_se))\n",
    "print(\"The C-index High 95% CI:{}\".format(ex_mean + 1.96 * ex_se))"
   ]
  },
  {
   "cell_type": "markdown",
   "id": "c7755bb0",
   "metadata": {},
   "source": [
    "# LASSO var"
   ]
  },
  {
   "cell_type": "code",
   "execution_count": 41,
   "id": "65b38365",
   "metadata": {
    "scrolled": true
   },
   "outputs": [
    {
     "data": {
      "text/html": [
       "<div>\n",
       "<style scoped>\n",
       "    .dataframe tbody tr th:only-of-type {\n",
       "        vertical-align: middle;\n",
       "    }\n",
       "\n",
       "    .dataframe tbody tr th {\n",
       "        vertical-align: top;\n",
       "    }\n",
       "\n",
       "    .dataframe thead th {\n",
       "        text-align: right;\n",
       "    }\n",
       "</style>\n",
       "<table border=\"1\" class=\"dataframe\">\n",
       "  <thead>\n",
       "    <tr style=\"text-align: right;\">\n",
       "      <th></th>\n",
       "      <th>Age</th>\n",
       "      <th>Size</th>\n",
       "      <th>Site</th>\n",
       "      <th>Grade</th>\n",
       "      <th>Lymph.nodes.examined</th>\n",
       "      <th>Lymph.nodes.positive</th>\n",
       "      <th>T</th>\n",
       "      <th>N</th>\n",
       "      <th>M</th>\n",
       "      <th>Stage</th>\n",
       "    </tr>\n",
       "  </thead>\n",
       "  <tbody>\n",
       "    <tr>\n",
       "      <th>0</th>\n",
       "      <td>41</td>\n",
       "      <td>65</td>\n",
       "      <td>3</td>\n",
       "      <td>1</td>\n",
       "      <td>29</td>\n",
       "      <td>1</td>\n",
       "      <td>2</td>\n",
       "      <td>2</td>\n",
       "      <td>0</td>\n",
       "      <td>7</td>\n",
       "    </tr>\n",
       "    <tr>\n",
       "      <th>1</th>\n",
       "      <td>54</td>\n",
       "      <td>95</td>\n",
       "      <td>0</td>\n",
       "      <td>1</td>\n",
       "      <td>37</td>\n",
       "      <td>0</td>\n",
       "      <td>4</td>\n",
       "      <td>0</td>\n",
       "      <td>0</td>\n",
       "      <td>3</td>\n",
       "    </tr>\n",
       "    <tr>\n",
       "      <th>2</th>\n",
       "      <td>78</td>\n",
       "      <td>65</td>\n",
       "      <td>7</td>\n",
       "      <td>1</td>\n",
       "      <td>20</td>\n",
       "      <td>2</td>\n",
       "      <td>5</td>\n",
       "      <td>3</td>\n",
       "      <td>0</td>\n",
       "      <td>8</td>\n",
       "    </tr>\n",
       "    <tr>\n",
       "      <th>3</th>\n",
       "      <td>33</td>\n",
       "      <td>150</td>\n",
       "      <td>4</td>\n",
       "      <td>1</td>\n",
       "      <td>9</td>\n",
       "      <td>0</td>\n",
       "      <td>4</td>\n",
       "      <td>0</td>\n",
       "      <td>0</td>\n",
       "      <td>3</td>\n",
       "    </tr>\n",
       "    <tr>\n",
       "      <th>4</th>\n",
       "      <td>58</td>\n",
       "      <td>100</td>\n",
       "      <td>1</td>\n",
       "      <td>2</td>\n",
       "      <td>6</td>\n",
       "      <td>1</td>\n",
       "      <td>4</td>\n",
       "      <td>2</td>\n",
       "      <td>0</td>\n",
       "      <td>7</td>\n",
       "    </tr>\n",
       "  </tbody>\n",
       "</table>\n",
       "</div>"
      ],
      "text/plain": [
       "   Age  Size  Site  Grade  Lymph.nodes.examined  Lymph.nodes.positive  T  N  \\\n",
       "0   41    65     3      1                    29                     1  2  2   \n",
       "1   54    95     0      1                    37                     0  4  0   \n",
       "2   78    65     7      1                    20                     2  5  3   \n",
       "3   33   150     4      1                     9                     0  4  0   \n",
       "4   58   100     1      2                     6                     1  4  2   \n",
       "\n",
       "   M  Stage  \n",
       "0  0      7  \n",
       "1  0      3  \n",
       "2  0      8  \n",
       "3  0      3  \n",
       "4  0      7  "
      ]
     },
     "execution_count": 41,
     "metadata": {},
     "output_type": "execute_result"
    }
   ],
   "source": [
    "df_train_lasso = df_train[[\"Age\",\"Size\",\"Site\",\"Grade\",\"Lymph.nodes.examined\",\"Lymph.nodes.positive\",\"T\",\"N\",\"M\",\"Stage\"]]\n",
    "df_test_lasso = df_test[[\"Age\",\"Size\",\"Site\",\"Grade\",\"Lymph.nodes.examined\",\"Lymph.nodes.positive\",\"T\",\"N\",\"M\",\"Stage\"]]\n",
    "df_train_lasso.head()"
   ]
  },
  {
   "cell_type": "code",
   "execution_count": 42,
   "id": "e8e4aae7",
   "metadata": {},
   "outputs": [],
   "source": [
    "# to standardize and get dependent variables \n",
    "x_num = ['Age', 'Size', 'Lymph.nodes.examined', 'Lymph.nodes.positive'] # list of variables for standardization\n",
    "x_cat = ['Site', 'Grade', 'T', 'N', 'M', 'Stage'] #categorical variables \n",
    "standardize = [([num], StandardScaler()) for num in x_num]\n",
    "label = [([cat], None) for cat in x_cat]\n",
    "\n",
    "X_map = DataFrameMapper(standardize + label)\n",
    "\n",
    "x_train = X_map.fit_transform(df_train_lasso).astype('float32') # x train\n",
    "x_test= X_map.fit_transform(df_test_lasso).astype('float32') # x test"
   ]
  },
  {
   "cell_type": "code",
   "execution_count": 46,
   "id": "44c016a4",
   "metadata": {},
   "outputs": [
    {
     "name": "stdout",
     "output_type": "stream",
     "text": [
      "0:\t[0s / 0s],\t\ttrain_loss: 0.9148,\tval_loss: 0.7027\n",
      "1:\t[0s / 0s],\t\ttrain_loss: 0.7732,\tval_loss: 0.6694\n",
      "2:\t[0s / 0s],\t\ttrain_loss: 0.7366,\tval_loss: 0.6918\n",
      "3:\t[0s / 0s],\t\ttrain_loss: 0.7750,\tval_loss: 0.6681\n",
      "4:\t[0s / 0s],\t\ttrain_loss: 0.8385,\tval_loss: 0.6347\n",
      "5:\t[0s / 0s],\t\ttrain_loss: 0.7209,\tval_loss: 0.6734\n",
      "6:\t[0s / 0s],\t\ttrain_loss: 0.7204,\tval_loss: 0.6683\n",
      "7:\t[0s / 0s],\t\ttrain_loss: 0.6944,\tval_loss: 0.6732\n",
      "8:\t[0s / 0s],\t\ttrain_loss: 0.6736,\tval_loss: 0.6613\n",
      "9:\t[0s / 0s],\t\ttrain_loss: 0.6574,\tval_loss: 0.6806\n",
      "10:\t[0s / 0s],\t\ttrain_loss: 0.7054,\tval_loss: 0.6892\n",
      "11:\t[0s / 0s],\t\ttrain_loss: 0.6884,\tval_loss: 0.6623\n",
      "12:\t[0s / 0s],\t\ttrain_loss: 0.7029,\tval_loss: 0.6685\n",
      "13:\t[0s / 0s],\t\ttrain_loss: 0.6697,\tval_loss: 0.6901\n",
      "14:\t[0s / 0s],\t\ttrain_loss: 0.6589,\tval_loss: 0.6878\n",
      "15:\t[0s / 0s],\t\ttrain_loss: 0.6558,\tval_loss: 0.6637\n",
      "16:\t[0s / 0s],\t\ttrain_loss: 0.6653,\tval_loss: 0.6783\n",
      "17:\t[0s / 0s],\t\ttrain_loss: 0.6412,\tval_loss: 0.6589\n",
      "18:\t[0s / 0s],\t\ttrain_loss: 0.6614,\tval_loss: 0.6694\n",
      "19:\t[0s / 0s],\t\ttrain_loss: 0.6567,\tval_loss: 0.6755\n",
      "20:\t[0s / 0s],\t\ttrain_loss: 0.6602,\tval_loss: 0.6707\n",
      "21:\t[0s / 0s],\t\ttrain_loss: 0.6344,\tval_loss: 0.6527\n",
      "22:\t[0s / 0s],\t\ttrain_loss: 0.6560,\tval_loss: 0.6811\n",
      "23:\t[0s / 0s],\t\ttrain_loss: 0.6509,\tval_loss: 0.6994\n",
      "24:\t[0s / 0s],\t\ttrain_loss: 0.6940,\tval_loss: 0.6569\n",
      "25:\t[0s / 0s],\t\ttrain_loss: 0.6420,\tval_loss: 0.6414\n",
      "26:\t[0s / 0s],\t\ttrain_loss: 0.6229,\tval_loss: 0.6777\n",
      "27:\t[0s / 0s],\t\ttrain_loss: 0.6573,\tval_loss: 0.6738\n",
      "28:\t[0s / 0s],\t\ttrain_loss: 0.6482,\tval_loss: 0.6892\n",
      "29:\t[0s / 0s],\t\ttrain_loss: 0.6538,\tval_loss: 0.6645\n",
      "30:\t[0s / 0s],\t\ttrain_loss: 0.6441,\tval_loss: 0.6817\n",
      "31:\t[0s / 0s],\t\ttrain_loss: 0.6267,\tval_loss: 0.6443\n",
      "32:\t[0s / 0s],\t\ttrain_loss: 0.6477,\tval_loss: 0.6575\n",
      "33:\t[0s / 0s],\t\ttrain_loss: 0.6135,\tval_loss: 0.6334\n",
      "34:\t[0s / 0s],\t\ttrain_loss: 0.6101,\tval_loss: 0.6899\n",
      "35:\t[0s / 0s],\t\ttrain_loss: 0.6561,\tval_loss: 0.6770\n",
      "36:\t[0s / 0s],\t\ttrain_loss: 0.5905,\tval_loss: 0.6350\n",
      "37:\t[0s / 0s],\t\ttrain_loss: 0.6665,\tval_loss: 0.6451\n",
      "38:\t[0s / 0s],\t\ttrain_loss: 0.6255,\tval_loss: 0.6519\n",
      "39:\t[0s / 0s],\t\ttrain_loss: 0.6157,\tval_loss: 0.6290\n",
      "40:\t[0s / 0s],\t\ttrain_loss: 0.6288,\tval_loss: 0.6467\n",
      "41:\t[0s / 0s],\t\ttrain_loss: 0.6348,\tval_loss: 0.6719\n",
      "42:\t[0s / 0s],\t\ttrain_loss: 0.5991,\tval_loss: 0.6526\n",
      "43:\t[0s / 0s],\t\ttrain_loss: 0.6741,\tval_loss: 0.6457\n",
      "44:\t[0s / 0s],\t\ttrain_loss: 0.6221,\tval_loss: 0.6403\n",
      "45:\t[0s / 0s],\t\ttrain_loss: 0.6458,\tval_loss: 0.6161\n",
      "46:\t[0s / 0s],\t\ttrain_loss: 0.6376,\tval_loss: 0.6246\n",
      "47:\t[0s / 0s],\t\ttrain_loss: 0.6378,\tval_loss: 0.6495\n",
      "48:\t[0s / 0s],\t\ttrain_loss: 0.6106,\tval_loss: 0.6658\n",
      "49:\t[0s / 0s],\t\ttrain_loss: 0.6293,\tval_loss: 0.6304\n",
      "50:\t[0s / 0s],\t\ttrain_loss: 0.6466,\tval_loss: 0.6203\n",
      "51:\t[0s / 0s],\t\ttrain_loss: 0.6215,\tval_loss: 0.5961\n",
      "52:\t[0s / 0s],\t\ttrain_loss: 0.6453,\tval_loss: 0.6532\n",
      "53:\t[0s / 0s],\t\ttrain_loss: 0.6391,\tval_loss: 0.6323\n",
      "54:\t[0s / 0s],\t\ttrain_loss: 0.6656,\tval_loss: 0.6272\n",
      "55:\t[0s / 0s],\t\ttrain_loss: 0.6507,\tval_loss: 0.6359\n",
      "56:\t[0s / 0s],\t\ttrain_loss: 0.6225,\tval_loss: 0.6594\n",
      "57:\t[0s / 0s],\t\ttrain_loss: 0.6804,\tval_loss: 0.6386\n",
      "58:\t[0s / 0s],\t\ttrain_loss: 0.6535,\tval_loss: 0.6352\n",
      "59:\t[0s / 0s],\t\ttrain_loss: 0.6454,\tval_loss: 0.6406\n",
      "60:\t[0s / 0s],\t\ttrain_loss: 0.6035,\tval_loss: 0.6287\n",
      "61:\t[0s / 0s],\t\ttrain_loss: 0.6690,\tval_loss: 0.6303\n",
      "62:\t[0s / 0s],\t\ttrain_loss: 0.6130,\tval_loss: 0.6332\n",
      "63:\t[0s / 0s],\t\ttrain_loss: 0.6045,\tval_loss: 0.6498\n",
      "64:\t[0s / 0s],\t\ttrain_loss: 0.6111,\tval_loss: 0.6258\n",
      "65:\t[0s / 0s],\t\ttrain_loss: 0.6328,\tval_loss: 0.6365\n",
      "66:\t[0s / 0s],\t\ttrain_loss: 0.6868,\tval_loss: 0.6825\n",
      "67:\t[0s / 0s],\t\ttrain_loss: 0.6289,\tval_loss: 0.6550\n",
      "68:\t[0s / 0s],\t\ttrain_loss: 0.6437,\tval_loss: 0.6861\n",
      "69:\t[0s / 0s],\t\ttrain_loss: 0.6199,\tval_loss: 0.6364\n",
      "70:\t[0s / 0s],\t\ttrain_loss: 0.6180,\tval_loss: 0.6322\n",
      "71:\t[0s / 0s],\t\ttrain_loss: 0.6111,\tval_loss: 0.6845\n",
      "72:\t[0s / 0s],\t\ttrain_loss: 0.6017,\tval_loss: 0.6729\n",
      "73:\t[0s / 0s],\t\ttrain_loss: 0.6249,\tval_loss: 0.6576\n",
      "74:\t[0s / 0s],\t\ttrain_loss: 0.6348,\tval_loss: 0.6127\n",
      "75:\t[0s / 0s],\t\ttrain_loss: 0.6025,\tval_loss: 0.6109\n",
      "76:\t[0s / 0s],\t\ttrain_loss: 0.6372,\tval_loss: 0.6926\n",
      "77:\t[0s / 0s],\t\ttrain_loss: 0.6501,\tval_loss: 0.6632\n",
      "78:\t[0s / 0s],\t\ttrain_loss: 0.6378,\tval_loss: 0.6304\n",
      "79:\t[0s / 0s],\t\ttrain_loss: 0.5849,\tval_loss: 0.6754\n",
      "80:\t[0s / 0s],\t\ttrain_loss: 0.6478,\tval_loss: 0.6465\n",
      "81:\t[0s / 0s],\t\ttrain_loss: 0.6722,\tval_loss: 0.6266\n"
     ]
    }
   ],
   "source": [
    "in_features = x_train.shape[1]\n",
    "num_nodes = [16,2]\n",
    "out_features = 1\n",
    "batch_norm = True\n",
    "dropout = 0.4\n",
    "output_bias = False\n",
    "epochs = 100\n",
    "callbacks = [tt.callbacks.EarlyStopping(patience=30)]\n",
    "#callbacks = None\n",
    "verbose = True\n",
    "batch_size = 64\n",
    "\n",
    "net = tt.practical.MLPVanilla(in_features, num_nodes, out_features, batch_norm,\n",
    "                              dropout, output_bias=output_bias)\n",
    "\n",
    "model_cox = CoxCC(net, tt.optim.Adam(lr=0.01,amsgrad=True)) #cox model on the neural network with Adam optimizer\n",
    "\n",
    "log_cox = model_cox.fit(x_train, y_train, batch_size, epochs, callbacks, verbose,\n",
    "                        val_data =(x_test,y_test),  val_batch_size=batch_size)"
   ]
  },
  {
   "cell_type": "code",
   "execution_count": 47,
   "id": "e43fd702",
   "metadata": {},
   "outputs": [
    {
     "data": {
      "text/plain": [
       "0.6813750641354541"
      ]
     },
     "execution_count": 47,
     "metadata": {},
     "output_type": "execute_result"
    },
    {
     "data": {
      "text/plain": [
       "<Figure size 864x864 with 0 Axes>"
      ]
     },
     "metadata": {},
     "output_type": "display_data"
    },
    {
     "data": {
      "image/png": "[encoded data removed]",
      "text/plain": [
       "<Figure size 432x288 with 1 Axes>"
      ]
     },
     "metadata": {
      "needs_background": "light"
     },
     "output_type": "display_data"
    }
   ],
   "source": [
    "#plotting the loss vs epoch \n",
    "plt.figure(figsize=[12,12])\n",
    "log_cox.plot()\n",
    "plt.xlabel('Epoch', fontsize = 16)\n",
    "plt.ylabel('Loss', fontsize = 16)\n",
    "\n",
    "# predict for the cox model(external validation)\n",
    "model_cox.compute_baseline_hazards() #baseline hazard\n",
    "surv_cox = model_cox.predict_surv_df(x_test) # survival of the test data\n",
    "# evaluate the c-index of the cox model \n",
    "eval_cox = EvalSurv(surv_cox, time_test, status_test, censor_surv= 'km')\n",
    "cox_index = eval_cox.concordance_td() \n",
    "cox_index  # cox_index  at all"
   ]
  },
  {
   "cell_type": "code",
   "execution_count": 48,
   "id": "a52e6e8f",
   "metadata": {},
   "outputs": [
    {
     "data": {
      "text/plain": [
       "0.1737548965887529"
      ]
     },
     "execution_count": 48,
     "metadata": {},
     "output_type": "execute_result"
    },
    {
     "data": {
      "image/png": "[encoded data removed]",
      "text/plain": [
       "<Figure size 432x288 with 1 Axes>"
      ]
     },
     "metadata": {
      "needs_background": "light"
     },
     "output_type": "display_data"
    }
   ],
   "source": [
    "# extegrated_brier_score at all\n",
    "time_grid = np.linspace(time_test.min(), time_test.max(), 100)\n",
    "_ = eval_cox.brier_score(time_grid).plot()\n",
    "eval_cox.integrated_brier_score(time_grid)"
   ]
  },
  {
   "cell_type": "code",
   "execution_count": 49,
   "id": "8aef5838",
   "metadata": {},
   "outputs": [
    {
     "data": {
      "text/plain": [
       "0.7079796917869688"
      ]
     },
     "execution_count": 49,
     "metadata": {},
     "output_type": "execute_result"
    }
   ],
   "source": [
    "# Internal:c-index at  all\n",
    "time_test0, status_test0 = y_train \n",
    "surv_cox0 = model_cox.predict_surv_df(x_train) # survival of the test data\n",
    "eval_cox0 = EvalSurv(surv_cox0, time_test0, status_test0, censor_surv= 'km')\n",
    "cox_index0 = eval_cox0.concordance_td() \n",
    "cox_index0 "
   ]
  },
  {
   "cell_type": "code",
   "execution_count": 50,
   "id": "870326c3",
   "metadata": {},
   "outputs": [
    {
     "data": {
      "text/plain": [
       "0.17494122034084864"
      ]
     },
     "execution_count": 50,
     "metadata": {},
     "output_type": "execute_result"
    },
    {
     "data": {
      "image/png": "[encoded data removed]",
      "text/plain": [
       "<Figure size 432x288 with 1 Axes>"
      ]
     },
     "metadata": {
      "needs_background": "light"
     },
     "output_type": "display_data"
    }
   ],
   "source": [
    "# brier score at all\n",
    "time_grid0 = np.linspace(time_test0.min(), time_test0.max(), 100)\n",
    "_ = eval_cox0.brier_score(time_grid0).plot()\n",
    "eval_cox0.integrated_brier_score(time_grid0)"
   ]
  },
  {
   "cell_type": "markdown",
   "id": "1bf1cc84",
   "metadata": {},
   "source": [
    "bootstrap"
   ]
  },
  {
   "cell_type": "code",
   "execution_count": 51,
   "id": "e175dc4c",
   "metadata": {},
   "outputs": [
    {
     "name": "stdout",
     "output_type": "stream",
     "text": [
      "Bootstrap Internal validation:\n",
      "The C-index:0.7090384549420671\n",
      "The C-index Low 95% CI:0.7066956339606889\n",
      "The C-index High 95% CI:0.7113812759234452\n"
     ]
    }
   ],
   "source": [
    "# Internal\n",
    "# ATTENTION :x_train, y_train is numpy.ndarray\n",
    "in_tem = []\n",
    "model_cox.compute_baseline_hazards()\n",
    "for i in range(1000):\n",
    "    idx = np.random.choice(len(x_train),size = 100,replace = True)\n",
    "    x_tem = x_train[idx,]\n",
    "    surv_cox_tem = model_cox.predict_surv_df(x_tem) # survival of the test data\n",
    "    eval_cox_tem = EvalSurv(surv_cox_tem, y_train[0][idx], y_train[1][idx], censor_surv= 'km')\n",
    "    c_tem = eval_cox_tem.concordance_td() \n",
    "    in_tem.append(c_tem)\n",
    "\n",
    "in_mean = np.mean(in_tem)\n",
    "in_se = np.std(in_tem) / np.power(1000,0.5)\n",
    "print(\"Bootstrap Internal validation:\")\n",
    "print(\"The C-index:{}\".format(in_mean))\n",
    "print(\"The C-index Low 95% CI:{}\".format(in_mean - 1.96 * in_se))\n",
    "print(\"The C-index High 95% CI:{}\".format(in_mean + 1.96 * in_se))\n"
   ]
  },
  {
   "cell_type": "code",
   "execution_count": 52,
   "id": "8262d11f",
   "metadata": {},
   "outputs": [
    {
     "name": "stdout",
     "output_type": "stream",
     "text": [
      "Bootstrap External validation:\n",
      "The C-index:0.6846992435565932\n",
      "The C-index Low 95% CI:0.681781760616736\n",
      "The C-index High 95% CI:0.6876167264964503\n"
     ]
    }
   ],
   "source": [
    "# External\n",
    "ex_tem = []\n",
    "model_cox.compute_baseline_hazards()\n",
    "for i in range(1000):\n",
    "    idx = np.random.choice(len(x_test),size = 100,replace = True)\n",
    "    x_tem = x_test[idx,]\n",
    "    surv_cox_tem = model_cox.predict_surv_df(x_tem) # survival of the test data\n",
    "    eval_cox_tem = EvalSurv(surv_cox_tem, y_test[0][idx], y_test[1][idx], censor_surv= 'km')\n",
    "    c_tem = eval_cox_tem.concordance_td() \n",
    "    ex_tem.append(c_tem)\n",
    "\n",
    "ex_mean = np.mean(ex_tem)\n",
    "ex_se = np.std(ex_tem) / np.power(1000,0.5)\n",
    "print(\"Bootstrap External validation:\")\n",
    "print(\"The C-index:{}\".format(ex_mean))\n",
    "print(\"The C-index Low 95% CI:{}\".format(ex_mean - 1.96 * ex_se))\n",
    "print(\"The C-index High 95% CI:{}\".format(ex_mean + 1.96 * ex_se))\n"
   ]
  },
  {
   "cell_type": "markdown",
   "id": "1041fff6",
   "metadata": {},
   "source": [
    "# TNM"
   ]
  },
  {
   "cell_type": "code",
   "execution_count": 53,
   "id": "624de531",
   "metadata": {},
   "outputs": [
    {
     "data": {
      "text/html": [
       "<div>\n",
       "<style scoped>\n",
       "    .dataframe tbody tr th:only-of-type {\n",
       "        vertical-align: middle;\n",
       "    }\n",
       "\n",
       "    .dataframe tbody tr th {\n",
       "        vertical-align: top;\n",
       "    }\n",
       "\n",
       "    .dataframe thead th {\n",
       "        text-align: right;\n",
       "    }\n",
       "</style>\n",
       "<table border=\"1\" class=\"dataframe\">\n",
       "  <thead>\n",
       "    <tr style=\"text-align: right;\">\n",
       "      <th></th>\n",
       "      <th>T</th>\n",
       "      <th>N</th>\n",
       "      <th>M</th>\n",
       "      <th>Stage</th>\n",
       "    </tr>\n",
       "  </thead>\n",
       "  <tbody>\n",
       "    <tr>\n",
       "      <th>0</th>\n",
       "      <td>2</td>\n",
       "      <td>2</td>\n",
       "      <td>0</td>\n",
       "      <td>7</td>\n",
       "    </tr>\n",
       "    <tr>\n",
       "      <th>1</th>\n",
       "      <td>4</td>\n",
       "      <td>0</td>\n",
       "      <td>0</td>\n",
       "      <td>3</td>\n",
       "    </tr>\n",
       "    <tr>\n",
       "      <th>2</th>\n",
       "      <td>5</td>\n",
       "      <td>3</td>\n",
       "      <td>0</td>\n",
       "      <td>8</td>\n",
       "    </tr>\n",
       "    <tr>\n",
       "      <th>3</th>\n",
       "      <td>4</td>\n",
       "      <td>0</td>\n",
       "      <td>0</td>\n",
       "      <td>3</td>\n",
       "    </tr>\n",
       "    <tr>\n",
       "      <th>4</th>\n",
       "      <td>4</td>\n",
       "      <td>2</td>\n",
       "      <td>0</td>\n",
       "      <td>7</td>\n",
       "    </tr>\n",
       "  </tbody>\n",
       "</table>\n",
       "</div>"
      ],
      "text/plain": [
       "   T  N  M  Stage\n",
       "0  2  2  0      7\n",
       "1  4  0  0      3\n",
       "2  5  3  0      8\n",
       "3  4  0  0      3\n",
       "4  4  2  0      7"
      ]
     },
     "execution_count": 53,
     "metadata": {},
     "output_type": "execute_result"
    }
   ],
   "source": [
    "df_train_tnm = df_train[[\"T\",\"N\",\"M\",\"Stage\"]]\n",
    "df_test_tnm = df_test[[\"T\",\"N\",\"M\",\"Stage\"]]\n",
    "df_train_tnm.head()"
   ]
  },
  {
   "cell_type": "code",
   "execution_count": 54,
   "id": "36325e7d",
   "metadata": {},
   "outputs": [],
   "source": [
    "# to standardize and get dependent variables \n",
    "x_cat = ['T', 'N', 'M', 'Stage'] #categorical variables \n",
    "label = [([cat], None) for cat in x_cat]\n",
    "\n",
    "X_map = DataFrameMapper(label)\n",
    "\n",
    "x_train = X_map.fit_transform(df_train_tnm).astype('float32') # x train\n",
    "x_test= X_map.fit_transform(df_test_tnm).astype('float32') # x test"
   ]
  },
  {
   "cell_type": "code",
   "execution_count": 67,
   "id": "e5cf44b0",
   "metadata": {},
   "outputs": [
    {
     "name": "stdout",
     "output_type": "stream",
     "text": [
      "0:\t[0s / 0s],\t\ttrain_loss: 0.8345,\tval_loss: 0.8064\n",
      "1:\t[0s / 0s],\t\ttrain_loss: 0.8021,\tval_loss: 0.7245\n",
      "2:\t[0s / 0s],\t\ttrain_loss: 0.7834,\tval_loss: 0.6769\n",
      "3:\t[0s / 0s],\t\ttrain_loss: 0.7763,\tval_loss: 0.6666\n",
      "4:\t[0s / 0s],\t\ttrain_loss: 0.7272,\tval_loss: 0.6479\n",
      "5:\t[0s / 0s],\t\ttrain_loss: 0.7060,\tval_loss: 0.6691\n",
      "6:\t[0s / 0s],\t\ttrain_loss: 0.7080,\tval_loss: 0.6329\n",
      "7:\t[0s / 0s],\t\ttrain_loss: 0.6761,\tval_loss: 0.6691\n",
      "8:\t[0s / 0s],\t\ttrain_loss: 0.6539,\tval_loss: 0.6493\n",
      "9:\t[0s / 0s],\t\ttrain_loss: 0.6508,\tval_loss: 0.6704\n",
      "10:\t[0s / 0s],\t\ttrain_loss: 0.6756,\tval_loss: 0.6524\n",
      "11:\t[0s / 0s],\t\ttrain_loss: 0.6563,\tval_loss: 0.6888\n",
      "12:\t[0s / 0s],\t\ttrain_loss: 0.6478,\tval_loss: 0.6633\n",
      "13:\t[0s / 0s],\t\ttrain_loss: 0.6534,\tval_loss: 0.6730\n",
      "14:\t[0s / 0s],\t\ttrain_loss: 0.6182,\tval_loss: 0.6411\n",
      "15:\t[0s / 0s],\t\ttrain_loss: 0.6629,\tval_loss: 0.6587\n",
      "16:\t[0s / 0s],\t\ttrain_loss: 0.6581,\tval_loss: 0.6563\n",
      "17:\t[0s / 0s],\t\ttrain_loss: 0.6375,\tval_loss: 0.6528\n",
      "18:\t[0s / 0s],\t\ttrain_loss: 0.6566,\tval_loss: 0.6599\n",
      "19:\t[0s / 0s],\t\ttrain_loss: 0.6457,\tval_loss: 0.6374\n",
      "20:\t[0s / 0s],\t\ttrain_loss: 0.6744,\tval_loss: 0.6160\n",
      "21:\t[0s / 0s],\t\ttrain_loss: 0.6621,\tval_loss: 0.6253\n",
      "22:\t[0s / 0s],\t\ttrain_loss: 0.6426,\tval_loss: 0.6482\n",
      "23:\t[0s / 0s],\t\ttrain_loss: 0.6703,\tval_loss: 0.6451\n",
      "24:\t[0s / 0s],\t\ttrain_loss: 0.6670,\tval_loss: 0.6406\n",
      "25:\t[0s / 0s],\t\ttrain_loss: 0.6439,\tval_loss: 0.6412\n",
      "26:\t[0s / 0s],\t\ttrain_loss: 0.6404,\tval_loss: 0.6214\n",
      "27:\t[0s / 0s],\t\ttrain_loss: 0.6463,\tval_loss: 0.6413\n",
      "28:\t[0s / 0s],\t\ttrain_loss: 0.6439,\tval_loss: 0.6277\n",
      "29:\t[0s / 0s],\t\ttrain_loss: 0.6641,\tval_loss: 0.6713\n",
      "30:\t[0s / 0s],\t\ttrain_loss: 0.6570,\tval_loss: 0.6793\n",
      "31:\t[0s / 0s],\t\ttrain_loss: 0.6624,\tval_loss: 0.6243\n",
      "32:\t[0s / 0s],\t\ttrain_loss: 0.6267,\tval_loss: 0.6359\n",
      "33:\t[0s / 0s],\t\ttrain_loss: 0.6304,\tval_loss: 0.6649\n",
      "34:\t[0s / 0s],\t\ttrain_loss: 0.6563,\tval_loss: 0.6311\n",
      "35:\t[0s / 0s],\t\ttrain_loss: 0.6486,\tval_loss: 0.6491\n",
      "36:\t[0s / 0s],\t\ttrain_loss: 0.6545,\tval_loss: 0.6393\n",
      "37:\t[0s / 0s],\t\ttrain_loss: 0.6481,\tval_loss: 0.6479\n",
      "38:\t[0s / 0s],\t\ttrain_loss: 0.6770,\tval_loss: 0.6549\n",
      "39:\t[0s / 0s],\t\ttrain_loss: 0.6224,\tval_loss: 0.6461\n",
      "40:\t[0s / 0s],\t\ttrain_loss: 0.6908,\tval_loss: 0.6572\n",
      "41:\t[0s / 0s],\t\ttrain_loss: 0.6117,\tval_loss: 0.6085\n",
      "42:\t[0s / 0s],\t\ttrain_loss: 0.6332,\tval_loss: 0.6197\n",
      "43:\t[0s / 0s],\t\ttrain_loss: 0.6602,\tval_loss: 0.6386\n",
      "44:\t[0s / 0s],\t\ttrain_loss: 0.6385,\tval_loss: 0.6814\n",
      "45:\t[0s / 0s],\t\ttrain_loss: 0.6651,\tval_loss: 0.6480\n",
      "46:\t[0s / 0s],\t\ttrain_loss: 0.6476,\tval_loss: 0.6756\n",
      "47:\t[0s / 0s],\t\ttrain_loss: 0.6518,\tval_loss: 0.6855\n",
      "48:\t[0s / 0s],\t\ttrain_loss: 0.6434,\tval_loss: 0.6620\n",
      "49:\t[0s / 0s],\t\ttrain_loss: 0.6210,\tval_loss: 0.6212\n",
      "50:\t[0s / 0s],\t\ttrain_loss: 0.6627,\tval_loss: 0.6615\n",
      "51:\t[0s / 0s],\t\ttrain_loss: 0.6405,\tval_loss: 0.6510\n",
      "52:\t[0s / 0s],\t\ttrain_loss: 0.6493,\tval_loss: 0.6326\n",
      "53:\t[0s / 0s],\t\ttrain_loss: 0.6461,\tval_loss: 0.6366\n",
      "54:\t[0s / 0s],\t\ttrain_loss: 0.6364,\tval_loss: 0.6111\n",
      "55:\t[0s / 0s],\t\ttrain_loss: 0.5829,\tval_loss: 0.6512\n",
      "56:\t[0s / 0s],\t\ttrain_loss: 0.6198,\tval_loss: 0.6766\n",
      "57:\t[0s / 0s],\t\ttrain_loss: 0.6390,\tval_loss: 0.5718\n",
      "58:\t[0s / 0s],\t\ttrain_loss: 0.6102,\tval_loss: 0.6533\n",
      "59:\t[0s / 0s],\t\ttrain_loss: 0.6320,\tval_loss: 0.6233\n",
      "60:\t[0s / 0s],\t\ttrain_loss: 0.6106,\tval_loss: 0.6622\n",
      "61:\t[0s / 0s],\t\ttrain_loss: 0.6657,\tval_loss: 0.6378\n",
      "62:\t[0s / 0s],\t\ttrain_loss: 0.6176,\tval_loss: 0.6890\n",
      "63:\t[0s / 0s],\t\ttrain_loss: 0.6645,\tval_loss: 0.5676\n",
      "64:\t[0s / 0s],\t\ttrain_loss: 0.6835,\tval_loss: 0.6248\n",
      "65:\t[0s / 0s],\t\ttrain_loss: 0.7045,\tval_loss: 0.6074\n",
      "66:\t[0s / 0s],\t\ttrain_loss: 0.6388,\tval_loss: 0.6234\n",
      "67:\t[0s / 0s],\t\ttrain_loss: 0.5960,\tval_loss: 0.5950\n",
      "68:\t[0s / 0s],\t\ttrain_loss: 0.6478,\tval_loss: 0.6073\n",
      "69:\t[0s / 0s],\t\ttrain_loss: 0.6025,\tval_loss: 0.6478\n",
      "70:\t[0s / 0s],\t\ttrain_loss: 0.6516,\tval_loss: 0.6431\n",
      "71:\t[0s / 0s],\t\ttrain_loss: 0.6036,\tval_loss: 0.6198\n",
      "72:\t[0s / 0s],\t\ttrain_loss: 0.6346,\tval_loss: 0.6405\n",
      "73:\t[0s / 0s],\t\ttrain_loss: 0.7039,\tval_loss: 0.6455\n",
      "74:\t[0s / 0s],\t\ttrain_loss: 0.6260,\tval_loss: 0.6540\n",
      "75:\t[0s / 0s],\t\ttrain_loss: 0.6543,\tval_loss: 0.6389\n",
      "76:\t[0s / 0s],\t\ttrain_loss: 0.6334,\tval_loss: 0.6407\n",
      "77:\t[0s / 0s],\t\ttrain_loss: 0.6338,\tval_loss: 0.6481\n",
      "78:\t[0s / 0s],\t\ttrain_loss: 0.6196,\tval_loss: 0.6066\n",
      "79:\t[0s / 0s],\t\ttrain_loss: 0.6633,\tval_loss: 0.6415\n",
      "80:\t[0s / 0s],\t\ttrain_loss: 0.6176,\tval_loss: 0.6391\n",
      "81:\t[0s / 0s],\t\ttrain_loss: 0.7022,\tval_loss: 0.6361\n",
      "82:\t[0s / 0s],\t\ttrain_loss: 0.6378,\tval_loss: 0.6547\n",
      "83:\t[0s / 0s],\t\ttrain_loss: 0.6821,\tval_loss: 0.6453\n",
      "84:\t[0s / 0s],\t\ttrain_loss: 0.6423,\tval_loss: 0.6841\n",
      "85:\t[0s / 0s],\t\ttrain_loss: 0.6633,\tval_loss: 0.6528\n",
      "86:\t[0s / 0s],\t\ttrain_loss: 0.6904,\tval_loss: 0.6717\n",
      "87:\t[0s / 0s],\t\ttrain_loss: 0.6161,\tval_loss: 0.6540\n",
      "88:\t[0s / 0s],\t\ttrain_loss: 0.6030,\tval_loss: 0.6226\n",
      "89:\t[0s / 0s],\t\ttrain_loss: 0.6594,\tval_loss: 0.6284\n",
      "90:\t[0s / 0s],\t\ttrain_loss: 0.5982,\tval_loss: 0.6499\n",
      "91:\t[0s / 0s],\t\ttrain_loss: 0.6168,\tval_loss: 0.6692\n",
      "92:\t[0s / 0s],\t\ttrain_loss: 0.6437,\tval_loss: 0.6329\n",
      "93:\t[0s / 0s],\t\ttrain_loss: 0.6380,\tval_loss: 0.6487\n"
     ]
    }
   ],
   "source": [
    "in_features = x_train.shape[1]\n",
    "num_nodes = [16,4]\n",
    "out_features = 1\n",
    "batch_norm = True\n",
    "dropout = 0.4\n",
    "output_bias = False\n",
    "epochs = 100\n",
    "callbacks = [tt.callbacks.EarlyStopping(patience=30)]\n",
    "#callbacks = None\n",
    "verbose = True\n",
    "batch_size = 64\n",
    "\n",
    "net = tt.practical.MLPVanilla(in_features, num_nodes, out_features, batch_norm,\n",
    "                              dropout, output_bias=output_bias)\n",
    "\n",
    "model_cox = CoxCC(net, tt.optim.Adam(lr=0.01,amsgrad=True)) #cox model on the neural network with Adam optimizer\n",
    "\n",
    "log_cox = model_cox.fit(x_train, y_train, batch_size, epochs, callbacks, verbose,\n",
    "                        val_data =(x_test,y_test),  val_batch_size=batch_size)"
   ]
  },
  {
   "cell_type": "code",
   "execution_count": 68,
   "id": "534b5f00",
   "metadata": {},
   "outputs": [
    {
     "data": {
      "text/plain": [
       "0.6754746023601848"
      ]
     },
     "execution_count": 68,
     "metadata": {},
     "output_type": "execute_result"
    },
    {
     "data": {
      "text/plain": [
       "<Figure size 864x864 with 0 Axes>"
      ]
     },
     "metadata": {},
     "output_type": "display_data"
    },
    {
     "data": {
      "image/png": "[encoded data removed]",
      "text/plain": [
       "<Figure size 432x288 with 1 Axes>"
      ]
     },
     "metadata": {
      "needs_background": "light"
     },
     "output_type": "display_data"
    }
   ],
   "source": [
    "#plotting the loss vs epoch \n",
    "plt.figure(figsize=[12,12])\n",
    "log_cox.plot()\n",
    "plt.xlabel('Epoch', fontsize = 16)\n",
    "plt.ylabel('Loss', fontsize = 16)\n",
    "\n",
    "# predict for the cox model(external validation)\n",
    "model_cox.compute_baseline_hazards() #baseline hazard\n",
    "surv_cox = model_cox.predict_surv_df(x_test) # survival of the test data\n",
    "# evaluate the c-index of the cox model \n",
    "eval_cox = EvalSurv(surv_cox, time_test, status_test, censor_surv= 'km')\n",
    "cox_index = eval_cox.concordance_td() \n",
    "cox_index  # cox_index  at all"
   ]
  },
  {
   "cell_type": "code",
   "execution_count": 69,
   "id": "75ad497f",
   "metadata": {},
   "outputs": [
    {
     "data": {
      "text/plain": [
       "0.17679068940753598"
      ]
     },
     "execution_count": 69,
     "metadata": {},
     "output_type": "execute_result"
    },
    {
     "data": {
      "image/png": "[encoded data removed]",
      "text/plain": [
       "<Figure size 432x288 with 1 Axes>"
      ]
     },
     "metadata": {
      "needs_background": "light"
     },
     "output_type": "display_data"
    }
   ],
   "source": [
    "# extegrated_brier_score at all\n",
    "time_grid = np.linspace(time_test.min(), time_test.max(), 100)\n",
    "_ = eval_cox.brier_score(time_grid).plot()\n",
    "eval_cox.integrated_brier_score(time_grid)"
   ]
  },
  {
   "cell_type": "code",
   "execution_count": 70,
   "id": "e504f11d",
   "metadata": {},
   "outputs": [
    {
     "data": {
      "text/plain": [
       "0.6663888817661991"
      ]
     },
     "execution_count": 70,
     "metadata": {},
     "output_type": "execute_result"
    }
   ],
   "source": [
    "# Internal:c-index at  all\n",
    "time_test0, status_test0 = y_train \n",
    "surv_cox0 = model_cox.predict_surv_df(x_train) # survival of the test data\n",
    "eval_cox0 = EvalSurv(surv_cox0, time_test0, status_test0, censor_surv= 'km')\n",
    "cox_index0 = eval_cox0.concordance_td() \n",
    "cox_index0 "
   ]
  },
  {
   "cell_type": "code",
   "execution_count": 71,
   "id": "047aa553",
   "metadata": {},
   "outputs": [
    {
     "data": {
      "text/plain": [
       "0.18565969798446566"
      ]
     },
     "execution_count": 71,
     "metadata": {},
     "output_type": "execute_result"
    },
    {
     "data": {
      "image/png": "[encoded data removed]",
      "text/plain": [
       "<Figure size 432x288 with 1 Axes>"
      ]
     },
     "metadata": {
      "needs_background": "light"
     },
     "output_type": "display_data"
    }
   ],
   "source": [
    "# brier score at all\n",
    "time_grid0 = np.linspace(time_test0.min(), time_test0.max(), 100)\n",
    "_ = eval_cox0.brier_score(time_grid0).plot()\n",
    "eval_cox0.integrated_brier_score(time_grid0)"
   ]
  },
  {
   "cell_type": "code",
   "execution_count": 72,
   "id": "b60b4406",
   "metadata": {},
   "outputs": [
    {
     "name": "stdout",
     "output_type": "stream",
     "text": [
      "Bootstrap Internal validation:\n",
      "The C-index:0.6677009481370457\n",
      "The C-index Low 95% CI:0.6651744905305265\n",
      "The C-index High 95% CI:0.670227405743565\n"
     ]
    }
   ],
   "source": [
    "# Internal\n",
    "# ATTENTION :x_train, y_train is numpy.ndarray\n",
    "in_tem = []\n",
    "model_cox.compute_baseline_hazards()\n",
    "for i in range(1000):\n",
    "    idx = np.random.choice(len(x_train),size = 100,replace = True)\n",
    "    x_tem = x_train[idx,]\n",
    "    surv_cox_tem = model_cox.predict_surv_df(x_tem) # survival of the test data\n",
    "    eval_cox_tem = EvalSurv(surv_cox_tem, y_train[0][idx], y_train[1][idx], censor_surv= 'km')\n",
    "    c_tem = eval_cox_tem.concordance_td() \n",
    "    in_tem.append(c_tem)\n",
    "\n",
    "in_mean = np.mean(in_tem)\n",
    "in_se = np.std(in_tem) / np.power(1000,0.5)\n",
    "print(\"Bootstrap Internal validation:\")\n",
    "print(\"The C-index:{}\".format(in_mean))\n",
    "print(\"The C-index Low 95% CI:{}\".format(in_mean - 1.96 * in_se))\n",
    "print(\"The C-index High 95% CI:{}\".format(in_mean + 1.96 * in_se))"
   ]
  },
  {
   "cell_type": "code",
   "execution_count": 73,
   "id": "98a44538",
   "metadata": {},
   "outputs": [
    {
     "name": "stdout",
     "output_type": "stream",
     "text": [
      "Bootstrap External validation:\n",
      "The C-index:0.6785462272731215\n",
      "The C-index Low 95% CI:0.6758036216599322\n",
      "The C-index High 95% CI:0.6812888328863108\n"
     ]
    }
   ],
   "source": [
    "# External\n",
    "ex_tem = []\n",
    "model_cox.compute_baseline_hazards()\n",
    "for i in range(1000):\n",
    "    idx = np.random.choice(len(x_test),size = 100,replace = True)\n",
    "    x_tem = x_test[idx,]\n",
    "    surv_cox_tem = model_cox.predict_surv_df(x_tem) # survival of the test data\n",
    "    eval_cox_tem = EvalSurv(surv_cox_tem, y_test[0][idx], y_test[1][idx], censor_surv= 'km')\n",
    "    c_tem = eval_cox_tem.concordance_td() \n",
    "    ex_tem.append(c_tem)\n",
    "\n",
    "ex_mean = np.mean(ex_tem)\n",
    "ex_se = np.std(ex_tem) / np.power(1000,0.5)\n",
    "print(\"Bootstrap External validation:\")\n",
    "print(\"The C-index:{}\".format(ex_mean))\n",
    "print(\"The C-index Low 95% CI:{}\".format(ex_mean - 1.96 * ex_se))\n",
    "print(\"The C-index High 95% CI:{}\".format(ex_mean + 1.96 * ex_se))"
   ]
  },
  {
   "cell_type": "code",
   "execution_count": null,
   "id": "15dd85d9",
   "metadata": {},
   "outputs": [],
   "source": []
  }
 ],
 "metadata": {
  "kernelspec": {
   "display_name": "Python 3 (ipykernel)",
   "language": "python",
   "name": "python3"
  },
  "language_info": {
   "codemirror_mode": {
    "name": "ipython",
    "version": 3
   },
   "file_extension": ".py",
   "mimetype": "text/x-python",
   "name": "python",
   "nbconvert_exporter": "python",
   "pygments_lexer": "ipython3",
   "version": "3.9.7"
  }
 },
 "nbformat": 4,
 "nbformat_minor": 5
}
