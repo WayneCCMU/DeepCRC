{
 "cells": [
  {
   "cell_type": "code",
   "execution_count": 1,
   "id": "b130d6d0",
   "metadata": {},
   "outputs": [],
   "source": [
    "import pandas as pd\n",
    "import numpy as np\n",
    "\n",
    "from sklearn.preprocessing import StandardScaler, LabelEncoder\n",
    "from sklearn_pandas import DataFrameMapper\n",
    "from sklearn.model_selection import train_test_split\n",
    "\n",
    "import matplotlib.pyplot as plt\n",
    "from pycox.models import PMF\n",
    "\n",
    "from pycox.evaluation import EvalSurv\n",
    "from pycox.simulations import SimStudyLinearPH\n",
    "\n",
    "import torch\n",
    "import torchtuples as tt"
   ]
  },
  {
   "cell_type": "markdown",
   "id": "80d2f927",
   "metadata": {},
   "source": [
    "# Read data"
   ]
  },
  {
   "cell_type": "code",
   "execution_count": 2,
   "id": "580f22d7",
   "metadata": {},
   "outputs": [],
   "source": [
    "df_train = pd.read_csv('train.csv')\n",
    "df_train = pd.DataFrame(df_train)\n",
    "\n",
    "df_test = pd.read_csv('test.csv')\n",
    "df_test = pd.DataFrame(df_test)"
   ]
  },
  {
   "cell_type": "code",
   "execution_count": 3,
   "id": "c765d269",
   "metadata": {},
   "outputs": [
    {
     "data": {
      "text/html": [
       "<div>\n",
       "<style scoped>\n",
       "    .dataframe tbody tr th:only-of-type {\n",
       "        vertical-align: middle;\n",
       "    }\n",
       "\n",
       "    .dataframe tbody tr th {\n",
       "        vertical-align: top;\n",
       "    }\n",
       "\n",
       "    .dataframe thead th {\n",
       "        text-align: right;\n",
       "    }\n",
       "</style>\n",
       "<table border=\"1\" class=\"dataframe\">\n",
       "  <thead>\n",
       "    <tr style=\"text-align: right;\">\n",
       "      <th></th>\n",
       "      <th>Sex</th>\n",
       "      <th>Age</th>\n",
       "      <th>Size</th>\n",
       "      <th>Site</th>\n",
       "      <th>Grade</th>\n",
       "      <th>Lymph.nodes.examined</th>\n",
       "      <th>Lymph.nodes.positive</th>\n",
       "      <th>T</th>\n",
       "      <th>N</th>\n",
       "      <th>M</th>\n",
       "      <th>Stage</th>\n",
       "      <th>duration</th>\n",
       "      <th>event</th>\n",
       "    </tr>\n",
       "  </thead>\n",
       "  <tbody>\n",
       "    <tr>\n",
       "      <th>0</th>\n",
       "      <td>Male</td>\n",
       "      <td>41</td>\n",
       "      <td>65</td>\n",
       "      <td>Ileocecal Junction</td>\n",
       "      <td>II</td>\n",
       "      <td>29</td>\n",
       "      <td>1</td>\n",
       "      <td>T3</td>\n",
       "      <td>N1a</td>\n",
       "      <td>M0</td>\n",
       "      <td>IIIB</td>\n",
       "      <td>110</td>\n",
       "      <td>0</td>\n",
       "    </tr>\n",
       "    <tr>\n",
       "      <th>1</th>\n",
       "      <td>Male</td>\n",
       "      <td>54</td>\n",
       "      <td>95</td>\n",
       "      <td>Ascending Colon</td>\n",
       "      <td>II</td>\n",
       "      <td>37</td>\n",
       "      <td>0</td>\n",
       "      <td>T4a</td>\n",
       "      <td>N0</td>\n",
       "      <td>M0</td>\n",
       "      <td>IIB</td>\n",
       "      <td>107</td>\n",
       "      <td>0</td>\n",
       "    </tr>\n",
       "    <tr>\n",
       "      <th>2</th>\n",
       "      <td>Female</td>\n",
       "      <td>78</td>\n",
       "      <td>65</td>\n",
       "      <td>Sigmoid Colon</td>\n",
       "      <td>II</td>\n",
       "      <td>20</td>\n",
       "      <td>2</td>\n",
       "      <td>T4b</td>\n",
       "      <td>N1b</td>\n",
       "      <td>M0</td>\n",
       "      <td>IIIC</td>\n",
       "      <td>106</td>\n",
       "      <td>0</td>\n",
       "    </tr>\n",
       "    <tr>\n",
       "      <th>3</th>\n",
       "      <td>Female</td>\n",
       "      <td>33</td>\n",
       "      <td>150</td>\n",
       "      <td>Large Intestine, NOS</td>\n",
       "      <td>II</td>\n",
       "      <td>9</td>\n",
       "      <td>0</td>\n",
       "      <td>T4a</td>\n",
       "      <td>N0</td>\n",
       "      <td>M0</td>\n",
       "      <td>IIB</td>\n",
       "      <td>105</td>\n",
       "      <td>0</td>\n",
       "    </tr>\n",
       "    <tr>\n",
       "      <th>4</th>\n",
       "      <td>Male</td>\n",
       "      <td>58</td>\n",
       "      <td>100</td>\n",
       "      <td>Descending Colon</td>\n",
       "      <td>III</td>\n",
       "      <td>6</td>\n",
       "      <td>1</td>\n",
       "      <td>T4a</td>\n",
       "      <td>N1a</td>\n",
       "      <td>M0</td>\n",
       "      <td>IIIB</td>\n",
       "      <td>102</td>\n",
       "      <td>0</td>\n",
       "    </tr>\n",
       "  </tbody>\n",
       "</table>\n",
       "</div>"
      ],
      "text/plain": [
       "      Sex  Age  Size                  Site Grade  Lymph.nodes.examined  \\\n",
       "0    Male   41    65    Ileocecal Junction    II                    29   \n",
       "1    Male   54    95       Ascending Colon    II                    37   \n",
       "2  Female   78    65         Sigmoid Colon    II                    20   \n",
       "3  Female   33   150  Large Intestine, NOS    II                     9   \n",
       "4    Male   58   100      Descending Colon   III                     6   \n",
       "\n",
       "   Lymph.nodes.positive    T    N   M Stage  duration  event  \n",
       "0                     1   T3  N1a  M0  IIIB       110      0  \n",
       "1                     0  T4a   N0  M0   IIB       107      0  \n",
       "2                     2  T4b  N1b  M0  IIIC       106      0  \n",
       "3                     0  T4a   N0  M0   IIB       105      0  \n",
       "4                     1  T4a  N1a  M0  IIIB       102      0  "
      ]
     },
     "execution_count": 3,
     "metadata": {},
     "output_type": "execute_result"
    }
   ],
   "source": [
    "df_train.head()"
   ]
  },
  {
   "cell_type": "code",
   "execution_count": 4,
   "id": "02ade6b9",
   "metadata": {},
   "outputs": [
    {
     "data": {
      "text/html": [
       "<div>\n",
       "<style scoped>\n",
       "    .dataframe tbody tr th:only-of-type {\n",
       "        vertical-align: middle;\n",
       "    }\n",
       "\n",
       "    .dataframe tbody tr th {\n",
       "        vertical-align: top;\n",
       "    }\n",
       "\n",
       "    .dataframe thead th {\n",
       "        text-align: right;\n",
       "    }\n",
       "</style>\n",
       "<table border=\"1\" class=\"dataframe\">\n",
       "  <thead>\n",
       "    <tr style=\"text-align: right;\">\n",
       "      <th></th>\n",
       "      <th>Sex</th>\n",
       "      <th>Age</th>\n",
       "      <th>Size</th>\n",
       "      <th>Site</th>\n",
       "      <th>Grade</th>\n",
       "      <th>Lymph.nodes.examined</th>\n",
       "      <th>Lymph.nodes.positive</th>\n",
       "      <th>T</th>\n",
       "      <th>N</th>\n",
       "      <th>M</th>\n",
       "      <th>Stage</th>\n",
       "      <th>duration</th>\n",
       "      <th>event</th>\n",
       "    </tr>\n",
       "  </thead>\n",
       "  <tbody>\n",
       "    <tr>\n",
       "      <th>0</th>\n",
       "      <td>1</td>\n",
       "      <td>41</td>\n",
       "      <td>65</td>\n",
       "      <td>3</td>\n",
       "      <td>1</td>\n",
       "      <td>29</td>\n",
       "      <td>1</td>\n",
       "      <td>2</td>\n",
       "      <td>2</td>\n",
       "      <td>0</td>\n",
       "      <td>7</td>\n",
       "      <td>110</td>\n",
       "      <td>0</td>\n",
       "    </tr>\n",
       "    <tr>\n",
       "      <th>1</th>\n",
       "      <td>1</td>\n",
       "      <td>54</td>\n",
       "      <td>95</td>\n",
       "      <td>0</td>\n",
       "      <td>1</td>\n",
       "      <td>37</td>\n",
       "      <td>0</td>\n",
       "      <td>4</td>\n",
       "      <td>0</td>\n",
       "      <td>0</td>\n",
       "      <td>3</td>\n",
       "      <td>107</td>\n",
       "      <td>0</td>\n",
       "    </tr>\n",
       "    <tr>\n",
       "      <th>2</th>\n",
       "      <td>0</td>\n",
       "      <td>78</td>\n",
       "      <td>65</td>\n",
       "      <td>7</td>\n",
       "      <td>1</td>\n",
       "      <td>20</td>\n",
       "      <td>2</td>\n",
       "      <td>5</td>\n",
       "      <td>3</td>\n",
       "      <td>0</td>\n",
       "      <td>8</td>\n",
       "      <td>106</td>\n",
       "      <td>0</td>\n",
       "    </tr>\n",
       "    <tr>\n",
       "      <th>3</th>\n",
       "      <td>0</td>\n",
       "      <td>33</td>\n",
       "      <td>150</td>\n",
       "      <td>4</td>\n",
       "      <td>1</td>\n",
       "      <td>9</td>\n",
       "      <td>0</td>\n",
       "      <td>4</td>\n",
       "      <td>0</td>\n",
       "      <td>0</td>\n",
       "      <td>3</td>\n",
       "      <td>105</td>\n",
       "      <td>0</td>\n",
       "    </tr>\n",
       "    <tr>\n",
       "      <th>4</th>\n",
       "      <td>1</td>\n",
       "      <td>58</td>\n",
       "      <td>100</td>\n",
       "      <td>1</td>\n",
       "      <td>2</td>\n",
       "      <td>6</td>\n",
       "      <td>1</td>\n",
       "      <td>4</td>\n",
       "      <td>2</td>\n",
       "      <td>0</td>\n",
       "      <td>7</td>\n",
       "      <td>102</td>\n",
       "      <td>0</td>\n",
       "    </tr>\n",
       "  </tbody>\n",
       "</table>\n",
       "</div>"
      ],
      "text/plain": [
       "   Sex  Age  Size  Site  Grade  Lymph.nodes.examined  Lymph.nodes.positive  T  \\\n",
       "0    1   41    65     3      1                    29                     1  2   \n",
       "1    1   54    95     0      1                    37                     0  4   \n",
       "2    0   78    65     7      1                    20                     2  5   \n",
       "3    0   33   150     4      1                     9                     0  4   \n",
       "4    1   58   100     1      2                     6                     1  4   \n",
       "\n",
       "   N  M  Stage  duration  event  \n",
       "0  2  0      7       110      0  \n",
       "1  0  0      3       107      0  \n",
       "2  3  0      8       106      0  \n",
       "3  0  0      3       105      0  \n",
       "4  2  0      7       102      0  "
      ]
     },
     "execution_count": 4,
     "metadata": {},
     "output_type": "execute_result"
    }
   ],
   "source": [
    "# to label encoding categorical variables\n",
    "le = LabelEncoder() #label encoder\n",
    "cat_list = ['Sex','Site', 'Grade', 'T', 'N', 'M', 'Stage'] #list of categorical variables\n",
    "for cat in cat_list:\n",
    "    df_train[cat] = le.fit_transform(df_train[cat])\n",
    "    df_test[cat] = le.fit_transform(df_test[cat])\n",
    "\n",
    "df_train.head()"
   ]
  },
  {
   "cell_type": "code",
   "execution_count": 5,
   "id": "b0a5e001",
   "metadata": {},
   "outputs": [],
   "source": [
    "# function to get targets variable\n",
    "get_target = lambda df: (df['duration'].values, df['event'].values)\n",
    "\n",
    "# to standardize and get dependent variables \n",
    "cols_standardize = ['Age', 'Size', 'Lymph.nodes.examined', 'Lymph.nodes.positive'] # list of variables for standardization\n",
    "cols_leave = ['Sex','Site', 'Grade', 'T', 'N', 'M', 'Stage'] #categorical variables \n",
    "\n",
    "standardize = [([col], StandardScaler()) for col in cols_standardize]\n",
    "leave = [(col, None) for col in cols_leave]\n",
    "\n",
    "x_mapper = DataFrameMapper(standardize + leave)"
   ]
  },
  {
   "cell_type": "code",
   "execution_count": 6,
   "id": "0151ef19",
   "metadata": {},
   "outputs": [],
   "source": [
    "x_train = x_mapper.fit_transform(df_train).astype('float32')\n",
    "x_test = x_mapper.transform(df_test).astype('float32')\n",
    "\n",
    "num_durations = 10\n",
    "\n",
    "labtrans = PMF.label_transform(num_durations)\n",
    "\n",
    "y_train = labtrans.fit_transform(*get_target(df_train))\n",
    "y_test = labtrans.transform(*get_target(df_test))\n",
    "\n",
    "train = (x_train, y_train)\n",
    "val = (x_test, y_test)\n",
    "\n",
    "# We don't need to transform the test labels\n",
    "durations_test, events_test = get_target(df_test)"
   ]
  },
  {
   "cell_type": "markdown",
   "id": "38440b7c",
   "metadata": {},
   "source": [
    "# Neural Network"
   ]
  },
  {
   "cell_type": "code",
   "execution_count": 37,
   "id": "659f4b1f",
   "metadata": {
    "scrolled": true
   },
   "outputs": [
    {
     "name": "stdout",
     "output_type": "stream",
     "text": [
      "0:\t[0s / 0s],\t\ttrain_loss: 1.7830,\tval_loss: 1.6716\n",
      "1:\t[0s / 0s],\t\ttrain_loss: 1.5738,\tval_loss: 1.4584\n",
      "2:\t[0s / 0s],\t\ttrain_loss: 1.4997,\tval_loss: 1.3879\n",
      "3:\t[0s / 0s],\t\ttrain_loss: 1.5263,\tval_loss: 1.3498\n",
      "4:\t[0s / 0s],\t\ttrain_loss: 1.4555,\tval_loss: 1.3236\n",
      "5:\t[0s / 0s],\t\ttrain_loss: 1.4961,\tval_loss: 1.3170\n",
      "6:\t[0s / 0s],\t\ttrain_loss: 1.4436,\tval_loss: 1.3103\n",
      "7:\t[0s / 0s],\t\ttrain_loss: 1.4571,\tval_loss: 1.2995\n",
      "8:\t[0s / 0s],\t\ttrain_loss: 1.3916,\tval_loss: 1.2792\n",
      "9:\t[0s / 0s],\t\ttrain_loss: 1.3910,\tval_loss: 1.2740\n",
      "10:\t[0s / 0s],\t\ttrain_loss: 1.4421,\tval_loss: 1.2748\n",
      "11:\t[0s / 0s],\t\ttrain_loss: 1.4322,\tval_loss: 1.2763\n",
      "12:\t[0s / 0s],\t\ttrain_loss: 1.3893,\tval_loss: 1.2817\n",
      "13:\t[0s / 0s],\t\ttrain_loss: 1.3453,\tval_loss: 1.2802\n",
      "14:\t[0s / 0s],\t\ttrain_loss: 1.3500,\tval_loss: 1.2749\n",
      "15:\t[0s / 0s],\t\ttrain_loss: 1.3624,\tval_loss: 1.2682\n",
      "16:\t[0s / 0s],\t\ttrain_loss: 1.3714,\tval_loss: 1.2617\n",
      "17:\t[0s / 0s],\t\ttrain_loss: 1.3126,\tval_loss: 1.2558\n",
      "18:\t[0s / 0s],\t\ttrain_loss: 1.3353,\tval_loss: 1.2602\n",
      "19:\t[0s / 0s],\t\ttrain_loss: 1.3436,\tval_loss: 1.2705\n",
      "20:\t[0s / 0s],\t\ttrain_loss: 1.3804,\tval_loss: 1.2695\n",
      "21:\t[0s / 0s],\t\ttrain_loss: 1.2833,\tval_loss: 1.2803\n",
      "22:\t[0s / 0s],\t\ttrain_loss: 1.3592,\tval_loss: 1.2979\n",
      "23:\t[0s / 0s],\t\ttrain_loss: 1.3230,\tval_loss: 1.3173\n",
      "24:\t[0s / 0s],\t\ttrain_loss: 1.4461,\tval_loss: 1.3125\n",
      "25:\t[0s / 0s],\t\ttrain_loss: 1.2650,\tval_loss: 1.3122\n",
      "26:\t[0s / 0s],\t\ttrain_loss: 1.3604,\tval_loss: 1.3235\n",
      "27:\t[0s / 0s],\t\ttrain_loss: 1.3134,\tval_loss: 1.3314\n",
      "28:\t[0s / 0s],\t\ttrain_loss: 1.2886,\tval_loss: 1.3181\n",
      "29:\t[0s / 0s],\t\ttrain_loss: 1.2852,\tval_loss: 1.3060\n",
      "30:\t[0s / 0s],\t\ttrain_loss: 1.3199,\tval_loss: 1.3157\n",
      "31:\t[0s / 0s],\t\ttrain_loss: 1.2754,\tval_loss: 1.3107\n",
      "32:\t[0s / 0s],\t\ttrain_loss: 1.2725,\tval_loss: 1.2970\n",
      "33:\t[0s / 0s],\t\ttrain_loss: 1.2507,\tval_loss: 1.2902\n",
      "34:\t[0s / 0s],\t\ttrain_loss: 1.2896,\tval_loss: 1.3219\n",
      "35:\t[0s / 0s],\t\ttrain_loss: 1.2495,\tval_loss: 1.3542\n",
      "36:\t[0s / 0s],\t\ttrain_loss: 1.2029,\tval_loss: 1.3509\n",
      "37:\t[0s / 0s],\t\ttrain_loss: 1.2664,\tval_loss: 1.3630\n",
      "38:\t[0s / 0s],\t\ttrain_loss: 1.3376,\tval_loss: 1.3665\n",
      "39:\t[0s / 0s],\t\ttrain_loss: 1.2819,\tval_loss: 1.3454\n",
      "40:\t[0s / 0s],\t\ttrain_loss: 1.3470,\tval_loss: 1.3561\n",
      "41:\t[0s / 0s],\t\ttrain_loss: 1.3136,\tval_loss: 1.3268\n",
      "42:\t[0s / 0s],\t\ttrain_loss: 1.3073,\tval_loss: 1.3001\n",
      "43:\t[0s / 0s],\t\ttrain_loss: 1.3232,\tval_loss: 1.3179\n",
      "44:\t[0s / 0s],\t\ttrain_loss: 1.2825,\tval_loss: 1.2960\n",
      "45:\t[0s / 0s],\t\ttrain_loss: 1.3283,\tval_loss: 1.2952\n",
      "46:\t[0s / 0s],\t\ttrain_loss: 1.2893,\tval_loss: 1.3058\n",
      "47:\t[0s / 0s],\t\ttrain_loss: 1.2315,\tval_loss: 1.3879\n",
      "48:\t[0s / 0s],\t\ttrain_loss: 1.3686,\tval_loss: 1.3876\n",
      "49:\t[0s / 0s],\t\ttrain_loss: 1.3058,\tval_loss: 1.3602\n",
      "50:\t[0s / 0s],\t\ttrain_loss: 1.3489,\tval_loss: 1.3017\n",
      "51:\t[0s / 0s],\t\ttrain_loss: 1.2797,\tval_loss: 1.2749\n",
      "52:\t[0s / 0s],\t\ttrain_loss: 1.2744,\tval_loss: 1.2992\n",
      "53:\t[0s / 0s],\t\ttrain_loss: 1.2585,\tval_loss: 1.3240\n",
      "54:\t[0s / 0s],\t\ttrain_loss: 1.2764,\tval_loss: 1.3329\n",
      "55:\t[0s / 0s],\t\ttrain_loss: 1.2184,\tval_loss: 1.3429\n",
      "56:\t[0s / 0s],\t\ttrain_loss: 1.1946,\tval_loss: 1.3426\n",
      "57:\t[0s / 0s],\t\ttrain_loss: 1.3195,\tval_loss: 1.3901\n",
      "58:\t[0s / 0s],\t\ttrain_loss: 1.2951,\tval_loss: 1.3519\n",
      "59:\t[0s / 0s],\t\ttrain_loss: 1.2507,\tval_loss: 1.3406\n",
      "60:\t[0s / 0s],\t\ttrain_loss: 1.2577,\tval_loss: 1.3370\n",
      "61:\t[0s / 0s],\t\ttrain_loss: 1.3222,\tval_loss: 1.3145\n",
      "62:\t[0s / 0s],\t\ttrain_loss: 1.2098,\tval_loss: 1.2928\n",
      "63:\t[0s / 0s],\t\ttrain_loss: 1.2434,\tval_loss: 1.2824\n",
      "64:\t[0s / 0s],\t\ttrain_loss: 1.2074,\tval_loss: 1.3026\n",
      "65:\t[0s / 1s],\t\ttrain_loss: 1.2425,\tval_loss: 1.2974\n",
      "66:\t[0s / 1s],\t\ttrain_loss: 1.3002,\tval_loss: 1.3265\n",
      "67:\t[0s / 1s],\t\ttrain_loss: 1.2783,\tval_loss: 1.3209\n",
      "68:\t[0s / 1s],\t\ttrain_loss: 1.1956,\tval_loss: 1.3155\n",
      "69:\t[0s / 1s],\t\ttrain_loss: 1.3495,\tval_loss: 1.3335\n",
      "70:\t[0s / 1s],\t\ttrain_loss: 1.1795,\tval_loss: 1.3644\n",
      "71:\t[0s / 1s],\t\ttrain_loss: 1.3019,\tval_loss: 1.4374\n",
      "72:\t[0s / 1s],\t\ttrain_loss: 1.2040,\tval_loss: 1.3749\n",
      "73:\t[0s / 1s],\t\ttrain_loss: 1.1841,\tval_loss: 1.3344\n",
      "74:\t[0s / 1s],\t\ttrain_loss: 1.3504,\tval_loss: 1.3683\n",
      "75:\t[0s / 1s],\t\ttrain_loss: 1.2358,\tval_loss: 1.3606\n",
      "76:\t[0s / 1s],\t\ttrain_loss: 1.1515,\tval_loss: 1.3594\n",
      "77:\t[0s / 1s],\t\ttrain_loss: 1.2908,\tval_loss: 1.4050\n",
      "78:\t[0s / 1s],\t\ttrain_loss: 1.2701,\tval_loss: 1.4028\n",
      "79:\t[0s / 1s],\t\ttrain_loss: 1.1724,\tval_loss: 1.3709\n",
      "80:\t[0s / 1s],\t\ttrain_loss: 1.2494,\tval_loss: 1.3428\n",
      "81:\t[0s / 1s],\t\ttrain_loss: 1.2740,\tval_loss: 1.3171\n",
      "82:\t[0s / 1s],\t\ttrain_loss: 1.1924,\tval_loss: 1.2995\n",
      "83:\t[0s / 1s],\t\ttrain_loss: 1.2392,\tval_loss: 1.2968\n",
      "84:\t[0s / 1s],\t\ttrain_loss: 1.2009,\tval_loss: 1.3201\n",
      "85:\t[0s / 1s],\t\ttrain_loss: 1.1943,\tval_loss: 1.3551\n",
      "86:\t[0s / 1s],\t\ttrain_loss: 1.1953,\tval_loss: 1.3537\n",
      "87:\t[0s / 1s],\t\ttrain_loss: 1.2315,\tval_loss: 1.3580\n"
     ]
    }
   ],
   "source": [
    "in_features = x_train.shape[1]\n",
    "num_nodes = [16,8]\n",
    "# out_features = 1\n",
    "out_features = labtrans.out_features\n",
    "batch_norm = True\n",
    "dropout = 0.2\n",
    "output_bias = False\n",
    "epochs = 100\n",
    "callbacks = [tt.callbacks.EarlyStopping(patience=70)]\n",
    "#callbacks = None\n",
    "verbose = True\n",
    "batch_size = 64\n",
    "\n",
    "net = tt.practical.MLPVanilla(in_features, num_nodes, out_features, batch_norm, dropout)\n",
    "\n",
    "model_cox = PMF(net, tt.optim.Adam(lr=0.01,amsgrad=True), duration_index=labtrans.cuts) #cox model on the neural network with Adam optimizer\n",
    "\n",
    "log_cox = model_cox.fit(x_train, y_train, batch_size, epochs, callbacks,val_data =val)\n"
   ]
  },
  {
   "cell_type": "code",
   "execution_count": 49,
   "id": "4d668cdd",
   "metadata": {},
   "outputs": [
    {
     "data": {
      "text/plain": [
       "0.6803488968701898"
      ]
     },
     "execution_count": 49,
     "metadata": {},
     "output_type": "execute_result"
    },
    {
     "data": {
      "text/plain": [
       "<Figure size 864x864 with 0 Axes>"
      ]
     },
     "metadata": {},
     "output_type": "display_data"
    },
    {
     "data": {
      "image/png": "[encoded data removed]",
      "text/plain": [
       "<Figure size 432x288 with 1 Axes>"
      ]
     },
     "metadata": {
      "needs_background": "light"
     },
     "output_type": "display_data"
    }
   ],
   "source": [
    "#plotting the loss vs epoch \n",
    "plt.figure(figsize=[12,12])\n",
    "log_cox.plot()\n",
    "plt.xlabel('Epoch', fontsize = 16)\n",
    "plt.ylabel('Loss', fontsize = 16)\n",
    "\n",
    "# predict for the cox model(external validation)\n",
    "#model_cox.compute_baseline_hazards() #baseline hazard\n",
    "surv_cox = model_cox.interpolate(10).predict_surv_df(x_test) # survival of the test data\n",
    "# evaluate the c-index of the cox model \n",
    "eval_cox = EvalSurv(surv_cox, durations_test, events_test, censor_surv= 'km')\n",
    "cox_index = eval_cox.concordance_td() \n",
    "cox_index  # cox_index  at all"
   ]
  },
  {
   "cell_type": "code",
   "execution_count": 39,
   "id": "87868c79",
   "metadata": {},
   "outputs": [
    {
     "data": {
      "text/plain": [
       "0.17527113363143262"
      ]
     },
     "execution_count": 39,
     "metadata": {},
     "output_type": "execute_result"
    },
    {
     "data": {
      "image/png": "[encoded data removed]",
      "text/plain": [
       "<Figure size 432x288 with 1 Axes>"
      ]
     },
     "metadata": {
      "needs_background": "light"
     },
     "output_type": "display_data"
    }
   ],
   "source": [
    "# integrated_brier_score at all\n",
    "time_grid = np.linspace(durations_test.min(), durations_test.max(), 100)\n",
    "_ = eval_cox.brier_score(time_grid).plot()\n",
    "eval_cox.integrated_brier_score(time_grid)"
   ]
  },
  {
   "cell_type": "markdown",
   "id": "45139087",
   "metadata": {},
   "source": [
    "# Internal validation"
   ]
  },
  {
   "cell_type": "code",
   "execution_count": 40,
   "id": "ba754c3c",
   "metadata": {},
   "outputs": [
    {
     "data": {
      "text/plain": [
       "0.6219045797877426"
      ]
     },
     "execution_count": 40,
     "metadata": {},
     "output_type": "execute_result"
    }
   ],
   "source": [
    "# c-index at  all\n",
    "durations_test0, events_test0 = y_train \n",
    "surv_cox0 = model_cox.predict_surv_df(x_train) # survival of the test data\n",
    "eval_cox0 = EvalSurv(surv_cox0,durations_test0, events_test0, censor_surv= 'km')\n",
    "cox_index0 = eval_cox0.concordance_td() \n",
    "cox_index0 "
   ]
  },
  {
   "cell_type": "code",
   "execution_count": 41,
   "id": "720134a7",
   "metadata": {},
   "outputs": [
    {
     "data": {
      "text/plain": [
       "0.37758840948470856"
      ]
     },
     "execution_count": 41,
     "metadata": {},
     "output_type": "execute_result"
    },
    {
     "data": {
      "image/png": "[encoded data removed]",
      "text/plain": [
       "<Figure size 432x288 with 1 Axes>"
      ]
     },
     "metadata": {
      "needs_background": "light"
     },
     "output_type": "display_data"
    }
   ],
   "source": [
    "# brier score at all\n",
    "time_grid0 = np.linspace(durations_test0.min(), durations_test0.max(), 100)\n",
    "_ = eval_cox0.brier_score(time_grid0).plot()\n",
    "eval_cox0.integrated_brier_score(time_grid0)"
   ]
  },
  {
   "cell_type": "code",
   "execution_count": 43,
   "id": "c186041f",
   "metadata": {},
   "outputs": [
    {
     "name": "stdout",
     "output_type": "stream",
     "text": [
      "Bootstrap Internal validation:\n",
      "The C-index:0.625062620926107\n",
      "The C-index Low 95% CI:0.6226711572332492\n",
      "The C-index High 95% CI:0.6274540846189648\n"
     ]
    }
   ],
   "source": [
    "# Internal\n",
    "# ATTENTION :x_train, y_train is numpy.ndarray\n",
    "in_tem = []\n",
    "for i in range(1000):\n",
    "    idx = np.random.choice(len(x_train),size = 100,replace = True)\n",
    "    x_tem = x_train[idx,]\n",
    "    surv_cox_tem = model_cox.predict_surv_df(x_tem) # survival of the test data\n",
    "    eval_cox_tem = EvalSurv(surv_cox_tem, y_train[0][idx], y_train[1][idx], censor_surv= 'km')\n",
    "    c_tem = eval_cox_tem.concordance_td() \n",
    "    in_tem.append(c_tem)\n",
    "\n",
    "in_mean = np.mean(in_tem)\n",
    "in_se = np.std(in_tem) / np.power(1000,0.5)\n",
    "print(\"Bootstrap Internal validation:\")\n",
    "print(\"The C-index:{}\".format(in_mean))\n",
    "print(\"The C-index Low 95% CI:{}\".format(in_mean - 1.96 * in_se))\n",
    "print(\"The C-index High 95% CI:{}\".format(in_mean + 1.96 * in_se))"
   ]
  },
  {
   "cell_type": "code",
   "execution_count": 44,
   "id": "aaa890e1",
   "metadata": {},
   "outputs": [
    {
     "name": "stdout",
     "output_type": "stream",
     "text": [
      "Bootstrap External validation:\n",
      "The C-index:0.5856762868324988\n",
      "The C-index Low 95% CI:0.582826020062079\n",
      "The C-index High 95% CI:0.5885265536029187\n"
     ]
    }
   ],
   "source": [
    "# External\n",
    "ex_tem = []\n",
    "for i in range(1000):\n",
    "    idx = np.random.choice(len(x_test),size = 100,replace = True)\n",
    "    x_tem = x_test[idx,]\n",
    "    surv_cox_tem = model_cox.predict_surv_df(x_tem) # survival of the test data\n",
    "    eval_cox_tem = EvalSurv(surv_cox_tem, y_test[0][idx], y_test[1][idx], censor_surv= 'km')\n",
    "    c_tem = eval_cox_tem.concordance_td() \n",
    "    ex_tem.append(c_tem)\n",
    "\n",
    "ex_mean = np.mean(ex_tem)\n",
    "ex_se = np.std(ex_tem) / np.power(1000,0.5)\n",
    "print(\"Bootstrap External validation:\")\n",
    "print(\"The C-index:{}\".format(ex_mean))\n",
    "print(\"The C-index Low 95% CI:{}\".format(ex_mean - 1.96 * ex_se))\n",
    "print(\"The C-index High 95% CI:{}\".format(ex_mean + 1.96 * ex_se))"
   ]
  },
  {
   "cell_type": "code",
   "execution_count": 45,
   "id": "d120d3d1",
   "metadata": {},
   "outputs": [],
   "source": [
    "model_cox.save_model_weights('myweights_PMF.pt')"
   ]
  },
  {
   "cell_type": "markdown",
   "id": "845132e4",
   "metadata": {},
   "source": [
    "# LASSO var"
   ]
  },
  {
   "cell_type": "code",
   "execution_count": 46,
   "id": "f6286b73",
   "metadata": {},
   "outputs": [
    {
     "data": {
      "text/html": [
       "<div>\n",
       "<style scoped>\n",
       "    .dataframe tbody tr th:only-of-type {\n",
       "        vertical-align: middle;\n",
       "    }\n",
       "\n",
       "    .dataframe tbody tr th {\n",
       "        vertical-align: top;\n",
       "    }\n",
       "\n",
       "    .dataframe thead th {\n",
       "        text-align: right;\n",
       "    }\n",
       "</style>\n",
       "<table border=\"1\" class=\"dataframe\">\n",
       "  <thead>\n",
       "    <tr style=\"text-align: right;\">\n",
       "      <th></th>\n",
       "      <th>Age</th>\n",
       "      <th>Size</th>\n",
       "      <th>Site</th>\n",
       "      <th>Grade</th>\n",
       "      <th>Lymph.nodes.examined</th>\n",
       "      <th>Lymph.nodes.positive</th>\n",
       "      <th>T</th>\n",
       "      <th>N</th>\n",
       "      <th>M</th>\n",
       "      <th>Stage</th>\n",
       "    </tr>\n",
       "  </thead>\n",
       "  <tbody>\n",
       "    <tr>\n",
       "      <th>0</th>\n",
       "      <td>41</td>\n",
       "      <td>65</td>\n",
       "      <td>3</td>\n",
       "      <td>1</td>\n",
       "      <td>29</td>\n",
       "      <td>1</td>\n",
       "      <td>2</td>\n",
       "      <td>2</td>\n",
       "      <td>0</td>\n",
       "      <td>7</td>\n",
       "    </tr>\n",
       "    <tr>\n",
       "      <th>1</th>\n",
       "      <td>54</td>\n",
       "      <td>95</td>\n",
       "      <td>0</td>\n",
       "      <td>1</td>\n",
       "      <td>37</td>\n",
       "      <td>0</td>\n",
       "      <td>4</td>\n",
       "      <td>0</td>\n",
       "      <td>0</td>\n",
       "      <td>3</td>\n",
       "    </tr>\n",
       "    <tr>\n",
       "      <th>2</th>\n",
       "      <td>78</td>\n",
       "      <td>65</td>\n",
       "      <td>7</td>\n",
       "      <td>1</td>\n",
       "      <td>20</td>\n",
       "      <td>2</td>\n",
       "      <td>5</td>\n",
       "      <td>3</td>\n",
       "      <td>0</td>\n",
       "      <td>8</td>\n",
       "    </tr>\n",
       "    <tr>\n",
       "      <th>3</th>\n",
       "      <td>33</td>\n",
       "      <td>150</td>\n",
       "      <td>4</td>\n",
       "      <td>1</td>\n",
       "      <td>9</td>\n",
       "      <td>0</td>\n",
       "      <td>4</td>\n",
       "      <td>0</td>\n",
       "      <td>0</td>\n",
       "      <td>3</td>\n",
       "    </tr>\n",
       "    <tr>\n",
       "      <th>4</th>\n",
       "      <td>58</td>\n",
       "      <td>100</td>\n",
       "      <td>1</td>\n",
       "      <td>2</td>\n",
       "      <td>6</td>\n",
       "      <td>1</td>\n",
       "      <td>4</td>\n",
       "      <td>2</td>\n",
       "      <td>0</td>\n",
       "      <td>7</td>\n",
       "    </tr>\n",
       "  </tbody>\n",
       "</table>\n",
       "</div>"
      ],
      "text/plain": [
       "   Age  Size  Site  Grade  Lymph.nodes.examined  Lymph.nodes.positive  T  N  \\\n",
       "0   41    65     3      1                    29                     1  2  2   \n",
       "1   54    95     0      1                    37                     0  4  0   \n",
       "2   78    65     7      1                    20                     2  5  3   \n",
       "3   33   150     4      1                     9                     0  4  0   \n",
       "4   58   100     1      2                     6                     1  4  2   \n",
       "\n",
       "   M  Stage  \n",
       "0  0      7  \n",
       "1  0      3  \n",
       "2  0      8  \n",
       "3  0      3  \n",
       "4  0      7  "
      ]
     },
     "execution_count": 46,
     "metadata": {},
     "output_type": "execute_result"
    }
   ],
   "source": [
    "df_train_lasso = df_train[[\"Age\",\"Size\",\"Site\",\"Grade\",\"Lymph.nodes.examined\",\"Lymph.nodes.positive\",\"T\",\"N\",\"M\",\"Stage\"]]\n",
    "df_test_lasso = df_test[[\"Age\",\"Size\",\"Site\",\"Grade\",\"Lymph.nodes.examined\",\"Lymph.nodes.positive\",\"T\",\"N\",\"M\",\"Stage\"]]\n",
    "df_train_lasso.head()"
   ]
  },
  {
   "cell_type": "code",
   "execution_count": 47,
   "id": "ca66705f",
   "metadata": {},
   "outputs": [],
   "source": [
    "# to standardize and get dependent variables \n",
    "cols_standardize = ['Age', 'Size', 'Lymph.nodes.examined', 'Lymph.nodes.positive'] # list of variables for standardization\n",
    "cols_leave = ['Site', 'Grade', 'T', 'N', 'M', 'Stage'] #categorical variables \n",
    "\n",
    "standardize = [([col], StandardScaler()) for col in cols_standardize]\n",
    "leave = [(col, None) for col in cols_leave]\n",
    "\n",
    "x_mapper = DataFrameMapper(standardize + leave)\n",
    "\n",
    "x_train = x_mapper.fit_transform(df_train_lasso).astype('float32')\n",
    "x_test = x_mapper.transform(df_test_lasso).astype('float32')\n",
    "\n",
    "train = (x_train, y_train)\n",
    "val = (x_test, y_test)"
   ]
  },
  {
   "cell_type": "code",
   "execution_count": 48,
   "id": "c67b3eb2",
   "metadata": {},
   "outputs": [
    {
     "name": "stdout",
     "output_type": "stream",
     "text": [
      "0:\t[0s / 0s],\t\ttrain_loss: 1.8370,\tval_loss: 1.5121\n",
      "1:\t[0s / 0s],\t\ttrain_loss: 1.7079,\tval_loss: 1.4595\n",
      "2:\t[0s / 0s],\t\ttrain_loss: 1.6136,\tval_loss: 1.4194\n",
      "3:\t[0s / 0s],\t\ttrain_loss: 1.5407,\tval_loss: 1.3751\n",
      "4:\t[0s / 0s],\t\ttrain_loss: 1.6148,\tval_loss: 1.3450\n",
      "5:\t[0s / 0s],\t\ttrain_loss: 1.4689,\tval_loss: 1.3282\n",
      "6:\t[0s / 0s],\t\ttrain_loss: 1.5202,\tval_loss: 1.3127\n",
      "7:\t[0s / 0s],\t\ttrain_loss: 1.4631,\tval_loss: 1.3036\n",
      "8:\t[0s / 0s],\t\ttrain_loss: 1.5285,\tval_loss: 1.2883\n",
      "9:\t[0s / 0s],\t\ttrain_loss: 1.3944,\tval_loss: 1.2526\n",
      "10:\t[0s / 0s],\t\ttrain_loss: 1.4444,\tval_loss: 1.2267\n",
      "11:\t[0s / 0s],\t\ttrain_loss: 1.3711,\tval_loss: 1.2175\n",
      "12:\t[0s / 0s],\t\ttrain_loss: 1.4314,\tval_loss: 1.2036\n",
      "13:\t[0s / 0s],\t\ttrain_loss: 1.3845,\tval_loss: 1.2033\n",
      "14:\t[0s / 0s],\t\ttrain_loss: 1.4173,\tval_loss: 1.2039\n",
      "15:\t[0s / 0s],\t\ttrain_loss: 1.4066,\tval_loss: 1.2148\n",
      "16:\t[0s / 0s],\t\ttrain_loss: 1.3572,\tval_loss: 1.2203\n",
      "17:\t[0s / 0s],\t\ttrain_loss: 1.3180,\tval_loss: 1.2188\n",
      "18:\t[0s / 0s],\t\ttrain_loss: 1.3602,\tval_loss: 1.2153\n",
      "19:\t[0s / 0s],\t\ttrain_loss: 1.4002,\tval_loss: 1.2165\n",
      "20:\t[0s / 0s],\t\ttrain_loss: 1.3366,\tval_loss: 1.2168\n",
      "21:\t[0s / 0s],\t\ttrain_loss: 1.3534,\tval_loss: 1.2253\n",
      "22:\t[0s / 0s],\t\ttrain_loss: 1.3723,\tval_loss: 1.2276\n",
      "23:\t[0s / 0s],\t\ttrain_loss: 1.3412,\tval_loss: 1.2192\n",
      "24:\t[0s / 0s],\t\ttrain_loss: 1.3415,\tval_loss: 1.2269\n",
      "25:\t[0s / 0s],\t\ttrain_loss: 1.3046,\tval_loss: 1.2347\n",
      "26:\t[0s / 0s],\t\ttrain_loss: 1.2610,\tval_loss: 1.2382\n",
      "27:\t[0s / 0s],\t\ttrain_loss: 1.3278,\tval_loss: 1.2433\n",
      "28:\t[0s / 0s],\t\ttrain_loss: 1.3389,\tval_loss: 1.2645\n",
      "29:\t[0s / 0s],\t\ttrain_loss: 1.3364,\tval_loss: 1.2637\n",
      "30:\t[0s / 0s],\t\ttrain_loss: 1.2929,\tval_loss: 1.2505\n",
      "31:\t[0s / 0s],\t\ttrain_loss: 1.2933,\tval_loss: 1.2385\n",
      "32:\t[0s / 0s],\t\ttrain_loss: 1.3755,\tval_loss: 1.2367\n",
      "33:\t[0s / 0s],\t\ttrain_loss: 1.3467,\tval_loss: 1.2391\n",
      "34:\t[0s / 0s],\t\ttrain_loss: 1.2509,\tval_loss: 1.2410\n",
      "35:\t[0s / 0s],\t\ttrain_loss: 1.3233,\tval_loss: 1.2454\n",
      "36:\t[0s / 0s],\t\ttrain_loss: 1.3195,\tval_loss: 1.2454\n",
      "37:\t[0s / 0s],\t\ttrain_loss: 1.2596,\tval_loss: 1.2310\n",
      "38:\t[0s / 0s],\t\ttrain_loss: 1.2717,\tval_loss: 1.2364\n",
      "39:\t[0s / 0s],\t\ttrain_loss: 1.2629,\tval_loss: 1.2370\n",
      "40:\t[0s / 0s],\t\ttrain_loss: 1.3585,\tval_loss: 1.2309\n",
      "41:\t[0s / 0s],\t\ttrain_loss: 1.2675,\tval_loss: 1.2152\n",
      "42:\t[0s / 0s],\t\ttrain_loss: 1.2363,\tval_loss: 1.2364\n",
      "43:\t[0s / 0s],\t\ttrain_loss: 1.3054,\tval_loss: 1.2497\n",
      "44:\t[0s / 0s],\t\ttrain_loss: 1.3090,\tval_loss: 1.2670\n",
      "45:\t[0s / 0s],\t\ttrain_loss: 1.2881,\tval_loss: 1.2638\n",
      "46:\t[0s / 0s],\t\ttrain_loss: 1.2365,\tval_loss: 1.2498\n",
      "47:\t[0s / 0s],\t\ttrain_loss: 1.2621,\tval_loss: 1.2384\n",
      "48:\t[0s / 0s],\t\ttrain_loss: 1.2219,\tval_loss: 1.2339\n",
      "49:\t[0s / 0s],\t\ttrain_loss: 1.2212,\tval_loss: 1.2284\n",
      "50:\t[0s / 0s],\t\ttrain_loss: 1.2804,\tval_loss: 1.2243\n",
      "51:\t[0s / 0s],\t\ttrain_loss: 1.2883,\tval_loss: 1.2252\n",
      "52:\t[0s / 0s],\t\ttrain_loss: 1.2437,\tval_loss: 1.2336\n",
      "53:\t[0s / 0s],\t\ttrain_loss: 1.3094,\tval_loss: 1.2457\n",
      "54:\t[0s / 0s],\t\ttrain_loss: 1.3561,\tval_loss: 1.2698\n",
      "55:\t[0s / 0s],\t\ttrain_loss: 1.2536,\tval_loss: 1.2699\n",
      "56:\t[0s / 0s],\t\ttrain_loss: 1.2553,\tval_loss: 1.2624\n",
      "57:\t[0s / 0s],\t\ttrain_loss: 1.3179,\tval_loss: 1.2637\n",
      "58:\t[0s / 0s],\t\ttrain_loss: 1.3032,\tval_loss: 1.2425\n",
      "59:\t[0s / 0s],\t\ttrain_loss: 1.2162,\tval_loss: 1.2493\n",
      "60:\t[0s / 1s],\t\ttrain_loss: 1.2181,\tval_loss: 1.2533\n",
      "61:\t[0s / 1s],\t\ttrain_loss: 1.1748,\tval_loss: 1.2645\n",
      "62:\t[0s / 1s],\t\ttrain_loss: 1.1820,\tval_loss: 1.2736\n",
      "63:\t[0s / 1s],\t\ttrain_loss: 1.2885,\tval_loss: 1.2736\n",
      "64:\t[0s / 1s],\t\ttrain_loss: 1.3102,\tval_loss: 1.2552\n",
      "65:\t[0s / 1s],\t\ttrain_loss: 1.2598,\tval_loss: 1.2495\n",
      "66:\t[0s / 1s],\t\ttrain_loss: 1.3433,\tval_loss: 1.2522\n",
      "67:\t[0s / 1s],\t\ttrain_loss: 1.2135,\tval_loss: 1.2629\n",
      "68:\t[0s / 1s],\t\ttrain_loss: 1.3154,\tval_loss: 1.2891\n",
      "69:\t[0s / 1s],\t\ttrain_loss: 1.2376,\tval_loss: 1.2915\n",
      "70:\t[0s / 1s],\t\ttrain_loss: 1.2200,\tval_loss: 1.2803\n",
      "71:\t[0s / 1s],\t\ttrain_loss: 1.2713,\tval_loss: 1.2914\n",
      "72:\t[0s / 1s],\t\ttrain_loss: 1.2113,\tval_loss: 1.2783\n",
      "73:\t[0s / 1s],\t\ttrain_loss: 1.3190,\tval_loss: 1.2689\n",
      "74:\t[0s / 1s],\t\ttrain_loss: 1.2833,\tval_loss: 1.2708\n",
      "75:\t[0s / 1s],\t\ttrain_loss: 1.2429,\tval_loss: 1.2734\n",
      "76:\t[0s / 1s],\t\ttrain_loss: 1.2782,\tval_loss: 1.2801\n",
      "77:\t[0s / 1s],\t\ttrain_loss: 1.2058,\tval_loss: 1.2899\n",
      "78:\t[0s / 1s],\t\ttrain_loss: 1.2826,\tval_loss: 1.2941\n",
      "79:\t[0s / 1s],\t\ttrain_loss: 1.2393,\tval_loss: 1.3114\n",
      "80:\t[0s / 1s],\t\ttrain_loss: 1.3325,\tval_loss: 1.3096\n",
      "81:\t[0s / 1s],\t\ttrain_loss: 1.3248,\tval_loss: 1.2898\n",
      "82:\t[0s / 1s],\t\ttrain_loss: 1.2471,\tval_loss: 1.2694\n",
      "83:\t[0s / 1s],\t\ttrain_loss: 1.2568,\tval_loss: 1.2453\n"
     ]
    }
   ],
   "source": [
    "in_features = x_train.shape[1]\n",
    "num_nodes = [16,8]\n",
    "# out_features = 1\n",
    "out_features = labtrans.out_features\n",
    "batch_norm = True\n",
    "dropout = 0.2\n",
    "output_bias = False\n",
    "epochs = 100\n",
    "callbacks = [tt.callbacks.EarlyStopping(patience=70)]\n",
    "#callbacks = None\n",
    "verbose = True\n",
    "batch_size = 64\n",
    "\n",
    "net = tt.practical.MLPVanilla(in_features, num_nodes, out_features, batch_norm, dropout)\n",
    "\n",
    "model_cox = PMF(net, tt.optim.Adam(lr=0.01,amsgrad=True), duration_index=labtrans.cuts) #cox model on the neural network with Adam optimizer\n",
    "\n",
    "log_cox = model_cox.fit(x_train, y_train, batch_size, epochs, callbacks,val_data =val)\n"
   ]
  },
  {
   "cell_type": "code",
   "execution_count": 50,
   "id": "bd5c7a73",
   "metadata": {},
   "outputs": [
    {
     "data": {
      "text/plain": [
       "0.6803488968701898"
      ]
     },
     "execution_count": 50,
     "metadata": {},
     "output_type": "execute_result"
    },
    {
     "data": {
      "text/plain": [
       "<Figure size 864x864 with 0 Axes>"
      ]
     },
     "metadata": {},
     "output_type": "display_data"
    },
    {
     "data": {
      "image/png": "[encoded data removed]",
      "text/plain": [
       "<Figure size 432x288 with 1 Axes>"
      ]
     },
     "metadata": {
      "needs_background": "light"
     },
     "output_type": "display_data"
    }
   ],
   "source": [
    "#plotting the loss vs epoch \n",
    "plt.figure(figsize=[12,12])\n",
    "log_cox.plot()\n",
    "plt.xlabel('Epoch', fontsize = 16)\n",
    "plt.ylabel('Loss', fontsize = 16)\n",
    "\n",
    "# predict for the cox model(external validation)\n",
    "#model_cox.compute_baseline_hazards() #baseline hazard\n",
    "surv_cox = model_cox.interpolate(10).predict_surv_df(x_test) # survival of the test data\n",
    "# evaluate the c-index of the cox model \n",
    "eval_cox = EvalSurv(surv_cox, durations_test, events_test, censor_surv= 'km')\n",
    "cox_index = eval_cox.concordance_td() \n",
    "cox_index  # cox_index  at all"
   ]
  },
  {
   "cell_type": "code",
   "execution_count": 51,
   "id": "8301f37d",
   "metadata": {},
   "outputs": [
    {
     "data": {
      "text/plain": [
       "0.16533334171537387"
      ]
     },
     "execution_count": 51,
     "metadata": {},
     "output_type": "execute_result"
    },
    {
     "data": {
      "image/png": "[encoded data removed]",
      "text/plain": [
       "<Figure size 432x288 with 1 Axes>"
      ]
     },
     "metadata": {
      "needs_background": "light"
     },
     "output_type": "display_data"
    }
   ],
   "source": [
    "# integrated_brier_score at all\n",
    "time_grid = np.linspace(durations_test.min(), durations_test.max(), 100)\n",
    "_ = eval_cox.brier_score(time_grid).plot()\n",
    "eval_cox.integrated_brier_score(time_grid)"
   ]
  },
  {
   "cell_type": "code",
   "execution_count": 52,
   "id": "a613afdb",
   "metadata": {},
   "outputs": [
    {
     "data": {
      "text/plain": [
       "0.5425470886318003"
      ]
     },
     "execution_count": 52,
     "metadata": {},
     "output_type": "execute_result"
    }
   ],
   "source": [
    "# c-index at  all\n",
    "durations_test0, events_test0 = y_train \n",
    "surv_cox0 = model_cox.predict_surv_df(x_train) # survival of the test data\n",
    "eval_cox0 = EvalSurv(surv_cox0,durations_test0, events_test0, censor_surv= 'km')\n",
    "cox_index0 = eval_cox0.concordance_td() \n",
    "cox_index0 "
   ]
  },
  {
   "cell_type": "code",
   "execution_count": 72,
   "id": "4cdbae7e",
   "metadata": {},
   "outputs": [
    {
     "data": {
      "text/plain": [
       "0.3834071120581399"
      ]
     },
     "execution_count": 72,
     "metadata": {},
     "output_type": "execute_result"
    },
    {
     "data": {
      "image/png": "[encoded data removed]",
      "text/plain": [
       "<Figure size 432x288 with 1 Axes>"
      ]
     },
     "metadata": {
      "needs_background": "light"
     },
     "output_type": "display_data"
    }
   ],
   "source": [
    "# brier score at all\n",
    "time_grid0 = np.linspace(durations_test0.min(), durations_test0.max(), 100)\n",
    "_ = eval_cox0.brier_score(time_grid0).plot()\n",
    "eval_cox0.integrated_brier_score(time_grid0)"
   ]
  },
  {
   "cell_type": "code",
   "execution_count": 53,
   "id": "4c04f095",
   "metadata": {},
   "outputs": [
    {
     "name": "stdout",
     "output_type": "stream",
     "text": [
      "Bootstrap Internal validation:\n",
      "The C-index:0.5450544918943583\n",
      "The C-index Low 95% CI:0.5424172644936115\n",
      "The C-index High 95% CI:0.5476917192951051\n"
     ]
    }
   ],
   "source": [
    "# Internal\n",
    "# ATTENTION :x_train, y_train is numpy.ndarray\n",
    "in_tem = []\n",
    "for i in range(1000):\n",
    "    idx = np.random.choice(len(x_train),size = 100,replace = True)\n",
    "    x_tem = x_train[idx,]\n",
    "    surv_cox_tem = model_cox.predict_surv_df(x_tem) # survival of the test data\n",
    "    eval_cox_tem = EvalSurv(surv_cox_tem, y_train[0][idx], y_train[1][idx], censor_surv= 'km')\n",
    "    c_tem = eval_cox_tem.concordance_td() \n",
    "    in_tem.append(c_tem)\n",
    "\n",
    "in_mean = np.mean(in_tem)\n",
    "in_se = np.std(in_tem) / np.power(1000,0.5)\n",
    "print(\"Bootstrap Internal validation:\")\n",
    "print(\"The C-index:{}\".format(in_mean))\n",
    "print(\"The C-index Low 95% CI:{}\".format(in_mean - 1.96 * in_se))\n",
    "print(\"The C-index High 95% CI:{}\".format(in_mean + 1.96 * in_se))"
   ]
  },
  {
   "cell_type": "code",
   "execution_count": 54,
   "id": "8416beba",
   "metadata": {},
   "outputs": [
    {
     "name": "stdout",
     "output_type": "stream",
     "text": [
      "Bootstrap External validation:\n",
      "The C-index:0.583213550383759\n",
      "The C-index Low 95% CI:0.5804412432104371\n",
      "The C-index High 95% CI:0.5859858575570809\n"
     ]
    }
   ],
   "source": [
    "# External\n",
    "ex_tem = []\n",
    "for i in range(1000):\n",
    "    idx = np.random.choice(len(x_test),size = 100,replace = True)\n",
    "    x_tem = x_test[idx,]\n",
    "    surv_cox_tem = model_cox.predict_surv_df(x_tem) # survival of the test data\n",
    "    eval_cox_tem = EvalSurv(surv_cox_tem, y_test[0][idx], y_test[1][idx], censor_surv= 'km')\n",
    "    c_tem = eval_cox_tem.concordance_td() \n",
    "    ex_tem.append(c_tem)\n",
    "\n",
    "ex_mean = np.mean(ex_tem)\n",
    "ex_se = np.std(ex_tem) / np.power(1000,0.5)\n",
    "print(\"Bootstrap External validation:\")\n",
    "print(\"The C-index:{}\".format(ex_mean))\n",
    "print(\"The C-index Low 95% CI:{}\".format(ex_mean - 1.96 * ex_se))\n",
    "print(\"The C-index High 95% CI:{}\".format(ex_mean + 1.96 * ex_se))"
   ]
  },
  {
   "cell_type": "markdown",
   "id": "b1295497",
   "metadata": {},
   "source": [
    "# TNM"
   ]
  },
  {
   "cell_type": "code",
   "execution_count": 55,
   "id": "44412b30",
   "metadata": {},
   "outputs": [
    {
     "data": {
      "text/html": [
       "<div>\n",
       "<style scoped>\n",
       "    .dataframe tbody tr th:only-of-type {\n",
       "        vertical-align: middle;\n",
       "    }\n",
       "\n",
       "    .dataframe tbody tr th {\n",
       "        vertical-align: top;\n",
       "    }\n",
       "\n",
       "    .dataframe thead th {\n",
       "        text-align: right;\n",
       "    }\n",
       "</style>\n",
       "<table border=\"1\" class=\"dataframe\">\n",
       "  <thead>\n",
       "    <tr style=\"text-align: right;\">\n",
       "      <th></th>\n",
       "      <th>T</th>\n",
       "      <th>N</th>\n",
       "      <th>M</th>\n",
       "      <th>Stage</th>\n",
       "    </tr>\n",
       "  </thead>\n",
       "  <tbody>\n",
       "    <tr>\n",
       "      <th>0</th>\n",
       "      <td>2</td>\n",
       "      <td>2</td>\n",
       "      <td>0</td>\n",
       "      <td>7</td>\n",
       "    </tr>\n",
       "    <tr>\n",
       "      <th>1</th>\n",
       "      <td>4</td>\n",
       "      <td>0</td>\n",
       "      <td>0</td>\n",
       "      <td>3</td>\n",
       "    </tr>\n",
       "    <tr>\n",
       "      <th>2</th>\n",
       "      <td>5</td>\n",
       "      <td>3</td>\n",
       "      <td>0</td>\n",
       "      <td>8</td>\n",
       "    </tr>\n",
       "    <tr>\n",
       "      <th>3</th>\n",
       "      <td>4</td>\n",
       "      <td>0</td>\n",
       "      <td>0</td>\n",
       "      <td>3</td>\n",
       "    </tr>\n",
       "    <tr>\n",
       "      <th>4</th>\n",
       "      <td>4</td>\n",
       "      <td>2</td>\n",
       "      <td>0</td>\n",
       "      <td>7</td>\n",
       "    </tr>\n",
       "  </tbody>\n",
       "</table>\n",
       "</div>"
      ],
      "text/plain": [
       "   T  N  M  Stage\n",
       "0  2  2  0      7\n",
       "1  4  0  0      3\n",
       "2  5  3  0      8\n",
       "3  4  0  0      3\n",
       "4  4  2  0      7"
      ]
     },
     "execution_count": 55,
     "metadata": {},
     "output_type": "execute_result"
    }
   ],
   "source": [
    "df_train_tnm = df_train[[\"T\",\"N\",\"M\",\"Stage\"]]\n",
    "df_test_tnm = df_test[[\"T\",\"N\",\"M\",\"Stage\"]]\n",
    "df_train_tnm.head()"
   ]
  },
  {
   "cell_type": "code",
   "execution_count": 57,
   "id": "b444f014",
   "metadata": {},
   "outputs": [],
   "source": [
    "# to standardize and get dependent variables \n",
    "cols_leave = ['T', 'N', 'M', 'Stage'] #categorical variables \n",
    "leave = [(col, None) for col in cols_leave]\n",
    "x_mapper = DataFrameMapper(leave)\n",
    "\n",
    "x_train = x_mapper.fit_transform(df_train_tnm).astype('float32')\n",
    "x_test = x_mapper.transform(df_test_tnm).astype('float32')\n",
    "\n",
    "train = (x_train, y_train)\n",
    "val = (x_test, y_test)"
   ]
  },
  {
   "cell_type": "code",
   "execution_count": 66,
   "id": "948a8d3f",
   "metadata": {},
   "outputs": [
    {
     "name": "stdout",
     "output_type": "stream",
     "text": [
      "0:\t[0s / 0s],\t\ttrain_loss: 1.7998,\tval_loss: 1.5327\n",
      "1:\t[0s / 0s],\t\ttrain_loss: 1.6012,\tval_loss: 1.4193\n",
      "2:\t[0s / 0s],\t\ttrain_loss: 1.5330,\tval_loss: 1.3321\n",
      "3:\t[0s / 0s],\t\ttrain_loss: 1.5973,\tval_loss: 1.2859\n",
      "4:\t[0s / 0s],\t\ttrain_loss: 1.4724,\tval_loss: 1.2674\n",
      "5:\t[0s / 0s],\t\ttrain_loss: 1.4574,\tval_loss: 1.2597\n",
      "6:\t[0s / 0s],\t\ttrain_loss: 1.4232,\tval_loss: 1.2552\n",
      "7:\t[0s / 0s],\t\ttrain_loss: 1.3927,\tval_loss: 1.2558\n",
      "8:\t[0s / 0s],\t\ttrain_loss: 1.4056,\tval_loss: 1.2507\n",
      "9:\t[0s / 0s],\t\ttrain_loss: 1.3628,\tval_loss: 1.2454\n",
      "10:\t[0s / 0s],\t\ttrain_loss: 1.3148,\tval_loss: 1.2486\n",
      "11:\t[0s / 0s],\t\ttrain_loss: 1.3329,\tval_loss: 1.2436\n",
      "12:\t[0s / 0s],\t\ttrain_loss: 1.3473,\tval_loss: 1.2418\n",
      "13:\t[0s / 0s],\t\ttrain_loss: 1.3119,\tval_loss: 1.2351\n",
      "14:\t[0s / 0s],\t\ttrain_loss: 1.3572,\tval_loss: 1.2291\n",
      "15:\t[0s / 0s],\t\ttrain_loss: 1.3536,\tval_loss: 1.2359\n",
      "16:\t[0s / 0s],\t\ttrain_loss: 1.3682,\tval_loss: 1.2314\n",
      "17:\t[0s / 0s],\t\ttrain_loss: 1.3546,\tval_loss: 1.2199\n",
      "18:\t[0s / 0s],\t\ttrain_loss: 1.3590,\tval_loss: 1.2281\n",
      "19:\t[0s / 0s],\t\ttrain_loss: 1.3943,\tval_loss: 1.2380\n",
      "20:\t[0s / 0s],\t\ttrain_loss: 1.3597,\tval_loss: 1.2531\n",
      "21:\t[0s / 0s],\t\ttrain_loss: 1.3631,\tval_loss: 1.2365\n",
      "22:\t[0s / 0s],\t\ttrain_loss: 1.2945,\tval_loss: 1.2288\n",
      "23:\t[0s / 0s],\t\ttrain_loss: 1.3108,\tval_loss: 1.2191\n",
      "24:\t[0s / 0s],\t\ttrain_loss: 1.2940,\tval_loss: 1.2154\n",
      "25:\t[0s / 0s],\t\ttrain_loss: 1.3339,\tval_loss: 1.2012\n",
      "26:\t[0s / 0s],\t\ttrain_loss: 1.3211,\tval_loss: 1.2070\n",
      "27:\t[0s / 0s],\t\ttrain_loss: 1.3206,\tval_loss: 1.2039\n",
      "28:\t[0s / 0s],\t\ttrain_loss: 1.3052,\tval_loss: 1.1940\n",
      "29:\t[0s / 0s],\t\ttrain_loss: 1.3436,\tval_loss: 1.2023\n",
      "30:\t[0s / 0s],\t\ttrain_loss: 1.3350,\tval_loss: 1.2141\n",
      "31:\t[0s / 0s],\t\ttrain_loss: 1.3542,\tval_loss: 1.2031\n",
      "32:\t[0s / 0s],\t\ttrain_loss: 1.5022,\tval_loss: 1.2013\n",
      "33:\t[0s / 0s],\t\ttrain_loss: 1.3712,\tval_loss: 1.1927\n",
      "34:\t[0s / 0s],\t\ttrain_loss: 1.3240,\tval_loss: 1.1975\n",
      "35:\t[0s / 0s],\t\ttrain_loss: 1.2949,\tval_loss: 1.1960\n",
      "36:\t[0s / 0s],\t\ttrain_loss: 1.3587,\tval_loss: 1.1922\n",
      "37:\t[0s / 0s],\t\ttrain_loss: 1.3185,\tval_loss: 1.1920\n",
      "38:\t[0s / 0s],\t\ttrain_loss: 1.2902,\tval_loss: 1.1932\n",
      "39:\t[0s / 0s],\t\ttrain_loss: 1.3000,\tval_loss: 1.2028\n",
      "40:\t[0s / 0s],\t\ttrain_loss: 1.2720,\tval_loss: 1.2093\n",
      "41:\t[0s / 0s],\t\ttrain_loss: 1.3417,\tval_loss: 1.2041\n",
      "42:\t[0s / 0s],\t\ttrain_loss: 1.3082,\tval_loss: 1.2028\n",
      "43:\t[0s / 0s],\t\ttrain_loss: 1.3924,\tval_loss: 1.2207\n",
      "44:\t[0s / 0s],\t\ttrain_loss: 1.3592,\tval_loss: 1.2036\n",
      "45:\t[0s / 0s],\t\ttrain_loss: 1.3100,\tval_loss: 1.2046\n",
      "46:\t[0s / 0s],\t\ttrain_loss: 1.3188,\tval_loss: 1.2032\n",
      "47:\t[0s / 0s],\t\ttrain_loss: 1.3575,\tval_loss: 1.2022\n",
      "48:\t[0s / 0s],\t\ttrain_loss: 1.2972,\tval_loss: 1.2076\n",
      "49:\t[0s / 0s],\t\ttrain_loss: 1.2742,\tval_loss: 1.2195\n",
      "50:\t[0s / 0s],\t\ttrain_loss: 1.4048,\tval_loss: 1.2190\n",
      "51:\t[0s / 0s],\t\ttrain_loss: 1.3128,\tval_loss: 1.2195\n",
      "52:\t[0s / 0s],\t\ttrain_loss: 1.2824,\tval_loss: 1.2106\n",
      "53:\t[0s / 0s],\t\ttrain_loss: 1.2701,\tval_loss: 1.2100\n",
      "54:\t[0s / 0s],\t\ttrain_loss: 1.3888,\tval_loss: 1.2112\n",
      "55:\t[0s / 0s],\t\ttrain_loss: 1.3191,\tval_loss: 1.2096\n",
      "56:\t[0s / 0s],\t\ttrain_loss: 1.3298,\tval_loss: 1.2178\n",
      "57:\t[0s / 0s],\t\ttrain_loss: 1.3362,\tval_loss: 1.2203\n",
      "58:\t[0s / 0s],\t\ttrain_loss: 1.3167,\tval_loss: 1.2028\n",
      "59:\t[0s / 1s],\t\ttrain_loss: 1.3069,\tval_loss: 1.1954\n",
      "60:\t[0s / 1s],\t\ttrain_loss: 1.3444,\tval_loss: 1.2077\n",
      "61:\t[0s / 1s],\t\ttrain_loss: 1.3253,\tval_loss: 1.2194\n",
      "62:\t[0s / 1s],\t\ttrain_loss: 1.3016,\tval_loss: 1.2293\n",
      "63:\t[0s / 1s],\t\ttrain_loss: 1.3408,\tval_loss: 1.2269\n",
      "64:\t[0s / 1s],\t\ttrain_loss: 1.3301,\tval_loss: 1.2270\n",
      "65:\t[0s / 1s],\t\ttrain_loss: 1.2865,\tval_loss: 1.2313\n",
      "66:\t[0s / 1s],\t\ttrain_loss: 1.3407,\tval_loss: 1.2323\n",
      "67:\t[0s / 1s],\t\ttrain_loss: 1.3457,\tval_loss: 1.2423\n",
      "68:\t[0s / 1s],\t\ttrain_loss: 1.2245,\tval_loss: 1.2333\n",
      "69:\t[0s / 1s],\t\ttrain_loss: 1.2775,\tval_loss: 1.2234\n",
      "70:\t[0s / 1s],\t\ttrain_loss: 1.3197,\tval_loss: 1.2156\n",
      "71:\t[0s / 1s],\t\ttrain_loss: 1.3270,\tval_loss: 1.2208\n",
      "72:\t[0s / 1s],\t\ttrain_loss: 1.3601,\tval_loss: 1.2279\n",
      "73:\t[0s / 1s],\t\ttrain_loss: 1.2980,\tval_loss: 1.2377\n",
      "74:\t[0s / 1s],\t\ttrain_loss: 1.3711,\tval_loss: 1.2383\n",
      "75:\t[0s / 1s],\t\ttrain_loss: 1.3691,\tval_loss: 1.2255\n",
      "76:\t[0s / 1s],\t\ttrain_loss: 1.2652,\tval_loss: 1.2196\n",
      "77:\t[0s / 1s],\t\ttrain_loss: 1.2832,\tval_loss: 1.2201\n",
      "78:\t[0s / 1s],\t\ttrain_loss: 1.2722,\tval_loss: 1.2289\n",
      "79:\t[0s / 1s],\t\ttrain_loss: 1.3165,\tval_loss: 1.2338\n",
      "80:\t[0s / 1s],\t\ttrain_loss: 1.2487,\tval_loss: 1.2428\n",
      "81:\t[0s / 1s],\t\ttrain_loss: 1.2863,\tval_loss: 1.2351\n",
      "82:\t[0s / 1s],\t\ttrain_loss: 1.2769,\tval_loss: 1.2311\n",
      "83:\t[0s / 1s],\t\ttrain_loss: 1.2966,\tval_loss: 1.2322\n",
      "84:\t[0s / 1s],\t\ttrain_loss: 1.2471,\tval_loss: 1.2236\n",
      "85:\t[0s / 1s],\t\ttrain_loss: 1.3015,\tval_loss: 1.2235\n",
      "86:\t[0s / 1s],\t\ttrain_loss: 1.2932,\tval_loss: 1.2301\n",
      "87:\t[0s / 1s],\t\ttrain_loss: 1.3232,\tval_loss: 1.2490\n",
      "88:\t[0s / 1s],\t\ttrain_loss: 1.2539,\tval_loss: 1.3018\n",
      "89:\t[0s / 1s],\t\ttrain_loss: 1.3824,\tval_loss: 1.2740\n",
      "90:\t[0s / 1s],\t\ttrain_loss: 1.3028,\tval_loss: 1.2597\n",
      "91:\t[0s / 1s],\t\ttrain_loss: 1.2901,\tval_loss: 1.2979\n",
      "92:\t[0s / 1s],\t\ttrain_loss: 1.2998,\tval_loss: 1.2625\n",
      "93:\t[0s / 1s],\t\ttrain_loss: 1.3491,\tval_loss: 1.2544\n",
      "94:\t[0s / 1s],\t\ttrain_loss: 1.2928,\tval_loss: 1.2489\n",
      "95:\t[0s / 1s],\t\ttrain_loss: 1.2938,\tval_loss: 1.2516\n",
      "96:\t[0s / 1s],\t\ttrain_loss: 1.3300,\tval_loss: 1.2481\n",
      "97:\t[0s / 1s],\t\ttrain_loss: 1.3578,\tval_loss: 1.2342\n",
      "98:\t[0s / 1s],\t\ttrain_loss: 1.2753,\tval_loss: 1.2381\n",
      "99:\t[0s / 1s],\t\ttrain_loss: 1.3411,\tval_loss: 1.2399\n"
     ]
    }
   ],
   "source": [
    "in_features = x_train.shape[1]\n",
    "num_nodes = [32,16]\n",
    "# out_features = 1\n",
    "out_features = labtrans.out_features\n",
    "batch_norm = True\n",
    "dropout = 0.1\n",
    "output_bias = False\n",
    "epochs = 100\n",
    "callbacks = [tt.callbacks.EarlyStopping(patience=70)]\n",
    "#callbacks = None\n",
    "verbose = True\n",
    "batch_size = 64\n",
    "\n",
    "net = tt.practical.MLPVanilla(in_features, num_nodes, out_features, batch_norm, dropout)\n",
    "\n",
    "model_cox = PMF(net, tt.optim.Adam(lr=0.01,amsgrad=True), duration_index=labtrans.cuts) #cox model on the neural network with Adam optimizer\n",
    "\n",
    "log_cox = model_cox.fit(x_train, y_train, batch_size, epochs, callbacks,val_data =val)\n"
   ]
  },
  {
   "cell_type": "code",
   "execution_count": 67,
   "id": "f60eb357",
   "metadata": {},
   "outputs": [
    {
     "data": {
      "text/plain": [
       "0.6605951770138533"
      ]
     },
     "execution_count": 67,
     "metadata": {},
     "output_type": "execute_result"
    },
    {
     "data": {
      "text/plain": [
       "<Figure size 864x864 with 0 Axes>"
      ]
     },
     "metadata": {},
     "output_type": "display_data"
    },
    {
     "data": {
      "image/png": "[encoded data removed]",
      "text/plain": [
       "<Figure size 432x288 with 1 Axes>"
      ]
     },
     "metadata": {
      "needs_background": "light"
     },
     "output_type": "display_data"
    }
   ],
   "source": [
    "#plotting the loss vs epoch \n",
    "plt.figure(figsize=[12,12])\n",
    "log_cox.plot()\n",
    "plt.xlabel('Epoch', fontsize = 16)\n",
    "plt.ylabel('Loss', fontsize = 16)\n",
    "\n",
    "# predict for the cox model(external validation)\n",
    "#model_cox.compute_baseline_hazards() #baseline hazard\n",
    "surv_cox = model_cox.interpolate(10).predict_surv_df(x_test) # survival of the test data\n",
    "# evaluate the c-index of the cox model \n",
    "eval_cox = EvalSurv(surv_cox, durations_test, events_test, censor_surv= 'km')\n",
    "cox_index = eval_cox.concordance_td() \n",
    "cox_index  # cox_index  at all"
   ]
  },
  {
   "cell_type": "code",
   "execution_count": 68,
   "id": "90843b89",
   "metadata": {},
   "outputs": [
    {
     "data": {
      "text/plain": [
       "0.1752205101824531"
      ]
     },
     "execution_count": 68,
     "metadata": {},
     "output_type": "execute_result"
    },
    {
     "data": {
      "image/png": "[encoded data removed]",
      "text/plain": [
       "<Figure size 432x288 with 1 Axes>"
      ]
     },
     "metadata": {
      "needs_background": "light"
     },
     "output_type": "display_data"
    }
   ],
   "source": [
    "# integrated_brier_score at all\n",
    "time_grid = np.linspace(durations_test.min(), durations_test.max(), 100)\n",
    "_ = eval_cox.brier_score(time_grid).plot()\n",
    "eval_cox.integrated_brier_score(time_grid)"
   ]
  },
  {
   "cell_type": "code",
   "execution_count": 69,
   "id": "24f96ab5",
   "metadata": {},
   "outputs": [
    {
     "data": {
      "text/plain": [
       "0.5163854096949996"
      ]
     },
     "execution_count": 69,
     "metadata": {},
     "output_type": "execute_result"
    }
   ],
   "source": [
    "# c-index at  all\n",
    "durations_test0, events_test0 = y_train \n",
    "surv_cox0 = model_cox.predict_surv_df(x_train) # survival of the test data\n",
    "eval_cox0 = EvalSurv(surv_cox0,durations_test0, events_test0, censor_surv= 'km')\n",
    "cox_index0 = eval_cox0.concordance_td() \n",
    "cox_index0 "
   ]
  },
  {
   "cell_type": "code",
   "execution_count": 73,
   "id": "47a1b89b",
   "metadata": {},
   "outputs": [
    {
     "data": {
      "text/plain": [
       "0.3834071120581399"
      ]
     },
     "execution_count": 73,
     "metadata": {},
     "output_type": "execute_result"
    },
    {
     "data": {
      "image/png": "[encoded data removed]",
      "text/plain": [
       "<Figure size 432x288 with 1 Axes>"
      ]
     },
     "metadata": {
      "needs_background": "light"
     },
     "output_type": "display_data"
    }
   ],
   "source": [
    "# brier score at all\n",
    "time_grid0 = np.linspace(durations_test0.min(), durations_test0.max(), 100)\n",
    "_ = eval_cox0.brier_score(time_grid0).plot()\n",
    "eval_cox0.integrated_brier_score(time_grid0)"
   ]
  },
  {
   "cell_type": "code",
   "execution_count": 70,
   "id": "c4b18877",
   "metadata": {},
   "outputs": [
    {
     "name": "stdout",
     "output_type": "stream",
     "text": [
      "Bootstrap Internal validation:\n",
      "The C-index:0.5180986496918859\n",
      "The C-index Low 95% CI:0.5154070773222498\n",
      "The C-index High 95% CI:0.520790222061522\n"
     ]
    }
   ],
   "source": [
    "# Internal\n",
    "# ATTENTION :x_train, y_train is numpy.ndarray\n",
    "in_tem = []\n",
    "for i in range(1000):\n",
    "    idx = np.random.choice(len(x_train),size = 100,replace = True)\n",
    "    x_tem = x_train[idx,]\n",
    "    surv_cox_tem = model_cox.predict_surv_df(x_tem) # survival of the test data\n",
    "    eval_cox_tem = EvalSurv(surv_cox_tem, y_train[0][idx], y_train[1][idx], censor_surv= 'km')\n",
    "    c_tem = eval_cox_tem.concordance_td() \n",
    "    in_tem.append(c_tem)\n",
    "\n",
    "in_mean = np.mean(in_tem)\n",
    "in_se = np.std(in_tem) / np.power(1000,0.5)\n",
    "print(\"Bootstrap Internal validation:\")\n",
    "print(\"The C-index:{}\".format(in_mean))\n",
    "print(\"The C-index Low 95% CI:{}\".format(in_mean - 1.96 * in_se))\n",
    "print(\"The C-index High 95% CI:{}\".format(in_mean + 1.96 * in_se))"
   ]
  },
  {
   "cell_type": "code",
   "execution_count": 71,
   "id": "c741a589",
   "metadata": {},
   "outputs": [
    {
     "name": "stdout",
     "output_type": "stream",
     "text": [
      "Bootstrap External validation:\n",
      "The C-index:0.5233443907985931\n",
      "The C-index Low 95% CI:0.5198082797317657\n",
      "The C-index High 95% CI:0.5268805018654205\n"
     ]
    }
   ],
   "source": [
    "# External\n",
    "ex_tem = []\n",
    "for i in range(1000):\n",
    "    idx = np.random.choice(len(x_test),size = 100,replace = True)\n",
    "    x_tem = x_test[idx,]\n",
    "    surv_cox_tem = model_cox.predict_surv_df(x_tem) # survival of the test data\n",
    "    eval_cox_tem = EvalSurv(surv_cox_tem, y_test[0][idx], y_test[1][idx], censor_surv= 'km')\n",
    "    c_tem = eval_cox_tem.concordance_td() \n",
    "    ex_tem.append(c_tem)\n",
    "\n",
    "ex_mean = np.mean(ex_tem)\n",
    "ex_se = np.std(ex_tem) / np.power(1000,0.5)\n",
    "print(\"Bootstrap External validation:\")\n",
    "print(\"The C-index:{}\".format(ex_mean))\n",
    "print(\"The C-index Low 95% CI:{}\".format(ex_mean - 1.96 * ex_se))\n",
    "print(\"The C-index High 95% CI:{}\".format(ex_mean + 1.96 * ex_se))"
   ]
  },
  {
   "cell_type": "code",
   "execution_count": null,
   "id": "f9320a92",
   "metadata": {},
   "outputs": [],
   "source": []
  }
 ],
 "metadata": {
  "kernelspec": {
   "display_name": "Python 3 (ipykernel)",
   "language": "python",
   "name": "python3"
  },
  "language_info": {
   "codemirror_mode": {
    "name": "ipython",
    "version": 3
   },
   "file_extension": ".py",
   "mimetype": "text/x-python",
   "name": "python",
   "nbconvert_exporter": "python",
   "pygments_lexer": "ipython3",
   "version": "3.9.7"
  }
 },
 "nbformat": 4,
 "nbformat_minor": 5
}
