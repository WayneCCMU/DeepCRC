{
 "cells": [
  {
   "cell_type": "code",
   "execution_count": 1,
   "id": "b130d6d0",
   "metadata": {},
   "outputs": [],
   "source": [
    "import pandas as pd\n",
    "import numpy as np\n",
    "\n",
    "from sklearn.preprocessing import StandardScaler, LabelEncoder\n",
    "from sklearn_pandas import DataFrameMapper\n",
    "from sklearn.model_selection import train_test_split\n",
    "\n",
    "import matplotlib.pyplot as plt\n",
    "from pycox.models import DeepHitSingle\n",
    "\n",
    "from pycox.evaluation import EvalSurv\n",
    "from pycox.simulations import SimStudyLinearPH\n",
    "\n",
    "import torch\n",
    "import torchtuples as tt"
   ]
  },
  {
   "cell_type": "markdown",
   "id": "80d2f927",
   "metadata": {},
   "source": [
    "# Read data"
   ]
  },
  {
   "cell_type": "code",
   "execution_count": 2,
   "id": "580f22d7",
   "metadata": {},
   "outputs": [],
   "source": [
    "df_train = pd.read_csv('train.csv')\n",
    "df_train = pd.DataFrame(df_train)\n",
    "\n",
    "df_test = pd.read_csv('test.csv')\n",
    "df_test = pd.DataFrame(df_test)"
   ]
  },
  {
   "cell_type": "code",
   "execution_count": 3,
   "id": "c765d269",
   "metadata": {},
   "outputs": [
    {
     "data": {
      "text/html": [
       "<div>\n",
       "<style scoped>\n",
       "    .dataframe tbody tr th:only-of-type {\n",
       "        vertical-align: middle;\n",
       "    }\n",
       "\n",
       "    .dataframe tbody tr th {\n",
       "        vertical-align: top;\n",
       "    }\n",
       "\n",
       "    .dataframe thead th {\n",
       "        text-align: right;\n",
       "    }\n",
       "</style>\n",
       "<table border=\"1\" class=\"dataframe\">\n",
       "  <thead>\n",
       "    <tr style=\"text-align: right;\">\n",
       "      <th></th>\n",
       "      <th>Sex</th>\n",
       "      <th>Age</th>\n",
       "      <th>Size</th>\n",
       "      <th>Site</th>\n",
       "      <th>Grade</th>\n",
       "      <th>Lymph.nodes.examined</th>\n",
       "      <th>Lymph.nodes.positive</th>\n",
       "      <th>T</th>\n",
       "      <th>N</th>\n",
       "      <th>M</th>\n",
       "      <th>Stage</th>\n",
       "      <th>duration</th>\n",
       "      <th>event</th>\n",
       "    </tr>\n",
       "  </thead>\n",
       "  <tbody>\n",
       "    <tr>\n",
       "      <th>0</th>\n",
       "      <td>Male</td>\n",
       "      <td>41</td>\n",
       "      <td>65</td>\n",
       "      <td>Ileocecal Junction</td>\n",
       "      <td>II</td>\n",
       "      <td>29</td>\n",
       "      <td>1</td>\n",
       "      <td>T3</td>\n",
       "      <td>N1a</td>\n",
       "      <td>M0</td>\n",
       "      <td>IIIB</td>\n",
       "      <td>110</td>\n",
       "      <td>0</td>\n",
       "    </tr>\n",
       "    <tr>\n",
       "      <th>1</th>\n",
       "      <td>Male</td>\n",
       "      <td>54</td>\n",
       "      <td>95</td>\n",
       "      <td>Ascending Colon</td>\n",
       "      <td>II</td>\n",
       "      <td>37</td>\n",
       "      <td>0</td>\n",
       "      <td>T4a</td>\n",
       "      <td>N0</td>\n",
       "      <td>M0</td>\n",
       "      <td>IIB</td>\n",
       "      <td>107</td>\n",
       "      <td>0</td>\n",
       "    </tr>\n",
       "    <tr>\n",
       "      <th>2</th>\n",
       "      <td>Female</td>\n",
       "      <td>78</td>\n",
       "      <td>65</td>\n",
       "      <td>Sigmoid Colon</td>\n",
       "      <td>II</td>\n",
       "      <td>20</td>\n",
       "      <td>2</td>\n",
       "      <td>T4b</td>\n",
       "      <td>N1b</td>\n",
       "      <td>M0</td>\n",
       "      <td>IIIC</td>\n",
       "      <td>106</td>\n",
       "      <td>0</td>\n",
       "    </tr>\n",
       "    <tr>\n",
       "      <th>3</th>\n",
       "      <td>Female</td>\n",
       "      <td>33</td>\n",
       "      <td>150</td>\n",
       "      <td>Large Intestine, NOS</td>\n",
       "      <td>II</td>\n",
       "      <td>9</td>\n",
       "      <td>0</td>\n",
       "      <td>T4a</td>\n",
       "      <td>N0</td>\n",
       "      <td>M0</td>\n",
       "      <td>IIB</td>\n",
       "      <td>105</td>\n",
       "      <td>0</td>\n",
       "    </tr>\n",
       "    <tr>\n",
       "      <th>4</th>\n",
       "      <td>Male</td>\n",
       "      <td>58</td>\n",
       "      <td>100</td>\n",
       "      <td>Descending Colon</td>\n",
       "      <td>III</td>\n",
       "      <td>6</td>\n",
       "      <td>1</td>\n",
       "      <td>T4a</td>\n",
       "      <td>N1a</td>\n",
       "      <td>M0</td>\n",
       "      <td>IIIB</td>\n",
       "      <td>102</td>\n",
       "      <td>0</td>\n",
       "    </tr>\n",
       "  </tbody>\n",
       "</table>\n",
       "</div>"
      ],
      "text/plain": [
       "      Sex  Age  Size                  Site Grade  Lymph.nodes.examined  \\\n",
       "0    Male   41    65    Ileocecal Junction    II                    29   \n",
       "1    Male   54    95       Ascending Colon    II                    37   \n",
       "2  Female   78    65         Sigmoid Colon    II                    20   \n",
       "3  Female   33   150  Large Intestine, NOS    II                     9   \n",
       "4    Male   58   100      Descending Colon   III                     6   \n",
       "\n",
       "   Lymph.nodes.positive    T    N   M Stage  duration  event  \n",
       "0                     1   T3  N1a  M0  IIIB       110      0  \n",
       "1                     0  T4a   N0  M0   IIB       107      0  \n",
       "2                     2  T4b  N1b  M0  IIIC       106      0  \n",
       "3                     0  T4a   N0  M0   IIB       105      0  \n",
       "4                     1  T4a  N1a  M0  IIIB       102      0  "
      ]
     },
     "execution_count": 3,
     "metadata": {},
     "output_type": "execute_result"
    }
   ],
   "source": [
    "df_train.head()"
   ]
  },
  {
   "cell_type": "code",
   "execution_count": 4,
   "id": "02ade6b9",
   "metadata": {},
   "outputs": [
    {
     "data": {
      "text/html": [
       "<div>\n",
       "<style scoped>\n",
       "    .dataframe tbody tr th:only-of-type {\n",
       "        vertical-align: middle;\n",
       "    }\n",
       "\n",
       "    .dataframe tbody tr th {\n",
       "        vertical-align: top;\n",
       "    }\n",
       "\n",
       "    .dataframe thead th {\n",
       "        text-align: right;\n",
       "    }\n",
       "</style>\n",
       "<table border=\"1\" class=\"dataframe\">\n",
       "  <thead>\n",
       "    <tr style=\"text-align: right;\">\n",
       "      <th></th>\n",
       "      <th>Sex</th>\n",
       "      <th>Age</th>\n",
       "      <th>Size</th>\n",
       "      <th>Site</th>\n",
       "      <th>Grade</th>\n",
       "      <th>Lymph.nodes.examined</th>\n",
       "      <th>Lymph.nodes.positive</th>\n",
       "      <th>T</th>\n",
       "      <th>N</th>\n",
       "      <th>M</th>\n",
       "      <th>Stage</th>\n",
       "      <th>duration</th>\n",
       "      <th>event</th>\n",
       "    </tr>\n",
       "  </thead>\n",
       "  <tbody>\n",
       "    <tr>\n",
       "      <th>0</th>\n",
       "      <td>1</td>\n",
       "      <td>41</td>\n",
       "      <td>65</td>\n",
       "      <td>3</td>\n",
       "      <td>1</td>\n",
       "      <td>29</td>\n",
       "      <td>1</td>\n",
       "      <td>2</td>\n",
       "      <td>2</td>\n",
       "      <td>0</td>\n",
       "      <td>7</td>\n",
       "      <td>110</td>\n",
       "      <td>0</td>\n",
       "    </tr>\n",
       "    <tr>\n",
       "      <th>1</th>\n",
       "      <td>1</td>\n",
       "      <td>54</td>\n",
       "      <td>95</td>\n",
       "      <td>0</td>\n",
       "      <td>1</td>\n",
       "      <td>37</td>\n",
       "      <td>0</td>\n",
       "      <td>4</td>\n",
       "      <td>0</td>\n",
       "      <td>0</td>\n",
       "      <td>3</td>\n",
       "      <td>107</td>\n",
       "      <td>0</td>\n",
       "    </tr>\n",
       "    <tr>\n",
       "      <th>2</th>\n",
       "      <td>0</td>\n",
       "      <td>78</td>\n",
       "      <td>65</td>\n",
       "      <td>7</td>\n",
       "      <td>1</td>\n",
       "      <td>20</td>\n",
       "      <td>2</td>\n",
       "      <td>5</td>\n",
       "      <td>3</td>\n",
       "      <td>0</td>\n",
       "      <td>8</td>\n",
       "      <td>106</td>\n",
       "      <td>0</td>\n",
       "    </tr>\n",
       "    <tr>\n",
       "      <th>3</th>\n",
       "      <td>0</td>\n",
       "      <td>33</td>\n",
       "      <td>150</td>\n",
       "      <td>4</td>\n",
       "      <td>1</td>\n",
       "      <td>9</td>\n",
       "      <td>0</td>\n",
       "      <td>4</td>\n",
       "      <td>0</td>\n",
       "      <td>0</td>\n",
       "      <td>3</td>\n",
       "      <td>105</td>\n",
       "      <td>0</td>\n",
       "    </tr>\n",
       "    <tr>\n",
       "      <th>4</th>\n",
       "      <td>1</td>\n",
       "      <td>58</td>\n",
       "      <td>100</td>\n",
       "      <td>1</td>\n",
       "      <td>2</td>\n",
       "      <td>6</td>\n",
       "      <td>1</td>\n",
       "      <td>4</td>\n",
       "      <td>2</td>\n",
       "      <td>0</td>\n",
       "      <td>7</td>\n",
       "      <td>102</td>\n",
       "      <td>0</td>\n",
       "    </tr>\n",
       "  </tbody>\n",
       "</table>\n",
       "</div>"
      ],
      "text/plain": [
       "   Sex  Age  Size  Site  Grade  Lymph.nodes.examined  Lymph.nodes.positive  T  \\\n",
       "0    1   41    65     3      1                    29                     1  2   \n",
       "1    1   54    95     0      1                    37                     0  4   \n",
       "2    0   78    65     7      1                    20                     2  5   \n",
       "3    0   33   150     4      1                     9                     0  4   \n",
       "4    1   58   100     1      2                     6                     1  4   \n",
       "\n",
       "   N  M  Stage  duration  event  \n",
       "0  2  0      7       110      0  \n",
       "1  0  0      3       107      0  \n",
       "2  3  0      8       106      0  \n",
       "3  0  0      3       105      0  \n",
       "4  2  0      7       102      0  "
      ]
     },
     "execution_count": 4,
     "metadata": {},
     "output_type": "execute_result"
    }
   ],
   "source": [
    "# to label encoding categorical variables\n",
    "le = LabelEncoder() #label encoder\n",
    "cat_list = ['Sex','Site', 'Grade', 'T', 'N', 'M', 'Stage'] #list of categorical variables\n",
    "for cat in cat_list:\n",
    "    df_train[cat] = le.fit_transform(df_train[cat])\n",
    "    df_test[cat] = le.fit_transform(df_test[cat])\n",
    "\n",
    "df_train.head()"
   ]
  },
  {
   "cell_type": "code",
   "execution_count": 5,
   "id": "b0a5e001",
   "metadata": {},
   "outputs": [],
   "source": [
    "# function to get targets variable\n",
    "get_target = lambda df: (df['duration'].values, df['event'].values)\n",
    "\n",
    "# to standardize and get dependent variables \n",
    "cols_standardize = ['Age', 'Size', 'Lymph.nodes.examined', 'Lymph.nodes.positive'] # list of variables for standardization\n",
    "cols_leave = ['Sex','Site', 'Grade', 'T', 'N', 'M', 'Stage'] #categorical variables \n",
    "\n",
    "standardize = [([col], StandardScaler()) for col in cols_standardize]\n",
    "leave = [(col, None) for col in cols_leave]\n",
    "\n",
    "x_mapper = DataFrameMapper(standardize + leave)"
   ]
  },
  {
   "cell_type": "code",
   "execution_count": 6,
   "id": "0151ef19",
   "metadata": {},
   "outputs": [],
   "source": [
    "x_train = x_mapper.fit_transform(df_train).astype('float32')\n",
    "x_test = x_mapper.transform(df_test).astype('float32')\n",
    "\n",
    "num_durations = 10\n",
    "\n",
    "labtrans = DeepHitSingle.label_transform(num_durations)\n",
    "\n",
    "y_train = labtrans.fit_transform(*get_target(df_train))\n",
    "y_test = labtrans.transform(*get_target(df_test))\n",
    "\n",
    "train = (x_train, y_train)\n",
    "val = (x_test, y_test)\n",
    "\n",
    "# We don't need to transform the test labels\n",
    "durations_test, events_test = get_target(df_test)"
   ]
  },
  {
   "cell_type": "markdown",
   "id": "38440b7c",
   "metadata": {},
   "source": [
    "# Neural Network"
   ]
  },
  {
   "cell_type": "code",
   "execution_count": 64,
   "id": "659f4b1f",
   "metadata": {
    "scrolled": true
   },
   "outputs": [
    {
     "name": "stdout",
     "output_type": "stream",
     "text": [
      "0:\t[0s / 0s],\t\ttrain_loss: 0.9075,\tval_loss: 0.5403\n",
      "1:\t[0s / 0s],\t\ttrain_loss: 0.6828,\tval_loss: 0.5418\n",
      "2:\t[0s / 0s],\t\ttrain_loss: 0.6374,\tval_loss: 0.5365\n",
      "3:\t[0s / 0s],\t\ttrain_loss: 0.5950,\tval_loss: 0.5282\n",
      "4:\t[0s / 0s],\t\ttrain_loss: 0.7274,\tval_loss: 0.5180\n",
      "5:\t[0s / 0s],\t\ttrain_loss: 0.6261,\tval_loss: 0.5137\n",
      "6:\t[0s / 0s],\t\ttrain_loss: 0.6014,\tval_loss: 0.5120\n",
      "7:\t[0s / 0s],\t\ttrain_loss: 0.5841,\tval_loss: 0.5095\n",
      "8:\t[0s / 0s],\t\ttrain_loss: 0.5576,\tval_loss: 0.5083\n",
      "9:\t[0s / 0s],\t\ttrain_loss: 0.5508,\tval_loss: 0.5075\n",
      "10:\t[0s / 0s],\t\ttrain_loss: 0.5920,\tval_loss: 0.5085\n",
      "11:\t[0s / 0s],\t\ttrain_loss: 0.5632,\tval_loss: 0.5116\n",
      "12:\t[0s / 0s],\t\ttrain_loss: 0.5754,\tval_loss: 0.5167\n",
      "13:\t[0s / 0s],\t\ttrain_loss: 0.5606,\tval_loss: 0.5168\n",
      "14:\t[0s / 0s],\t\ttrain_loss: 0.5514,\tval_loss: 0.5130\n",
      "15:\t[0s / 0s],\t\ttrain_loss: 0.5576,\tval_loss: 0.5163\n",
      "16:\t[0s / 0s],\t\ttrain_loss: 0.5647,\tval_loss: 0.5144\n",
      "17:\t[0s / 0s],\t\ttrain_loss: 0.5532,\tval_loss: 0.5131\n",
      "18:\t[0s / 0s],\t\ttrain_loss: 0.5931,\tval_loss: 0.5250\n",
      "19:\t[0s / 0s],\t\ttrain_loss: 0.5792,\tval_loss: 0.5216\n",
      "20:\t[0s / 0s],\t\ttrain_loss: 0.5281,\tval_loss: 0.5148\n",
      "21:\t[0s / 0s],\t\ttrain_loss: 0.5455,\tval_loss: 0.5183\n",
      "22:\t[0s / 0s],\t\ttrain_loss: 0.5333,\tval_loss: 0.5096\n",
      "23:\t[0s / 0s],\t\ttrain_loss: 0.5656,\tval_loss: 0.5109\n",
      "24:\t[0s / 0s],\t\ttrain_loss: 0.5244,\tval_loss: 0.5121\n",
      "25:\t[0s / 0s],\t\ttrain_loss: 0.5329,\tval_loss: 0.5122\n",
      "26:\t[0s / 0s],\t\ttrain_loss: 0.5550,\tval_loss: 0.5169\n",
      "27:\t[0s / 0s],\t\ttrain_loss: 0.5481,\tval_loss: 0.5293\n",
      "28:\t[0s / 0s],\t\ttrain_loss: 0.5960,\tval_loss: 0.5302\n",
      "29:\t[0s / 0s],\t\ttrain_loss: 0.5271,\tval_loss: 0.4913\n",
      "30:\t[0s / 0s],\t\ttrain_loss: 0.5351,\tval_loss: 0.4838\n",
      "31:\t[0s / 0s],\t\ttrain_loss: 0.5440,\tval_loss: 0.4825\n",
      "32:\t[0s / 0s],\t\ttrain_loss: 0.5297,\tval_loss: 0.4964\n",
      "33:\t[0s / 0s],\t\ttrain_loss: 0.5391,\tval_loss: 0.5103\n",
      "34:\t[0s / 0s],\t\ttrain_loss: 0.5264,\tval_loss: 0.5195\n",
      "35:\t[0s / 0s],\t\ttrain_loss: 0.5259,\tval_loss: 0.5419\n",
      "36:\t[0s / 0s],\t\ttrain_loss: 0.5288,\tval_loss: 0.5302\n",
      "37:\t[0s / 0s],\t\ttrain_loss: 0.5283,\tval_loss: 0.5007\n",
      "38:\t[0s / 0s],\t\ttrain_loss: 0.5323,\tval_loss: 0.4907\n",
      "39:\t[0s / 0s],\t\ttrain_loss: 0.5020,\tval_loss: 0.4889\n",
      "40:\t[0s / 0s],\t\ttrain_loss: 0.5298,\tval_loss: 0.4852\n",
      "41:\t[0s / 0s],\t\ttrain_loss: 0.5073,\tval_loss: 0.4830\n",
      "42:\t[0s / 0s],\t\ttrain_loss: 0.5144,\tval_loss: 0.4831\n",
      "43:\t[0s / 0s],\t\ttrain_loss: 0.5127,\tval_loss: 0.4878\n",
      "44:\t[0s / 0s],\t\ttrain_loss: 0.5255,\tval_loss: 0.4943\n",
      "45:\t[0s / 0s],\t\ttrain_loss: 0.5566,\tval_loss: 0.5044\n",
      "46:\t[0s / 0s],\t\ttrain_loss: 0.5383,\tval_loss: 0.4904\n",
      "47:\t[0s / 0s],\t\ttrain_loss: 0.5113,\tval_loss: 0.4868\n",
      "48:\t[0s / 0s],\t\ttrain_loss: 0.5162,\tval_loss: 0.4896\n",
      "49:\t[0s / 0s],\t\ttrain_loss: 0.5159,\tval_loss: 0.4957\n",
      "50:\t[0s / 1s],\t\ttrain_loss: 0.5083,\tval_loss: 0.5001\n",
      "51:\t[0s / 1s],\t\ttrain_loss: 0.5419,\tval_loss: 0.5161\n",
      "52:\t[0s / 1s],\t\ttrain_loss: 0.5474,\tval_loss: 0.5138\n",
      "53:\t[0s / 1s],\t\ttrain_loss: 0.5124,\tval_loss: 0.5064\n",
      "54:\t[0s / 1s],\t\ttrain_loss: 0.5420,\tval_loss: 0.5111\n",
      "55:\t[0s / 1s],\t\ttrain_loss: 0.5031,\tval_loss: 0.5102\n",
      "56:\t[0s / 1s],\t\ttrain_loss: 0.4784,\tval_loss: 0.4993\n",
      "57:\t[0s / 1s],\t\ttrain_loss: 0.5026,\tval_loss: 0.5000\n",
      "58:\t[0s / 1s],\t\ttrain_loss: 0.4950,\tval_loss: 0.5080\n",
      "59:\t[0s / 1s],\t\ttrain_loss: 0.5449,\tval_loss: 0.5149\n",
      "60:\t[0s / 1s],\t\ttrain_loss: 0.5228,\tval_loss: 0.4864\n",
      "61:\t[0s / 1s],\t\ttrain_loss: 0.5119,\tval_loss: 0.4653\n",
      "62:\t[0s / 1s],\t\ttrain_loss: 0.5556,\tval_loss: 0.4375\n",
      "63:\t[0s / 1s],\t\ttrain_loss: 0.5072,\tval_loss: 0.4325\n",
      "64:\t[0s / 1s],\t\ttrain_loss: 0.5354,\tval_loss: 0.4320\n",
      "65:\t[0s / 1s],\t\ttrain_loss: 0.4984,\tval_loss: 0.4340\n",
      "66:\t[0s / 1s],\t\ttrain_loss: 0.4936,\tval_loss: 0.4366\n",
      "67:\t[0s / 1s],\t\ttrain_loss: 0.5147,\tval_loss: 0.4367\n",
      "68:\t[0s / 1s],\t\ttrain_loss: 0.5533,\tval_loss: 0.4369\n",
      "69:\t[0s / 1s],\t\ttrain_loss: 0.5132,\tval_loss: 0.4408\n",
      "70:\t[0s / 1s],\t\ttrain_loss: 0.5068,\tval_loss: 0.4422\n",
      "71:\t[0s / 1s],\t\ttrain_loss: 0.4817,\tval_loss: 0.4407\n",
      "72:\t[0s / 1s],\t\ttrain_loss: 0.5004,\tval_loss: 0.4443\n",
      "73:\t[0s / 1s],\t\ttrain_loss: 0.4812,\tval_loss: 0.4432\n",
      "74:\t[0s / 1s],\t\ttrain_loss: 0.4899,\tval_loss: 0.4436\n",
      "75:\t[0s / 1s],\t\ttrain_loss: 0.4944,\tval_loss: 0.4405\n",
      "76:\t[0s / 1s],\t\ttrain_loss: 0.4846,\tval_loss: 0.4418\n",
      "77:\t[0s / 1s],\t\ttrain_loss: 0.4848,\tval_loss: 0.4384\n",
      "78:\t[0s / 1s],\t\ttrain_loss: 0.4662,\tval_loss: 0.4335\n",
      "79:\t[0s / 1s],\t\ttrain_loss: 0.5022,\tval_loss: 0.4283\n",
      "80:\t[0s / 1s],\t\ttrain_loss: 0.4955,\tval_loss: 0.4291\n",
      "81:\t[0s / 1s],\t\ttrain_loss: 0.4939,\tval_loss: 0.4323\n",
      "82:\t[0s / 1s],\t\ttrain_loss: 0.4979,\tval_loss: 0.4287\n",
      "83:\t[0s / 1s],\t\ttrain_loss: 0.5150,\tval_loss: 0.4261\n",
      "84:\t[0s / 1s],\t\ttrain_loss: 0.5144,\tval_loss: 0.4231\n",
      "85:\t[0s / 1s],\t\ttrain_loss: 0.4982,\tval_loss: 0.4259\n",
      "86:\t[0s / 1s],\t\ttrain_loss: 0.4950,\tval_loss: 0.4258\n",
      "87:\t[0s / 1s],\t\ttrain_loss: 0.5170,\tval_loss: 0.4290\n",
      "88:\t[0s / 1s],\t\ttrain_loss: 0.5519,\tval_loss: 0.4326\n",
      "89:\t[0s / 1s],\t\ttrain_loss: 0.4672,\tval_loss: 0.4334\n",
      "90:\t[0s / 1s],\t\ttrain_loss: 0.4906,\tval_loss: 0.4336\n",
      "91:\t[0s / 1s],\t\ttrain_loss: 0.4702,\tval_loss: 0.4318\n",
      "92:\t[0s / 1s],\t\ttrain_loss: 0.4970,\tval_loss: 0.4308\n",
      "93:\t[0s / 1s],\t\ttrain_loss: 0.5025,\tval_loss: 0.4279\n",
      "94:\t[0s / 1s],\t\ttrain_loss: 0.5045,\tval_loss: 0.4238\n",
      "95:\t[0s / 1s],\t\ttrain_loss: 0.4787,\tval_loss: 0.4274\n",
      "96:\t[0s / 1s],\t\ttrain_loss: 0.5031,\tval_loss: 0.4227\n",
      "97:\t[0s / 1s],\t\ttrain_loss: 0.4799,\tval_loss: 0.4196\n",
      "98:\t[0s / 1s],\t\ttrain_loss: 0.4869,\tval_loss: 0.4215\n",
      "99:\t[0s / 1s],\t\ttrain_loss: 0.4792,\tval_loss: 0.4236\n"
     ]
    }
   ],
   "source": [
    "in_features = x_train.shape[1]\n",
    "num_nodes = [16,16]\n",
    "# out_features = 1\n",
    "out_features = labtrans.out_features\n",
    "batch_norm = True\n",
    "dropout = 0.3\n",
    "output_bias = False\n",
    "epochs = 100\n",
    "callbacks = [tt.callbacks.EarlyStopping(patience=30)]\n",
    "#callbacks = None\n",
    "verbose = True\n",
    "batch_size = 64\n",
    "\n",
    "net = tt.practical.MLPVanilla(in_features, num_nodes, out_features, batch_norm, dropout)\n",
    "\n",
    "model_cox = DeepHitSingle(net, tt.optim.Adam(lr=0.01,amsgrad=True),alpha=0.2, sigma=0.1, duration_index=labtrans.cuts) #cox model on the neural network with Adam optimizer\n",
    "\n",
    "log_cox = model_cox.fit(x_train, y_train, batch_size, epochs, callbacks,val_data =val)\n"
   ]
  },
  {
   "cell_type": "code",
   "execution_count": 65,
   "id": "4d668cdd",
   "metadata": {},
   "outputs": [
    {
     "data": {
      "text/plain": [
       "0.728065674704977"
      ]
     },
     "execution_count": 65,
     "metadata": {},
     "output_type": "execute_result"
    },
    {
     "data": {
      "text/plain": [
       "<Figure size 864x864 with 0 Axes>"
      ]
     },
     "metadata": {},
     "output_type": "display_data"
    },
    {
     "data": {
      "image/png": "[encoded data removed]",
      "text/plain": [
       "<Figure size 432x288 with 1 Axes>"
      ]
     },
     "metadata": {
      "needs_background": "light"
     },
     "output_type": "display_data"
    }
   ],
   "source": [
    "#plotting the loss vs epoch \n",
    "plt.figure(figsize=[12,12])\n",
    "log_cox.plot()\n",
    "plt.xlabel('Epoch', fontsize = 16)\n",
    "plt.ylabel('Loss', fontsize = 16)\n",
    "\n",
    "# predict for the cox model(external validation)\n",
    "#model_cox.compute_baseline_hazards() #baseline hazard\n",
    "surv_cox = model_cox.interpolate(10).predict_surv_df(x_test) # survival of the test data\n",
    "# evaluate the c-index of the cox model \n",
    "eval_cox = EvalSurv(surv_cox, durations_test, events_test, censor_surv= 'km')\n",
    "cox_index = eval_cox.concordance_td() \n",
    "cox_index  # cox_index  at all"
   ]
  },
  {
   "cell_type": "code",
   "execution_count": 66,
   "id": "87868c79",
   "metadata": {},
   "outputs": [
    {
     "data": {
      "text/plain": [
       "0.18663032896227716"
      ]
     },
     "execution_count": 66,
     "metadata": {},
     "output_type": "execute_result"
    },
    {
     "data": {
      "image/png": "[encoded data removed]",
      "text/plain": [
       "<Figure size 432x288 with 1 Axes>"
      ]
     },
     "metadata": {
      "needs_background": "light"
     },
     "output_type": "display_data"
    }
   ],
   "source": [
    "# integrated_brier_score at all\n",
    "time_grid = np.linspace(durations_test.min(), durations_test.max(), 100)\n",
    "_ = eval_cox.brier_score(time_grid).plot()\n",
    "eval_cox.integrated_brier_score(time_grid)"
   ]
  },
  {
   "cell_type": "markdown",
   "id": "45139087",
   "metadata": {},
   "source": [
    "# Internal validation"
   ]
  },
  {
   "cell_type": "code",
   "execution_count": 67,
   "id": "ba754c3c",
   "metadata": {},
   "outputs": [
    {
     "data": {
      "text/plain": [
       "0.6850559326895497"
      ]
     },
     "execution_count": 67,
     "metadata": {},
     "output_type": "execute_result"
    }
   ],
   "source": [
    "# c-index at  all\n",
    "durations_test0, events_test0 = y_train \n",
    "surv_cox0 = model_cox.predict_surv_df(x_train) # survival of the test data\n",
    "eval_cox0 = EvalSurv(surv_cox0,durations_test0, events_test0, censor_surv= 'km')\n",
    "cox_index0 = eval_cox0.concordance_td() \n",
    "cox_index0 "
   ]
  },
  {
   "cell_type": "code",
   "execution_count": 68,
   "id": "720134a7",
   "metadata": {},
   "outputs": [
    {
     "data": {
      "text/plain": [
       "0.37005175522811995"
      ]
     },
     "execution_count": 68,
     "metadata": {},
     "output_type": "execute_result"
    },
    {
     "data": {
      "image/png": "[encoded data removed]",
      "text/plain": [
       "<Figure size 432x288 with 1 Axes>"
      ]
     },
     "metadata": {
      "needs_background": "light"
     },
     "output_type": "display_data"
    }
   ],
   "source": [
    "# brier score at all\n",
    "time_grid0 = np.linspace(durations_test0.min(), durations_test0.max(), 100)\n",
    "_ = eval_cox0.brier_score(time_grid0).plot()\n",
    "eval_cox0.integrated_brier_score(time_grid0)"
   ]
  },
  {
   "cell_type": "code",
   "execution_count": 70,
   "id": "c186041f",
   "metadata": {},
   "outputs": [
    {
     "name": "stdout",
     "output_type": "stream",
     "text": [
      "Bootstrap Internal validation:\n",
      "The C-index:0.6890251868638235\n",
      "The C-index Low 95% CI:0.6867746049460567\n",
      "The C-index High 95% CI:0.6912757687815904\n"
     ]
    }
   ],
   "source": [
    "# Internal\n",
    "# ATTENTION :x_train, y_train is numpy.ndarray\n",
    "in_tem = []\n",
    "for i in range(1000):\n",
    "    idx = np.random.choice(len(x_train),size = 100,replace = True)\n",
    "    x_tem = x_train[idx,]\n",
    "    surv_cox_tem = model_cox.predict_surv_df(x_tem) # survival of the test data\n",
    "    eval_cox_tem = EvalSurv(surv_cox_tem, y_train[0][idx], y_train[1][idx], censor_surv= 'km')\n",
    "    c_tem = eval_cox_tem.concordance_td() \n",
    "    in_tem.append(c_tem)\n",
    "\n",
    "in_mean = np.mean(in_tem)\n",
    "in_se = np.std(in_tem) / np.power(1000,0.5)\n",
    "print(\"Bootstrap Internal validation:\")\n",
    "print(\"The C-index:{}\".format(in_mean))\n",
    "print(\"The C-index Low 95% CI:{}\".format(in_mean - 1.96 * in_se))\n",
    "print(\"The C-index High 95% CI:{}\".format(in_mean + 1.96 * in_se))"
   ]
  },
  {
   "cell_type": "code",
   "execution_count": 71,
   "id": "ae6184e3",
   "metadata": {},
   "outputs": [
    {
     "name": "stdout",
     "output_type": "stream",
     "text": [
      "Bootstrap External validation:\n",
      "The C-index:0.6493497256669843\n",
      "The C-index Low 95% CI:0.6465783206150058\n",
      "The C-index High 95% CI:0.6521211307189629\n"
     ]
    }
   ],
   "source": [
    "# External\n",
    "ex_tem = []\n",
    "for i in range(1000):\n",
    "    idx = np.random.choice(len(x_test),size = 100,replace = True)\n",
    "    x_tem = x_test[idx,]\n",
    "    surv_cox_tem = model_cox.predict_surv_df(x_tem) # survival of the test data\n",
    "    eval_cox_tem = EvalSurv(surv_cox_tem, y_test[0][idx], y_test[1][idx], censor_surv= 'km')\n",
    "    c_tem = eval_cox_tem.concordance_td() \n",
    "    ex_tem.append(c_tem)\n",
    "\n",
    "ex_mean = np.mean(ex_tem)\n",
    "ex_se = np.std(ex_tem) / np.power(1000,0.5)\n",
    "print(\"Bootstrap External validation:\")\n",
    "print(\"The C-index:{}\".format(ex_mean))\n",
    "print(\"The C-index Low 95% CI:{}\".format(ex_mean - 1.96 * ex_se))\n",
    "print(\"The C-index High 95% CI:{}\".format(ex_mean + 1.96 * ex_se))"
   ]
  },
  {
   "cell_type": "markdown",
   "id": "294f360d",
   "metadata": {},
   "source": [
    "# Save"
   ]
  },
  {
   "cell_type": "code",
   "execution_count": 72,
   "id": "ab23205f",
   "metadata": {},
   "outputs": [],
   "source": [
    "model_cox.save_model_weights('myweights_DeepHit.pt')"
   ]
  },
  {
   "cell_type": "markdown",
   "id": "0536c2dd",
   "metadata": {},
   "source": [
    "# LASSO var"
   ]
  },
  {
   "cell_type": "code",
   "execution_count": 73,
   "id": "f7f40a71",
   "metadata": {},
   "outputs": [
    {
     "data": {
      "text/html": [
       "<div>\n",
       "<style scoped>\n",
       "    .dataframe tbody tr th:only-of-type {\n",
       "        vertical-align: middle;\n",
       "    }\n",
       "\n",
       "    .dataframe tbody tr th {\n",
       "        vertical-align: top;\n",
       "    }\n",
       "\n",
       "    .dataframe thead th {\n",
       "        text-align: right;\n",
       "    }\n",
       "</style>\n",
       "<table border=\"1\" class=\"dataframe\">\n",
       "  <thead>\n",
       "    <tr style=\"text-align: right;\">\n",
       "      <th></th>\n",
       "      <th>Age</th>\n",
       "      <th>Size</th>\n",
       "      <th>Site</th>\n",
       "      <th>Grade</th>\n",
       "      <th>Lymph.nodes.examined</th>\n",
       "      <th>Lymph.nodes.positive</th>\n",
       "      <th>T</th>\n",
       "      <th>N</th>\n",
       "      <th>M</th>\n",
       "      <th>Stage</th>\n",
       "    </tr>\n",
       "  </thead>\n",
       "  <tbody>\n",
       "    <tr>\n",
       "      <th>0</th>\n",
       "      <td>41</td>\n",
       "      <td>65</td>\n",
       "      <td>3</td>\n",
       "      <td>1</td>\n",
       "      <td>29</td>\n",
       "      <td>1</td>\n",
       "      <td>2</td>\n",
       "      <td>2</td>\n",
       "      <td>0</td>\n",
       "      <td>7</td>\n",
       "    </tr>\n",
       "    <tr>\n",
       "      <th>1</th>\n",
       "      <td>54</td>\n",
       "      <td>95</td>\n",
       "      <td>0</td>\n",
       "      <td>1</td>\n",
       "      <td>37</td>\n",
       "      <td>0</td>\n",
       "      <td>4</td>\n",
       "      <td>0</td>\n",
       "      <td>0</td>\n",
       "      <td>3</td>\n",
       "    </tr>\n",
       "    <tr>\n",
       "      <th>2</th>\n",
       "      <td>78</td>\n",
       "      <td>65</td>\n",
       "      <td>7</td>\n",
       "      <td>1</td>\n",
       "      <td>20</td>\n",
       "      <td>2</td>\n",
       "      <td>5</td>\n",
       "      <td>3</td>\n",
       "      <td>0</td>\n",
       "      <td>8</td>\n",
       "    </tr>\n",
       "    <tr>\n",
       "      <th>3</th>\n",
       "      <td>33</td>\n",
       "      <td>150</td>\n",
       "      <td>4</td>\n",
       "      <td>1</td>\n",
       "      <td>9</td>\n",
       "      <td>0</td>\n",
       "      <td>4</td>\n",
       "      <td>0</td>\n",
       "      <td>0</td>\n",
       "      <td>3</td>\n",
       "    </tr>\n",
       "    <tr>\n",
       "      <th>4</th>\n",
       "      <td>58</td>\n",
       "      <td>100</td>\n",
       "      <td>1</td>\n",
       "      <td>2</td>\n",
       "      <td>6</td>\n",
       "      <td>1</td>\n",
       "      <td>4</td>\n",
       "      <td>2</td>\n",
       "      <td>0</td>\n",
       "      <td>7</td>\n",
       "    </tr>\n",
       "  </tbody>\n",
       "</table>\n",
       "</div>"
      ],
      "text/plain": [
       "   Age  Size  Site  Grade  Lymph.nodes.examined  Lymph.nodes.positive  T  N  \\\n",
       "0   41    65     3      1                    29                     1  2  2   \n",
       "1   54    95     0      1                    37                     0  4  0   \n",
       "2   78    65     7      1                    20                     2  5  3   \n",
       "3   33   150     4      1                     9                     0  4  0   \n",
       "4   58   100     1      2                     6                     1  4  2   \n",
       "\n",
       "   M  Stage  \n",
       "0  0      7  \n",
       "1  0      3  \n",
       "2  0      8  \n",
       "3  0      3  \n",
       "4  0      7  "
      ]
     },
     "execution_count": 73,
     "metadata": {},
     "output_type": "execute_result"
    }
   ],
   "source": [
    "df_train_lasso = df_train[[\"Age\",\"Size\",\"Site\",\"Grade\",\"Lymph.nodes.examined\",\"Lymph.nodes.positive\",\"T\",\"N\",\"M\",\"Stage\"]]\n",
    "df_test_lasso = df_test[[\"Age\",\"Size\",\"Site\",\"Grade\",\"Lymph.nodes.examined\",\"Lymph.nodes.positive\",\"T\",\"N\",\"M\",\"Stage\"]]\n",
    "df_train_lasso.head()"
   ]
  },
  {
   "cell_type": "code",
   "execution_count": 77,
   "id": "36757272",
   "metadata": {},
   "outputs": [],
   "source": [
    "\n",
    "cols_standardize = ['Age', 'Size', 'Lymph.nodes.examined', 'Lymph.nodes.positive'] # list of variables for standardization\n",
    "cols_leave = ['Site', 'Grade', 'T', 'N', 'M', 'Stage'] #categorical variables \n",
    "\n",
    "standardize = [([col], StandardScaler()) for col in cols_standardize]\n",
    "leave = [(col, None) for col in cols_leave]\n",
    "\n",
    "x_mapper = DataFrameMapper(standardize + leave)\n",
    "\n",
    "x_train = x_mapper.fit_transform(df_train_lasso).astype('float32')\n",
    "x_test = x_mapper.transform(df_test_lasso).astype('float32')\n",
    "\n",
    "train = (x_train, y_train)\n",
    "val = (x_test, y_test)"
   ]
  },
  {
   "cell_type": "code",
   "execution_count": 144,
   "id": "244a1119",
   "metadata": {},
   "outputs": [
    {
     "name": "stdout",
     "output_type": "stream",
     "text": [
      "0:\t[0s / 0s],\t\ttrain_loss: 1.0564,\tval_loss: 0.5840\n",
      "1:\t[0s / 0s],\t\ttrain_loss: 0.7356,\tval_loss: 0.5175\n",
      "2:\t[0s / 0s],\t\ttrain_loss: 0.6749,\tval_loss: 0.5052\n",
      "3:\t[0s / 0s],\t\ttrain_loss: 0.6907,\tval_loss: 0.5029\n",
      "4:\t[0s / 0s],\t\ttrain_loss: 0.5777,\tval_loss: 0.5027\n",
      "5:\t[0s / 0s],\t\ttrain_loss: 0.6029,\tval_loss: 0.4985\n",
      "6:\t[0s / 0s],\t\ttrain_loss: 0.5663,\tval_loss: 0.4957\n",
      "7:\t[0s / 0s],\t\ttrain_loss: 0.5681,\tval_loss: 0.4954\n",
      "8:\t[0s / 0s],\t\ttrain_loss: 0.6193,\tval_loss: 0.4950\n",
      "9:\t[0s / 0s],\t\ttrain_loss: 0.5876,\tval_loss: 0.4950\n",
      "10:\t[0s / 0s],\t\ttrain_loss: 0.5602,\tval_loss: 0.4911\n",
      "11:\t[0s / 0s],\t\ttrain_loss: 0.5822,\tval_loss: 0.4864\n",
      "12:\t[0s / 0s],\t\ttrain_loss: 0.5756,\tval_loss: 0.4871\n",
      "13:\t[0s / 0s],\t\ttrain_loss: 0.5660,\tval_loss: 0.4942\n",
      "14:\t[0s / 0s],\t\ttrain_loss: 0.5777,\tval_loss: 0.5160\n",
      "15:\t[0s / 0s],\t\ttrain_loss: 0.5454,\tval_loss: 0.5644\n",
      "16:\t[0s / 0s],\t\ttrain_loss: 0.5609,\tval_loss: 0.6093\n",
      "17:\t[0s / 0s],\t\ttrain_loss: 0.5273,\tval_loss: 0.6692\n",
      "18:\t[0s / 0s],\t\ttrain_loss: 0.5539,\tval_loss: 0.6336\n",
      "19:\t[0s / 0s],\t\ttrain_loss: 0.5612,\tval_loss: 0.7196\n",
      "20:\t[0s / 0s],\t\ttrain_loss: 0.5501,\tval_loss: 0.7132\n",
      "21:\t[0s / 0s],\t\ttrain_loss: 0.5345,\tval_loss: 0.8306\n",
      "22:\t[0s / 0s],\t\ttrain_loss: 0.5636,\tval_loss: 0.7223\n",
      "23:\t[0s / 0s],\t\ttrain_loss: 0.5465,\tval_loss: 0.5931\n",
      "24:\t[0s / 0s],\t\ttrain_loss: 0.5608,\tval_loss: 0.6314\n",
      "25:\t[0s / 0s],\t\ttrain_loss: 0.5554,\tval_loss: 0.6220\n",
      "26:\t[0s / 0s],\t\ttrain_loss: 0.5467,\tval_loss: 0.5658\n",
      "27:\t[0s / 0s],\t\ttrain_loss: 0.5403,\tval_loss: 0.6119\n",
      "28:\t[0s / 0s],\t\ttrain_loss: 0.5172,\tval_loss: 0.6467\n",
      "29:\t[0s / 0s],\t\ttrain_loss: 0.5692,\tval_loss: 0.9061\n",
      "30:\t[0s / 0s],\t\ttrain_loss: 0.5126,\tval_loss: 0.8604\n",
      "31:\t[0s / 0s],\t\ttrain_loss: 0.5437,\tval_loss: 0.7149\n",
      "32:\t[0s / 0s],\t\ttrain_loss: 0.5472,\tval_loss: 0.9456\n",
      "33:\t[0s / 0s],\t\ttrain_loss: 0.5077,\tval_loss: 0.6418\n",
      "34:\t[0s / 0s],\t\ttrain_loss: 0.5464,\tval_loss: 0.4800\n",
      "35:\t[0s / 0s],\t\ttrain_loss: 0.5177,\tval_loss: 0.6161\n",
      "36:\t[0s / 0s],\t\ttrain_loss: 0.5563,\tval_loss: 0.5029\n",
      "37:\t[0s / 0s],\t\ttrain_loss: 0.5176,\tval_loss: 0.7985\n",
      "38:\t[0s / 0s],\t\ttrain_loss: 0.4959,\tval_loss: 1.0585\n",
      "39:\t[0s / 0s],\t\ttrain_loss: 0.5310,\tval_loss: 1.0593\n",
      "40:\t[0s / 0s],\t\ttrain_loss: 0.5257,\tval_loss: 1.0542\n",
      "41:\t[0s / 0s],\t\ttrain_loss: 0.5800,\tval_loss: 0.9794\n",
      "42:\t[0s / 0s],\t\ttrain_loss: 0.5203,\tval_loss: 0.4613\n",
      "43:\t[0s / 0s],\t\ttrain_loss: 0.5100,\tval_loss: 0.4532\n",
      "44:\t[0s / 0s],\t\ttrain_loss: 0.5101,\tval_loss: 0.4435\n",
      "45:\t[0s / 0s],\t\ttrain_loss: 0.5100,\tval_loss: 0.4400\n",
      "46:\t[0s / 0s],\t\ttrain_loss: 0.5174,\tval_loss: 0.4370\n",
      "47:\t[0s / 0s],\t\ttrain_loss: 0.4800,\tval_loss: 0.4364\n",
      "48:\t[0s / 1s],\t\ttrain_loss: 0.5088,\tval_loss: 0.4379\n",
      "49:\t[0s / 1s],\t\ttrain_loss: 0.4844,\tval_loss: 0.4444\n",
      "50:\t[0s / 1s],\t\ttrain_loss: 0.5020,\tval_loss: 0.4656\n",
      "51:\t[0s / 1s],\t\ttrain_loss: 0.4897,\tval_loss: 0.4988\n",
      "52:\t[0s / 1s],\t\ttrain_loss: 0.4915,\tval_loss: 0.4598\n",
      "53:\t[0s / 1s],\t\ttrain_loss: 0.4774,\tval_loss: 0.5202\n",
      "54:\t[0s / 1s],\t\ttrain_loss: 0.4742,\tval_loss: 0.4899\n",
      "55:\t[0s / 1s],\t\ttrain_loss: 0.4719,\tval_loss: 0.5790\n",
      "56:\t[0s / 1s],\t\ttrain_loss: 0.4882,\tval_loss: 0.6438\n",
      "57:\t[0s / 1s],\t\ttrain_loss: 0.5056,\tval_loss: 0.6234\n",
      "58:\t[0s / 1s],\t\ttrain_loss: 0.5471,\tval_loss: 0.4746\n",
      "59:\t[0s / 1s],\t\ttrain_loss: 0.5146,\tval_loss: 0.4767\n",
      "60:\t[0s / 1s],\t\ttrain_loss: 0.5223,\tval_loss: 0.4678\n",
      "61:\t[0s / 1s],\t\ttrain_loss: 0.5731,\tval_loss: 0.4562\n",
      "62:\t[0s / 1s],\t\ttrain_loss: 0.4953,\tval_loss: 0.4395\n",
      "63:\t[0s / 1s],\t\ttrain_loss: 0.5228,\tval_loss: 0.4336\n",
      "64:\t[0s / 1s],\t\ttrain_loss: 0.4935,\tval_loss: 0.4323\n",
      "65:\t[0s / 1s],\t\ttrain_loss: 0.5180,\tval_loss: 0.4317\n",
      "66:\t[0s / 1s],\t\ttrain_loss: 0.5166,\tval_loss: 0.4312\n",
      "67:\t[0s / 1s],\t\ttrain_loss: 0.4897,\tval_loss: 0.4321\n",
      "68:\t[0s / 1s],\t\ttrain_loss: 0.4873,\tval_loss: 0.4370\n",
      "69:\t[0s / 1s],\t\ttrain_loss: 0.4959,\tval_loss: 0.4394\n",
      "70:\t[0s / 1s],\t\ttrain_loss: 0.4888,\tval_loss: 0.4383\n",
      "71:\t[0s / 1s],\t\ttrain_loss: 0.4944,\tval_loss: 0.4405\n",
      "72:\t[0s / 1s],\t\ttrain_loss: 0.4819,\tval_loss: 0.4450\n",
      "73:\t[0s / 1s],\t\ttrain_loss: 0.5165,\tval_loss: 0.4406\n",
      "74:\t[0s / 1s],\t\ttrain_loss: 0.4737,\tval_loss: 0.4476\n",
      "75:\t[0s / 1s],\t\ttrain_loss: 0.4971,\tval_loss: 0.4506\n",
      "76:\t[0s / 1s],\t\ttrain_loss: 0.4800,\tval_loss: 0.4499\n",
      "77:\t[0s / 1s],\t\ttrain_loss: 0.4716,\tval_loss: 0.4472\n",
      "78:\t[0s / 1s],\t\ttrain_loss: 0.4862,\tval_loss: 0.4442\n",
      "79:\t[0s / 1s],\t\ttrain_loss: 0.4871,\tval_loss: 0.4427\n",
      "80:\t[0s / 1s],\t\ttrain_loss: 0.4970,\tval_loss: 0.4480\n",
      "81:\t[0s / 1s],\t\ttrain_loss: 0.5258,\tval_loss: 0.4586\n",
      "82:\t[0s / 1s],\t\ttrain_loss: 0.4774,\tval_loss: 0.4672\n",
      "83:\t[0s / 1s],\t\ttrain_loss: 0.4777,\tval_loss: 0.4623\n",
      "84:\t[0s / 1s],\t\ttrain_loss: 0.4630,\tval_loss: 0.4521\n",
      "85:\t[0s / 1s],\t\ttrain_loss: 0.4821,\tval_loss: 0.4495\n",
      "86:\t[0s / 1s],\t\ttrain_loss: 0.4597,\tval_loss: 0.4513\n",
      "87:\t[0s / 1s],\t\ttrain_loss: 0.4583,\tval_loss: 0.4487\n",
      "88:\t[0s / 1s],\t\ttrain_loss: 0.4683,\tval_loss: 0.4479\n",
      "89:\t[0s / 1s],\t\ttrain_loss: 0.4507,\tval_loss: 0.4451\n",
      "90:\t[0s / 1s],\t\ttrain_loss: 0.4770,\tval_loss: 0.4399\n",
      "91:\t[0s / 1s],\t\ttrain_loss: 0.4526,\tval_loss: 0.4398\n",
      "92:\t[0s / 1s],\t\ttrain_loss: 0.4792,\tval_loss: 0.4415\n",
      "93:\t[0s / 1s],\t\ttrain_loss: 0.4914,\tval_loss: 0.4423\n",
      "94:\t[0s / 1s],\t\ttrain_loss: 0.4676,\tval_loss: 0.4389\n",
      "95:\t[0s / 1s],\t\ttrain_loss: 0.4888,\tval_loss: 0.4396\n",
      "96:\t[0s / 1s],\t\ttrain_loss: 0.4898,\tval_loss: 0.4367\n"
     ]
    }
   ],
   "source": [
    "in_features = x_train.shape[1]\n",
    "num_nodes = [32,16]\n",
    "# out_features = 1\n",
    "out_features = labtrans.out_features\n",
    "batch_norm = True\n",
    "dropout = 0.4\n",
    "output_bias = False\n",
    "epochs = 100\n",
    "callbacks = [tt.callbacks.EarlyStopping(patience=30)]\n",
    "#callbacks = None\n",
    "verbose = True\n",
    "batch_size = 64\n",
    "\n",
    "net = tt.practical.MLPVanilla(in_features, num_nodes, out_features, batch_norm, dropout)\n",
    "\n",
    "model_cox = DeepHitSingle(net, tt.optim.Adam(lr=0.01,amsgrad=True),alpha=0.2, sigma=0.1, duration_index=labtrans.cuts) #cox model on the neural network with Adam optimizer\n",
    "\n",
    "log_cox = model_cox.fit(x_train, y_train, batch_size, epochs, callbacks,val_data =val)\n"
   ]
  },
  {
   "cell_type": "code",
   "execution_count": 145,
   "id": "43b9a10f",
   "metadata": {},
   "outputs": [
    {
     "data": {
      "text/plain": [
       "0.6849666495638789"
      ]
     },
     "execution_count": 145,
     "metadata": {},
     "output_type": "execute_result"
    },
    {
     "data": {
      "text/plain": [
       "<Figure size 864x864 with 0 Axes>"
      ]
     },
     "metadata": {},
     "output_type": "display_data"
    },
    {
     "data": {
      "image/png": "[encoded data removed]",
      "text/plain": [
       "<Figure size 432x288 with 1 Axes>"
      ]
     },
     "metadata": {
      "needs_background": "light"
     },
     "output_type": "display_data"
    }
   ],
   "source": [
    "#plotting the loss vs epoch \n",
    "plt.figure(figsize=[12,12])\n",
    "log_cox.plot()\n",
    "plt.xlabel('Epoch', fontsize = 16)\n",
    "plt.ylabel('Loss', fontsize = 16)\n",
    "\n",
    "# predict for the cox model(external validation)\n",
    "#model_cox.compute_baseline_hazards() #baseline hazard\n",
    "surv_cox = model_cox.interpolate(10).predict_surv_df(x_test) # survival of the test data\n",
    "# evaluate the c-index of the cox model \n",
    "eval_cox = EvalSurv(surv_cox, durations_test, events_test, censor_surv= 'km')\n",
    "cox_index = eval_cox.concordance_td() \n",
    "cox_index  # cox_index  at all"
   ]
  },
  {
   "cell_type": "code",
   "execution_count": 146,
   "id": "340d26cf",
   "metadata": {},
   "outputs": [
    {
     "data": {
      "text/plain": [
       "0.18031312080645803"
      ]
     },
     "execution_count": 146,
     "metadata": {},
     "output_type": "execute_result"
    },
    {
     "data": {
      "image/png": "[encoded data removed]",
      "text/plain": [
       "<Figure size 432x288 with 1 Axes>"
      ]
     },
     "metadata": {
      "needs_background": "light"
     },
     "output_type": "display_data"
    }
   ],
   "source": [
    "# integrated_brier_score at all\n",
    "time_grid = np.linspace(durations_test.min(), durations_test.max(), 100)\n",
    "_ = eval_cox.brier_score(time_grid).plot()\n",
    "eval_cox.integrated_brier_score(time_grid)"
   ]
  },
  {
   "cell_type": "code",
   "execution_count": 147,
   "id": "a72ad8f2",
   "metadata": {},
   "outputs": [
    {
     "data": {
      "text/plain": [
       "0.6310593747012143"
      ]
     },
     "execution_count": 147,
     "metadata": {},
     "output_type": "execute_result"
    }
   ],
   "source": [
    "# c-index at  all\n",
    "durations_test0, events_test0 = y_train \n",
    "surv_cox0 = model_cox.predict_surv_df(x_train) # survival of the test data\n",
    "eval_cox0 = EvalSurv(surv_cox0,durations_test0, events_test0, censor_surv= 'km')\n",
    "cox_index0 = eval_cox0.concordance_td() \n",
    "cox_index0 "
   ]
  },
  {
   "cell_type": "code",
   "execution_count": 148,
   "id": "e751c1e1",
   "metadata": {},
   "outputs": [
    {
     "data": {
      "text/plain": [
       "0.3628235465527916"
      ]
     },
     "execution_count": 148,
     "metadata": {},
     "output_type": "execute_result"
    },
    {
     "data": {
      "image/png": "[encoded data removed]",
      "text/plain": [
       "<Figure size 432x288 with 1 Axes>"
      ]
     },
     "metadata": {
      "needs_background": "light"
     },
     "output_type": "display_data"
    }
   ],
   "source": [
    "# brier score at all\n",
    "time_grid0 = np.linspace(durations_test0.min(), durations_test0.max(), 100)\n",
    "_ = eval_cox0.brier_score(time_grid0).plot()\n",
    "eval_cox0.integrated_brier_score(time_grid0)"
   ]
  },
  {
   "cell_type": "code",
   "execution_count": 149,
   "id": "49a8e0ad",
   "metadata": {},
   "outputs": [
    {
     "name": "stdout",
     "output_type": "stream",
     "text": [
      "Bootstrap Internal validation:\n",
      "The C-index:0.6305947362991661\n",
      "The C-index Low 95% CI:0.6281951533186404\n",
      "The C-index High 95% CI:0.6329943192796917\n"
     ]
    }
   ],
   "source": [
    "# Internal\n",
    "# ATTENTION :x_train, y_train is numpy.ndarray\n",
    "in_tem = []\n",
    "for i in range(1000):\n",
    "    idx = np.random.choice(len(x_train),size = 100,replace = True)\n",
    "    x_tem = x_train[idx,]\n",
    "    surv_cox_tem = model_cox.predict_surv_df(x_tem) # survival of the test data\n",
    "    eval_cox_tem = EvalSurv(surv_cox_tem, y_train[0][idx], y_train[1][idx], censor_surv= 'km')\n",
    "    c_tem = eval_cox_tem.concordance_td() \n",
    "    in_tem.append(c_tem)\n",
    "\n",
    "in_mean = np.mean(in_tem)\n",
    "in_se = np.std(in_tem) / np.power(1000,0.5)\n",
    "print(\"Bootstrap Internal validation:\")\n",
    "print(\"The C-index:{}\".format(in_mean))\n",
    "print(\"The C-index Low 95% CI:{}\".format(in_mean - 1.96 * in_se))\n",
    "print(\"The C-index High 95% CI:{}\".format(in_mean + 1.96 * in_se))"
   ]
  },
  {
   "cell_type": "code",
   "execution_count": 150,
   "id": "cd8733f4",
   "metadata": {},
   "outputs": [
    {
     "name": "stdout",
     "output_type": "stream",
     "text": [
      "Bootstrap External validation:\n",
      "The C-index:0.6788302602754203\n",
      "The C-index Low 95% CI:0.675854878348288\n",
      "The C-index High 95% CI:0.6818056422025526\n"
     ]
    }
   ],
   "source": [
    "# External\n",
    "ex_tem = []\n",
    "for i in range(1000):\n",
    "    idx = np.random.choice(len(x_test),size = 100,replace = True)\n",
    "    x_tem = x_test[idx,]\n",
    "    surv_cox_tem = model_cox.predict_surv_df(x_tem) # survival of the test data\n",
    "    eval_cox_tem = EvalSurv(surv_cox_tem, y_test[0][idx], y_test[1][idx], censor_surv= 'km')\n",
    "    c_tem = eval_cox_tem.concordance_td() \n",
    "    ex_tem.append(c_tem)\n",
    "\n",
    "ex_mean = np.mean(ex_tem)\n",
    "ex_se = np.std(ex_tem) / np.power(1000,0.5)\n",
    "print(\"Bootstrap External validation:\")\n",
    "print(\"The C-index:{}\".format(ex_mean))\n",
    "print(\"The C-index Low 95% CI:{}\".format(ex_mean - 1.96 * ex_se))\n",
    "print(\"The C-index High 95% CI:{}\".format(ex_mean + 1.96 * ex_se))"
   ]
  },
  {
   "cell_type": "markdown",
   "id": "d1e90ba9",
   "metadata": {},
   "source": [
    "# TNM"
   ]
  },
  {
   "cell_type": "code",
   "execution_count": 155,
   "id": "1c039010",
   "metadata": {},
   "outputs": [
    {
     "data": {
      "text/html": [
       "<div>\n",
       "<style scoped>\n",
       "    .dataframe tbody tr th:only-of-type {\n",
       "        vertical-align: middle;\n",
       "    }\n",
       "\n",
       "    .dataframe tbody tr th {\n",
       "        vertical-align: top;\n",
       "    }\n",
       "\n",
       "    .dataframe thead th {\n",
       "        text-align: right;\n",
       "    }\n",
       "</style>\n",
       "<table border=\"1\" class=\"dataframe\">\n",
       "  <thead>\n",
       "    <tr style=\"text-align: right;\">\n",
       "      <th></th>\n",
       "      <th>T</th>\n",
       "      <th>N</th>\n",
       "      <th>M</th>\n",
       "      <th>Stage</th>\n",
       "    </tr>\n",
       "  </thead>\n",
       "  <tbody>\n",
       "    <tr>\n",
       "      <th>0</th>\n",
       "      <td>2</td>\n",
       "      <td>2</td>\n",
       "      <td>0</td>\n",
       "      <td>7</td>\n",
       "    </tr>\n",
       "    <tr>\n",
       "      <th>1</th>\n",
       "      <td>4</td>\n",
       "      <td>0</td>\n",
       "      <td>0</td>\n",
       "      <td>3</td>\n",
       "    </tr>\n",
       "    <tr>\n",
       "      <th>2</th>\n",
       "      <td>5</td>\n",
       "      <td>3</td>\n",
       "      <td>0</td>\n",
       "      <td>8</td>\n",
       "    </tr>\n",
       "    <tr>\n",
       "      <th>3</th>\n",
       "      <td>4</td>\n",
       "      <td>0</td>\n",
       "      <td>0</td>\n",
       "      <td>3</td>\n",
       "    </tr>\n",
       "    <tr>\n",
       "      <th>4</th>\n",
       "      <td>4</td>\n",
       "      <td>2</td>\n",
       "      <td>0</td>\n",
       "      <td>7</td>\n",
       "    </tr>\n",
       "  </tbody>\n",
       "</table>\n",
       "</div>"
      ],
      "text/plain": [
       "   T  N  M  Stage\n",
       "0  2  2  0      7\n",
       "1  4  0  0      3\n",
       "2  5  3  0      8\n",
       "3  4  0  0      3\n",
       "4  4  2  0      7"
      ]
     },
     "execution_count": 155,
     "metadata": {},
     "output_type": "execute_result"
    }
   ],
   "source": [
    "df_train_tnm = df_train[[\"T\",\"N\",\"M\",\"Stage\"]]\n",
    "df_test_tnm = df_test[[\"T\",\"N\",\"M\",\"Stage\"]]\n",
    "df_train_tnm.head()"
   ]
  },
  {
   "cell_type": "code",
   "execution_count": 156,
   "id": "9dfa8351",
   "metadata": {},
   "outputs": [],
   "source": [
    "cols_leave = ['T', 'N', 'M', 'Stage'] #categorical variables \n",
    "leave = [(col, None) for col in cols_leave]\n",
    "x_mapper = DataFrameMapper(leave)\n",
    "\n",
    "x_train = x_mapper.fit_transform(df_train_tnm).astype('float32')\n",
    "x_test = x_mapper.transform(df_test_tnm).astype('float32')\n",
    "\n",
    "train = (x_train, y_train)\n",
    "val = (x_test, y_test)"
   ]
  },
  {
   "cell_type": "code",
   "execution_count": 195,
   "id": "a031dfd7",
   "metadata": {},
   "outputs": [
    {
     "name": "stdout",
     "output_type": "stream",
     "text": [
      "0:\t[0s / 0s],\t\ttrain_loss: 0.9567,\tval_loss: 0.5472\n",
      "1:\t[0s / 0s],\t\ttrain_loss: 0.6670,\tval_loss: 0.5692\n",
      "2:\t[0s / 0s],\t\ttrain_loss: 0.6582,\tval_loss: 0.5224\n",
      "3:\t[0s / 0s],\t\ttrain_loss: 0.5806,\tval_loss: 0.5188\n",
      "4:\t[0s / 0s],\t\ttrain_loss: 0.5790,\tval_loss: 0.4925\n",
      "5:\t[0s / 0s],\t\ttrain_loss: 0.5716,\tval_loss: 0.4951\n",
      "6:\t[0s / 0s],\t\ttrain_loss: 0.5527,\tval_loss: 0.4895\n",
      "7:\t[0s / 0s],\t\ttrain_loss: 0.5604,\tval_loss: 0.4849\n",
      "8:\t[0s / 0s],\t\ttrain_loss: 0.5452,\tval_loss: 0.4751\n",
      "9:\t[0s / 0s],\t\ttrain_loss: 0.5448,\tval_loss: 0.4698\n",
      "10:\t[0s / 0s],\t\ttrain_loss: 0.5497,\tval_loss: 0.4765\n",
      "11:\t[0s / 0s],\t\ttrain_loss: 0.5314,\tval_loss: 0.4790\n",
      "12:\t[0s / 0s],\t\ttrain_loss: 0.5232,\tval_loss: 0.4641\n",
      "13:\t[0s / 0s],\t\ttrain_loss: 0.5058,\tval_loss: 0.4504\n",
      "14:\t[0s / 0s],\t\ttrain_loss: 0.5235,\tval_loss: 0.4627\n",
      "15:\t[0s / 0s],\t\ttrain_loss: 0.5474,\tval_loss: 0.4604\n",
      "16:\t[0s / 0s],\t\ttrain_loss: 0.5489,\tval_loss: 0.4537\n",
      "17:\t[0s / 0s],\t\ttrain_loss: 0.5109,\tval_loss: 0.4618\n",
      "18:\t[0s / 0s],\t\ttrain_loss: 0.5034,\tval_loss: 0.4580\n",
      "19:\t[0s / 0s],\t\ttrain_loss: 0.5132,\tval_loss: 0.4583\n",
      "20:\t[0s / 0s],\t\ttrain_loss: 0.4956,\tval_loss: 0.4505\n",
      "21:\t[0s / 0s],\t\ttrain_loss: 0.5174,\tval_loss: 0.4640\n",
      "22:\t[0s / 0s],\t\ttrain_loss: 0.4804,\tval_loss: 0.4676\n",
      "23:\t[0s / 0s],\t\ttrain_loss: 0.5133,\tval_loss: 0.4631\n",
      "24:\t[0s / 0s],\t\ttrain_loss: 0.5367,\tval_loss: 0.4520\n",
      "25:\t[0s / 0s],\t\ttrain_loss: 0.4996,\tval_loss: 0.4781\n",
      "26:\t[0s / 0s],\t\ttrain_loss: 0.5064,\tval_loss: 0.4684\n",
      "27:\t[0s / 0s],\t\ttrain_loss: 0.5350,\tval_loss: 0.4552\n",
      "28:\t[0s / 0s],\t\ttrain_loss: 0.5298,\tval_loss: 0.4563\n",
      "29:\t[0s / 0s],\t\ttrain_loss: 0.5383,\tval_loss: 0.4657\n",
      "30:\t[0s / 0s],\t\ttrain_loss: 0.5023,\tval_loss: 0.4716\n",
      "31:\t[0s / 0s],\t\ttrain_loss: 0.5326,\tval_loss: 0.4668\n",
      "32:\t[0s / 0s],\t\ttrain_loss: 0.5130,\tval_loss: 0.4664\n",
      "33:\t[0s / 0s],\t\ttrain_loss: 0.5140,\tval_loss: 0.4482\n",
      "34:\t[0s / 0s],\t\ttrain_loss: 0.5071,\tval_loss: 0.4549\n",
      "35:\t[0s / 0s],\t\ttrain_loss: 0.5499,\tval_loss: 0.4743\n",
      "36:\t[0s / 0s],\t\ttrain_loss: 0.5579,\tval_loss: 0.4762\n",
      "37:\t[0s / 0s],\t\ttrain_loss: 0.5074,\tval_loss: 0.4655\n",
      "38:\t[0s / 0s],\t\ttrain_loss: 0.5171,\tval_loss: 0.4704\n",
      "39:\t[0s / 0s],\t\ttrain_loss: 0.5033,\tval_loss: 0.4834\n",
      "40:\t[0s / 0s],\t\ttrain_loss: 0.4773,\tval_loss: 0.4803\n",
      "41:\t[0s / 0s],\t\ttrain_loss: 0.5087,\tval_loss: 0.4758\n",
      "42:\t[0s / 0s],\t\ttrain_loss: 0.4926,\tval_loss: 0.4687\n",
      "43:\t[0s / 0s],\t\ttrain_loss: 0.5076,\tval_loss: 0.4690\n",
      "44:\t[0s / 0s],\t\ttrain_loss: 0.4982,\tval_loss: 0.4515\n",
      "45:\t[0s / 1s],\t\ttrain_loss: 0.4873,\tval_loss: 0.4546\n",
      "46:\t[0s / 1s],\t\ttrain_loss: 0.5006,\tval_loss: 0.4628\n",
      "47:\t[0s / 1s],\t\ttrain_loss: 0.4867,\tval_loss: 0.4618\n",
      "48:\t[0s / 1s],\t\ttrain_loss: 0.5005,\tval_loss: 0.4589\n",
      "49:\t[0s / 1s],\t\ttrain_loss: 0.4728,\tval_loss: 0.4518\n",
      "50:\t[0s / 1s],\t\ttrain_loss: 0.5052,\tval_loss: 0.4437\n",
      "51:\t[0s / 1s],\t\ttrain_loss: 0.4836,\tval_loss: 0.4646\n",
      "52:\t[0s / 1s],\t\ttrain_loss: 0.4873,\tval_loss: 0.4563\n",
      "53:\t[0s / 1s],\t\ttrain_loss: 0.5026,\tval_loss: 0.4518\n",
      "54:\t[0s / 1s],\t\ttrain_loss: 0.5099,\tval_loss: 0.4511\n",
      "55:\t[0s / 1s],\t\ttrain_loss: 0.4677,\tval_loss: 0.4584\n",
      "56:\t[0s / 1s],\t\ttrain_loss: 0.5188,\tval_loss: 0.4547\n",
      "57:\t[0s / 1s],\t\ttrain_loss: 0.4957,\tval_loss: 0.4539\n",
      "58:\t[0s / 1s],\t\ttrain_loss: 0.4810,\tval_loss: 0.4585\n",
      "59:\t[0s / 1s],\t\ttrain_loss: 0.4958,\tval_loss: 0.4645\n",
      "60:\t[0s / 1s],\t\ttrain_loss: 0.4859,\tval_loss: 0.4673\n",
      "61:\t[0s / 1s],\t\ttrain_loss: 0.5001,\tval_loss: 0.4603\n",
      "62:\t[0s / 1s],\t\ttrain_loss: 0.4958,\tval_loss: 0.4438\n",
      "63:\t[0s / 1s],\t\ttrain_loss: 0.4809,\tval_loss: 0.4409\n",
      "64:\t[0s / 1s],\t\ttrain_loss: 0.4719,\tval_loss: 0.4429\n",
      "65:\t[0s / 1s],\t\ttrain_loss: 0.4876,\tval_loss: 0.4494\n",
      "66:\t[0s / 1s],\t\ttrain_loss: 0.4639,\tval_loss: 0.4674\n",
      "67:\t[0s / 1s],\t\ttrain_loss: 0.4871,\tval_loss: 0.4579\n",
      "68:\t[0s / 1s],\t\ttrain_loss: 0.5022,\tval_loss: 0.4438\n",
      "69:\t[0s / 1s],\t\ttrain_loss: 0.5521,\tval_loss: 0.4752\n",
      "70:\t[0s / 1s],\t\ttrain_loss: 0.5158,\tval_loss: 0.4854\n",
      "71:\t[0s / 1s],\t\ttrain_loss: 0.5331,\tval_loss: 0.4928\n",
      "72:\t[0s / 1s],\t\ttrain_loss: 0.4631,\tval_loss: 0.4956\n",
      "73:\t[0s / 1s],\t\ttrain_loss: 0.5247,\tval_loss: 0.4619\n",
      "74:\t[0s / 1s],\t\ttrain_loss: 0.4945,\tval_loss: 0.4517\n",
      "75:\t[0s / 1s],\t\ttrain_loss: 0.5067,\tval_loss: 0.4362\n",
      "76:\t[0s / 1s],\t\ttrain_loss: 0.4917,\tval_loss: 0.4341\n",
      "77:\t[0s / 1s],\t\ttrain_loss: 0.4588,\tval_loss: 0.4497\n",
      "78:\t[0s / 1s],\t\ttrain_loss: 0.4804,\tval_loss: 0.4467\n",
      "79:\t[0s / 1s],\t\ttrain_loss: 0.4996,\tval_loss: 0.4386\n",
      "80:\t[0s / 1s],\t\ttrain_loss: 0.4565,\tval_loss: 0.4404\n",
      "81:\t[0s / 1s],\t\ttrain_loss: 0.4620,\tval_loss: 0.4424\n",
      "82:\t[0s / 1s],\t\ttrain_loss: 0.4456,\tval_loss: 0.4548\n",
      "83:\t[0s / 1s],\t\ttrain_loss: 0.4564,\tval_loss: 0.4593\n",
      "84:\t[0s / 1s],\t\ttrain_loss: 0.4600,\tval_loss: 0.4590\n",
      "85:\t[0s / 1s],\t\ttrain_loss: 0.4654,\tval_loss: 0.4484\n",
      "86:\t[0s / 1s],\t\ttrain_loss: 0.4629,\tval_loss: 0.4452\n",
      "87:\t[0s / 1s],\t\ttrain_loss: 0.4858,\tval_loss: 0.4407\n",
      "88:\t[0s / 1s],\t\ttrain_loss: 0.4830,\tval_loss: 0.4360\n",
      "89:\t[0s / 1s],\t\ttrain_loss: 0.4691,\tval_loss: 0.4386\n",
      "90:\t[0s / 1s],\t\ttrain_loss: 0.4771,\tval_loss: 0.4425\n",
      "91:\t[0s / 2s],\t\ttrain_loss: 0.4711,\tval_loss: 0.4509\n",
      "92:\t[0s / 2s],\t\ttrain_loss: 0.4731,\tval_loss: 0.4563\n",
      "93:\t[0s / 2s],\t\ttrain_loss: 0.4553,\tval_loss: 0.4445\n",
      "94:\t[0s / 2s],\t\ttrain_loss: 0.4588,\tval_loss: 0.4419\n",
      "95:\t[0s / 2s],\t\ttrain_loss: 0.5027,\tval_loss: 0.4438\n",
      "96:\t[0s / 2s],\t\ttrain_loss: 0.4885,\tval_loss: 0.4292\n",
      "97:\t[0s / 2s],\t\ttrain_loss: 0.4813,\tval_loss: 0.4290\n",
      "98:\t[0s / 2s],\t\ttrain_loss: 0.5036,\tval_loss: 0.4440\n",
      "99:\t[0s / 2s],\t\ttrain_loss: 0.4978,\tval_loss: 0.4561\n"
     ]
    }
   ],
   "source": [
    "in_features = x_train.shape[1]\n",
    "num_nodes = [64,64]\n",
    "# out_features = 1\n",
    "out_features = labtrans.out_features\n",
    "batch_norm = True\n",
    "dropout = 0.1\n",
    "output_bias = False\n",
    "epochs = 100\n",
    "callbacks = [tt.callbacks.EarlyStopping(patience=30)]\n",
    "#callbacks = None\n",
    "verbose = True\n",
    "batch_size = 64\n",
    "\n",
    "net = tt.practical.MLPVanilla(in_features, num_nodes, out_features, batch_norm, dropout)\n",
    "\n",
    "model_cox = DeepHitSingle(net, tt.optim.Adam(lr=0.01,amsgrad=True),alpha=0.2, sigma=0.1, duration_index=labtrans.cuts) #cox model on the neural network with Adam optimizer\n",
    "\n",
    "log_cox = model_cox.fit(x_train, y_train, batch_size, epochs, callbacks,val_data =val)\n"
   ]
  },
  {
   "cell_type": "code",
   "execution_count": 196,
   "id": "cadbf7a5",
   "metadata": {},
   "outputs": [
    {
     "data": {
      "text/plain": [
       "0.6777834787070293"
      ]
     },
     "execution_count": 196,
     "metadata": {},
     "output_type": "execute_result"
    },
    {
     "data": {
      "text/plain": [
       "<Figure size 864x864 with 0 Axes>"
      ]
     },
     "metadata": {},
     "output_type": "display_data"
    },
    {
     "data": {
      "image/png": "[encoded data removed]",
      "text/plain": [
       "<Figure size 432x288 with 1 Axes>"
      ]
     },
     "metadata": {
      "needs_background": "light"
     },
     "output_type": "display_data"
    }
   ],
   "source": [
    "#plotting the loss vs epoch \n",
    "plt.figure(figsize=[12,12])\n",
    "log_cox.plot()\n",
    "plt.xlabel('Epoch', fontsize = 16)\n",
    "plt.ylabel('Loss', fontsize = 16)\n",
    "\n",
    "# predict for the cox model(external validation)\n",
    "#model_cox.compute_baseline_hazards() #baseline hazard\n",
    "surv_cox = model_cox.interpolate(10).predict_surv_df(x_test) # survival of the test data\n",
    "# evaluate the c-index of the cox model \n",
    "eval_cox = EvalSurv(surv_cox, durations_test, events_test, censor_surv= 'km')\n",
    "cox_index = eval_cox.concordance_td() \n",
    "cox_index  # cox_index  at all"
   ]
  },
  {
   "cell_type": "code",
   "execution_count": 197,
   "id": "05cc8b1e",
   "metadata": {},
   "outputs": [
    {
     "data": {
      "text/plain": [
       "0.18585855524700515"
      ]
     },
     "execution_count": 197,
     "metadata": {},
     "output_type": "execute_result"
    },
    {
     "data": {
      "image/png": "[encoded data removed]",
      "text/plain": [
       "<Figure size 432x288 with 1 Axes>"
      ]
     },
     "metadata": {
      "needs_background": "light"
     },
     "output_type": "display_data"
    }
   ],
   "source": [
    "# integrated_brier_score at all\n",
    "time_grid = np.linspace(durations_test.min(), durations_test.max(), 100)\n",
    "_ = eval_cox.brier_score(time_grid).plot()\n",
    "eval_cox.integrated_brier_score(time_grid)"
   ]
  },
  {
   "cell_type": "code",
   "execution_count": 198,
   "id": "db4b5cd1",
   "metadata": {},
   "outputs": [
    {
     "data": {
      "text/plain": [
       "0.4755593268954967"
      ]
     },
     "execution_count": 198,
     "metadata": {},
     "output_type": "execute_result"
    }
   ],
   "source": [
    "# c-index at  all\n",
    "durations_test0, events_test0 = y_train \n",
    "surv_cox0 = model_cox.predict_surv_df(x_train) # survival of the test data\n",
    "eval_cox0 = EvalSurv(surv_cox0,durations_test0, events_test0, censor_surv= 'km')\n",
    "cox_index0 = eval_cox0.concordance_td() \n",
    "cox_index0 "
   ]
  },
  {
   "cell_type": "code",
   "execution_count": 199,
   "id": "8aa7b246",
   "metadata": {},
   "outputs": [
    {
     "data": {
      "text/plain": [
       "0.379693686408259"
      ]
     },
     "execution_count": 199,
     "metadata": {},
     "output_type": "execute_result"
    },
    {
     "data": {
      "image/png": "[encoded data removed]",
      "text/plain": [
       "<Figure size 432x288 with 1 Axes>"
      ]
     },
     "metadata": {
      "needs_background": "light"
     },
     "output_type": "display_data"
    }
   ],
   "source": [
    "# brier score at all\n",
    "time_grid0 = np.linspace(durations_test0.min(), durations_test0.max(), 100)\n",
    "_ = eval_cox0.brier_score(time_grid0).plot()\n",
    "eval_cox0.integrated_brier_score(time_grid0)"
   ]
  },
  {
   "cell_type": "code",
   "execution_count": 200,
   "id": "cc35ab29",
   "metadata": {},
   "outputs": [
    {
     "name": "stdout",
     "output_type": "stream",
     "text": [
      "Bootstrap Internal validation:\n",
      "The C-index:0.4783407760496456\n",
      "The C-index Low 95% CI:0.47562941041397105\n",
      "The C-index High 95% CI:0.4810521416853201\n"
     ]
    }
   ],
   "source": [
    "# Internal\n",
    "# ATTENTION :x_train, y_train is numpy.ndarray\n",
    "in_tem = []\n",
    "for i in range(1000):\n",
    "    idx = np.random.choice(len(x_train),size = 100,replace = True)\n",
    "    x_tem = x_train[idx,]\n",
    "    surv_cox_tem = model_cox.predict_surv_df(x_tem) # survival of the test data\n",
    "    eval_cox_tem = EvalSurv(surv_cox_tem, y_train[0][idx], y_train[1][idx], censor_surv= 'km')\n",
    "    c_tem = eval_cox_tem.concordance_td() \n",
    "    in_tem.append(c_tem)\n",
    "\n",
    "in_mean = np.mean(in_tem)\n",
    "in_se = np.std(in_tem) / np.power(1000,0.5)\n",
    "print(\"Bootstrap Internal validation:\")\n",
    "print(\"The C-index:{}\".format(in_mean))\n",
    "print(\"The C-index Low 95% CI:{}\".format(in_mean - 1.96 * in_se))\n",
    "print(\"The C-index High 95% CI:{}\".format(in_mean + 1.96 * in_se))"
   ]
  },
  {
   "cell_type": "code",
   "execution_count": 201,
   "id": "b1795c93",
   "metadata": {},
   "outputs": [
    {
     "name": "stdout",
     "output_type": "stream",
     "text": [
      "Bootstrap External validation:\n",
      "The C-index:0.41333200269193054\n",
      "The C-index Low 95% CI:0.41049798464553205\n",
      "The C-index High 95% CI:0.41616602073832903\n"
     ]
    }
   ],
   "source": [
    "# External\n",
    "ex_tem = []\n",
    "for i in range(1000):\n",
    "    idx = np.random.choice(len(x_test),size = 100,replace = True)\n",
    "    x_tem = x_test[idx,]\n",
    "    surv_cox_tem = model_cox.predict_surv_df(x_tem) # survival of the test data\n",
    "    eval_cox_tem = EvalSurv(surv_cox_tem, y_test[0][idx], y_test[1][idx], censor_surv= 'km')\n",
    "    c_tem = eval_cox_tem.concordance_td() \n",
    "    ex_tem.append(c_tem)\n",
    "\n",
    "ex_mean = np.mean(ex_tem)\n",
    "ex_se = np.std(ex_tem) / np.power(1000,0.5)\n",
    "print(\"Bootstrap External validation:\")\n",
    "print(\"The C-index:{}\".format(ex_mean))\n",
    "print(\"The C-index Low 95% CI:{}\".format(ex_mean - 1.96 * ex_se))\n",
    "print(\"The C-index High 95% CI:{}\".format(ex_mean + 1.96 * ex_se))"
   ]
  },
  {
   "cell_type": "code",
   "execution_count": null,
   "id": "75c1aa45",
   "metadata": {},
   "outputs": [],
   "source": []
  }
 ],
 "metadata": {
  "kernelspec": {
   "display_name": "Python 3 (ipykernel)",
   "language": "python",
   "name": "python3"
  },
  "language_info": {
   "codemirror_mode": {
    "name": "ipython",
    "version": 3
   },
   "file_extension": ".py",
   "mimetype": "text/x-python",
   "name": "python",
   "nbconvert_exporter": "python",
   "pygments_lexer": "ipython3",
   "version": "3.9.7"
  }
 },
 "nbformat": 4,
 "nbformat_minor": 5
}
