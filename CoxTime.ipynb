{
 "cells": [
  {
   "cell_type": "code",
   "execution_count": 1,
   "id": "b130d6d0",
   "metadata": {},
   "outputs": [],
   "source": [
    "import pandas as pd\n",
    "import numpy as np\n",
    "\n",
    "from sklearn.preprocessing import StandardScaler, LabelEncoder\n",
    "from sklearn_pandas import DataFrameMapper\n",
    "from sklearn.model_selection import train_test_split\n",
    "\n",
    "import matplotlib.pyplot as plt\n",
    "from pycox.models import CoxTime\n",
    "\n",
    "from pycox.evaluation import EvalSurv\n",
    "from pycox.models.cox_time import MLPVanillaCoxTime\n",
    "\n",
    "import torch\n",
    "import torchtuples as tt"
   ]
  },
  {
   "cell_type": "markdown",
   "id": "80d2f927",
   "metadata": {},
   "source": [
    "# Read data"
   ]
  },
  {
   "cell_type": "code",
   "execution_count": 2,
   "id": "580f22d7",
   "metadata": {},
   "outputs": [],
   "source": [
    "df_train = pd.read_csv('train.csv')\n",
    "df_train = pd.DataFrame(df_train)\n",
    "\n",
    "df_test = pd.read_csv('test.csv')\n",
    "df_test = pd.DataFrame(df_test)"
   ]
  },
  {
   "cell_type": "code",
   "execution_count": 3,
   "id": "c765d269",
   "metadata": {},
   "outputs": [
    {
     "data": {
      "text/html": [
       "<div>\n",
       "<style scoped>\n",
       "    .dataframe tbody tr th:only-of-type {\n",
       "        vertical-align: middle;\n",
       "    }\n",
       "\n",
       "    .dataframe tbody tr th {\n",
       "        vertical-align: top;\n",
       "    }\n",
       "\n",
       "    .dataframe thead th {\n",
       "        text-align: right;\n",
       "    }\n",
       "</style>\n",
       "<table border=\"1\" class=\"dataframe\">\n",
       "  <thead>\n",
       "    <tr style=\"text-align: right;\">\n",
       "      <th></th>\n",
       "      <th>Sex</th>\n",
       "      <th>Age</th>\n",
       "      <th>Size</th>\n",
       "      <th>Site</th>\n",
       "      <th>Grade</th>\n",
       "      <th>Lymph.nodes.examined</th>\n",
       "      <th>Lymph.nodes.positive</th>\n",
       "      <th>T</th>\n",
       "      <th>N</th>\n",
       "      <th>M</th>\n",
       "      <th>Stage</th>\n",
       "      <th>duration</th>\n",
       "      <th>event</th>\n",
       "    </tr>\n",
       "  </thead>\n",
       "  <tbody>\n",
       "    <tr>\n",
       "      <th>0</th>\n",
       "      <td>Male</td>\n",
       "      <td>41</td>\n",
       "      <td>65</td>\n",
       "      <td>Ileocecal Junction</td>\n",
       "      <td>II</td>\n",
       "      <td>29</td>\n",
       "      <td>1</td>\n",
       "      <td>T3</td>\n",
       "      <td>N1a</td>\n",
       "      <td>M0</td>\n",
       "      <td>IIIB</td>\n",
       "      <td>110</td>\n",
       "      <td>0</td>\n",
       "    </tr>\n",
       "    <tr>\n",
       "      <th>1</th>\n",
       "      <td>Male</td>\n",
       "      <td>54</td>\n",
       "      <td>95</td>\n",
       "      <td>Ascending Colon</td>\n",
       "      <td>II</td>\n",
       "      <td>37</td>\n",
       "      <td>0</td>\n",
       "      <td>T4a</td>\n",
       "      <td>N0</td>\n",
       "      <td>M0</td>\n",
       "      <td>IIB</td>\n",
       "      <td>107</td>\n",
       "      <td>0</td>\n",
       "    </tr>\n",
       "    <tr>\n",
       "      <th>2</th>\n",
       "      <td>Female</td>\n",
       "      <td>78</td>\n",
       "      <td>65</td>\n",
       "      <td>Sigmoid Colon</td>\n",
       "      <td>II</td>\n",
       "      <td>20</td>\n",
       "      <td>2</td>\n",
       "      <td>T4b</td>\n",
       "      <td>N1b</td>\n",
       "      <td>M0</td>\n",
       "      <td>IIIC</td>\n",
       "      <td>106</td>\n",
       "      <td>0</td>\n",
       "    </tr>\n",
       "    <tr>\n",
       "      <th>3</th>\n",
       "      <td>Female</td>\n",
       "      <td>33</td>\n",
       "      <td>150</td>\n",
       "      <td>Large Intestine, NOS</td>\n",
       "      <td>II</td>\n",
       "      <td>9</td>\n",
       "      <td>0</td>\n",
       "      <td>T4a</td>\n",
       "      <td>N0</td>\n",
       "      <td>M0</td>\n",
       "      <td>IIB</td>\n",
       "      <td>105</td>\n",
       "      <td>0</td>\n",
       "    </tr>\n",
       "    <tr>\n",
       "      <th>4</th>\n",
       "      <td>Male</td>\n",
       "      <td>58</td>\n",
       "      <td>100</td>\n",
       "      <td>Descending Colon</td>\n",
       "      <td>III</td>\n",
       "      <td>6</td>\n",
       "      <td>1</td>\n",
       "      <td>T4a</td>\n",
       "      <td>N1a</td>\n",
       "      <td>M0</td>\n",
       "      <td>IIIB</td>\n",
       "      <td>102</td>\n",
       "      <td>0</td>\n",
       "    </tr>\n",
       "  </tbody>\n",
       "</table>\n",
       "</div>"
      ],
      "text/plain": [
       "      Sex  Age  Size                  Site Grade  Lymph.nodes.examined  \\\n",
       "0    Male   41    65    Ileocecal Junction    II                    29   \n",
       "1    Male   54    95       Ascending Colon    II                    37   \n",
       "2  Female   78    65         Sigmoid Colon    II                    20   \n",
       "3  Female   33   150  Large Intestine, NOS    II                     9   \n",
       "4    Male   58   100      Descending Colon   III                     6   \n",
       "\n",
       "   Lymph.nodes.positive    T    N   M Stage  duration  event  \n",
       "0                     1   T3  N1a  M0  IIIB       110      0  \n",
       "1                     0  T4a   N0  M0   IIB       107      0  \n",
       "2                     2  T4b  N1b  M0  IIIC       106      0  \n",
       "3                     0  T4a   N0  M0   IIB       105      0  \n",
       "4                     1  T4a  N1a  M0  IIIB       102      0  "
      ]
     },
     "execution_count": 3,
     "metadata": {},
     "output_type": "execute_result"
    }
   ],
   "source": [
    "df_train.head()"
   ]
  },
  {
   "cell_type": "code",
   "execution_count": 4,
   "id": "02ade6b9",
   "metadata": {},
   "outputs": [
    {
     "data": {
      "text/html": [
       "<div>\n",
       "<style scoped>\n",
       "    .dataframe tbody tr th:only-of-type {\n",
       "        vertical-align: middle;\n",
       "    }\n",
       "\n",
       "    .dataframe tbody tr th {\n",
       "        vertical-align: top;\n",
       "    }\n",
       "\n",
       "    .dataframe thead th {\n",
       "        text-align: right;\n",
       "    }\n",
       "</style>\n",
       "<table border=\"1\" class=\"dataframe\">\n",
       "  <thead>\n",
       "    <tr style=\"text-align: right;\">\n",
       "      <th></th>\n",
       "      <th>Sex</th>\n",
       "      <th>Age</th>\n",
       "      <th>Size</th>\n",
       "      <th>Site</th>\n",
       "      <th>Grade</th>\n",
       "      <th>Lymph.nodes.examined</th>\n",
       "      <th>Lymph.nodes.positive</th>\n",
       "      <th>T</th>\n",
       "      <th>N</th>\n",
       "      <th>M</th>\n",
       "      <th>Stage</th>\n",
       "      <th>duration</th>\n",
       "      <th>event</th>\n",
       "    </tr>\n",
       "  </thead>\n",
       "  <tbody>\n",
       "    <tr>\n",
       "      <th>0</th>\n",
       "      <td>1</td>\n",
       "      <td>41</td>\n",
       "      <td>65</td>\n",
       "      <td>3</td>\n",
       "      <td>1</td>\n",
       "      <td>29</td>\n",
       "      <td>1</td>\n",
       "      <td>2</td>\n",
       "      <td>2</td>\n",
       "      <td>0</td>\n",
       "      <td>7</td>\n",
       "      <td>110</td>\n",
       "      <td>0</td>\n",
       "    </tr>\n",
       "    <tr>\n",
       "      <th>1</th>\n",
       "      <td>1</td>\n",
       "      <td>54</td>\n",
       "      <td>95</td>\n",
       "      <td>0</td>\n",
       "      <td>1</td>\n",
       "      <td>37</td>\n",
       "      <td>0</td>\n",
       "      <td>4</td>\n",
       "      <td>0</td>\n",
       "      <td>0</td>\n",
       "      <td>3</td>\n",
       "      <td>107</td>\n",
       "      <td>0</td>\n",
       "    </tr>\n",
       "    <tr>\n",
       "      <th>2</th>\n",
       "      <td>0</td>\n",
       "      <td>78</td>\n",
       "      <td>65</td>\n",
       "      <td>7</td>\n",
       "      <td>1</td>\n",
       "      <td>20</td>\n",
       "      <td>2</td>\n",
       "      <td>5</td>\n",
       "      <td>3</td>\n",
       "      <td>0</td>\n",
       "      <td>8</td>\n",
       "      <td>106</td>\n",
       "      <td>0</td>\n",
       "    </tr>\n",
       "    <tr>\n",
       "      <th>3</th>\n",
       "      <td>0</td>\n",
       "      <td>33</td>\n",
       "      <td>150</td>\n",
       "      <td>4</td>\n",
       "      <td>1</td>\n",
       "      <td>9</td>\n",
       "      <td>0</td>\n",
       "      <td>4</td>\n",
       "      <td>0</td>\n",
       "      <td>0</td>\n",
       "      <td>3</td>\n",
       "      <td>105</td>\n",
       "      <td>0</td>\n",
       "    </tr>\n",
       "    <tr>\n",
       "      <th>4</th>\n",
       "      <td>1</td>\n",
       "      <td>58</td>\n",
       "      <td>100</td>\n",
       "      <td>1</td>\n",
       "      <td>2</td>\n",
       "      <td>6</td>\n",
       "      <td>1</td>\n",
       "      <td>4</td>\n",
       "      <td>2</td>\n",
       "      <td>0</td>\n",
       "      <td>7</td>\n",
       "      <td>102</td>\n",
       "      <td>0</td>\n",
       "    </tr>\n",
       "  </tbody>\n",
       "</table>\n",
       "</div>"
      ],
      "text/plain": [
       "   Sex  Age  Size  Site  Grade  Lymph.nodes.examined  Lymph.nodes.positive  T  \\\n",
       "0    1   41    65     3      1                    29                     1  2   \n",
       "1    1   54    95     0      1                    37                     0  4   \n",
       "2    0   78    65     7      1                    20                     2  5   \n",
       "3    0   33   150     4      1                     9                     0  4   \n",
       "4    1   58   100     1      2                     6                     1  4   \n",
       "\n",
       "   N  M  Stage  duration  event  \n",
       "0  2  0      7       110      0  \n",
       "1  0  0      3       107      0  \n",
       "2  3  0      8       106      0  \n",
       "3  0  0      3       105      0  \n",
       "4  2  0      7       102      0  "
      ]
     },
     "execution_count": 4,
     "metadata": {},
     "output_type": "execute_result"
    }
   ],
   "source": [
    "# to label encoding categorical variables\n",
    "le = LabelEncoder() #label encoder\n",
    "cat_list = ['Sex','Site', 'Grade', 'T', 'N', 'M', 'Stage'] #list of categorical variables\n",
    "for cat in cat_list:\n",
    "    df_train[cat] = le.fit_transform(df_train[cat])\n",
    "    df_test[cat] = le.fit_transform(df_test[cat])\n",
    "\n",
    "df_train.head()"
   ]
  },
  {
   "cell_type": "code",
   "execution_count": 5,
   "id": "b0a5e001",
   "metadata": {},
   "outputs": [],
   "source": [
    "# to standardize and get dependent variables \n",
    "cols_standardize = ['Age', 'Size', 'Lymph.nodes.examined', 'Lymph.nodes.positive'] # list of variables for standardization\n",
    "cols_leave = ['Sex','Site', 'Grade', 'T', 'N', 'M', 'Stage'] #categorical variables \n",
    "\n",
    "standardize = [([col], StandardScaler()) for col in cols_standardize]\n",
    "leave = [(col, None) for col in cols_leave]\n",
    "\n",
    "x_mapper = DataFrameMapper(standardize + leave)"
   ]
  },
  {
   "cell_type": "code",
   "execution_count": 6,
   "id": "0151ef19",
   "metadata": {},
   "outputs": [],
   "source": [
    "x_train = x_mapper.fit_transform(df_train).astype('float32')\n",
    "x_test = x_mapper.transform(df_test).astype('float32')\n",
    "\n",
    "labtrans = CoxTime.label_transform()\n",
    "get_target = lambda df: (df['duration'].values, df['event'].values)\n",
    "y_train = labtrans.fit_transform(*get_target(df_train))\n",
    "y_test = labtrans.transform(*get_target(df_test))\n",
    "val = (x_test, y_test)"
   ]
  },
  {
   "cell_type": "markdown",
   "id": "38440b7c",
   "metadata": {},
   "source": [
    "# Neural Network"
   ]
  },
  {
   "cell_type": "code",
   "execution_count": 10,
   "id": "659f4b1f",
   "metadata": {},
   "outputs": [
    {
     "name": "stdout",
     "output_type": "stream",
     "text": [
      "0:\t[0s / 0s],\t\ttrain_loss: 0.7687,\tval_loss: 0.6902\n",
      "1:\t[0s / 0s],\t\ttrain_loss: 0.7088,\tval_loss: 0.6899\n",
      "2:\t[0s / 0s],\t\ttrain_loss: 0.7732,\tval_loss: 0.6717\n",
      "3:\t[0s / 0s],\t\ttrain_loss: 0.7132,\tval_loss: 0.6534\n",
      "4:\t[0s / 0s],\t\ttrain_loss: 0.6837,\tval_loss: 0.6716\n",
      "5:\t[0s / 0s],\t\ttrain_loss: 0.6786,\tval_loss: 0.6652\n",
      "6:\t[0s / 0s],\t\ttrain_loss: 0.6860,\tval_loss: 0.6744\n",
      "7:\t[0s / 0s],\t\ttrain_loss: 0.6773,\tval_loss: 0.6565\n",
      "8:\t[0s / 0s],\t\ttrain_loss: 0.6677,\tval_loss: 0.6687\n",
      "9:\t[0s / 0s],\t\ttrain_loss: 0.6641,\tval_loss: 0.6480\n",
      "10:\t[0s / 0s],\t\ttrain_loss: 0.6574,\tval_loss: 0.6377\n",
      "11:\t[0s / 0s],\t\ttrain_loss: 0.6465,\tval_loss: 0.6381\n",
      "12:\t[0s / 0s],\t\ttrain_loss: 0.6355,\tval_loss: 0.6565\n",
      "13:\t[0s / 0s],\t\ttrain_loss: 0.6535,\tval_loss: 0.6310\n",
      "14:\t[0s / 0s],\t\ttrain_loss: 0.6387,\tval_loss: 0.6268\n",
      "15:\t[0s / 0s],\t\ttrain_loss: 0.6437,\tval_loss: 0.6170\n",
      "16:\t[0s / 0s],\t\ttrain_loss: 0.6482,\tval_loss: 0.6211\n",
      "17:\t[0s / 0s],\t\ttrain_loss: 0.6505,\tval_loss: 0.5792\n",
      "18:\t[0s / 0s],\t\ttrain_loss: 0.6976,\tval_loss: 0.6369\n",
      "19:\t[0s / 0s],\t\ttrain_loss: 0.6594,\tval_loss: 0.6096\n",
      "20:\t[0s / 0s],\t\ttrain_loss: 0.6355,\tval_loss: 0.5998\n",
      "21:\t[0s / 0s],\t\ttrain_loss: 0.6228,\tval_loss: 0.5590\n",
      "22:\t[0s / 0s],\t\ttrain_loss: 0.6611,\tval_loss: 0.5633\n",
      "23:\t[0s / 0s],\t\ttrain_loss: 0.6385,\tval_loss: 0.5951\n",
      "24:\t[0s / 0s],\t\ttrain_loss: 0.6097,\tval_loss: 0.5692\n",
      "25:\t[0s / 0s],\t\ttrain_loss: 0.6026,\tval_loss: 0.6246\n",
      "26:\t[0s / 0s],\t\ttrain_loss: 0.6433,\tval_loss: 0.5942\n",
      "27:\t[0s / 0s],\t\ttrain_loss: 0.6509,\tval_loss: 0.6242\n",
      "28:\t[0s / 0s],\t\ttrain_loss: 0.6062,\tval_loss: 0.5907\n",
      "29:\t[0s / 0s],\t\ttrain_loss: 0.6149,\tval_loss: 0.5668\n",
      "30:\t[0s / 0s],\t\ttrain_loss: 0.6297,\tval_loss: 0.5365\n",
      "31:\t[0s / 0s],\t\ttrain_loss: 0.6500,\tval_loss: 0.5570\n",
      "32:\t[0s / 0s],\t\ttrain_loss: 0.5586,\tval_loss: 0.5707\n",
      "33:\t[0s / 0s],\t\ttrain_loss: 0.6123,\tval_loss: 0.5780\n",
      "34:\t[0s / 0s],\t\ttrain_loss: 0.6364,\tval_loss: 0.5666\n",
      "35:\t[0s / 0s],\t\ttrain_loss: 0.5984,\tval_loss: 0.6025\n",
      "36:\t[0s / 0s],\t\ttrain_loss: 0.5756,\tval_loss: 0.5722\n",
      "37:\t[0s / 0s],\t\ttrain_loss: 0.6083,\tval_loss: 0.6075\n",
      "38:\t[0s / 0s],\t\ttrain_loss: 0.5989,\tval_loss: 0.5585\n",
      "39:\t[0s / 0s],\t\ttrain_loss: 0.6236,\tval_loss: 0.5339\n",
      "40:\t[0s / 0s],\t\ttrain_loss: 0.6552,\tval_loss: 0.6042\n",
      "41:\t[0s / 0s],\t\ttrain_loss: 0.6423,\tval_loss: 0.5831\n",
      "42:\t[0s / 0s],\t\ttrain_loss: 0.6740,\tval_loss: 0.5526\n",
      "43:\t[0s / 0s],\t\ttrain_loss: 0.6233,\tval_loss: 0.6013\n",
      "44:\t[0s / 0s],\t\ttrain_loss: 0.6392,\tval_loss: 0.6149\n",
      "45:\t[0s / 0s],\t\ttrain_loss: 0.6041,\tval_loss: 0.5642\n",
      "46:\t[0s / 0s],\t\ttrain_loss: 0.6321,\tval_loss: 0.5777\n",
      "47:\t[0s / 0s],\t\ttrain_loss: 0.6365,\tval_loss: 0.5787\n",
      "48:\t[0s / 0s],\t\ttrain_loss: 0.6479,\tval_loss: 0.5599\n",
      "49:\t[0s / 0s],\t\ttrain_loss: 0.6173,\tval_loss: 0.6028\n",
      "50:\t[0s / 0s],\t\ttrain_loss: 0.6475,\tval_loss: 0.5697\n",
      "51:\t[0s / 0s],\t\ttrain_loss: 0.6197,\tval_loss: 0.6172\n",
      "52:\t[0s / 0s],\t\ttrain_loss: 0.6244,\tval_loss: 0.5475\n",
      "53:\t[0s / 0s],\t\ttrain_loss: 0.5898,\tval_loss: 0.6223\n",
      "54:\t[0s / 0s],\t\ttrain_loss: 0.6152,\tval_loss: 0.5933\n",
      "55:\t[0s / 0s],\t\ttrain_loss: 0.5913,\tval_loss: 0.6323\n",
      "56:\t[0s / 0s],\t\ttrain_loss: 0.6000,\tval_loss: 0.5819\n",
      "57:\t[0s / 0s],\t\ttrain_loss: 0.6320,\tval_loss: 0.5993\n",
      "58:\t[0s / 0s],\t\ttrain_loss: 0.7063,\tval_loss: 0.6186\n",
      "59:\t[0s / 0s],\t\ttrain_loss: 0.5990,\tval_loss: 0.5603\n",
      "60:\t[0s / 0s],\t\ttrain_loss: 0.6582,\tval_loss: 0.6052\n",
      "61:\t[0s / 0s],\t\ttrain_loss: 0.5688,\tval_loss: 0.5742\n",
      "62:\t[0s / 0s],\t\ttrain_loss: 0.6309,\tval_loss: 0.5598\n",
      "63:\t[0s / 0s],\t\ttrain_loss: 0.6065,\tval_loss: 0.5475\n",
      "64:\t[0s / 0s],\t\ttrain_loss: 0.6504,\tval_loss: 0.6011\n",
      "65:\t[0s / 0s],\t\ttrain_loss: 0.5999,\tval_loss: 0.5640\n",
      "66:\t[0s / 0s],\t\ttrain_loss: 0.6241,\tval_loss: 0.6324\n",
      "67:\t[0s / 0s],\t\ttrain_loss: 0.6193,\tval_loss: 0.5204\n",
      "68:\t[0s / 0s],\t\ttrain_loss: 0.6140,\tval_loss: 0.5920\n",
      "69:\t[0s / 0s],\t\ttrain_loss: 0.6459,\tval_loss: 0.6215\n",
      "70:\t[0s / 0s],\t\ttrain_loss: 0.5999,\tval_loss: 0.6210\n",
      "71:\t[0s / 0s],\t\ttrain_loss: 0.6231,\tval_loss: 0.6879\n",
      "72:\t[0s / 0s],\t\ttrain_loss: 0.6163,\tval_loss: 0.5711\n",
      "73:\t[0s / 0s],\t\ttrain_loss: 0.5702,\tval_loss: 0.5769\n",
      "74:\t[0s / 0s],\t\ttrain_loss: 0.5810,\tval_loss: 0.5517\n",
      "75:\t[0s / 0s],\t\ttrain_loss: 0.6354,\tval_loss: 0.5769\n",
      "76:\t[0s / 0s],\t\ttrain_loss: 0.5606,\tval_loss: 0.6293\n",
      "77:\t[0s / 0s],\t\ttrain_loss: 0.5688,\tval_loss: 0.5656\n",
      "78:\t[0s / 0s],\t\ttrain_loss: 0.5781,\tval_loss: 0.6141\n",
      "79:\t[0s / 0s],\t\ttrain_loss: 0.6503,\tval_loss: 0.5860\n",
      "80:\t[0s / 0s],\t\ttrain_loss: 0.6325,\tval_loss: 0.5902\n",
      "81:\t[0s / 0s],\t\ttrain_loss: 0.6066,\tval_loss: 0.5810\n",
      "82:\t[0s / 0s],\t\ttrain_loss: 0.6231,\tval_loss: 0.6004\n",
      "83:\t[0s / 0s],\t\ttrain_loss: 0.5833,\tval_loss: 0.5570\n",
      "84:\t[0s / 0s],\t\ttrain_loss: 0.5859,\tval_loss: 0.5625\n",
      "85:\t[0s / 0s],\t\ttrain_loss: 0.5745,\tval_loss: 0.6226\n",
      "86:\t[0s / 0s],\t\ttrain_loss: 0.6274,\tval_loss: 0.4873\n",
      "87:\t[0s / 0s],\t\ttrain_loss: 0.6405,\tval_loss: 0.5469\n",
      "88:\t[0s / 0s],\t\ttrain_loss: 0.6159,\tval_loss: 0.6109\n",
      "89:\t[0s / 0s],\t\ttrain_loss: 0.6480,\tval_loss: 0.4861\n",
      "90:\t[0s / 0s],\t\ttrain_loss: 0.6021,\tval_loss: 0.4916\n",
      "91:\t[0s / 0s],\t\ttrain_loss: 0.6535,\tval_loss: 0.5797\n",
      "92:\t[0s / 0s],\t\ttrain_loss: 0.6129,\tval_loss: 0.5408\n",
      "93:\t[0s / 0s],\t\ttrain_loss: 0.6720,\tval_loss: 0.5802\n",
      "94:\t[0s / 0s],\t\ttrain_loss: 0.6596,\tval_loss: 0.5432\n",
      "95:\t[0s / 0s],\t\ttrain_loss: 0.5888,\tval_loss: 0.5531\n",
      "96:\t[0s / 0s],\t\ttrain_loss: 0.6028,\tval_loss: 0.6079\n",
      "97:\t[0s / 0s],\t\ttrain_loss: 0.5841,\tval_loss: 0.5902\n",
      "98:\t[0s / 1s],\t\ttrain_loss: 0.5947,\tval_loss: 0.6118\n",
      "99:\t[0s / 1s],\t\ttrain_loss: 0.6195,\tval_loss: 0.5206\n"
     ]
    }
   ],
   "source": [
    "in_features = x_train.shape[1]\n",
    "num_nodes = [16,2]\n",
    "out_features = 1\n",
    "batch_norm = True\n",
    "dropout = 0.5\n",
    "output_bias = False\n",
    "epochs = 100\n",
    "callbacks = [tt.callbacks.EarlyStopping(patience=30)]\n",
    "#callbacks = None\n",
    "verbose = True\n",
    "batch_size = 64\n",
    "\n",
    "net = MLPVanillaCoxTime(in_features, num_nodes, batch_norm, dropout)\n",
    "\n",
    "model_cox = CoxTime(net, tt.optim.Adam(lr=0.01,amsgrad=True),labtrans=labtrans) #cox model on the neural network with Adam optimizer\n",
    "\n",
    "log_cox = model_cox.fit(x_train, y_train, batch_size, epochs, callbacks, verbose,\n",
    "                        val_data=(x_test,y_test), val_batch_size=batch_size)\n"
   ]
  },
  {
   "cell_type": "code",
   "execution_count": 11,
   "id": "4d668cdd",
   "metadata": {},
   "outputs": [
    {
     "name": "stderr",
     "output_type": "stream",
     "text": [
      "C:\\Users\\liwei\\anaconda3\\lib\\site-packages\\pycox\\utils.py:57: UserWarning: start_duration 0 is larger than minimum duration -1.779185175895691. If intentional, consider changing start_duration when calling kaplan_meier.\n",
      "  warnings.warn(f\"start_duration {start_duration} is larger than minimum duration {durations.min()}. \"\n"
     ]
    },
    {
     "data": {
      "text/plain": [
       "0.7147255002565418"
      ]
     },
     "execution_count": 11,
     "metadata": {},
     "output_type": "execute_result"
    },
    {
     "data": {
      "text/plain": [
       "<Figure size 864x864 with 0 Axes>"
      ]
     },
     "metadata": {},
     "output_type": "display_data"
    },
    {
     "data": {
      "image/png": "[encoded data removed]",
      "text/plain": [
       "<Figure size 432x288 with 1 Axes>"
      ]
     },
     "metadata": {
      "needs_background": "light"
     },
     "output_type": "display_data"
    }
   ],
   "source": [
    "#plotting the loss vs epoch \n",
    "plt.figure(figsize=[12,12])\n",
    "log_cox.plot()\n",
    "plt.xlabel('Epoch', fontsize = 16)\n",
    "plt.ylabel('Loss', fontsize = 16)\n",
    "\n",
    "# predict for the cox model(external validation)\n",
    "model_cox.compute_baseline_hazards() #baseline hazard\n",
    "surv_cox = model_cox.predict_surv_df(x_test) # survival of the test data\n",
    "# evaluate the c-index of the cox model \n",
    "eval_cox = EvalSurv(surv_cox, y_test[0], y_test[1], censor_surv= 'km')\n",
    "cox_index = eval_cox.concordance_td() \n",
    "cox_index  # cox_index  at all"
   ]
  },
  {
   "cell_type": "code",
   "execution_count": 12,
   "id": "87868c79",
   "metadata": {},
   "outputs": [
    {
     "data": {
      "text/plain": [
       "0.26667178952423465"
      ]
     },
     "execution_count": 12,
     "metadata": {},
     "output_type": "execute_result"
    },
    {
     "data": {
      "image/png": "[encoded data removed]",
      "text/plain": [
       "<Figure size 432x288 with 1 Axes>"
      ]
     },
     "metadata": {
      "needs_background": "light"
     },
     "output_type": "display_data"
    }
   ],
   "source": [
    "# extegrated_brier_score at all\n",
    "time_grid = np.linspace(y_test[0].min(), y_test[0].max(), 100)\n",
    "_ = eval_cox.brier_score(time_grid).plot()\n",
    "eval_cox.integrated_brier_score(time_grid)"
   ]
  },
  {
   "cell_type": "markdown",
   "id": "45139087",
   "metadata": {},
   "source": [
    "# Internal validation"
   ]
  },
  {
   "cell_type": "code",
   "execution_count": 13,
   "id": "ba754c3c",
   "metadata": {
    "scrolled": true
   },
   "outputs": [
    {
     "name": "stderr",
     "output_type": "stream",
     "text": [
      "C:\\Users\\liwei\\anaconda3\\lib\\site-packages\\pycox\\utils.py:57: UserWarning: start_duration 0 is larger than minimum duration -1.779185175895691. If intentional, consider changing start_duration when calling kaplan_meier.\n",
      "  warnings.warn(f\"start_duration {start_duration} is larger than minimum duration {durations.min()}. \"\n"
     ]
    },
    {
     "data": {
      "text/plain": [
       "0.7412497756352727"
      ]
     },
     "execution_count": 13,
     "metadata": {},
     "output_type": "execute_result"
    }
   ],
   "source": [
    "# c-index at  all\n",
    "time_test0, status_test0 = y_train \n",
    "surv_cox0 = model_cox.predict_surv_df(x_train) # survival of the test data\n",
    "eval_cox0 = EvalSurv(surv_cox0, time_test0, status_test0, censor_surv= 'km')\n",
    "cox_index0 = eval_cox0.concordance_td() \n",
    "cox_index0 "
   ]
  },
  {
   "cell_type": "code",
   "execution_count": 14,
   "id": "720134a7",
   "metadata": {},
   "outputs": [
    {
     "data": {
      "text/plain": [
       "0.3378802107950383"
      ]
     },
     "execution_count": 14,
     "metadata": {},
     "output_type": "execute_result"
    },
    {
     "data": {
      "image/png": "[encoded data removed]",
      "text/plain": [
       "<Figure size 432x288 with 1 Axes>"
      ]
     },
     "metadata": {
      "needs_background": "light"
     },
     "output_type": "display_data"
    }
   ],
   "source": [
    "# brier score at all\n",
    "time_grid0 = np.linspace(time_test0.min(), time_test0.max(), 100)\n",
    "_ = eval_cox0.brier_score(time_grid0).plot()\n",
    "eval_cox0.integrated_brier_score(time_grid0)"
   ]
  },
  {
   "cell_type": "markdown",
   "id": "056c470f",
   "metadata": {},
   "source": [
    "# Save"
   ]
  },
  {
   "cell_type": "code",
   "execution_count": 44,
   "id": "c186041f",
   "metadata": {},
   "outputs": [],
   "source": [
    "model_cox.save_model_weights('myweights_coxtime.pt')"
   ]
  },
  {
   "cell_type": "markdown",
   "id": "90adb445",
   "metadata": {},
   "source": [
    "# Bootstrap"
   ]
  },
  {
   "cell_type": "code",
   "execution_count": 16,
   "id": "7b688dcb",
   "metadata": {
    "scrolled": true
   },
   "outputs": [
    {
     "name": "stderr",
     "output_type": "stream",
     "text": [
      "C:\\Users\\liwei\\anaconda3\\lib\\site-packages\\pycox\\utils.py:57: UserWarning: start_duration 0 is larger than minimum duration -1.779185175895691. If intentional, consider changing start_duration when calling kaplan_meier.\n",
      "  warnings.warn(f\"start_duration {start_duration} is larger than minimum duration {durations.min()}. \"\n",
      "C:\\Users\\liwei\\anaconda3\\lib\\site-packages\\pycox\\utils.py:57: UserWarning: start_duration 0 is larger than minimum duration -1.7485413551330566. If intentional, consider changing start_duration when calling kaplan_meier.\n",
      "  warnings.warn(f\"start_duration {start_duration} is larger than minimum duration {durations.min()}. \"\n",
      "C:\\Users\\liwei\\anaconda3\\lib\\site-packages\\pycox\\utils.py:57: UserWarning: start_duration 0 is larger than minimum duration -1.6566096544265747. If intentional, consider changing start_duration when calling kaplan_meier.\n",
      "  warnings.warn(f\"start_duration {start_duration} is larger than minimum duration {durations.min()}. \"\n",
      "C:\\Users\\liwei\\anaconda3\\lib\\site-packages\\pycox\\utils.py:57: UserWarning: start_duration 0 is larger than minimum duration -1.5953218936920166. If intentional, consider changing start_duration when calling kaplan_meier.\n",
      "  warnings.warn(f\"start_duration {start_duration} is larger than minimum duration {durations.min()}. \"\n",
      "C:\\Users\\liwei\\anaconda3\\lib\\site-packages\\pycox\\utils.py:57: UserWarning: start_duration 0 is larger than minimum duration -1.6872535943984985. If intentional, consider changing start_duration when calling kaplan_meier.\n",
      "  warnings.warn(f\"start_duration {start_duration} is larger than minimum duration {durations.min()}. \"\n",
      "C:\\Users\\liwei\\anaconda3\\lib\\site-packages\\pycox\\utils.py:57: UserWarning: start_duration 0 is larger than minimum duration -1.6259658336639404. If intentional, consider changing start_duration when calling kaplan_meier.\n",
      "  warnings.warn(f\"start_duration {start_duration} is larger than minimum duration {durations.min()}. \"\n",
      "C:\\Users\\liwei\\anaconda3\\lib\\site-packages\\pycox\\utils.py:57: UserWarning: start_duration 0 is larger than minimum duration -1.5646780729293823. If intentional, consider changing start_duration when calling kaplan_meier.\n",
      "  warnings.warn(f\"start_duration {start_duration} is larger than minimum duration {durations.min()}. \"\n",
      "C:\\Users\\liwei\\anaconda3\\lib\\site-packages\\pycox\\utils.py:57: UserWarning: start_duration 0 is larger than minimum duration -1.5033903121948242. If intentional, consider changing start_duration when calling kaplan_meier.\n",
      "  warnings.warn(f\"start_duration {start_duration} is larger than minimum duration {durations.min()}. \"\n"
     ]
    },
    {
     "name": "stdout",
     "output_type": "stream",
     "text": [
      "Bootstrap Internal validation:\n",
      "The C-index:0.7429948024886732\n",
      "The C-index Low 95% CI:0.7408914332120075\n",
      "The C-index High 95% CI:0.745098171765339\n"
     ]
    }
   ],
   "source": [
    "# Internal\n",
    "# ATTENTION :x_train, y_train is numpy.ndarray\n",
    "in_tem = []\n",
    "model_cox.compute_baseline_hazards()\n",
    "for i in range(1000):\n",
    "    idx = np.random.choice(len(x_train),size = 100,replace = True)\n",
    "    x_tem = x_train[idx,]\n",
    "    surv_cox_tem = model_cox.predict_surv_df(x_tem) # survival of the test data\n",
    "    eval_cox_tem = EvalSurv(surv_cox_tem, y_train[0][idx], y_train[1][idx], censor_surv= 'km')\n",
    "    c_tem = eval_cox_tem.concordance_td() \n",
    "    in_tem.append(c_tem)\n",
    "\n",
    "in_mean = np.mean(in_tem)\n",
    "in_se = np.std(in_tem) / np.power(1000,0.5)\n",
    "print(\"Bootstrap Internal validation:\")\n",
    "print(\"The C-index:{}\".format(in_mean))\n",
    "print(\"The C-index Low 95% CI:{}\".format(in_mean - 1.96 * in_se))\n",
    "print(\"The C-index High 95% CI:{}\".format(in_mean + 1.96 * in_se))"
   ]
  },
  {
   "cell_type": "code",
   "execution_count": 17,
   "id": "c169d2bf",
   "metadata": {},
   "outputs": [
    {
     "name": "stderr",
     "output_type": "stream",
     "text": [
      "C:\\Users\\liwei\\anaconda3\\lib\\site-packages\\pycox\\utils.py:57: UserWarning: start_duration 0 is larger than minimum duration -1.47274649143219. If intentional, consider changing start_duration when calling kaplan_meier.\n",
      "  warnings.warn(f\"start_duration {start_duration} is larger than minimum duration {durations.min()}. \"\n",
      "C:\\Users\\liwei\\anaconda3\\lib\\site-packages\\pycox\\utils.py:57: UserWarning: start_duration 0 is larger than minimum duration -1.5340341329574585. If intentional, consider changing start_duration when calling kaplan_meier.\n",
      "  warnings.warn(f\"start_duration {start_duration} is larger than minimum duration {durations.min()}. \"\n"
     ]
    },
    {
     "name": "stdout",
     "output_type": "stream",
     "text": [
      "Bootstrap External validation:\n",
      "The C-index:0.7192771008427058\n",
      "The C-index Low 95% CI:0.716518726317021\n",
      "The C-index High 95% CI:0.7220354753683906\n"
     ]
    }
   ],
   "source": [
    "# External\n",
    "ex_tem = []\n",
    "model_cox.compute_baseline_hazards()\n",
    "for i in range(1000):\n",
    "    idx = np.random.choice(len(x_test),size = 100,replace = True)\n",
    "    x_tem = x_test[idx,]\n",
    "    surv_cox_tem = model_cox.predict_surv_df(x_tem) # survival of the test data\n",
    "    eval_cox_tem = EvalSurv(surv_cox_tem, y_test[0][idx], y_test[1][idx], censor_surv= 'km')\n",
    "    c_tem = eval_cox_tem.concordance_td() \n",
    "    ex_tem.append(c_tem)\n",
    "\n",
    "ex_mean = np.mean(ex_tem)\n",
    "ex_se = np.std(ex_tem) / np.power(1000,0.5)\n",
    "print(\"Bootstrap External validation:\")\n",
    "print(\"The C-index:{}\".format(ex_mean))\n",
    "print(\"The C-index Low 95% CI:{}\".format(ex_mean - 1.96 * ex_se))\n",
    "print(\"The C-index High 95% CI:{}\".format(ex_mean + 1.96 * ex_se))"
   ]
  },
  {
   "cell_type": "markdown",
   "id": "46759e4b",
   "metadata": {},
   "source": [
    "# LASSO var"
   ]
  },
  {
   "cell_type": "code",
   "execution_count": 18,
   "id": "a9316590",
   "metadata": {},
   "outputs": [
    {
     "data": {
      "text/html": [
       "<div>\n",
       "<style scoped>\n",
       "    .dataframe tbody tr th:only-of-type {\n",
       "        vertical-align: middle;\n",
       "    }\n",
       "\n",
       "    .dataframe tbody tr th {\n",
       "        vertical-align: top;\n",
       "    }\n",
       "\n",
       "    .dataframe thead th {\n",
       "        text-align: right;\n",
       "    }\n",
       "</style>\n",
       "<table border=\"1\" class=\"dataframe\">\n",
       "  <thead>\n",
       "    <tr style=\"text-align: right;\">\n",
       "      <th></th>\n",
       "      <th>Age</th>\n",
       "      <th>Size</th>\n",
       "      <th>Site</th>\n",
       "      <th>Grade</th>\n",
       "      <th>Lymph.nodes.examined</th>\n",
       "      <th>Lymph.nodes.positive</th>\n",
       "      <th>T</th>\n",
       "      <th>N</th>\n",
       "      <th>M</th>\n",
       "      <th>Stage</th>\n",
       "    </tr>\n",
       "  </thead>\n",
       "  <tbody>\n",
       "    <tr>\n",
       "      <th>0</th>\n",
       "      <td>41</td>\n",
       "      <td>65</td>\n",
       "      <td>3</td>\n",
       "      <td>1</td>\n",
       "      <td>29</td>\n",
       "      <td>1</td>\n",
       "      <td>2</td>\n",
       "      <td>2</td>\n",
       "      <td>0</td>\n",
       "      <td>7</td>\n",
       "    </tr>\n",
       "    <tr>\n",
       "      <th>1</th>\n",
       "      <td>54</td>\n",
       "      <td>95</td>\n",
       "      <td>0</td>\n",
       "      <td>1</td>\n",
       "      <td>37</td>\n",
       "      <td>0</td>\n",
       "      <td>4</td>\n",
       "      <td>0</td>\n",
       "      <td>0</td>\n",
       "      <td>3</td>\n",
       "    </tr>\n",
       "    <tr>\n",
       "      <th>2</th>\n",
       "      <td>78</td>\n",
       "      <td>65</td>\n",
       "      <td>7</td>\n",
       "      <td>1</td>\n",
       "      <td>20</td>\n",
       "      <td>2</td>\n",
       "      <td>5</td>\n",
       "      <td>3</td>\n",
       "      <td>0</td>\n",
       "      <td>8</td>\n",
       "    </tr>\n",
       "    <tr>\n",
       "      <th>3</th>\n",
       "      <td>33</td>\n",
       "      <td>150</td>\n",
       "      <td>4</td>\n",
       "      <td>1</td>\n",
       "      <td>9</td>\n",
       "      <td>0</td>\n",
       "      <td>4</td>\n",
       "      <td>0</td>\n",
       "      <td>0</td>\n",
       "      <td>3</td>\n",
       "    </tr>\n",
       "    <tr>\n",
       "      <th>4</th>\n",
       "      <td>58</td>\n",
       "      <td>100</td>\n",
       "      <td>1</td>\n",
       "      <td>2</td>\n",
       "      <td>6</td>\n",
       "      <td>1</td>\n",
       "      <td>4</td>\n",
       "      <td>2</td>\n",
       "      <td>0</td>\n",
       "      <td>7</td>\n",
       "    </tr>\n",
       "  </tbody>\n",
       "</table>\n",
       "</div>"
      ],
      "text/plain": [
       "   Age  Size  Site  Grade  Lymph.nodes.examined  Lymph.nodes.positive  T  N  \\\n",
       "0   41    65     3      1                    29                     1  2  2   \n",
       "1   54    95     0      1                    37                     0  4  0   \n",
       "2   78    65     7      1                    20                     2  5  3   \n",
       "3   33   150     4      1                     9                     0  4  0   \n",
       "4   58   100     1      2                     6                     1  4  2   \n",
       "\n",
       "   M  Stage  \n",
       "0  0      7  \n",
       "1  0      3  \n",
       "2  0      8  \n",
       "3  0      3  \n",
       "4  0      7  "
      ]
     },
     "execution_count": 18,
     "metadata": {},
     "output_type": "execute_result"
    }
   ],
   "source": [
    "df_train_lasso = df_train[[\"Age\",\"Size\",\"Site\",\"Grade\",\"Lymph.nodes.examined\",\"Lymph.nodes.positive\",\"T\",\"N\",\"M\",\"Stage\"]]\n",
    "df_test_lasso = df_test[[\"Age\",\"Size\",\"Site\",\"Grade\",\"Lymph.nodes.examined\",\"Lymph.nodes.positive\",\"T\",\"N\",\"M\",\"Stage\"]]\n",
    "df_train_lasso.head()"
   ]
  },
  {
   "cell_type": "code",
   "execution_count": 19,
   "id": "da0c0a8a",
   "metadata": {},
   "outputs": [],
   "source": [
    "# to standardize and get dependent variables \n",
    "cols_standardize = ['Age', 'Size', 'Lymph.nodes.examined', 'Lymph.nodes.positive'] # list of variables for standardization\n",
    "cols_leave = ['Site', 'Grade', 'T', 'N', 'M', 'Stage'] #categorical variables \n",
    "\n",
    "standardize = [([col], StandardScaler()) for col in cols_standardize]\n",
    "leave = [(col, None) for col in cols_leave]\n",
    "\n",
    "x_mapper = DataFrameMapper(standardize + leave)\n",
    "\n",
    "\n",
    "x_train = x_mapper.fit_transform(df_train_lasso).astype('float32')\n",
    "x_test = x_mapper.transform(df_test_lasso).astype('float32')\n",
    "\n",
    "val = (x_test, y_test)"
   ]
  },
  {
   "cell_type": "code",
   "execution_count": 24,
   "id": "447b1bdc",
   "metadata": {},
   "outputs": [
    {
     "name": "stdout",
     "output_type": "stream",
     "text": [
      "0:\t[0s / 0s],\t\ttrain_loss: 0.7133,\tval_loss: 0.6968\n",
      "1:\t[0s / 0s],\t\ttrain_loss: 0.7414,\tval_loss: 0.6922\n",
      "2:\t[0s / 0s],\t\ttrain_loss: 0.6994,\tval_loss: 0.6805\n",
      "3:\t[0s / 0s],\t\ttrain_loss: 0.6842,\tval_loss: 0.6841\n",
      "4:\t[0s / 0s],\t\ttrain_loss: 0.7024,\tval_loss: 0.6882\n",
      "5:\t[0s / 0s],\t\ttrain_loss: 0.6831,\tval_loss: 0.6696\n",
      "6:\t[0s / 0s],\t\ttrain_loss: 0.6806,\tval_loss: 0.6741\n",
      "7:\t[0s / 0s],\t\ttrain_loss: 0.6709,\tval_loss: 0.6758\n",
      "8:\t[0s / 0s],\t\ttrain_loss: 0.6862,\tval_loss: 0.6732\n",
      "9:\t[0s / 0s],\t\ttrain_loss: 0.6834,\tval_loss: 0.6523\n",
      "10:\t[0s / 0s],\t\ttrain_loss: 0.6882,\tval_loss: 0.6669\n",
      "11:\t[0s / 0s],\t\ttrain_loss: 0.6743,\tval_loss: 0.6639\n",
      "12:\t[0s / 0s],\t\ttrain_loss: 0.6820,\tval_loss: 0.6778\n",
      "13:\t[0s / 0s],\t\ttrain_loss: 0.6762,\tval_loss: 0.6803\n",
      "14:\t[0s / 0s],\t\ttrain_loss: 0.6863,\tval_loss: 0.6738\n",
      "15:\t[0s / 0s],\t\ttrain_loss: 0.6611,\tval_loss: 0.6646\n",
      "16:\t[0s / 0s],\t\ttrain_loss: 0.6587,\tval_loss: 0.6665\n",
      "17:\t[0s / 0s],\t\ttrain_loss: 0.6755,\tval_loss: 0.6730\n",
      "18:\t[0s / 0s],\t\ttrain_loss: 0.6576,\tval_loss: 0.6488\n",
      "19:\t[0s / 0s],\t\ttrain_loss: 0.6565,\tval_loss: 0.6538\n",
      "20:\t[0s / 0s],\t\ttrain_loss: 0.6465,\tval_loss: 0.6481\n",
      "21:\t[0s / 0s],\t\ttrain_loss: 0.6625,\tval_loss: 0.6689\n",
      "22:\t[0s / 0s],\t\ttrain_loss: 0.6452,\tval_loss: 0.7179\n",
      "23:\t[0s / 0s],\t\ttrain_loss: 0.6325,\tval_loss: 0.6463\n",
      "24:\t[0s / 0s],\t\ttrain_loss: 0.6377,\tval_loss: 0.6345\n",
      "25:\t[0s / 0s],\t\ttrain_loss: 0.6814,\tval_loss: 0.6363\n",
      "26:\t[0s / 0s],\t\ttrain_loss: 0.6656,\tval_loss: 0.6327\n",
      "27:\t[0s / 0s],\t\ttrain_loss: 0.6102,\tval_loss: 0.6374\n",
      "28:\t[0s / 0s],\t\ttrain_loss: 0.5988,\tval_loss: 0.6367\n",
      "29:\t[0s / 0s],\t\ttrain_loss: 0.6820,\tval_loss: 0.6388\n",
      "30:\t[0s / 0s],\t\ttrain_loss: 0.6345,\tval_loss: 0.6654\n",
      "31:\t[0s / 0s],\t\ttrain_loss: 0.6191,\tval_loss: 0.6524\n",
      "32:\t[0s / 0s],\t\ttrain_loss: 0.6544,\tval_loss: 0.6425\n",
      "33:\t[0s / 0s],\t\ttrain_loss: 0.6385,\tval_loss: 0.6383\n",
      "34:\t[0s / 0s],\t\ttrain_loss: 0.6229,\tval_loss: 0.6851\n",
      "35:\t[0s / 0s],\t\ttrain_loss: 0.6492,\tval_loss: 0.6386\n",
      "36:\t[0s / 0s],\t\ttrain_loss: 0.6109,\tval_loss: 0.6580\n",
      "37:\t[0s / 0s],\t\ttrain_loss: 0.6536,\tval_loss: 0.6452\n",
      "38:\t[0s / 0s],\t\ttrain_loss: 0.6355,\tval_loss: 0.6699\n",
      "39:\t[0s / 0s],\t\ttrain_loss: 0.6007,\tval_loss: 0.6493\n",
      "40:\t[0s / 0s],\t\ttrain_loss: 0.5839,\tval_loss: 0.6344\n",
      "41:\t[0s / 0s],\t\ttrain_loss: 0.6414,\tval_loss: 0.6177\n",
      "42:\t[0s / 0s],\t\ttrain_loss: 0.6115,\tval_loss: 0.6192\n",
      "43:\t[0s / 0s],\t\ttrain_loss: 0.6076,\tval_loss: 0.6833\n",
      "44:\t[0s / 0s],\t\ttrain_loss: 0.6662,\tval_loss: 0.6537\n",
      "45:\t[0s / 0s],\t\ttrain_loss: 0.5949,\tval_loss: 0.6297\n",
      "46:\t[0s / 0s],\t\ttrain_loss: 0.6432,\tval_loss: 0.5681\n",
      "47:\t[0s / 0s],\t\ttrain_loss: 0.6326,\tval_loss: 0.6628\n",
      "48:\t[0s / 0s],\t\ttrain_loss: 0.5728,\tval_loss: 0.6410\n",
      "49:\t[0s / 0s],\t\ttrain_loss: 0.5694,\tval_loss: 0.6216\n",
      "50:\t[0s / 0s],\t\ttrain_loss: 0.6215,\tval_loss: 0.6510\n",
      "51:\t[0s / 0s],\t\ttrain_loss: 0.6412,\tval_loss: 0.5984\n",
      "52:\t[0s / 0s],\t\ttrain_loss: 0.6446,\tval_loss: 0.6538\n",
      "53:\t[0s / 0s],\t\ttrain_loss: 0.5978,\tval_loss: 0.6269\n",
      "54:\t[0s / 0s],\t\ttrain_loss: 0.6025,\tval_loss: 0.6004\n",
      "55:\t[0s / 0s],\t\ttrain_loss: 0.5965,\tval_loss: 0.6709\n",
      "56:\t[0s / 0s],\t\ttrain_loss: 0.5650,\tval_loss: 0.6431\n",
      "57:\t[0s / 0s],\t\ttrain_loss: 0.5995,\tval_loss: 0.6658\n",
      "58:\t[0s / 0s],\t\ttrain_loss: 0.6168,\tval_loss: 0.5706\n",
      "59:\t[0s / 0s],\t\ttrain_loss: 0.6344,\tval_loss: 0.6535\n",
      "60:\t[0s / 0s],\t\ttrain_loss: 0.6645,\tval_loss: 0.6688\n",
      "61:\t[0s / 0s],\t\ttrain_loss: 0.6031,\tval_loss: 0.6489\n",
      "62:\t[0s / 0s],\t\ttrain_loss: 0.6214,\tval_loss: 0.5739\n",
      "63:\t[0s / 0s],\t\ttrain_loss: 0.5906,\tval_loss: 0.6929\n",
      "64:\t[0s / 0s],\t\ttrain_loss: 0.6021,\tval_loss: 0.6049\n",
      "65:\t[0s / 0s],\t\ttrain_loss: 0.5566,\tval_loss: 0.6542\n",
      "66:\t[0s / 0s],\t\ttrain_loss: 0.6210,\tval_loss: 0.6144\n",
      "67:\t[0s / 0s],\t\ttrain_loss: 0.6234,\tval_loss: 0.6883\n",
      "68:\t[0s / 0s],\t\ttrain_loss: 0.6366,\tval_loss: 0.6862\n",
      "69:\t[0s / 0s],\t\ttrain_loss: 0.6172,\tval_loss: 0.6499\n",
      "70:\t[0s / 0s],\t\ttrain_loss: 0.6083,\tval_loss: 0.6330\n",
      "71:\t[0s / 0s],\t\ttrain_loss: 0.5885,\tval_loss: 0.6286\n",
      "72:\t[0s / 0s],\t\ttrain_loss: 0.5515,\tval_loss: 0.6129\n",
      "73:\t[0s / 0s],\t\ttrain_loss: 0.5851,\tval_loss: 0.6595\n",
      "74:\t[0s / 0s],\t\ttrain_loss: 0.6322,\tval_loss: 0.6434\n",
      "75:\t[0s / 0s],\t\ttrain_loss: 0.6113,\tval_loss: 0.5639\n",
      "76:\t[0s / 0s],\t\ttrain_loss: 0.6253,\tval_loss: 0.6714\n",
      "77:\t[0s / 0s],\t\ttrain_loss: 0.5734,\tval_loss: 0.6429\n",
      "78:\t[0s / 0s],\t\ttrain_loss: 0.5394,\tval_loss: 0.6119\n",
      "79:\t[0s / 0s],\t\ttrain_loss: 0.6532,\tval_loss: 0.6791\n",
      "80:\t[0s / 0s],\t\ttrain_loss: 0.6008,\tval_loss: 0.6544\n",
      "81:\t[0s / 0s],\t\ttrain_loss: 0.6349,\tval_loss: 0.6152\n",
      "82:\t[0s / 0s],\t\ttrain_loss: 0.5678,\tval_loss: 0.5602\n",
      "83:\t[0s / 0s],\t\ttrain_loss: 0.5923,\tval_loss: 0.5815\n",
      "84:\t[0s / 0s],\t\ttrain_loss: 0.5457,\tval_loss: 0.6218\n",
      "85:\t[0s / 0s],\t\ttrain_loss: 0.5803,\tval_loss: 0.6589\n",
      "86:\t[0s / 0s],\t\ttrain_loss: 0.5720,\tval_loss: 0.6041\n",
      "87:\t[0s / 0s],\t\ttrain_loss: 0.5679,\tval_loss: 0.6163\n",
      "88:\t[0s / 1s],\t\ttrain_loss: 0.5377,\tval_loss: 0.5736\n",
      "89:\t[0s / 1s],\t\ttrain_loss: 0.6008,\tval_loss: 0.6027\n",
      "90:\t[0s / 1s],\t\ttrain_loss: 0.6244,\tval_loss: 0.5266\n",
      "91:\t[0s / 1s],\t\ttrain_loss: 0.5809,\tval_loss: 0.6117\n",
      "92:\t[0s / 1s],\t\ttrain_loss: 0.6550,\tval_loss: 0.6720\n",
      "93:\t[0s / 1s],\t\ttrain_loss: 0.5756,\tval_loss: 0.6196\n",
      "94:\t[0s / 1s],\t\ttrain_loss: 0.6774,\tval_loss: 0.6329\n",
      "95:\t[0s / 1s],\t\ttrain_loss: 0.6407,\tval_loss: 0.6222\n",
      "96:\t[0s / 1s],\t\ttrain_loss: 0.5494,\tval_loss: 0.5870\n",
      "97:\t[0s / 1s],\t\ttrain_loss: 0.6019,\tval_loss: 0.6099\n",
      "98:\t[0s / 1s],\t\ttrain_loss: 0.6032,\tval_loss: 0.6244\n",
      "99:\t[0s / 1s],\t\ttrain_loss: 0.6056,\tval_loss: 0.5659\n"
     ]
    }
   ],
   "source": [
    "in_features = x_train.shape[1]\n",
    "num_nodes = [8,2]\n",
    "out_features = 1\n",
    "batch_norm = True\n",
    "dropout = 0.4\n",
    "output_bias = False\n",
    "epochs = 100\n",
    "callbacks = [tt.callbacks.EarlyStopping(patience=30)]\n",
    "#callbacks = None\n",
    "verbose = True\n",
    "batch_size = 64\n",
    "\n",
    "net = MLPVanillaCoxTime(in_features, num_nodes, batch_norm, dropout)\n",
    "\n",
    "model_cox = CoxTime(net, tt.optim.Adam(lr=0.01,amsgrad=True),labtrans=labtrans) #cox model on the neural network with Adam optimizer\n",
    "\n",
    "log_cox = model_cox.fit(x_train, y_train, batch_size, epochs, callbacks, verbose,\n",
    "                        val_data=(x_test,y_test), val_batch_size=batch_size)"
   ]
  },
  {
   "cell_type": "code",
   "execution_count": 25,
   "id": "e5344b31",
   "metadata": {},
   "outputs": [
    {
     "name": "stderr",
     "output_type": "stream",
     "text": [
      "C:\\Users\\liwei\\anaconda3\\lib\\site-packages\\pycox\\utils.py:57: UserWarning: start_duration 0 is larger than minimum duration -1.779185175895691. If intentional, consider changing start_duration when calling kaplan_meier.\n",
      "  warnings.warn(f\"start_duration {start_duration} is larger than minimum duration {durations.min()}. \"\n"
     ]
    },
    {
     "data": {
      "text/plain": [
       "0.6952283222165213"
      ]
     },
     "execution_count": 25,
     "metadata": {},
     "output_type": "execute_result"
    },
    {
     "data": {
      "text/plain": [
       "<Figure size 864x864 with 0 Axes>"
      ]
     },
     "metadata": {},
     "output_type": "display_data"
    },
    {
     "data": {
      "image/png": "[encoded data removed]",
      "text/plain": [
       "<Figure size 432x288 with 1 Axes>"
      ]
     },
     "metadata": {
      "needs_background": "light"
     },
     "output_type": "display_data"
    }
   ],
   "source": [
    "#plotting the loss vs epoch \n",
    "plt.figure(figsize=[12,12])\n",
    "log_cox.plot()\n",
    "plt.xlabel('Epoch', fontsize = 16)\n",
    "plt.ylabel('Loss', fontsize = 16)\n",
    "\n",
    "# predict for the cox model(external validation)\n",
    "model_cox.compute_baseline_hazards() #baseline hazard\n",
    "surv_cox = model_cox.predict_surv_df(x_test) # survival of the test data\n",
    "# evaluate the c-index of the cox model \n",
    "eval_cox = EvalSurv(surv_cox, y_test[0], y_test[1], censor_surv= 'km')\n",
    "cox_index = eval_cox.concordance_td() \n",
    "cox_index  # cox_index  at all"
   ]
  },
  {
   "cell_type": "code",
   "execution_count": 26,
   "id": "1c11cce6",
   "metadata": {},
   "outputs": [
    {
     "data": {
      "text/plain": [
       "0.265515523968501"
      ]
     },
     "execution_count": 26,
     "metadata": {},
     "output_type": "execute_result"
    },
    {
     "data": {
      "image/png": "[encoded data removed]",
      "text/plain": [
       "<Figure size 432x288 with 1 Axes>"
      ]
     },
     "metadata": {
      "needs_background": "light"
     },
     "output_type": "display_data"
    }
   ],
   "source": [
    "# extegrated_brier_score at all\n",
    "time_grid = np.linspace(y_test[0].min(), y_test[0].max(), 100)\n",
    "_ = eval_cox.brier_score(time_grid).plot()\n",
    "eval_cox.integrated_brier_score(time_grid)"
   ]
  },
  {
   "cell_type": "code",
   "execution_count": 27,
   "id": "63ca7b96",
   "metadata": {},
   "outputs": [
    {
     "name": "stderr",
     "output_type": "stream",
     "text": [
      "C:\\Users\\liwei\\anaconda3\\lib\\site-packages\\pycox\\utils.py:57: UserWarning: start_duration 0 is larger than minimum duration -1.779185175895691. If intentional, consider changing start_duration when calling kaplan_meier.\n",
      "  warnings.warn(f\"start_duration {start_duration} is larger than minimum duration {durations.min()}. \"\n"
     ]
    },
    {
     "data": {
      "text/plain": [
       "0.7312751609015615"
      ]
     },
     "execution_count": 27,
     "metadata": {},
     "output_type": "execute_result"
    }
   ],
   "source": [
    "# Internal:c-index at  all\n",
    "time_test0, status_test0 = y_train \n",
    "surv_cox0 = model_cox.predict_surv_df(x_train) # survival of the test data\n",
    "eval_cox0 = EvalSurv(surv_cox0, time_test0,  status_test0, censor_surv= 'km')\n",
    "cox_index0 = eval_cox0.concordance_td() \n",
    "cox_index0 "
   ]
  },
  {
   "cell_type": "code",
   "execution_count": 28,
   "id": "aa235376",
   "metadata": {},
   "outputs": [
    {
     "data": {
      "text/plain": [
       "0.33750835958780445"
      ]
     },
     "execution_count": 28,
     "metadata": {},
     "output_type": "execute_result"
    },
    {
     "data": {
      "image/png": "[encoded data removed]",
      "text/plain": [
       "<Figure size 432x288 with 1 Axes>"
      ]
     },
     "metadata": {
      "needs_background": "light"
     },
     "output_type": "display_data"
    }
   ],
   "source": [
    "# brier score at all\n",
    "time_grid0 = np.linspace(time_test0.min(), time_test0.max(), 100)\n",
    "_ = eval_cox0.brier_score(time_grid0).plot()\n",
    "eval_cox0.integrated_brier_score(time_grid0)"
   ]
  },
  {
   "cell_type": "code",
   "execution_count": 29,
   "id": "74d808c8",
   "metadata": {},
   "outputs": [
    {
     "name": "stderr",
     "output_type": "stream",
     "text": [
      "C:\\Users\\liwei\\anaconda3\\lib\\site-packages\\pycox\\utils.py:57: UserWarning: start_duration 0 is larger than minimum duration -1.779185175895691. If intentional, consider changing start_duration when calling kaplan_meier.\n",
      "  warnings.warn(f\"start_duration {start_duration} is larger than minimum duration {durations.min()}. \"\n",
      "C:\\Users\\liwei\\anaconda3\\lib\\site-packages\\pycox\\utils.py:57: UserWarning: start_duration 0 is larger than minimum duration -1.7485413551330566. If intentional, consider changing start_duration when calling kaplan_meier.\n",
      "  warnings.warn(f\"start_duration {start_duration} is larger than minimum duration {durations.min()}. \"\n",
      "C:\\Users\\liwei\\anaconda3\\lib\\site-packages\\pycox\\utils.py:57: UserWarning: start_duration 0 is larger than minimum duration -1.6566096544265747. If intentional, consider changing start_duration when calling kaplan_meier.\n",
      "  warnings.warn(f\"start_duration {start_duration} is larger than minimum duration {durations.min()}. \"\n",
      "C:\\Users\\liwei\\anaconda3\\lib\\site-packages\\pycox\\utils.py:57: UserWarning: start_duration 0 is larger than minimum duration -1.5953218936920166. If intentional, consider changing start_duration when calling kaplan_meier.\n",
      "  warnings.warn(f\"start_duration {start_duration} is larger than minimum duration {durations.min()}. \"\n",
      "C:\\Users\\liwei\\anaconda3\\lib\\site-packages\\pycox\\utils.py:57: UserWarning: start_duration 0 is larger than minimum duration -1.6872535943984985. If intentional, consider changing start_duration when calling kaplan_meier.\n",
      "  warnings.warn(f\"start_duration {start_duration} is larger than minimum duration {durations.min()}. \"\n",
      "C:\\Users\\liwei\\anaconda3\\lib\\site-packages\\pycox\\utils.py:57: UserWarning: start_duration 0 is larger than minimum duration -1.6259658336639404. If intentional, consider changing start_duration when calling kaplan_meier.\n",
      "  warnings.warn(f\"start_duration {start_duration} is larger than minimum duration {durations.min()}. \"\n",
      "C:\\Users\\liwei\\anaconda3\\lib\\site-packages\\pycox\\utils.py:57: UserWarning: start_duration 0 is larger than minimum duration -1.5646780729293823. If intentional, consider changing start_duration when calling kaplan_meier.\n",
      "  warnings.warn(f\"start_duration {start_duration} is larger than minimum duration {durations.min()}. \"\n",
      "C:\\Users\\liwei\\anaconda3\\lib\\site-packages\\pycox\\utils.py:57: UserWarning: start_duration 0 is larger than minimum duration -1.5340341329574585. If intentional, consider changing start_duration when calling kaplan_meier.\n",
      "  warnings.warn(f\"start_duration {start_duration} is larger than minimum duration {durations.min()}. \"\n"
     ]
    },
    {
     "name": "stdout",
     "output_type": "stream",
     "text": [
      "Bootstrap Internal validation:\n",
      "The C-index:0.7333146214566673\n",
      "The C-index Low 95% CI:0.7311008068219296\n",
      "The C-index High 95% CI:0.735528436091405\n"
     ]
    }
   ],
   "source": [
    "# Internal\n",
    "# ATTENTION :x_train, y_train is numpy.ndarray\n",
    "in_tem = []\n",
    "model_cox.compute_baseline_hazards()\n",
    "for i in range(1000):\n",
    "    idx = np.random.choice(len(x_train),size = 100,replace = True)\n",
    "    x_tem = x_train[idx,]\n",
    "    surv_cox_tem = model_cox.predict_surv_df(x_tem) # survival of the test data\n",
    "    eval_cox_tem = EvalSurv(surv_cox_tem, y_train[0][idx], y_train[1][idx], censor_surv= 'km')\n",
    "    c_tem = eval_cox_tem.concordance_td() \n",
    "    in_tem.append(c_tem)\n",
    "\n",
    "in_mean = np.mean(in_tem)\n",
    "in_se = np.std(in_tem) / np.power(1000,0.5)\n",
    "print(\"Bootstrap Internal validation:\")\n",
    "print(\"The C-index:{}\".format(in_mean))\n",
    "print(\"The C-index Low 95% CI:{}\".format(in_mean - 1.96 * in_se))\n",
    "print(\"The C-index High 95% CI:{}\".format(in_mean + 1.96 * in_se))"
   ]
  },
  {
   "cell_type": "code",
   "execution_count": 30,
   "id": "4bb4c1c4",
   "metadata": {},
   "outputs": [
    {
     "name": "stderr",
     "output_type": "stream",
     "text": [
      "C:\\Users\\liwei\\anaconda3\\lib\\site-packages\\pycox\\utils.py:57: UserWarning: start_duration 0 is larger than minimum duration -1.47274649143219. If intentional, consider changing start_duration when calling kaplan_meier.\n",
      "  warnings.warn(f\"start_duration {start_duration} is larger than minimum duration {durations.min()}. \"\n"
     ]
    },
    {
     "name": "stdout",
     "output_type": "stream",
     "text": [
      "Bootstrap External validation:\n",
      "The C-index:0.6995017067424245\n",
      "The C-index Low 95% CI:0.696816651700245\n",
      "The C-index High 95% CI:0.702186761784604\n"
     ]
    }
   ],
   "source": [
    "# External\n",
    "ex_tem = []\n",
    "model_cox.compute_baseline_hazards()\n",
    "for i in range(1000):\n",
    "    idx = np.random.choice(len(x_test),size = 100,replace = True)\n",
    "    x_tem = x_test[idx,]\n",
    "    surv_cox_tem = model_cox.predict_surv_df(x_tem) # survival of the test data\n",
    "    eval_cox_tem = EvalSurv(surv_cox_tem, y_test[0][idx], y_test[1][idx], censor_surv= 'km')\n",
    "    c_tem = eval_cox_tem.concordance_td() \n",
    "    ex_tem.append(c_tem)\n",
    "\n",
    "ex_mean = np.mean(ex_tem)\n",
    "ex_se = np.std(ex_tem) / np.power(1000,0.5)\n",
    "print(\"Bootstrap External validation:\")\n",
    "print(\"The C-index:{}\".format(ex_mean))\n",
    "print(\"The C-index Low 95% CI:{}\".format(ex_mean - 1.96 * ex_se))\n",
    "print(\"The C-index High 95% CI:{}\".format(ex_mean + 1.96 * ex_se))"
   ]
  },
  {
   "cell_type": "markdown",
   "id": "b73778b2",
   "metadata": {},
   "source": [
    "# TNM"
   ]
  },
  {
   "cell_type": "code",
   "execution_count": 31,
   "id": "ea4a8b3c",
   "metadata": {},
   "outputs": [
    {
     "data": {
      "text/html": [
       "<div>\n",
       "<style scoped>\n",
       "    .dataframe tbody tr th:only-of-type {\n",
       "        vertical-align: middle;\n",
       "    }\n",
       "\n",
       "    .dataframe tbody tr th {\n",
       "        vertical-align: top;\n",
       "    }\n",
       "\n",
       "    .dataframe thead th {\n",
       "        text-align: right;\n",
       "    }\n",
       "</style>\n",
       "<table border=\"1\" class=\"dataframe\">\n",
       "  <thead>\n",
       "    <tr style=\"text-align: right;\">\n",
       "      <th></th>\n",
       "      <th>T</th>\n",
       "      <th>N</th>\n",
       "      <th>M</th>\n",
       "      <th>Stage</th>\n",
       "    </tr>\n",
       "  </thead>\n",
       "  <tbody>\n",
       "    <tr>\n",
       "      <th>0</th>\n",
       "      <td>2</td>\n",
       "      <td>2</td>\n",
       "      <td>0</td>\n",
       "      <td>7</td>\n",
       "    </tr>\n",
       "    <tr>\n",
       "      <th>1</th>\n",
       "      <td>4</td>\n",
       "      <td>0</td>\n",
       "      <td>0</td>\n",
       "      <td>3</td>\n",
       "    </tr>\n",
       "    <tr>\n",
       "      <th>2</th>\n",
       "      <td>5</td>\n",
       "      <td>3</td>\n",
       "      <td>0</td>\n",
       "      <td>8</td>\n",
       "    </tr>\n",
       "    <tr>\n",
       "      <th>3</th>\n",
       "      <td>4</td>\n",
       "      <td>0</td>\n",
       "      <td>0</td>\n",
       "      <td>3</td>\n",
       "    </tr>\n",
       "    <tr>\n",
       "      <th>4</th>\n",
       "      <td>4</td>\n",
       "      <td>2</td>\n",
       "      <td>0</td>\n",
       "      <td>7</td>\n",
       "    </tr>\n",
       "  </tbody>\n",
       "</table>\n",
       "</div>"
      ],
      "text/plain": [
       "   T  N  M  Stage\n",
       "0  2  2  0      7\n",
       "1  4  0  0      3\n",
       "2  5  3  0      8\n",
       "3  4  0  0      3\n",
       "4  4  2  0      7"
      ]
     },
     "execution_count": 31,
     "metadata": {},
     "output_type": "execute_result"
    }
   ],
   "source": [
    "df_train_tnm = df_train[[\"T\",\"N\",\"M\",\"Stage\"]]\n",
    "df_test_tnm = df_test[[\"T\",\"N\",\"M\",\"Stage\"]]\n",
    "df_train_tnm.head()"
   ]
  },
  {
   "cell_type": "code",
   "execution_count": 32,
   "id": "6aece1c3",
   "metadata": {},
   "outputs": [],
   "source": [
    "# to standardize and get dependent variables \n",
    "cols_leave = ['T', 'N', 'M', 'Stage'] #categorical variables \n",
    "\n",
    "leave = [(col, None) for col in cols_leave]\n",
    "\n",
    "x_mapper = DataFrameMapper(leave)\n",
    "\n",
    "\n",
    "x_train = x_mapper.fit_transform(df_train_tnm).astype('float32')\n",
    "x_test = x_mapper.transform(df_test_tnm).astype('float32')\n",
    "\n",
    "val = (x_test, y_test)"
   ]
  },
  {
   "cell_type": "code",
   "execution_count": 37,
   "id": "dcdf70b9",
   "metadata": {},
   "outputs": [
    {
     "name": "stdout",
     "output_type": "stream",
     "text": [
      "0:\t[0s / 0s],\t\ttrain_loss: 0.7673,\tval_loss: 0.7020\n",
      "1:\t[0s / 0s],\t\ttrain_loss: 0.7433,\tval_loss: 0.6932\n",
      "2:\t[0s / 0s],\t\ttrain_loss: 0.7154,\tval_loss: 0.6853\n",
      "3:\t[0s / 0s],\t\ttrain_loss: 0.7544,\tval_loss: 0.6713\n",
      "4:\t[0s / 0s],\t\ttrain_loss: 0.7056,\tval_loss: 0.6846\n",
      "5:\t[0s / 0s],\t\ttrain_loss: 0.6798,\tval_loss: 0.6428\n",
      "6:\t[0s / 0s],\t\ttrain_loss: 0.6962,\tval_loss: 0.6290\n",
      "7:\t[0s / 0s],\t\ttrain_loss: 0.6754,\tval_loss: 0.6677\n",
      "8:\t[0s / 0s],\t\ttrain_loss: 0.6385,\tval_loss: 0.6629\n",
      "9:\t[0s / 0s],\t\ttrain_loss: 0.6938,\tval_loss: 0.6240\n",
      "10:\t[0s / 0s],\t\ttrain_loss: 0.6286,\tval_loss: 0.6390\n",
      "11:\t[0s / 0s],\t\ttrain_loss: 0.6157,\tval_loss: 0.6630\n",
      "12:\t[0s / 0s],\t\ttrain_loss: 0.6262,\tval_loss: 0.6368\n",
      "13:\t[0s / 0s],\t\ttrain_loss: 0.6087,\tval_loss: 0.6229\n",
      "14:\t[0s / 0s],\t\ttrain_loss: 0.6277,\tval_loss: 0.6071\n",
      "15:\t[0s / 0s],\t\ttrain_loss: 0.6531,\tval_loss: 0.6782\n",
      "16:\t[0s / 0s],\t\ttrain_loss: 0.5663,\tval_loss: 0.6336\n",
      "17:\t[0s / 0s],\t\ttrain_loss: 0.5888,\tval_loss: 0.6235\n",
      "18:\t[0s / 0s],\t\ttrain_loss: 0.6882,\tval_loss: 0.6529\n",
      "19:\t[0s / 0s],\t\ttrain_loss: 0.6135,\tval_loss: 0.6369\n",
      "20:\t[0s / 0s],\t\ttrain_loss: 0.6763,\tval_loss: 0.6478\n",
      "21:\t[0s / 0s],\t\ttrain_loss: 0.6261,\tval_loss: 0.6528\n",
      "22:\t[0s / 0s],\t\ttrain_loss: 0.6544,\tval_loss: 0.6537\n",
      "23:\t[0s / 0s],\t\ttrain_loss: 0.6901,\tval_loss: 0.6510\n",
      "24:\t[0s / 0s],\t\ttrain_loss: 0.6498,\tval_loss: 0.6343\n",
      "25:\t[0s / 0s],\t\ttrain_loss: 0.6348,\tval_loss: 0.6769\n",
      "26:\t[0s / 0s],\t\ttrain_loss: 0.6051,\tval_loss: 0.6151\n",
      "27:\t[0s / 0s],\t\ttrain_loss: 0.6602,\tval_loss: 0.6372\n",
      "28:\t[0s / 0s],\t\ttrain_loss: 0.6311,\tval_loss: 0.6514\n",
      "29:\t[0s / 0s],\t\ttrain_loss: 0.6846,\tval_loss: 0.6367\n",
      "30:\t[0s / 0s],\t\ttrain_loss: 0.6435,\tval_loss: 0.6672\n",
      "31:\t[0s / 0s],\t\ttrain_loss: 0.6257,\tval_loss: 0.6156\n",
      "32:\t[0s / 0s],\t\ttrain_loss: 0.6338,\tval_loss: 0.6135\n",
      "33:\t[0s / 0s],\t\ttrain_loss: 0.6757,\tval_loss: 0.6612\n",
      "34:\t[0s / 0s],\t\ttrain_loss: 0.6161,\tval_loss: 0.6204\n",
      "35:\t[0s / 0s],\t\ttrain_loss: 0.6414,\tval_loss: 0.6197\n",
      "36:\t[0s / 0s],\t\ttrain_loss: 0.6349,\tval_loss: 0.6225\n",
      "37:\t[0s / 0s],\t\ttrain_loss: 0.6775,\tval_loss: 0.6340\n",
      "38:\t[0s / 0s],\t\ttrain_loss: 0.6142,\tval_loss: 0.7102\n",
      "39:\t[0s / 0s],\t\ttrain_loss: 0.6659,\tval_loss: 0.6567\n",
      "40:\t[0s / 0s],\t\ttrain_loss: 0.6207,\tval_loss: 0.6222\n",
      "41:\t[0s / 0s],\t\ttrain_loss: 0.6073,\tval_loss: 0.6050\n",
      "42:\t[0s / 0s],\t\ttrain_loss: 0.6495,\tval_loss: 0.6540\n",
      "43:\t[0s / 0s],\t\ttrain_loss: 0.6303,\tval_loss: 0.6015\n",
      "44:\t[0s / 0s],\t\ttrain_loss: 0.6019,\tval_loss: 0.6317\n",
      "45:\t[0s / 0s],\t\ttrain_loss: 0.6088,\tval_loss: 0.6573\n",
      "46:\t[0s / 0s],\t\ttrain_loss: 0.6188,\tval_loss: 0.6490\n",
      "47:\t[0s / 0s],\t\ttrain_loss: 0.6564,\tval_loss: 0.6525\n",
      "48:\t[0s / 0s],\t\ttrain_loss: 0.6411,\tval_loss: 0.6169\n",
      "49:\t[0s / 0s],\t\ttrain_loss: 0.6143,\tval_loss: 0.6607\n",
      "50:\t[0s / 0s],\t\ttrain_loss: 0.6264,\tval_loss: 0.6422\n",
      "51:\t[0s / 0s],\t\ttrain_loss: 0.6179,\tval_loss: 0.5972\n",
      "52:\t[0s / 0s],\t\ttrain_loss: 0.6417,\tval_loss: 0.5786\n",
      "53:\t[0s / 0s],\t\ttrain_loss: 0.6135,\tval_loss: 0.5985\n",
      "54:\t[0s / 0s],\t\ttrain_loss: 0.5881,\tval_loss: 0.5946\n",
      "55:\t[0s / 0s],\t\ttrain_loss: 0.5813,\tval_loss: 0.6415\n",
      "56:\t[0s / 0s],\t\ttrain_loss: 0.6365,\tval_loss: 0.6924\n",
      "57:\t[0s / 0s],\t\ttrain_loss: 0.6469,\tval_loss: 0.6644\n",
      "58:\t[0s / 0s],\t\ttrain_loss: 0.5708,\tval_loss: 0.5831\n",
      "59:\t[0s / 0s],\t\ttrain_loss: 0.6268,\tval_loss: 0.6043\n",
      "60:\t[0s / 0s],\t\ttrain_loss: 0.6030,\tval_loss: 0.5780\n",
      "61:\t[0s / 0s],\t\ttrain_loss: 0.5957,\tval_loss: 0.5647\n",
      "62:\t[0s / 0s],\t\ttrain_loss: 0.5858,\tval_loss: 0.6491\n",
      "63:\t[0s / 0s],\t\ttrain_loss: 0.6118,\tval_loss: 0.6137\n",
      "64:\t[0s / 0s],\t\ttrain_loss: 0.6279,\tval_loss: 0.7056\n",
      "65:\t[0s / 0s],\t\ttrain_loss: 0.6088,\tval_loss: 0.6462\n",
      "66:\t[0s / 0s],\t\ttrain_loss: 0.6490,\tval_loss: 0.5844\n",
      "67:\t[0s / 0s],\t\ttrain_loss: 0.5838,\tval_loss: 0.6367\n",
      "68:\t[0s / 0s],\t\ttrain_loss: 0.6070,\tval_loss: 0.7188\n",
      "69:\t[0s / 0s],\t\ttrain_loss: 0.6679,\tval_loss: 0.6497\n",
      "70:\t[0s / 0s],\t\ttrain_loss: 0.6021,\tval_loss: 0.6399\n",
      "71:\t[0s / 0s],\t\ttrain_loss: 0.6855,\tval_loss: 0.6059\n",
      "72:\t[0s / 0s],\t\ttrain_loss: 0.6359,\tval_loss: 0.5791\n",
      "73:\t[0s / 0s],\t\ttrain_loss: 0.6305,\tval_loss: 0.6492\n",
      "74:\t[0s / 0s],\t\ttrain_loss: 0.6213,\tval_loss: 0.6468\n",
      "75:\t[0s / 0s],\t\ttrain_loss: 0.6415,\tval_loss: 0.6198\n",
      "76:\t[0s / 0s],\t\ttrain_loss: 0.6454,\tval_loss: 0.6115\n",
      "77:\t[0s / 0s],\t\ttrain_loss: 0.6339,\tval_loss: 0.5926\n",
      "78:\t[0s / 0s],\t\ttrain_loss: 0.6086,\tval_loss: 0.5776\n",
      "79:\t[0s / 0s],\t\ttrain_loss: 0.6284,\tval_loss: 0.6537\n",
      "80:\t[0s / 0s],\t\ttrain_loss: 0.6523,\tval_loss: 0.5722\n",
      "81:\t[0s / 0s],\t\ttrain_loss: 0.6202,\tval_loss: 0.6402\n",
      "82:\t[0s / 0s],\t\ttrain_loss: 0.6616,\tval_loss: 0.6364\n",
      "83:\t[0s / 0s],\t\ttrain_loss: 0.5964,\tval_loss: 0.6530\n",
      "84:\t[0s / 0s],\t\ttrain_loss: 0.6449,\tval_loss: 0.5960\n",
      "85:\t[0s / 0s],\t\ttrain_loss: 0.6256,\tval_loss: 0.6549\n",
      "86:\t[0s / 0s],\t\ttrain_loss: 0.6402,\tval_loss: 0.6862\n",
      "87:\t[0s / 0s],\t\ttrain_loss: 0.6120,\tval_loss: 0.6535\n",
      "88:\t[0s / 0s],\t\ttrain_loss: 0.6093,\tval_loss: 0.6124\n",
      "89:\t[0s / 0s],\t\ttrain_loss: 0.6335,\tval_loss: 0.6928\n",
      "90:\t[0s / 0s],\t\ttrain_loss: 0.6187,\tval_loss: 0.6228\n",
      "91:\t[0s / 0s],\t\ttrain_loss: 0.6330,\tval_loss: 0.6545\n"
     ]
    }
   ],
   "source": [
    "in_features = x_train.shape[1]\n",
    "num_nodes = [8,8]\n",
    "out_features = 1\n",
    "batch_norm = True\n",
    "dropout = 0.4\n",
    "output_bias = False\n",
    "epochs = 100\n",
    "callbacks = [tt.callbacks.EarlyStopping(patience=30)]\n",
    "#callbacks = None\n",
    "verbose = True\n",
    "batch_size = 64\n",
    "\n",
    "net = MLPVanillaCoxTime(in_features, num_nodes, batch_norm, dropout)\n",
    "\n",
    "model_cox = CoxTime(net, tt.optim.Adam(lr=0.01,amsgrad=True),labtrans=labtrans) #cox model on the neural network with Adam optimizer\n",
    "\n",
    "log_cox = model_cox.fit(x_train, y_train, batch_size, epochs, callbacks, verbose,\n",
    "                        val_data=(x_test,y_test), val_batch_size=batch_size)"
   ]
  },
  {
   "cell_type": "code",
   "execution_count": 38,
   "id": "70db807e",
   "metadata": {},
   "outputs": [
    {
     "name": "stderr",
     "output_type": "stream",
     "text": [
      "C:\\Users\\liwei\\anaconda3\\lib\\site-packages\\pycox\\utils.py:57: UserWarning: start_duration 0 is larger than minimum duration -1.779185175895691. If intentional, consider changing start_duration when calling kaplan_meier.\n",
      "  warnings.warn(f\"start_duration {start_duration} is larger than minimum duration {durations.min()}. \"\n"
     ]
    },
    {
     "data": {
      "text/plain": [
       "0.668291431503335"
      ]
     },
     "execution_count": 38,
     "metadata": {},
     "output_type": "execute_result"
    },
    {
     "data": {
      "text/plain": [
       "<Figure size 864x864 with 0 Axes>"
      ]
     },
     "metadata": {},
     "output_type": "display_data"
    },
    {
     "data": {
      "image/png": "[encoded data removed]",
      "text/plain": [
       "<Figure size 432x288 with 1 Axes>"
      ]
     },
     "metadata": {
      "needs_background": "light"
     },
     "output_type": "display_data"
    }
   ],
   "source": [
    "#plotting the loss vs epoch \n",
    "plt.figure(figsize=[12,12])\n",
    "log_cox.plot()\n",
    "plt.xlabel('Epoch', fontsize = 16)\n",
    "plt.ylabel('Loss', fontsize = 16)\n",
    "\n",
    "# predict for the cox model(external validation)\n",
    "model_cox.compute_baseline_hazards() #baseline hazard\n",
    "surv_cox = model_cox.predict_surv_df(x_test) # survival of the test data\n",
    "# evaluate the c-index of the cox model \n",
    "eval_cox = EvalSurv(surv_cox, y_test[0], y_test[1], censor_surv= 'km')\n",
    "cox_index = eval_cox.concordance_td() \n",
    "cox_index  # cox_index  at all"
   ]
  },
  {
   "cell_type": "code",
   "execution_count": 39,
   "id": "fb7461a2",
   "metadata": {},
   "outputs": [
    {
     "data": {
      "text/plain": [
       "0.2373424388645863"
      ]
     },
     "execution_count": 39,
     "metadata": {},
     "output_type": "execute_result"
    },
    {
     "data": {
      "image/png": "[encoded data removed]",
      "text/plain": [
       "<Figure size 432x288 with 1 Axes>"
      ]
     },
     "metadata": {
      "needs_background": "light"
     },
     "output_type": "display_data"
    }
   ],
   "source": [
    "# extegrated_brier_score at all\n",
    "time_grid = np.linspace(y_test[0].min(), y_test[1].max(), 100)\n",
    "_ = eval_cox.brier_score(time_grid).plot()\n",
    "eval_cox.integrated_brier_score(time_grid)"
   ]
  },
  {
   "cell_type": "code",
   "execution_count": 40,
   "id": "39d09b55",
   "metadata": {},
   "outputs": [
    {
     "name": "stderr",
     "output_type": "stream",
     "text": [
      "C:\\Users\\liwei\\anaconda3\\lib\\site-packages\\pycox\\utils.py:57: UserWarning: start_duration 0 is larger than minimum duration -1.779185175895691. If intentional, consider changing start_duration when calling kaplan_meier.\n",
      "  warnings.warn(f\"start_duration {start_duration} is larger than minimum duration {durations.min()}. \"\n"
     ]
    },
    {
     "data": {
      "text/plain": [
       "0.6685684248314059"
      ]
     },
     "execution_count": 40,
     "metadata": {},
     "output_type": "execute_result"
    }
   ],
   "source": [
    "# Internal:c-index at  all\n",
    "time_test0, status_test0 = y_train \n",
    "surv_cox0 = model_cox.predict_surv_df(x_train) # survival of the test data\n",
    "eval_cox0 = EvalSurv(surv_cox0, time_test0, status_test0, censor_surv= 'km')\n",
    "cox_index0 = eval_cox0.concordance_td() \n",
    "cox_index0 "
   ]
  },
  {
   "cell_type": "code",
   "execution_count": 41,
   "id": "56938ea4",
   "metadata": {},
   "outputs": [
    {
     "data": {
      "text/plain": [
       "0.3392111789034071"
      ]
     },
     "execution_count": 41,
     "metadata": {},
     "output_type": "execute_result"
    },
    {
     "data": {
      "image/png": "[encoded data removed]",
      "text/plain": [
       "<Figure size 432x288 with 1 Axes>"
      ]
     },
     "metadata": {
      "needs_background": "light"
     },
     "output_type": "display_data"
    }
   ],
   "source": [
    "# brier score at all\n",
    "time_grid0 = np.linspace(time_test0.min(), time_test0.max(), 100)\n",
    "_ = eval_cox0.brier_score(time_grid0).plot()\n",
    "eval_cox0.integrated_brier_score(time_grid0)"
   ]
  },
  {
   "cell_type": "code",
   "execution_count": 42,
   "id": "e207292f",
   "metadata": {},
   "outputs": [
    {
     "name": "stderr",
     "output_type": "stream",
     "text": [
      "C:\\Users\\liwei\\anaconda3\\lib\\site-packages\\pycox\\utils.py:57: UserWarning: start_duration 0 is larger than minimum duration -1.779185175895691. If intentional, consider changing start_duration when calling kaplan_meier.\n",
      "  warnings.warn(f\"start_duration {start_duration} is larger than minimum duration {durations.min()}. \"\n",
      "C:\\Users\\liwei\\anaconda3\\lib\\site-packages\\pycox\\utils.py:57: UserWarning: start_duration 0 is larger than minimum duration -1.7485413551330566. If intentional, consider changing start_duration when calling kaplan_meier.\n",
      "  warnings.warn(f\"start_duration {start_duration} is larger than minimum duration {durations.min()}. \"\n",
      "C:\\Users\\liwei\\anaconda3\\lib\\site-packages\\pycox\\utils.py:57: UserWarning: start_duration 0 is larger than minimum duration -1.5953218936920166. If intentional, consider changing start_duration when calling kaplan_meier.\n",
      "  warnings.warn(f\"start_duration {start_duration} is larger than minimum duration {durations.min()}. \"\n",
      "C:\\Users\\liwei\\anaconda3\\lib\\site-packages\\pycox\\utils.py:57: UserWarning: start_duration 0 is larger than minimum duration -1.6566096544265747. If intentional, consider changing start_duration when calling kaplan_meier.\n",
      "  warnings.warn(f\"start_duration {start_duration} is larger than minimum duration {durations.min()}. \"\n",
      "C:\\Users\\liwei\\anaconda3\\lib\\site-packages\\pycox\\utils.py:57: UserWarning: start_duration 0 is larger than minimum duration -1.6259658336639404. If intentional, consider changing start_duration when calling kaplan_meier.\n",
      "  warnings.warn(f\"start_duration {start_duration} is larger than minimum duration {durations.min()}. \"\n",
      "C:\\Users\\liwei\\anaconda3\\lib\\site-packages\\pycox\\utils.py:57: UserWarning: start_duration 0 is larger than minimum duration -1.6872535943984985. If intentional, consider changing start_duration when calling kaplan_meier.\n",
      "  warnings.warn(f\"start_duration {start_duration} is larger than minimum duration {durations.min()}. \"\n",
      "C:\\Users\\liwei\\anaconda3\\lib\\site-packages\\pycox\\utils.py:57: UserWarning: start_duration 0 is larger than minimum duration -1.5646780729293823. If intentional, consider changing start_duration when calling kaplan_meier.\n",
      "  warnings.warn(f\"start_duration {start_duration} is larger than minimum duration {durations.min()}. \"\n",
      "C:\\Users\\liwei\\anaconda3\\lib\\site-packages\\pycox\\utils.py:57: UserWarning: start_duration 0 is larger than minimum duration -1.47274649143219. If intentional, consider changing start_duration when calling kaplan_meier.\n",
      "  warnings.warn(f\"start_duration {start_duration} is larger than minimum duration {durations.min()}. \"\n",
      "C:\\Users\\liwei\\anaconda3\\lib\\site-packages\\pycox\\utils.py:57: UserWarning: start_duration 0 is larger than minimum duration -1.5340341329574585. If intentional, consider changing start_duration when calling kaplan_meier.\n",
      "  warnings.warn(f\"start_duration {start_duration} is larger than minimum duration {durations.min()}. \"\n",
      "C:\\Users\\liwei\\anaconda3\\lib\\site-packages\\pycox\\utils.py:57: UserWarning: start_duration 0 is larger than minimum duration -1.5033903121948242. If intentional, consider changing start_duration when calling kaplan_meier.\n",
      "  warnings.warn(f\"start_duration {start_duration} is larger than minimum duration {durations.min()}. \"\n"
     ]
    },
    {
     "name": "stdout",
     "output_type": "stream",
     "text": [
      "Bootstrap Internal validation:\n",
      "The C-index:0.671759354448679\n",
      "The C-index Low 95% CI:0.6692346710750567\n",
      "The C-index High 95% CI:0.6742840378223012\n"
     ]
    }
   ],
   "source": [
    "# Internal\n",
    "# ATTENTION :x_train, y_train is numpy.ndarray\n",
    "in_tem = []\n",
    "model_cox.compute_baseline_hazards()\n",
    "for i in range(1000):\n",
    "    idx = np.random.choice(len(x_train),size = 100,replace = True)\n",
    "    x_tem = x_train[idx,]\n",
    "    surv_cox_tem = model_cox.predict_surv_df(x_tem) # survival of the test data\n",
    "    eval_cox_tem = EvalSurv(surv_cox_tem, y_train[0][idx], y_train[1][idx], censor_surv= 'km')\n",
    "    c_tem = eval_cox_tem.concordance_td() \n",
    "    in_tem.append(c_tem)\n",
    "\n",
    "in_mean = np.mean(in_tem)\n",
    "in_se = np.std(in_tem) / np.power(1000,0.5)\n",
    "print(\"Bootstrap Internal validation:\")\n",
    "print(\"The C-index:{}\".format(in_mean))\n",
    "print(\"The C-index Low 95% CI:{}\".format(in_mean - 1.96 * in_se))\n",
    "print(\"The C-index High 95% CI:{}\".format(in_mean + 1.96 * in_se))"
   ]
  },
  {
   "cell_type": "code",
   "execution_count": 43,
   "id": "b0b6082d",
   "metadata": {},
   "outputs": [
    {
     "name": "stdout",
     "output_type": "stream",
     "text": [
      "Bootstrap External validation:\n",
      "The C-index:0.6720112706643265\n",
      "The C-index Low 95% CI:0.6692342793189809\n",
      "The C-index High 95% CI:0.6747882620096721\n"
     ]
    }
   ],
   "source": [
    "# External\n",
    "ex_tem = []\n",
    "model_cox.compute_baseline_hazards()\n",
    "for i in range(1000):\n",
    "    idx = np.random.choice(len(x_test),size = 100,replace = True)\n",
    "    x_tem = x_test[idx,]\n",
    "    surv_cox_tem = model_cox.predict_surv_df(x_tem) # survival of the test data\n",
    "    eval_cox_tem = EvalSurv(surv_cox_tem, y_test[0][idx], y_test[1][idx], censor_surv= 'km')\n",
    "    c_tem = eval_cox_tem.concordance_td() \n",
    "    ex_tem.append(c_tem)\n",
    "\n",
    "ex_mean = np.mean(ex_tem)\n",
    "ex_se = np.std(ex_tem) / np.power(1000,0.5)\n",
    "print(\"Bootstrap External validation:\")\n",
    "print(\"The C-index:{}\".format(ex_mean))\n",
    "print(\"The C-index Low 95% CI:{}\".format(ex_mean - 1.96 * ex_se))\n",
    "print(\"The C-index High 95% CI:{}\".format(ex_mean + 1.96 * ex_se))"
   ]
  },
  {
   "cell_type": "code",
   "execution_count": null,
   "id": "cd3f0a69",
   "metadata": {},
   "outputs": [],
   "source": []
  }
 ],
 "metadata": {
  "kernelspec": {
   "display_name": "Python 3 (ipykernel)",
   "language": "python",
   "name": "python3"
  },
  "language_info": {
   "codemirror_mode": {
    "name": "ipython",
    "version": 3
   },
   "file_extension": ".py",
   "mimetype": "text/x-python",
   "name": "python",
   "nbconvert_exporter": "python",
   "pygments_lexer": "ipython3",
   "version": "3.9.7"
  }
 },
 "nbformat": 4,
 "nbformat_minor": 5
}
